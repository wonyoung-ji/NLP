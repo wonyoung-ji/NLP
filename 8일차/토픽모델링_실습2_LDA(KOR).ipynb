{
  "nbformat": 4,
  "nbformat_minor": 0,
  "metadata": {
    "colab": {
      "name": "토픽모델링_실습2_LDA(KOR).ipynb",
      "provenance": [],
      "authorship_tag": "ABX9TyNZVi/bhusp5ofEma9mlYvo",
      "include_colab_link": true
    },
    "kernelspec": {
      "name": "python3",
      "display_name": "Python 3"
    }
  },
  "cells": [
    {
      "cell_type": "markdown",
      "metadata": {
        "id": "view-in-github",
        "colab_type": "text"
      },
      "source": [
        "<a href=\"https://colab.research.google.com/github/wonyoung-ji/NLP/blob/master/8%EC%9D%BC%EC%B0%A8/%ED%86%A0%ED%94%BD%EB%AA%A8%EB%8D%B8%EB%A7%81_%EC%8B%A4%EC%8A%B52_LDA(KOR).ipynb\" target=\"_parent\"><img src=\"https://colab.research.google.com/assets/colab-badge.svg\" alt=\"Open In Colab\"/></a>"
      ]
    },
    {
      "cell_type": "markdown",
      "metadata": {
        "id": "1vwfB80izqo6",
        "colab_type": "text"
      },
      "source": [
        "# 패키지 설치 및 드라이브 연동"
      ]
    },
    {
      "cell_type": "code",
      "metadata": {
        "id": "tCkpPuYYyFSK",
        "colab_type": "code",
        "colab": {}
      },
      "source": [
        "# 나눔폰트 설치\n",
        "!sudo apt-get install -y fonts-nanum\n",
        "!sudo fc-cache -fv\n",
        "!rm ~/.cache/matplotlib -rf\n",
        "# 런타임 다시 시작"
      ],
      "execution_count": null,
      "outputs": []
    },
    {
      "cell_type": "code",
      "metadata": {
        "id": "2_p52e6Zy_3b",
        "colab_type": "code",
        "colab": {}
      },
      "source": [
        "! sudo apt-get install g++ openjdk-7-jdk #Install Java 1.7+ \n",
        "#!sudo apt-get install python-dev; pip install konlpy # Python 2.x \n",
        "!sudo apt-get install python3-dev; pip3 install konlpy # Python 3.x \n",
        "!sudo apt-get install curl \n",
        "! bash <(curl -s https://raw.githubusercontent.com/konlpy/konlpy/master/scripts/mecab.sh)"
      ],
      "execution_count": null,
      "outputs": []
    },
    {
      "cell_type": "code",
      "metadata": {
        "id": "qZ08ViCZx4mJ",
        "colab_type": "code",
        "colab": {}
      },
      "source": [
        "from google.colab import drive\n",
        "drive.mount('/content/gdrive')"
      ],
      "execution_count": null,
      "outputs": []
    },
    {
      "cell_type": "markdown",
      "metadata": {
        "id": "QJkkNzsUzxFc",
        "colab_type": "text"
      },
      "source": [
        "# 데이터 전처리"
      ]
    },
    {
      "cell_type": "markdown",
      "metadata": {
        "id": "qxTWcOfNBIBI",
        "colab_type": "text"
      },
      "source": [
        "## 데이터 불러오기"
      ]
    },
    {
      "cell_type": "code",
      "metadata": {
        "id": "l_v34Rg2yddr",
        "colab_type": "code",
        "colab": {
          "base_uri": "https://localhost:8080/",
          "height": 197
        },
        "outputId": "81be5f07-e42f-460c-d6ec-f7fe889eb8d3"
      },
      "source": [
        "import pandas as pd\n",
        "lda_df = pd.read_csv('/content/gdrive/My Drive/NLP/LDA_example.csv')\n",
        "lda_df.head()"
      ],
      "execution_count": 117,
      "outputs": [
        {
          "output_type": "execute_result",
          "data": {
            "text/html": [
              "<div>\n",
              "<style scoped>\n",
              "    .dataframe tbody tr th:only-of-type {\n",
              "        vertical-align: middle;\n",
              "    }\n",
              "\n",
              "    .dataframe tbody tr th {\n",
              "        vertical-align: top;\n",
              "    }\n",
              "\n",
              "    .dataframe thead th {\n",
              "        text-align: right;\n",
              "    }\n",
              "</style>\n",
              "<table border=\"1\" class=\"dataframe\">\n",
              "  <thead>\n",
              "    <tr style=\"text-align: right;\">\n",
              "      <th></th>\n",
              "      <th>content</th>\n",
              "    </tr>\n",
              "  </thead>\n",
              "  <tbody>\n",
              "    <tr>\n",
              "      <th>0</th>\n",
              "      <td>후불정산 방식 악용해 서버 혹사 시키고 잠적 비트코인 등 가상통화 광풍으로 국내 클...</td>\n",
              "    </tr>\n",
              "    <tr>\n",
              "      <th>1</th>\n",
              "      <td>개인정보 유출 공지 안내 이메일로 위장한 '가상화폐 채굴 악성코드'가 나타났다. P...</td>\n",
              "    </tr>\n",
              "    <tr>\n",
              "      <th>2</th>\n",
              "      <td>행정안전부 국가기록원은 9일부터 국민의 열람 수요가 많은 서울 경기권 지적원도 약 ...</td>\n",
              "    </tr>\n",
              "    <tr>\n",
              "      <th>3</th>\n",
              "      <td>소비자잡지 초이스, 추천제품 선정 LG전자 건조기가 호주서 호평을 받았다.LG전자 ...</td>\n",
              "    </tr>\n",
              "    <tr>\n",
              "      <th>4</th>\n",
              "      <td>스타크래프트 AI대회 韓 첫 1위데이비드 처칠 David Churchill 캐나다 ...</td>\n",
              "    </tr>\n",
              "  </tbody>\n",
              "</table>\n",
              "</div>"
            ],
            "text/plain": [
              "                                             content\n",
              "0  후불정산 방식 악용해 서버 혹사 시키고 잠적 비트코인 등 가상통화 광풍으로 국내 클...\n",
              "1  개인정보 유출 공지 안내 이메일로 위장한 '가상화폐 채굴 악성코드'가 나타났다. P...\n",
              "2  행정안전부 국가기록원은 9일부터 국민의 열람 수요가 많은 서울 경기권 지적원도 약 ...\n",
              "3  소비자잡지 초이스, 추천제품 선정 LG전자 건조기가 호주서 호평을 받았다.LG전자 ...\n",
              "4  스타크래프트 AI대회 韓 첫 1위데이비드 처칠 David Churchill 캐나다 ..."
            ]
          },
          "metadata": {
            "tags": []
          },
          "execution_count": 117
        }
      ]
    },
    {
      "cell_type": "markdown",
      "metadata": {
        "id": "6NA-wHlMBFZP",
        "colab_type": "text"
      },
      "source": [
        "## 품사부착"
      ]
    },
    {
      "cell_type": "code",
      "metadata": {
        "id": "3AcK9SlrycNt",
        "colab_type": "code",
        "colab": {
          "base_uri": "https://localhost:8080/",
          "height": 1000
        },
        "outputId": "32f6e822-62c8-4c83-e437-89a8dcc43f12"
      },
      "source": [
        "lda_df['content'] = lda_df['content'].str.replace(\"[^가-힣ㄱ-ㅎㅏ-ㅣ|\\\\s]\",' ')                       # 한글 이외의 단어 제외\n",
        "lda_df['content'] = lda_df['content'].apply(lambda x:' '.join([ w for w in x.split() if len(w)>1]))   # 1글자 삭제\n",
        "tokenized_doc = lda_df['content'].apply(lambda x: mecab.pos(x))                                       # 품사태깅\n",
        "tokenized_doc"
      ],
      "execution_count": 118,
      "outputs": [
        {
          "output_type": "execute_result",
          "data": {
            "text/plain": [
              "0     [(후불, NNG), (정산, NNG), (방식, NNG), (악용, NNG), (...\n",
              "1     [(개인, NNG), (정보, NNG), (유출, NNG), (공지, NNG), (...\n",
              "2     [(행정, NNG), (안, MAG), (전부, MAG), (국가, NNG), (기...\n",
              "3     [(소비자, NNG), (잡지, NNG), (초이스, NNP), (추천, NNG),...\n",
              "4     [(스타크래프트, NNP), (대회, NNG), (위, NNG), (데이비드, NN...\n",
              "5     [(성균관, NNP), (대, XPN), (연구, NNG), (팀, NNG), (표...\n",
              "6     [(손건재, NNP), (포스코, NNP), (신임, NNG), (대표, NNG),...\n",
              "7     [(국내, NNG), (통신사, NNG), (유일, NNG), (하, XSA), (...\n",
              "8     [(반도체, NNG), (경쟁력, NNG), (강화, NNG), (와, JC), (...\n",
              "9     [(하이닉스, NNP), (지난, VV+ETM), (일, NNG), (부터, JX)...\n",
              "10    [(보도, NNG), (합니다, XSV+EF), (손등, NNG), (얇, VA),...\n",
              "11    [(팹, NNP), (리스, NNP), (기업, NNG), (인, VCP+ETM),...\n",
              "12    [(자사, NNG), (의, JKG), (인공지능, NNP), (서비스, NNG),...\n",
              "13    [(출고가, NNG), (자기, NP), (부상, NNG), (디자인, NNG), ...\n",
              "14    [(모바일, NNP), (플랫폼, NNG), (서비스, NNG), (회사, NNG)...\n",
              "15    [(사진, NNG), (서울산, NNP), (업진, NNG), (흥원, NNP), ...\n",
              "16    [(한국, NNP), (중견, NNG), (기업, NNG), (연합회, NNG), ...\n",
              "17    [(지난, VV+ETM), (구간, NNG), (데이터, NNG), (무제, NNG...\n",
              "18    [(모바일게임, NNP), (커뮤니티, NNG), (헝그리, NNP), (앱, NN...\n",
              "19    [(공공, NNG), (기관, NNG), (보안, NNG), (관제, NNG), (...\n",
              "20    [(들, XSN), (과, JKB), (만나, VV+EC), (판문점, NNP), ...\n",
              "21    [(우원식, NNP), (더불, VV), (어, EC), (민주당, NNP), (원...\n",
              "22    [(입니다, VCP+EF), (검찰, NNG), (은, JX), (민간, NNG),...\n",
              "23    [(탈, XPN), (북, NNP), (민, NNP), (대상, NNG), (검사,...\n",
              "24    [(강경화, NNP), (외교부, NNP), (장관, NNG), (이, JKS), ...\n",
              "25    [(북측, NNG), (이, JKS), (지난, VV+ETM), (일, NNG), ...\n",
              "26    [(김부겸, NNP), (행정, NNG), (안, MAG), (전부, MAG), (...\n",
              "27    [(단독, NNG), (보도, NNG), (입니다, VCP+EF), (입수, NNG...\n",
              "28    [(청와대, NNP), (는, JX), (오늘, MAG), (남북, NNP), (판...\n",
              "29    [(들, XSN), (과, JKB), (만나, VV+EC), (유엔, NNP), (...\n",
              "30    [(회견, NNG), (을, JKO), (열, VV), (고, EC), (새로운, ...\n",
              "31    [(동영상, NNG), (뉴스, NNG), (자유, NNG), (한, XSA+ETM...\n",
              "32    [(회견, NNG), (에서, JKB), (그간, NNG), (협상, NNG), (...\n",
              "33    [(동영상, NNG), (뉴스, NNG), (앵, NNG), (커멘트, NNG), ...\n",
              "34    [(북한, NNP), (김정은, NNP), (노동당, NNG), (위원장, NNG)...\n",
              "35    [(동영상, NNG), (뉴스, NNG), (이세옥, NNP), (의, JKG), ...\n",
              "36    [(위원장, NNG), (알아보, VV), (지, EC), (도, JX), (않, ...\n",
              "37    [(문재인, NNP), (대통령, NNG), (이, JKS), (청와대, NNP),...\n",
              "38    [(동영상, NNG), (뉴스, NNG), (북한, NNP), (이, JKS), (...\n",
              "39    [(서필언, NNP), (김동진, NNP), (법, NNG), (적, XSN), (...\n",
              "40    [(생활비, NNG), (지출, NNG), (줄이, VV), (고, EC), (고,...\n",
              "41    [(대통령, NNG), (직속, NNG), (일자리, NNG), (위원회, NNG)...\n",
              "42    [(동영상, NNG), (뉴스, NNG), (국내, NNG), (제조사, NNG),...\n",
              "43    [(코스피, NNP), (지수, NNG), (가, JKS), (사상, NNG), (...\n",
              "44    [(임직원, NNG), (기부금, NNG), (모아, VV+EC), (질병, NNG...\n",
              "45    [(최병오, NNP), (형지, NNG), (회장, NNG), (사진, NNG), ...\n",
              "46    [(백운규, NNP), (산업, NNG), (통상, NNG), (자원, NNG), ...\n",
              "47    [(산업, NNG), (시간, NNG), (요, VCP+EC), (다른, MM), ...\n",
              "48    [(전자, NNG), (가, JKS), (지난달, NNG), (문, NNG), (을...\n",
              "49    [(계란, NNG), (옷, NNG), (을, JKO), (입히, VV), (지, ...\n",
              "50    [(중소기업, NNG), (진흥, NNG), (공단, NNG), (중소기업, NNG...\n",
              "51    [(국제, NNG), (금융, NNG), (시장, NNG), (은, JX), (북미...\n",
              "52    [(대한, VV+ETM), (결핵, NNG), (호흡기, NNG), (학회, NNG...\n",
              "53    [(현대차, NNP), (정의선, NNP), (부회장, NNG), (이, JKS),...\n",
              "54    [(이정환, NNP), (주택, NNG), (금융, NNG), (공사, NNG), ...\n",
              "55    [(대덕, NNG), (지난해, NNG), (호실, NNG), (적, XSN), (...\n",
              "56    [(기준, NNG), (금리, NNG), (동결, NNG), (하, XSV), (자...\n",
              "57    [(골든, NNP), (브릿지, NNP), (투자, NNG), (증권, NNG), ...\n",
              "58    [(비트코인, NNP), (가격, NNG), (상승, NNG), (이, JKS), ...\n",
              "59    [(누가, NP+JKS), (우리, NP), (목소리, NNG), (를, JKO),...\n",
              "Name: content, dtype: object"
            ]
          },
          "metadata": {
            "tags": []
          },
          "execution_count": 118
        }
      ]
    },
    {
      "cell_type": "markdown",
      "metadata": {
        "id": "0AQcRyDpBCLd",
        "colab_type": "text"
      },
      "source": [
        "## 불용어처리"
      ]
    },
    {
      "cell_type": "code",
      "metadata": {
        "id": "VEcQKNvW0fb2",
        "colab_type": "code",
        "colab": {}
      },
      "source": [
        "from konlpy.tag import Mecab\n",
        "mecab = Mecab()\n",
        "stop_pos=['JKS','JKC','JKG','JKO','JKB','JKV','JKQ','JC','JX',   #조사\n",
        "           'SF','SE','SSO','SSC','SC','SH','SL','SN','SY',     #기타부호\n",
        "           'VCP','VCN',\n",
        "           'EP','EF','ETN','ETM',    #어미\n",
        "           'XSN','XSV','XSA','XPN',]\n",
        "          \n",
        "stop_word = ['께서','에서','이다','에게','으로','이랑','까지','부터','하다']\n",
        "\n",
        "words=[]\n",
        "for tags in tokenized_doc:\n",
        "  word = []\n",
        "  for tag in tags:\n",
        "    if tag[1] not in stop_pos:\n",
        "      if len(tag[0]) > 1:\n",
        "        word.append(tag[0])\n",
        "  words.append(' '.join(word))\n",
        "\n",
        "tokenized_doc=words"
      ],
      "execution_count": 119,
      "outputs": []
    },
    {
      "cell_type": "code",
      "metadata": {
        "id": "gbLmn5_f6lsv",
        "colab_type": "code",
        "colab": {
          "base_uri": "https://localhost:8080/",
          "height": 89
        },
        "outputId": "5226d0fa-e00c-4b96-8850-b56b8b0de909"
      },
      "source": [
        "tokenized_doc[:3]"
      ],
      "execution_count": 120,
      "outputs": [
        {
          "output_type": "execute_result",
          "data": {
            "text/plain": [
              "['후불 정산 방식 악용 서버 혹사 비트코인 가상 통화 광풍 국내 클라우드 업계 피해 비트코인 채굴 과정 성능 그래픽 카드 비싼 하드웨어 필요 한데 부담 줄이 위해 클라우드 서비스 통해 가상 통화 채굴 변칙 사례 증가 때문 관련 업계 따르 엔터 토스트 클라우드 다음 사용 약관 가상 통화 채굴 금지 조항 신설 키로 채굴 단기간 엄청난 전산 자원 만큼 정상 서비스 이용 어렵 클라우드 후불 정산 방식 악용 채굴 서버 혹사 정산 절차 없이 잠적 사례 전해진다 네이버 약관 개정 판촉 레딧 무료 서버 써서 가상 통화 채굴 행위 전면 금지 업계 에선 국내 클라우드 업체 가상 통화 채굴 대책 마련 사례 계속 전망 외국 클라우드 기반 가상 화폐 채굴 문제 올해 해커 아마존 서비스 기업 계정 빼돌려 가상 통화 채굴 악용 사실 드러났 가상 통화 전산 암호 기술 토대 사이버 화폐 중앙 발급 기관 국외 송금 비용 매우 특징 실제 채굴 개인 성능 거래 인증 가상 통화 전산 운영 참여 행위 채굴 이런 기여 대가 일정량 화폐 는다 세상 나올 비트코인 한정 채굴 할수록 효율',\n",
              " '개인 정보 유출 공지 안내 이메일 위장 가상 화폐 채굴 코드 나타났 만든 오프라인 가상 화폐 지갑 탈취 공격 발견 가상 화폐 투자자 물론 일반인 가상 화폐 노린 해커 희생자 업계 개인 정보 빼낸 해커 고객 이메일 보내 악성 코드 감염 신종 수법 경고 가상 화폐 투자 열기 가운데 채굴 컴퓨팅 파워 확보 시도 보인다',\n",
              " '행정 전부 국가 기록원 국민 열람 수요 서울 경기 지적 원도 공공누리 유형 표시 내려받기 기능 제공 한다고 밝혔 공공누리 국가 지방 자치 단체 공공 기관 저작물 민간 자유 활용 도록 이용 허락 범위 규정 한다 예외 공공 기관 필요 따라 상업 이용 금지 변경 금지 조건 부여 된다 국가 기록원 일제 강점기 생산 지역 전체 지적 원도 일부 사진 필름 기록물 대해 공공누리 서비스 추진 계획 먼저 국민 열람 수요 서울 경기 지적 원도 공개 시작 강원 충청 경상 전라 지적 원도 차례 공공누리 유형 표시 내려받기 도록 예정 또한 저작 보호 기간 만료 일제 사진 필름 기록물 저작 초상권 침해 여부 검토 공공누리 적용 공개 방침 국가 기록원 관계자 소장 기록물 공개 기록물 대상 저작 초상권 침해 여부 검토 서비스 대상 확대 라고 허우영 기자']"
            ]
          },
          "metadata": {
            "tags": []
          },
          "execution_count": 120
        }
      ]
    },
    {
      "cell_type": "markdown",
      "metadata": {
        "id": "7LIqDKiCA6SS",
        "colab_type": "text"
      },
      "source": [
        "# LDA"
      ]
    },
    {
      "cell_type": "code",
      "metadata": {
        "id": "7KYSIPPWCV98",
        "colab_type": "code",
        "colab": {}
      },
      "source": [
        "def my_tokenizer(text):\n",
        "  return mecab.morphs(text)"
      ],
      "execution_count": 126,
      "outputs": []
    },
    {
      "cell_type": "code",
      "metadata": {
        "id": "-HBLCUtIAdA8",
        "colab_type": "code",
        "colab": {}
      },
      "source": [
        "from sklearn.feature_extraction.text import TfidfVectorizer\n",
        "from sklearn.decomposition import LatentDirichletAllocation\n",
        "\n",
        "tfidf_vect = TfidfVectorizer(tokenizer=my_tokenizer)\n",
        "tfidf = tfidf_vect.fit_transform(tokenized_doc)\n",
        "lda = LatentDirichletAllocation(n_components=3, max_iter=20, learning_method='online')\n",
        "\n",
        "\n",
        "lda_output = lda.fit_transform(tfidf)"
      ],
      "execution_count": 130,
      "outputs": []
    },
    {
      "cell_type": "code",
      "metadata": {
        "id": "Jrd-NtI1Ae-D",
        "colab_type": "code",
        "colab": {}
      },
      "source": [
        "!pip install pyLDAvis"
      ],
      "execution_count": null,
      "outputs": []
    },
    {
      "cell_type": "code",
      "metadata": {
        "id": "kBn1U61aA3ye",
        "colab_type": "code",
        "colab": {
          "base_uri": "https://localhost:8080/",
          "height": 859
        },
        "outputId": "13e4c6a6-fc7b-4c70-8c01-c5c06f7f0786"
      },
      "source": [
        "import pyLDAvis\n",
        "import pyLDAvis.sklearn\n",
        "\n",
        "pyLDAvis.enable_notebook()\n",
        "vis = pyLDAvis.sklearn.prepare(lda, tfidf, tfidf_vect, mds='tsne')\n",
        "pyLDAvis.display(vis)"
      ],
      "execution_count": 132,
      "outputs": [
        {
          "output_type": "execute_result",
          "data": {
            "text/html": [
              "\n",
              "<link rel=\"stylesheet\" type=\"text/css\" href=\"https://cdn.rawgit.com/bmabey/pyLDAvis/files/ldavis.v1.0.0.css\">\n",
              "\n",
              "\n",
              "<div id=\"ldavis_el3531399337557929846180546104\"></div>\n",
              "<script type=\"text/javascript\">\n",
              "\n",
              "var ldavis_el3531399337557929846180546104_data = {\"mdsDat\": {\"x\": [-1015.7005615234375, -387.9960021972656, -2184.74560546875], \"y\": [1338.981201171875, -373.316162109375, -60.565799713134766], \"topics\": [1, 2, 3], \"cluster\": [1, 1, 1], \"Freq\": [39.33280386820666, 31.160473655120995, 29.506722476672337]}, \"tinfo\": {\"Term\": [\"\\uc120\\uac70\", \"\\ubc29\\ubb38\", \"\\uac1c\\ud5cc\", \"\\uc2a4\\ud53c\\ucee4\", \"\\uc911\\uacac\", \"\\ud130\\ud0a4\", \"\\uae30\\uc5c5\", \"\\ud3ec\\uc2a4\\ucf54\", \"\\uc77c\\uc790\\ub9ac\", \"\\ud6c4\\ubcf4\", \"\\uac74\\uc870\\uae30\", \"\\ubc18\\ub3c4\\uccb4\", \"\\ud130\\uce58\", \"\\ud611\\uc0c1\", \"\\uae08\\ub9ac\", \"\\uacc4\\ub780\", \"\\uba74\\uc11c\", \"\\ub370\\uc774\\ud130\", \"\\ud504\\ub791\\uc2a4\", \"\\uc804\\ubd81\", \"\\uc911\\uad6d\", \"\\uc694\\uae08\\uc81c\", \"\\uac80\\ucc30\", \"\\uc7a5\\uc911\", \"\\uac80\\uc0ac\", \"\\uc2dc\\ud2f0\", \"\\uc6b4\\uc6a9\", \"\\uc131\\ud76c\\ub871\", \"\\ube44\\uc11c\\uad00\", \"\\ub300\\uc758\\uc6d0\", \"\\uc2dc\\ubc94\", \"\\uc5d0\\uc774\\ube0c\\ub9b4\", \"\\ub300\\ub355\", \"\\ub300\\ud68c\", \"\\uc81c\\uc7ac\", \"\\uc0ac\\ub839\\ubd80\", \"\\uc0ac\\uc774\", \"\\uc5c5\\ubb34\", \"\\ub2c8\\uc9c0\", \"\\ud604\\ub300\", \"\\uad6c\\uc870\", \"\\uad50\\uc721\", \"\\uc784\\uc9c1\\uc6d0\", \"\\ub77c\\uc778\", \"\\ube14\\ub85d\\uccb4\\uc778\", \"\\uc778\\ub3c4\", \"\\ube44\\uc0c1\", \"\\uc6b0\\uc2b9\", \"\\uc0c1\\ubc18\\uae30\", \"\\uc0ac\\uc7a5\", \"\\ud604\\ub300\\ucc28\", \"\\uce74\\ud0c8\\ub85c\\uadf8\", \"\\ucca0\\uc218\", \"\\ub2c8\\ucf08\", \"\\uc2dc\\uac04\", \"\\uac15\\uc6d0\\ub3c4\", \"\\ub300\\ucc45\", \"\\uc774\\uc775\", \"\\uc0b0\\uc5c5\", \"\\uc601\\uc5c5\", \"\\ub0a8\\ubd81\", \"\\ucc44\\uad74\", \"\\uc11c\\ube44\\uc2a4\", \"\\ub300\\ubd81\", \"\\uc704\\uc6d0\\uc7a5\", \"\\uae30\\uc220\", \"\\ubc1d\\ud614\", \"\\uac1c\\ubc1c\", \"\\uc7a5\\uad00\", \"\\ub300\\ud1b5\\ub839\", \"\\ud55c\\ub2e4\", \"\\uc5f0\\uad6c\", \"\\uc785\\ub2c8\\ub2e4\", \"\\uc120\\uac70\", \"\\uac1c\\ud5cc\", \"\\ud6c4\\ubcf4\", \"\\uac74\\uc870\\uae30\", \"\\ud611\\uc0c1\", \"\\ubc18\\ub3c4\\uccb4\", \"\\ub370\\uc774\\ud130\", \"\\uc804\\ubd81\", \"\\uc694\\uae08\\uc81c\", \"\\uac80\\uc0ac\", \"\\uc6b4\\uc6a9\", \"\\uc131\\ud76c\\ub871\", \"\\ub300\\uc758\\uc6d0\", \"\\ud53c\\ud574\", \"\\uac00\\uc785\\uc790\", \"\\uba74\\uc11c\", \"\\uc218\\uc775\", \"\\uacbd\\uc120\", \"\\ud2b9\\uc704\", \"\\uc9c1\\uc7a5\", \"\\uc694\\uad6c\", \"\\uadf8\\ub7ec\", \"\\uc790\\uc0b0\", \"\\uc774\\ub8f0\", \"\\uc804\\ubd80\", \"\\uad6d\\ud68c\", \"\\uc7ac\\uacc4\", \"\\uc9c4\\uc804\", \"\\uc9c8\\ubb38\", \"\\uc9c0\\ubc29\", \"\\ubd81\\ud55c\", \"\\uc870\\uc0ac\", \"\\uac00\\uc6b4\\ub370\", \"\\uae30\\uad00\", \"\\uac00\\uc0c1\", \"\\ud654\\ud3d0\", \"\\uc815\\ubcf4\", \"\\uc785\\uc7a5\", \"\\uacb0\\uacfc\", \"\\uc9c0\\ub9cc\", \"\\ub274\\uc2a4\", \"\\uc911\\uacac\", \"\\uc2a4\\ud53c\\ucee4\", \"\\ud130\\ud0a4\", \"\\ud3ec\\uc2a4\\ucf54\", \"\\ubc29\\ubb38\", \"\\uc77c\\uc790\\ub9ac\", \"\\ud130\\uce58\", \"\\uacc4\\ub780\", \"\\ud504\\ub791\\uc2a4\", \"\\uae30\\uc5c5\", \"\\uac80\\ucc30\", \"\\uc7a5\\uc911\", \"\\ube44\\uc11c\\uad00\", \"\\uacf5\\uacf5\\ub204\\ub9ac\", \"\\uc2dc\\ud2f0\", \"\\uc804\\uc6a9\\uae30\", \"\\ube44\\uc815\\uaddc\\uc9c1\", \"\\uace0\\ubb34\", \"\\ud328\\uc158\", \"\\uc18c\\uc2dc\", \"\\ud615\\uc9c0\", \"\\uc6d0\\ub3c4\", \"\\uae08\\ub9ac\", \"\\uc9c0\\uc804\", \"\\ud488\\uc9c8\", \"\\ub9ac\\ub77c\", \"\\uae4c\\uc2a4\", \"\\uc5f4\\uc804\", \"\\uac70\\ub798\\uc77c\", \"\\ub514\\uc790\\uc778\", \"\\uc911\\uad6d\", \"\\ube44\\ud2b8\\ucf54\\uc778\", \"\\uc9c0\\uc218\", \"\\uc0ac\\uc9c4\", \"\\uae30\\uac04\", \"\\uc785\\ub2c8\\ub2e4\", \"\\uc815\\ubd80\", \"\\uae30\\uc220\", \"\\uc2a4\\ub9c8\\ud2b8\", \"\\uc7a5\\uad00\", \"\\ub274\\uc2a4\", \"\\uacc4\\ud68d\", \"\\uac1c\\ubc1c\", \"\\uc5f0\\uad6c\"], \"Freq\": [0.0, 0.0, 0.0, 0.0, 0.0, 0.0, 0.0, 0.0, 0.0, 0.0, 0.0, 0.0, 0.0, 0.0, 0.0, 0.0, 0.0, 0.0, 0.0, 0.0, 0.0, 0.0, 0.0, 0.0, 0.0, 0.0, 0.0, 0.0, 0.0, 0.0, 0.12814927582204036, 0.12413989881092677, 0.12086232737011057, 0.11988295816332403, 0.12573170518360008, 0.11376118725061782, 0.11330934023800458, 0.1352838983798558, 0.10847957431029717, 0.10822807857549106, 0.11467693326517482, 0.10860003902708999, 0.11059031762086358, 0.10527138146197554, 0.11384307866023587, 0.10419585788686124, 0.10282747388363409, 0.10057458677868468, 0.10351434629392856, 0.10130616221854129, 0.10168636331795988, 0.0993036229257821, 0.10037328818286058, 0.0983060307284028, 0.15985104689375176, 0.09652496844354756, 0.10974164679574368, 0.09739251511856911, 0.14359410761052552, 0.10246457593137549, 0.11107650443476617, 0.11862999451530545, 0.12464256563285156, 0.10706459354687412, 0.12105126466183927, 0.12518885209838276, 0.11886236987109351, 0.1100089637902197, 0.11688440043891762, 0.11167245769394038, 0.1106727521517316, 0.10910672194822929, 0.10624402459558283, 0.14827868421616194, 0.11050439270253803, 0.09741591823770222, 0.09727585063841371, 0.09288065616000939, 0.09772414535374661, 0.09882487326990895, 0.08910272051784127, 0.08624096122362415, 0.08326921730860272, 0.08307562485407226, 0.08179370631961957, 0.08260280839337082, 0.0864170599507315, 0.07795909262713868, 0.1161604976079941, 0.08221451611593418, 0.07566357849238438, 0.07426915250683513, 0.07853905070284645, 0.07895309160110812, 0.07559294094452966, 0.07735286108644868, 0.07074289872191246, 0.07607432019093627, 0.0826046474348668, 0.07030273211052661, 0.07159930698716589, 0.07109143748746104, 0.07604375848833556, 0.10914624613323144, 0.08894304389401816, 0.07646585777032672, 0.08902943734536416, 0.09112986324651759, 0.08576581936583434, 0.08171818819329052, 0.08238166467424694, 0.08252122857253327, 0.08209102437273944, 0.08056772491622918, 0.09560890558823322, 0.09614026322868126, 0.09416892024257464, 0.09324273165587803, 0.11861010710234315, 0.09263302193848406, 0.08357772647539773, 0.08333033967624534, 0.08189515164598546, 0.11525058975587707, 0.07539212518685162, 0.07588858088908278, 0.07514718855314506, 0.07449578416739132, 0.0790547968491978, 0.07255461466909195, 0.07222607341956741, 0.07140073641447742, 0.07085173237771347, 0.06891327481878949, 0.06793953789320112, 0.06767069272091032, 0.08628994080135648, 0.06754679804971214, 0.06686351783399985, 0.06674560607954569, 0.0673366178471814, 0.0668670249311807, 0.06735180470623062, 0.06750933746976033, 0.09044196361699317, 0.07808661331633389, 0.0749346241403782, 0.0803479958506893, 0.0753264347181213, 0.08607947848554573, 0.07745515871201443, 0.08354700748807142, 0.07659189926557058, 0.08087385043506991, 0.07603102726863926, 0.07356961500068171, 0.07445098571297755, 0.07345919826090712], \"Total\": [0.0, 0.0, 0.0, 0.0, 0.0, 0.0, 0.0, 0.0, 0.0, 0.0, 0.0, 0.0, 0.0, 0.0, 0.0, 0.0, 0.0, 0.0, 0.0, 0.0, 0.0, 0.0, 0.0, 0.0, 0.0, 0.0, 0.0, 0.0, 0.0, 0.0, 0.20827561509926218, 0.20323532856150175, 0.20154032154027607, 0.20103208878574552, 0.21258542205220493, 0.19333676801685223, 0.19258946505206326, 0.23129588753017824, 0.18757089851820072, 0.18742013242885797, 0.19859487706643275, 0.1885600126628591, 0.19337024949307702, 0.18468087848894707, 0.20139593954601231, 0.18446445515940507, 0.18251908088357108, 0.1788321534974449, 0.184735943160359, 0.18117521402858766, 0.1825746613371214, 0.17956322688919882, 0.18210854979028418, 0.1784760495476312, 0.2918138875317208, 0.1768590766173338, 0.20128192783640098, 0.17934345483200473, 0.26472429621148924, 0.1889720955897421, 0.2050447891581412, 0.21981523595931707, 0.23864147003427838, 0.1998494074650887, 0.23797392279427043, 0.26459723630713783, 0.24580967798608086, 0.2256196266632587, 0.2659431770330773, 0.2471285916423327, 0.2503334827148193, 0.24573843467823653, 0.2697568589036172, 0.23813397178219584, 0.19783517482847182, 0.1846234022793964, 0.18809114412792266, 0.182727005373082, 0.19626792887734204, 0.19858586818012794, 0.17966103780066373, 0.17494751324031407, 0.17089892882019447, 0.17149940065735186, 0.16905435293411483, 0.1727029837685254, 0.18349162258844698, 0.16626555074141547, 0.2489492206381379, 0.17741184280893557, 0.16383776187853805, 0.16407296862352463, 0.17357236289213723, 0.17653755023554618, 0.16945909974444603, 0.17426166693412182, 0.15952145517454144, 0.17157788338319363, 0.18634502327036365, 0.15866679161410427, 0.16235974489415528, 0.16125687085547777, 0.17293593319838155, 0.25353030592960135, 0.2044055337800074, 0.17552797942034112, 0.21579130024130144, 0.23143300099917075, 0.21485766220732944, 0.20169467508476446, 0.20880635445947382, 0.2182160521018654, 0.2220047541573846, 0.21875322330720293, 0.1864594104873159, 0.18755061074332557, 0.1847753798746385, 0.18442022283044818, 0.24073079651166504, 0.18917001936656663, 0.17491769844569022, 0.17490744882038387, 0.17431722467851843, 0.2472138379713942, 0.16462664383577696, 0.16649140179266414, 0.16726865739716545, 0.16592988315673451, 0.17653952080819815, 0.16341643815986379, 0.16353339176207882, 0.16209632747741326, 0.16238572705950957, 0.1594847723334672, 0.1580516157718355, 0.15793440217724447, 0.20144389957415976, 0.15814302618149395, 0.15724737442213876, 0.15723706728899123, 0.1586426471718661, 0.15788626896922942, 0.15942249322947213, 0.15990900052538637, 0.21468017605652676, 0.18554340624356414, 0.1907845571958116, 0.21954452356790452, 0.19781584628266569, 0.2697568589036172, 0.2186734596422849, 0.26459723630713783, 0.21841988999861484, 0.2659431770330773, 0.21875322330720293, 0.20328720115655557, 0.2256196266632587, 0.24573843467823653], \"Category\": [\"Default\", \"Default\", \"Default\", \"Default\", \"Default\", \"Default\", \"Default\", \"Default\", \"Default\", \"Default\", \"Default\", \"Default\", \"Default\", \"Default\", \"Default\", \"Default\", \"Default\", \"Default\", \"Default\", \"Default\", \"Default\", \"Default\", \"Default\", \"Default\", \"Default\", \"Default\", \"Default\", \"Default\", \"Default\", \"Default\", \"Topic1\", \"Topic1\", \"Topic1\", \"Topic1\", \"Topic1\", \"Topic1\", \"Topic1\", \"Topic1\", \"Topic1\", \"Topic1\", \"Topic1\", \"Topic1\", \"Topic1\", \"Topic1\", \"Topic1\", \"Topic1\", \"Topic1\", \"Topic1\", \"Topic1\", \"Topic1\", \"Topic1\", \"Topic1\", \"Topic1\", \"Topic1\", \"Topic1\", \"Topic1\", \"Topic1\", \"Topic1\", \"Topic1\", \"Topic1\", \"Topic1\", \"Topic1\", \"Topic1\", \"Topic1\", \"Topic1\", \"Topic1\", \"Topic1\", \"Topic1\", \"Topic1\", \"Topic1\", \"Topic1\", \"Topic1\", \"Topic1\", \"Topic2\", \"Topic2\", \"Topic2\", \"Topic2\", \"Topic2\", \"Topic2\", \"Topic2\", \"Topic2\", \"Topic2\", \"Topic2\", \"Topic2\", \"Topic2\", \"Topic2\", \"Topic2\", \"Topic2\", \"Topic2\", \"Topic2\", \"Topic2\", \"Topic2\", \"Topic2\", \"Topic2\", \"Topic2\", \"Topic2\", \"Topic2\", \"Topic2\", \"Topic2\", \"Topic2\", \"Topic2\", \"Topic2\", \"Topic2\", \"Topic2\", \"Topic2\", \"Topic2\", \"Topic2\", \"Topic2\", \"Topic2\", \"Topic2\", \"Topic2\", \"Topic2\", \"Topic2\", \"Topic2\", \"Topic3\", \"Topic3\", \"Topic3\", \"Topic3\", \"Topic3\", \"Topic3\", \"Topic3\", \"Topic3\", \"Topic3\", \"Topic3\", \"Topic3\", \"Topic3\", \"Topic3\", \"Topic3\", \"Topic3\", \"Topic3\", \"Topic3\", \"Topic3\", \"Topic3\", \"Topic3\", \"Topic3\", \"Topic3\", \"Topic3\", \"Topic3\", \"Topic3\", \"Topic3\", \"Topic3\", \"Topic3\", \"Topic3\", \"Topic3\", \"Topic3\", \"Topic3\", \"Topic3\", \"Topic3\", \"Topic3\", \"Topic3\", \"Topic3\", \"Topic3\", \"Topic3\", \"Topic3\", \"Topic3\", \"Topic3\", \"Topic3\", \"Topic3\"], \"logprob\": [30.0, 29.0, 28.0, 27.0, 26.0, 25.0, 24.0, 23.0, 22.0, 21.0, 20.0, 19.0, 18.0, 17.0, 16.0, 15.0, 14.0, 13.0, 12.0, 11.0, 10.0, 9.0, 8.0, 7.0, 6.0, 5.0, 4.0, 3.0, 2.0, 1.0, -7.2523, -7.2841, -7.3108, -7.319, -7.2713, -7.3714, -7.3754, -7.1981, -7.4189, -7.4213, -7.3634, -7.4178, -7.3997, -7.449, -7.3707, -7.4592, -7.4724, -7.4946, -7.4658, -7.4874, -7.4836, -7.5073, -7.4966, -7.5174, -7.0313, -7.5357, -7.4074, -7.5267, -7.1385, -7.476, -7.3953, -7.3295, -7.28, -7.4321, -7.3093, -7.2757, -7.3275, -7.4049, -7.3443, -7.3899, -7.3989, -7.4132, -7.4398, -6.8735, -7.1675, -7.2936, -7.295, -7.3413, -7.2904, -7.2792, -7.3828, -7.4154, -7.4505, -7.4528, -7.4684, -7.4585, -7.4134, -7.5164, -7.1176, -7.4633, -7.5463, -7.5649, -7.509, -7.5037, -7.5472, -7.5242, -7.6135, -7.5409, -7.4585, -7.6198, -7.6015, -7.6086, -7.5413, -7.1799, -7.3846, -7.5357, -7.3836, -7.3603, -7.421, -7.4693, -7.4612, -7.4595, -7.4648, -7.4835, -7.2578, -7.2522, -7.273, -7.2829, -7.0422, -7.2894, -7.3923, -7.3952, -7.4126, -7.0709, -7.4954, -7.4888, -7.4986, -7.5073, -7.4479, -7.5337, -7.5383, -7.5497, -7.5575, -7.5852, -7.5994, -7.6034, -7.3603, -7.6052, -7.6154, -7.6172, -7.6084, -7.6154, -7.6081, -7.6058, -7.3133, -7.4602, -7.5014, -7.4317, -7.4962, -7.3628, -7.4684, -7.3926, -7.4796, -7.4252, -7.4869, -7.5198, -7.5079, -7.5213], \"loglift\": [30.0, 29.0, 28.0, 27.0, 26.0, 25.0, 24.0, 23.0, 22.0, 21.0, 20.0, 19.0, 18.0, 17.0, 16.0, 15.0, 14.0, 13.0, 12.0, 11.0, 10.0, 9.0, 8.0, 7.0, 6.0, 5.0, 4.0, 3.0, 2.0, 1.0, 0.4474, 0.4402, 0.4218, 0.4162, 0.4079, 0.4028, 0.4027, 0.3968, 0.3855, 0.384, 0.384, 0.3814, 0.3743, 0.371, 0.3627, 0.3619, 0.3593, 0.3576, 0.3539, 0.3518, 0.3478, 0.3408, 0.3374, 0.3367, 0.3312, 0.3276, 0.3265, 0.3226, 0.3214, 0.321, 0.3201, 0.3163, 0.2836, 0.309, 0.2572, 0.1847, 0.2065, 0.2148, 0.111, 0.1388, 0.1169, 0.1212, 0.0013, 0.6923, 0.5836, 0.5267, 0.5066, 0.4893, 0.4687, 0.4681, 0.4647, 0.4587, 0.447, 0.4412, 0.44, 0.4285, 0.413, 0.4086, 0.4037, 0.3969, 0.3934, 0.3734, 0.373, 0.3613, 0.3588, 0.3538, 0.3529, 0.3527, 0.3525, 0.352, 0.3473, 0.347, 0.3444, 0.3232, 0.3339, 0.3351, 0.2807, 0.234, 0.2477, 0.2625, 0.236, 0.1936, 0.1711, 0.1672, 0.5526, 0.5523, 0.5465, 0.5385, 0.5127, 0.5066, 0.482, 0.4791, 0.4651, 0.4574, 0.4396, 0.4349, 0.4204, 0.4197, 0.4171, 0.4086, 0.4033, 0.4007, 0.3912, 0.3815, 0.3762, 0.373, 0.3728, 0.3699, 0.3654, 0.3637, 0.3636, 0.3614, 0.3589, 0.3582, 0.3561, 0.3551, 0.286, 0.2154, 0.255, 0.0783, 0.1827, 0.0678, 0.1726, 0.0302, 0.1637, 0.2042, 0.1118, 0.013]}, \"token.table\": {\"Topic\": [], \"Freq\": [], \"Term\": []}, \"R\": 30, \"lambda.step\": 0.01, \"plot.opts\": {\"xlab\": \"PC1\", \"ylab\": \"PC2\"}, \"topic.order\": [2, 3, 1]};\n",
              "\n",
              "function LDAvis_load_lib(url, callback){\n",
              "  var s = document.createElement('script');\n",
              "  s.src = url;\n",
              "  s.async = true;\n",
              "  s.onreadystatechange = s.onload = callback;\n",
              "  s.onerror = function(){console.warn(\"failed to load library \" + url);};\n",
              "  document.getElementsByTagName(\"head\")[0].appendChild(s);\n",
              "}\n",
              "\n",
              "if(typeof(LDAvis) !== \"undefined\"){\n",
              "   // already loaded: just create the visualization\n",
              "   !function(LDAvis){\n",
              "       new LDAvis(\"#\" + \"ldavis_el3531399337557929846180546104\", ldavis_el3531399337557929846180546104_data);\n",
              "   }(LDAvis);\n",
              "}else if(typeof define === \"function\" && define.amd){\n",
              "   // require.js is available: use it to load d3/LDAvis\n",
              "   require.config({paths: {d3: \"https://cdnjs.cloudflare.com/ajax/libs/d3/3.5.5/d3.min\"}});\n",
              "   require([\"d3\"], function(d3){\n",
              "      window.d3 = d3;\n",
              "      LDAvis_load_lib(\"https://cdn.rawgit.com/bmabey/pyLDAvis/files/ldavis.v1.0.0.js\", function(){\n",
              "        new LDAvis(\"#\" + \"ldavis_el3531399337557929846180546104\", ldavis_el3531399337557929846180546104_data);\n",
              "      });\n",
              "    });\n",
              "}else{\n",
              "    // require.js not available: dynamically load d3 & LDAvis\n",
              "    LDAvis_load_lib(\"https://cdnjs.cloudflare.com/ajax/libs/d3/3.5.5/d3.min.js\", function(){\n",
              "         LDAvis_load_lib(\"https://cdn.rawgit.com/bmabey/pyLDAvis/files/ldavis.v1.0.0.js\", function(){\n",
              "                 new LDAvis(\"#\" + \"ldavis_el3531399337557929846180546104\", ldavis_el3531399337557929846180546104_data);\n",
              "            })\n",
              "         });\n",
              "}\n",
              "</script>"
            ],
            "text/plain": [
              "<IPython.core.display.HTML object>"
            ]
          },
          "metadata": {
            "tags": []
          },
          "execution_count": 132
        }
      ]
    },
    {
      "cell_type": "code",
      "metadata": {
        "id": "TG5i6kBpBKpj",
        "colab_type": "code",
        "colab": {}
      },
      "source": [
        ""
      ],
      "execution_count": null,
      "outputs": []
    }
  ]
}