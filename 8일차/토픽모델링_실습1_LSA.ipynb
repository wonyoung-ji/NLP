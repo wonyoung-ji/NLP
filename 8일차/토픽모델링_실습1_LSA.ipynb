{
  "nbformat": 4,
  "nbformat_minor": 0,
  "metadata": {
    "colab": {
      "name": "토픽모델링_실습1_LSA.ipynb",
      "provenance": [],
      "authorship_tag": "ABX9TyPz3/Lh8wI0r+tMCxLWPkXi",
      "include_colab_link": true
    },
    "kernelspec": {
      "name": "python3",
      "display_name": "Python 3"
    }
  },
  "cells": [
    {
      "cell_type": "markdown",
      "metadata": {
        "id": "view-in-github",
        "colab_type": "text"
      },
      "source": [
        "<a href=\"https://colab.research.google.com/github/wonyoung-ji/NLP/blob/master/8%EC%9D%BC%EC%B0%A8/%ED%86%A0%ED%94%BD%EB%AA%A8%EB%8D%B8%EB%A7%81_%EC%8B%A4%EC%8A%B51_LSA.ipynb\" target=\"_parent\"><img src=\"https://colab.research.google.com/assets/colab-badge.svg\" alt=\"Open In Colab\"/></a>"
      ]
    },
    {
      "cell_type": "code",
      "metadata": {
        "id": "o37HkpJl0HMx",
        "colab_type": "code",
        "colab": {
          "base_uri": "https://localhost:8080/",
          "height": 372
        },
        "outputId": "cbfd481b-0982-433e-9607-d7e2668984bc"
      },
      "source": [
        "# 나눔폰트 설치\n",
        "!sudo apt-get install -y fonts-nanum\n",
        "!sudo fc-cache -fv\n",
        "!rm ~/.cache/matplotlib -rf\n",
        "# 런타임 다시 시작"
      ],
      "execution_count": null,
      "outputs": [
        {
          "output_type": "stream",
          "text": [
            "Reading package lists... Done\n",
            "Building dependency tree       \n",
            "Reading state information... Done\n",
            "fonts-nanum is already the newest version (20170925-1).\n",
            "The following package was automatically installed and is no longer required:\n",
            "  libnvidia-common-440\n",
            "Use 'sudo apt autoremove' to remove it.\n",
            "0 upgraded, 0 newly installed, 0 to remove and 39 not upgraded.\n",
            "/usr/share/fonts: caching, new cache contents: 0 fonts, 1 dirs\n",
            "/usr/share/fonts/truetype: caching, new cache contents: 0 fonts, 3 dirs\n",
            "/usr/share/fonts/truetype/humor-sans: caching, new cache contents: 1 fonts, 0 dirs\n",
            "/usr/share/fonts/truetype/liberation: caching, new cache contents: 16 fonts, 0 dirs\n",
            "/usr/share/fonts/truetype/nanum: caching, new cache contents: 10 fonts, 0 dirs\n",
            "/usr/local/share/fonts: caching, new cache contents: 0 fonts, 0 dirs\n",
            "/root/.local/share/fonts: skipping, no such directory\n",
            "/root/.fonts: skipping, no such directory\n",
            "/var/cache/fontconfig: cleaning cache directory\n",
            "/root/.cache/fontconfig: not cleaning non-existent cache directory\n",
            "/root/.fontconfig: not cleaning non-existent cache directory\n",
            "fc-cache: succeeded\n"
          ],
          "name": "stdout"
        }
      ]
    },
    {
      "cell_type": "markdown",
      "metadata": {
        "id": "0hmCsENrTNs4",
        "colab_type": "text"
      },
      "source": [
        "# LSA"
      ]
    },
    {
      "cell_type": "code",
      "metadata": {
        "id": "A9oNLVlhj4PP",
        "colab_type": "code",
        "colab": {}
      },
      "source": [
        "docs = ['바나나 사과 포도 포도',\n",
        "       '사과 포도',\n",
        "       '포도 바나나',\n",
        "       '짜장면 짬뽕 탕수육',\n",
        "       '볶음밥 탕수육',\n",
        "       '짜장면 짬뽕',\n",
        "       '된장찌개 김치찌개 김치 비빔밥',\n",
        "       '김치 된장 비빔밥',\n",
        "       '비빔밥 김치',\n",
        "       '사과 볶음밥 김치 된장']"
      ],
      "execution_count": null,
      "outputs": []
    },
    {
      "cell_type": "code",
      "metadata": {
        "id": "Vm3T-h50kPP6",
        "colab_type": "code",
        "colab": {
          "base_uri": "https://localhost:8080/",
          "height": 550
        },
        "outputId": "beb39b38-1d48-4a70-c74d-47a183f2a2ea"
      },
      "source": [
        "from sklearn.feature_extraction.text import TfidfVectorizer\n",
        "from sklearn.decomposition import TruncatedSVD\n",
        "n_topic = 3\n",
        "\n",
        "tfidf_vect = TfidfVectorizer()\n",
        "tfidf = tfidf_vect.fit_transform(docs)\n",
        "tfidf.toarray()"
      ],
      "execution_count": null,
      "outputs": [
        {
          "output_type": "execute_result",
          "data": {
            "text/plain": [
              "array([[0.        , 0.        , 0.        , 0.        , 0.45515283,\n",
              "        0.        , 0.        , 0.39820495, 0.        , 0.        ,\n",
              "        0.        , 0.79640989],\n",
              "       [0.        , 0.        , 0.        , 0.        , 0.        ,\n",
              "        0.        , 0.        , 0.70710678, 0.        , 0.        ,\n",
              "        0.        , 0.70710678],\n",
              "       [0.        , 0.        , 0.        , 0.        , 0.75262077,\n",
              "        0.        , 0.        , 0.        , 0.        , 0.        ,\n",
              "        0.        , 0.65845424],\n",
              "       [0.        , 0.        , 0.        , 0.        , 0.        ,\n",
              "        0.        , 0.        , 0.        , 0.57735027, 0.57735027,\n",
              "        0.57735027, 0.        ],\n",
              "       [0.        , 0.        , 0.        , 0.        , 0.        ,\n",
              "        0.70710678, 0.        , 0.        , 0.        , 0.        ,\n",
              "        0.70710678, 0.        ],\n",
              "       [0.        , 0.        , 0.        , 0.        , 0.        ,\n",
              "        0.        , 0.        , 0.        , 0.70710678, 0.70710678,\n",
              "        0.        , 0.        ],\n",
              "       [0.38237566, 0.5782804 , 0.        , 0.5782804 , 0.        ,\n",
              "        0.        , 0.43008419, 0.        , 0.        , 0.        ,\n",
              "        0.        , 0.        ],\n",
              "       [0.5052095 , 0.        , 0.64950926, 0.        , 0.        ,\n",
              "        0.        , 0.56824385, 0.        , 0.        , 0.        ,\n",
              "        0.        , 0.        ],\n",
              "       [0.66444014, 0.        , 0.        , 0.        , 0.        ,\n",
              "        0.        , 0.74734149, 0.        , 0.        , 0.        ,\n",
              "        0.        , 0.        ],\n",
              "       [0.42368467, 0.        , 0.544699  , 0.        , 0.        ,\n",
              "        0.544699  , 0.        , 0.47654726, 0.        , 0.        ,\n",
              "        0.        , 0.        ]])"
            ]
          },
          "metadata": {
            "tags": []
          },
          "execution_count": 2
        }
      ]
    },
    {
      "cell_type": "code",
      "metadata": {
        "id": "cL_AZVQqp-PP",
        "colab_type": "code",
        "colab": {
          "base_uri": "https://localhost:8080/",
          "height": 177
        },
        "outputId": "78f6e324-d42d-493e-9e2a-ee7e3aafe3f0"
      },
      "source": [
        "svd = TruncatedSVD(n_components = n_topic)\n",
        "u_sigma = svd.fit_transform(tfidf)      # 좌측이벡터\n",
        "svd.components_   # 토픽 3개에 대한 모든 단어들의 가중치"
      ],
      "execution_count": null,
      "outputs": [
        {
          "output_type": "execute_result",
          "data": {
            "text/plain": [
              "array([[ 0.39094311,  0.08663945,  0.2634605 ,  0.08663945,  0.31533599,\n",
              "         0.1677167 ,  0.33012626,  0.42118555,  0.01907605,  0.01907605,\n",
              "         0.05422822,  0.58747296],\n",
              "       [ 0.49683512,  0.13720069,  0.26962551,  0.13720069, -0.29774469,\n",
              "         0.10773075,  0.49275818, -0.18567019,  0.02131272,  0.02131272,\n",
              "         0.04450862, -0.51222803],\n",
              "       [-0.06285924, -0.02901254, -0.00762375, -0.02901254, -0.01957621,\n",
              "         0.19210545, -0.09004258,  0.00851823,  0.60658392,  0.60658392,\n",
              "         0.46061907, -0.02794911]])"
            ]
          },
          "metadata": {
            "tags": []
          },
          "execution_count": 3
        }
      ]
    },
    {
      "cell_type": "code",
      "metadata": {
        "id": "kenhd7pblE2i",
        "colab_type": "code",
        "colab": {
          "base_uri": "https://localhost:8080/",
          "height": 88
        },
        "outputId": "b662af86-f449-4ff1-b899-048867d134d4"
      },
      "source": [
        "vocab = tfidf_vect.get_feature_names()\n",
        "print(vocab)\n",
        "\n",
        "n=3\n",
        "for idx, topic in enumerate(svd.components_):\n",
        "  print('Topic %d:' % (idx), [(vocab[i], topic[i].round(5)) for i in topic.argsort()[:-n -1 : -1]])        "
      ],
      "execution_count": null,
      "outputs": [
        {
          "output_type": "stream",
          "text": [
            "['김치', '김치찌개', '된장', '된장찌개', '바나나', '볶음밥', '비빔밥', '사과', '짜장면', '짬뽕', '탕수육', '포도']\n",
            "Topic 0: [('포도', 0.58747), ('사과', 0.42119), ('김치', 0.39094)]\n",
            "Topic 1: [('김치', 0.49684), ('비빔밥', 0.49276), ('된장', 0.26963)]\n",
            "Topic 2: [('짬뽕', 0.60658), ('짜장면', 0.60658), ('탕수육', 0.46062)]\n"
          ],
          "name": "stdout"
        }
      ]
    },
    {
      "cell_type": "code",
      "metadata": {
        "id": "eZKtgXOflqfb",
        "colab_type": "code",
        "colab": {
          "base_uri": "https://localhost:8080/",
          "height": 70
        },
        "outputId": "0346a8c1-626e-47fa-f94a-6fb52b1ae98e"
      },
      "source": [
        "topic"
      ],
      "execution_count": null,
      "outputs": [
        {
          "output_type": "execute_result",
          "data": {
            "text/plain": [
              "array([-0.06285924, -0.02901254, -0.00762375, -0.02901254, -0.01957621,\n",
              "        0.19210545, -0.09004258,  0.00851823,  0.60658392,  0.60658392,\n",
              "        0.46061907, -0.02794911])"
            ]
          },
          "metadata": {
            "tags": []
          },
          "execution_count": 5
        }
      ]
    },
    {
      "cell_type": "code",
      "metadata": {
        "id": "faGZuF54pij8",
        "colab_type": "code",
        "colab": {
          "base_uri": "https://localhost:8080/",
          "height": 35
        },
        "outputId": "7997a93f-2c0f-43db-f16c-504ff960e49c"
      },
      "source": [
        "topic.argsort()"
      ],
      "execution_count": null,
      "outputs": [
        {
          "output_type": "execute_result",
          "data": {
            "text/plain": [
              "array([ 6,  0,  3,  1, 11,  4,  2,  7,  5, 10,  8,  9])"
            ]
          },
          "metadata": {
            "tags": []
          },
          "execution_count": 6
        }
      ]
    },
    {
      "cell_type": "code",
      "metadata": {
        "id": "NfugI4_bpkIj",
        "colab_type": "code",
        "colab": {
          "base_uri": "https://localhost:8080/",
          "height": 35
        },
        "outputId": "de634290-064b-4fd2-beb9-2b1b07d49954"
      },
      "source": [
        "topic.argsort()[:-n -1 : -1]"
      ],
      "execution_count": null,
      "outputs": [
        {
          "output_type": "execute_result",
          "data": {
            "text/plain": [
              "array([ 9,  8, 10])"
            ]
          },
          "metadata": {
            "tags": []
          },
          "execution_count": 7
        }
      ]
    },
    {
      "cell_type": "markdown",
      "metadata": {
        "id": "0EG9FLc_qpCE",
        "colab_type": "text"
      },
      "source": [
        "# 단어벡터간의 유사관계"
      ]
    },
    {
      "cell_type": "code",
      "metadata": {
        "id": "Y6A_dLP7q4MT",
        "colab_type": "code",
        "colab": {
          "base_uri": "https://localhost:8080/",
          "height": 230
        },
        "outputId": "b5e90e00-f69a-4d94-dcb8-664409e2a0f7"
      },
      "source": [
        "# 단어벡터\n",
        "for i in range(len(vocab)):\n",
        "  print(\"{} : {}\".format(vocab[i], svd.components_.T[i]))"
      ],
      "execution_count": null,
      "outputs": [
        {
          "output_type": "stream",
          "text": [
            "김치 : [ 0.39094311  0.49683512 -0.06285924]\n",
            "김치찌개 : [ 0.08663945  0.13720069 -0.02901254]\n",
            "된장 : [ 0.2634605   0.26962551 -0.00762375]\n",
            "된장찌개 : [ 0.08663945  0.13720069 -0.02901254]\n",
            "바나나 : [ 0.31533599 -0.29774469 -0.01957621]\n",
            "볶음밥 : [0.1677167  0.10773075 0.19210545]\n",
            "비빔밥 : [ 0.33012626  0.49275818 -0.09004258]\n",
            "사과 : [ 0.42118555 -0.18567019  0.00851823]\n",
            "짜장면 : [0.01907605 0.02131272 0.60658392]\n",
            "짬뽕 : [0.01907605 0.02131272 0.60658392]\n",
            "탕수육 : [0.05422822 0.04450862 0.46061907]\n",
            "포도 : [ 0.58747296 -0.51222803 -0.02794911]\n"
          ],
          "name": "stdout"
        }
      ]
    },
    {
      "cell_type": "code",
      "metadata": {
        "id": "QyFHdt9rvWn1",
        "colab_type": "code",
        "colab": {}
      },
      "source": [
        "import numpy as np\n",
        "from numpy import dot\n",
        "from numpy.linalg import norm\n",
        "\n",
        "# 코사인유사도\n",
        "def cosine_similarity(a,b):\n",
        "  return dot (a,b)/(norm(a)*norm(b))\n",
        "# 코사인유사도를 사용해서 행렬의 유사도 구하기\n",
        "def calc_similarity_matrix(vectors):\n",
        "  n_word = len(vectors)\n",
        "  similarity_matrix = np.zeros((n_word, n_word))\n",
        "  for i in range(n_word):\n",
        "    for j in range(i, n_word) :\n",
        "      similarity_matrix[j,i] = cosine_similarity(vectors[i], vectors[j]).round(4)\n",
        "  return similarity_matrix"
      ],
      "execution_count": null,
      "outputs": []
    },
    {
      "cell_type": "code",
      "metadata": {
        "id": "JeDooUfYxVG2",
        "colab_type": "code",
        "colab": {
          "base_uri": "https://localhost:8080/",
          "height": 52
        },
        "outputId": "f5cc8c6d-8290-4d5b-c38c-86d76ec06254"
      },
      "source": [
        "import matplotlib.pyplot as plt\n",
        "import seaborn as sns\n",
        "\n",
        "def visualize_similarity(similarity_matrix):\n",
        "  uniform_data = similarity_matrix\n",
        "  mask = np.triu(np.ones_like(similarity_matrix, dtype=np.bool))\n",
        "  plt.rcParams['figure.figsize'] = [8,6]\n",
        "  ax = sns.heatmap(uniform_data, mask=mask,\n",
        "                   annot=True, fmt = '.2f', annot_kws={'size':8},\n",
        "                   cmap='coolwarm')"
      ],
      "execution_count": null,
      "outputs": [
        {
          "output_type": "stream",
          "text": [
            "/usr/local/lib/python3.6/dist-packages/statsmodels/tools/_testing.py:19: FutureWarning: pandas.util.testing is deprecated. Use the functions in the public API at pandas.testing instead.\n",
            "  import pandas.util.testing as tm\n"
          ],
          "name": "stderr"
        }
      ]
    },
    {
      "cell_type": "code",
      "metadata": {
        "id": "-V_l7_Ffx6NL",
        "colab_type": "code",
        "colab": {
          "base_uri": "https://localhost:8080/",
          "height": 378
        },
        "outputId": "68a1dcd5-83fe-4da9-f659-3260b8529f78"
      },
      "source": [
        "word_vectors = svd.components_.T\n",
        "word_similarity_matrix = calc_similarity_matrix(word_vectors)\n",
        "visualize_similarity(word_similarity_matrix)"
      ],
      "execution_count": null,
      "outputs": [
        {
          "output_type": "display_data",
          "data": {
            "image/png": "[encoded data removed]",
            "text/plain": [
              "<Figure size 576x432 with 2 Axes>"
            ]
          },
          "metadata": {
            "tags": [],
            "needs_background": "light"
          }
        }
      ]
    },
    {
      "cell_type": "markdown",
      "metadata": {
        "id": "sthmHwLLyYi1",
        "colab_type": "text"
      },
      "source": [
        "# 단어벡터 시각화"
      ]
    },
    {
      "cell_type": "code",
      "metadata": {
        "id": "_M3MfpTeyFlk",
        "colab_type": "code",
        "colab": {}
      },
      "source": [
        "%matplotlib inline\n",
        "#import matplotlib.font_manager as fm\n",
        "import matplotlib\n",
        "# fontprop = fm.FontProperties(fname='C:/Windows/Fonts/NanumBarunGothic.ttf', size=12)"
      ],
      "execution_count": null,
      "outputs": []
    },
    {
      "cell_type": "code",
      "metadata": {
        "id": "dQL7NFChylbx",
        "colab_type": "code",
        "colab": {}
      },
      "source": [
        "from sklearn.manifold import TSNE\n",
        "import numpy as np\n",
        "\n",
        "vectors = word_vectors\n",
        "labels = tfidf_vect.get_feature_names()\n",
        "\n",
        "def visualize_vectors(vectors, labels):\n",
        "  tsne = TSNE(n_components = 2, random_state = 0, n_iter = 10000, perplexity = 2)\n",
        "  np.set_printoptions(suppress=True)\n",
        "  T = tsne.fit_transform(vectors)\n",
        "  plt.figure(figsize=(10,6))\n",
        "  plt.scatter(T[:,0], T[:,1], c='orange', edgecolors='r')\n",
        "  for label, x, y in zip(labels, T[:,0], T[:,1]):\n",
        "    plt.annotate(label, xy=(x+1,y+1), xytext=(0,0),\n",
        "                 textcoords='offset points',\n",
        "                 )"
      ],
      "execution_count": null,
      "outputs": []
    },
    {
      "cell_type": "code",
      "metadata": {
        "id": "Ait7ZMVXy0RM",
        "colab_type": "code",
        "colab": {
          "base_uri": "https://localhost:8080/",
          "height": 446
        },
        "outputId": "792bb48c-9ff1-4878-c94f-0ed34222ecb4"
      },
      "source": [
        "visualize_vectors(vectors,labels)"
      ],
      "execution_count": null,
      "outputs": [
        {
          "output_type": "stream",
          "text": [
            "/usr/local/lib/python3.6/dist-packages/matplotlib/backends/backend_agg.py:214: RuntimeWarning: Glyph 8722 missing from current font.\n",
            "  font.set_text(s, 0.0, flags=flags)\n",
            "/usr/local/lib/python3.6/dist-packages/matplotlib/backends/backend_agg.py:183: RuntimeWarning: Glyph 8722 missing from current font.\n",
            "  font.set_text(s, 0, flags=flags)\n"
          ],
          "name": "stderr"
        },
        {
          "output_type": "display_data",
          "data": {
            "image/png": "[encoded data removed]",
            "text/plain": [
              "<Figure size 720x432 with 1 Axes>"
            ]
          },
          "metadata": {
            "tags": [],
            "image/png": {
              "width": 600,
              "height": 358
            },
            "needs_background": "light"
          }
        }
      ]
    },
    {
      "cell_type": "code",
      "metadata": {
        "id": "QoORWHpRzuat",
        "colab_type": "code",
        "colab": {}
      },
      "source": [
        ""
      ],
      "execution_count": null,
      "outputs": []
    }
  ]
}