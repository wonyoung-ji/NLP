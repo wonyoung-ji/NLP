{
  "nbformat": 4,
  "nbformat_minor": 0,
  "metadata": {
    "colab": {
      "name": "200917 네이버 DataLab 활용.ipynb",
      "provenance": [],
      "collapsed_sections": [],
      "toc_visible": true,
      "authorship_tag": "ABX9TyPsCvOS4/h+ogL4nd+a/Pck",
      "include_colab_link": true
    },
    "kernelspec": {
      "name": "python3",
      "display_name": "Python 3"
    }
  },
  "cells": [
    {
      "cell_type": "markdown",
      "metadata": {
        "id": "view-in-github",
        "colab_type": "text"
      },
      "source": [
        "<a href=\"https://colab.research.google.com/github/wonyoung-ji/asiae_edu/blob/master/fintech/200917_%EB%84%A4%EC%9D%B4%EB%B2%84_DataLab_%ED%99%9C%EC%9A%A9.ipynb\" target=\"_parent\"><img src=\"https://colab.research.google.com/assets/colab-badge.svg\" alt=\"Open In Colab\"/></a>"
      ]
    },
    {
      "cell_type": "markdown",
      "metadata": {
        "id": "YSi55C8tvwuN",
        "colab_type": "text"
      },
      "source": [
        "# __네이버 데이터랩에서 검색어 트렌드 분석__\n",
        "  - 검색어 트렌드 분석을 통해 검색어 증가에 따른 주가변동을 분석한다.\n",
        "  - 마케팅 효과에 따른 검색어 증가량의 변동을 분석한다.\n",
        "  - 검색어 증가를 통해 마케팅의 수명은 어느정도인지 관리한다.\n",
        "  - 경쟁사의 검색어 데이터를 통해 경쟁사 마케팅의 파급효과를 분석한다.\n",
        "  - reference: https://developers.naver.com/docs/datalab/search/#python"
      ]
    },
    {
      "cell_type": "markdown",
      "metadata": {
        "id": "uPuAkBpY_1IR",
        "colab_type": "text"
      },
      "source": [
        "# 1.라이브러리 설치"
      ]
    },
    {
      "cell_type": "code",
      "metadata": {
        "id": "8qBmwiuJ9FXx",
        "colab_type": "code",
        "colab": {
          "base_uri": "https://localhost:8080/",
          "height": 209
        },
        "outputId": "7429344b-14cd-4184-91d4-d6835c82a21e"
      },
      "source": [
        "%config InlineBackend.figure_format = 'retina'\n",
        "!apt -qq -y install fonts-nanum"
      ],
      "execution_count": null,
      "outputs": [
        {
          "output_type": "stream",
          "text": [
            "The following NEW packages will be installed:\n",
            "  fonts-nanum\n",
            "0 upgraded, 1 newly installed, 0 to remove and 11 not upgraded.\n",
            "Need to get 9,604 kB of archives.\n",
            "After this operation, 29.5 MB of additional disk space will be used.\n",
            "Selecting previously unselected package fonts-nanum.\n",
            "(Reading database ... 144600 files and directories currently installed.)\n",
            "Preparing to unpack .../fonts-nanum_20170925-1_all.deb ...\n",
            "Unpacking fonts-nanum (20170925-1) ...\n",
            "Setting up fonts-nanum (20170925-1) ...\n",
            "Processing triggers for fontconfig (2.12.6-0ubuntu2) ...\n"
          ],
          "name": "stdout"
        }
      ]
    },
    {
      "cell_type": "code",
      "metadata": {
        "id": "6CsXCld79ITM",
        "colab_type": "code",
        "colab": {}
      },
      "source": [
        "import seaborn as sns\n",
        "import pandas as pd\n",
        "import matplotlib.pyplot as plt\n",
        "import matplotlib as mpl\n",
        "import matplotlib.font_manager as fm\n",
        "import matplotlib.gridspec as gridspec\n",
        "\n",
        "fontpath = '/usr/share/fonts/truetype/nanum/NanumBarunGothic.ttf'\n",
        "font = fm.FontProperties(fname=fontpath, size=9)\n",
        "plt.rc('font', family='NanumBarunGothic') \n",
        "mpl.font_manager._rebuild()\n",
        "mpl.pyplot.rc('font', family='NanumGothic')\n",
        "fm._rebuild()\n",
        "\n",
        "mpl.rcParams['axes.unicode_minus'] = False"
      ],
      "execution_count": null,
      "outputs": []
    },
    {
      "cell_type": "markdown",
      "metadata": {
        "id": "Dx7xooO_M4tJ",
        "colab_type": "text"
      },
      "source": [
        "# 2.네이버 데이터랩 API활용 예시\n",
        "  - 네이버 데이터랩에서 기생충 검색량을 가져와 시각화해본다."
      ]
    },
    {
      "cell_type": "markdown",
      "metadata": {
        "id": "udwR7DRcPH5x",
        "colab_type": "text"
      },
      "source": [
        "### 2.1. 기생충, 반도의 검색량 추출"
      ]
    },
    {
      "cell_type": "code",
      "metadata": {
        "id": "PlfNnAfrwYXo",
        "colab_type": "code",
        "colab": {}
      },
      "source": [
        "nid= '52vIBt7gRjMAHREje_XB'\n",
        "nkey= 'BNbzV6Ygv6'"
      ],
      "execution_count": null,
      "outputs": []
    },
    {
      "cell_type": "markdown",
      "metadata": {
        "id": "FOFNm46EOGKq",
        "colab_type": "text"
      },
      "source": [
        "- 네이버 디벨로퍼스에서 어플리케이션을 제출후 id와 key를 받아온다"
      ]
    },
    {
      "cell_type": "code",
      "metadata": {
        "id": "AyuLUr47woIS",
        "colab_type": "code",
        "colab": {
          "base_uri": "https://localhost:8080/",
          "height": 54
        },
        "outputId": "4cda0ea7-fe60-45cd-a930-0589d7f184d4"
      },
      "source": [
        "import json\n",
        "import os\n",
        "import sys\n",
        "import urllib.request\n",
        "\n",
        "client_id = nid\n",
        "client_secret = nkey \n",
        "url = \"https://openapi.naver.com/v1/datalab/search\";\n",
        "#body = \"{\\\"startDate\\\":\\\"2017-01-01\\\",\\\"endDate\\\":\\\"2017-04-30\\\",\\\"timeUnit\\\":\\\"month\\\",\\\"keywordGroups\\\":[{\\\"groupName\\\":\\\"한글\\\",\\\"keywords\\\":[\\\"한글\\\",\\\"korean\\\"]},{\\\"groupName\\\":\\\"영어\\\",\\\"keywords\\\":[\\\"영어\\\",\\\"english\\\"]}],\\\"device\\\":\\\"pc\\\",\\\"ages\\\":[\\\"1\\\",\\\"2\\\"],\\\"gender\\\":\\\"f\\\"}\"\n",
        "body=\"\"\"{\n",
        "    \"startDate\":\"2019-01-01\",\n",
        "    \"endDate\":\"2020-08-30\",\n",
        "    \"timeUnit\":\"month\",\n",
        "    \"keywordGroups\":[\n",
        "          {\"groupName\":\"기생충\",\"keywords\":[\"기생충\",\"봉준호\",\"짜파구리\",\"CJ ENM\"]},\n",
        "          {\"groupName\":\"반도\",\"keywords\":[\"반도\",\"CJ ENM\"]}\n",
        "    ]\n",
        "    }\"\"\"\n",
        "request = urllib.request.Request(url)\n",
        "request.add_header(\"X-Naver-Client-Id\",client_id)\n",
        "request.add_header(\"X-Naver-Client-Secret\",client_secret)\n",
        "request.add_header(\"Content-Type\",\"application/json\")\n",
        "response = urllib.request.urlopen(request, data=body.encode(\"utf-8\"))\n",
        "rescode = response.getcode()\n",
        "\n",
        "if (rescode==200):\n",
        "    response_body = response.read()\n",
        "    res=response_body.decode('utf-8')\n",
        "    print(res)\n",
        "else:\n",
        "    print(\"Error Code:\" + rescode)"
      ],
      "execution_count": null,
      "outputs": [
        {
          "output_type": "stream",
          "text": [
            "{\"startDate\":\"2019-01-01\",\"endDate\":\"2020-08-31\",\"timeUnit\":\"month\",\"results\":[{\"title\":\"기생충\",\"keywords\":[\"기생충\",\"봉준호\",\"짜파구리\",\"CJ ENM\"],\"data\":[{\"period\":\"2019-01-01\",\"ratio\":0.99682},{\"period\":\"2019-02-01\",\"ratio\":1.23235},{\"period\":\"2019-03-01\",\"ratio\":1.03002},{\"period\":\"2019-04-01\",\"ratio\":7.92022},{\"period\":\"2019-05-01\",\"ratio\":46.82542},{\"period\":\"2019-06-01\",\"ratio\":59.07226},{\"period\":\"2019-07-01\",\"ratio\":11.90921},{\"period\":\"2019-08-01\",\"ratio\":12.20851},{\"period\":\"2019-09-01\",\"ratio\":4.86102},{\"period\":\"2019-10-01\",\"ratio\":3.7481},{\"period\":\"2019-11-01\",\"ratio\":5.34911},{\"period\":\"2019-12-01\",\"ratio\":5.05451},{\"period\":\"2020-01-01\",\"ratio\":20.11018},{\"period\":\"2020-02-01\",\"ratio\":100},{\"period\":\"2020-03-01\",\"ratio\":9.47802},{\"period\":\"2020-04-01\",\"ratio\":5.92012},{\"period\":\"2020-05-01\",\"ratio\":4.90204},{\"period\":\"2020-06-01\",\"ratio\":4.35607},{\"period\":\"2020-07-01\",\"ratio\":4.52975},{\"period\":\"2020-08-01\",\"ratio\":4.40892}]},{\"title\":\"반도\",\"keywords\":[\"반도\",\"CJ ENM\"],\"data\":[{\"period\":\"2019-01-01\",\"ratio\":0.58554},{\"period\":\"2019-02-01\",\"ratio\":0.92131},{\"period\":\"2019-03-01\",\"ratio\":0.72932},{\"period\":\"2019-04-01\",\"ratio\":0.68014},{\"period\":\"2019-05-01\",\"ratio\":0.9013},{\"period\":\"2019-06-01\",\"ratio\":1.16414},{\"period\":\"2019-07-01\",\"ratio\":1.62319},{\"period\":\"2019-08-01\",\"ratio\":1.39311},{\"period\":\"2019-09-01\",\"ratio\":1.01937},{\"period\":\"2019-10-01\",\"ratio\":1.06439},{\"period\":\"2019-11-01\",\"ratio\":1.48633},{\"period\":\"2019-12-01\",\"ratio\":1.41145},{\"period\":\"2020-01-01\",\"ratio\":1.7403},{\"period\":\"2020-02-01\",\"ratio\":11.97264},{\"period\":\"2020-03-01\",\"ratio\":3.76826},{\"period\":\"2020-04-01\",\"ratio\":6.65963},{\"period\":\"2020-05-01\",\"ratio\":3.66451},{\"period\":\"2020-06-01\",\"ratio\":9.67148},{\"period\":\"2020-07-01\",\"ratio\":47.68963},{\"period\":\"2020-08-01\",\"ratio\":20.82201}]}]}\n"
          ],
          "name": "stdout"
        }
      ]
    },
    {
      "cell_type": "markdown",
      "metadata": {
        "id": "QTrqAOmLOW4g",
        "colab_type": "text"
      },
      "source": [
        "- 기생충외에도 반도를 키워드로 지정했다. 기생충과 반도 두 개의 그룹으로 데이터가 나온다.\n",
        "- 이를 json을 사용해 정리해본다."
      ]
    },
    {
      "cell_type": "code",
      "metadata": {
        "id": "dA71cQDL1REf",
        "colab_type": "code",
        "colab": {
          "base_uri": "https://localhost:8080/",
          "height": 839
        },
        "outputId": "a3ba1e2e-d9f0-4f13-d91e-c5e9c7ffa161"
      },
      "source": [
        "jdata=json.loads(res)\n",
        "jdata"
      ],
      "execution_count": null,
      "outputs": [
        {
          "output_type": "execute_result",
          "data": {
            "text/plain": [
              "{'endDate': '2020-08-31',\n",
              " 'results': [{'data': [{'period': '2019-01-01', 'ratio': 0.99682},\n",
              "    {'period': '2019-02-01', 'ratio': 1.23235},\n",
              "    {'period': '2019-03-01', 'ratio': 1.03002},\n",
              "    {'period': '2019-04-01', 'ratio': 7.92022},\n",
              "    {'period': '2019-05-01', 'ratio': 46.82542},\n",
              "    {'period': '2019-06-01', 'ratio': 59.07226},\n",
              "    {'period': '2019-07-01', 'ratio': 11.90921},\n",
              "    {'period': '2019-08-01', 'ratio': 12.20851},\n",
              "    {'period': '2019-09-01', 'ratio': 4.86102},\n",
              "    {'period': '2019-10-01', 'ratio': 3.7481},\n",
              "    {'period': '2019-11-01', 'ratio': 5.34911},\n",
              "    {'period': '2019-12-01', 'ratio': 5.05451},\n",
              "    {'period': '2020-01-01', 'ratio': 20.11018},\n",
              "    {'period': '2020-02-01', 'ratio': 100},\n",
              "    {'period': '2020-03-01', 'ratio': 9.47802},\n",
              "    {'period': '2020-04-01', 'ratio': 5.92012},\n",
              "    {'period': '2020-05-01', 'ratio': 4.90204},\n",
              "    {'period': '2020-06-01', 'ratio': 4.35607},\n",
              "    {'period': '2020-07-01', 'ratio': 4.52975},\n",
              "    {'period': '2020-08-01', 'ratio': 4.40892}],\n",
              "   'keywords': ['기생충', '봉준호', '짜파구리', 'CJ ENM'],\n",
              "   'title': '기생충'},\n",
              "  {'data': [{'period': '2019-01-01', 'ratio': 0.58554},\n",
              "    {'period': '2019-02-01', 'ratio': 0.92131},\n",
              "    {'period': '2019-03-01', 'ratio': 0.72932},\n",
              "    {'period': '2019-04-01', 'ratio': 0.68014},\n",
              "    {'period': '2019-05-01', 'ratio': 0.9013},\n",
              "    {'period': '2019-06-01', 'ratio': 1.16414},\n",
              "    {'period': '2019-07-01', 'ratio': 1.62319},\n",
              "    {'period': '2019-08-01', 'ratio': 1.39311},\n",
              "    {'period': '2019-09-01', 'ratio': 1.01937},\n",
              "    {'period': '2019-10-01', 'ratio': 1.06439},\n",
              "    {'period': '2019-11-01', 'ratio': 1.48633},\n",
              "    {'period': '2019-12-01', 'ratio': 1.41145},\n",
              "    {'period': '2020-01-01', 'ratio': 1.7403},\n",
              "    {'period': '2020-02-01', 'ratio': 11.97264},\n",
              "    {'period': '2020-03-01', 'ratio': 3.76826},\n",
              "    {'period': '2020-04-01', 'ratio': 6.65963},\n",
              "    {'period': '2020-05-01', 'ratio': 3.66451},\n",
              "    {'period': '2020-06-01', 'ratio': 9.67148},\n",
              "    {'period': '2020-07-01', 'ratio': 47.68963},\n",
              "    {'period': '2020-08-01', 'ratio': 20.82201}],\n",
              "   'keywords': ['반도', 'CJ ENM'],\n",
              "   'title': '반도'}],\n",
              " 'startDate': '2019-01-01',\n",
              " 'timeUnit': 'month'}"
            ]
          },
          "metadata": {
            "tags": []
          },
          "execution_count": 49
        }
      ]
    },
    {
      "cell_type": "code",
      "metadata": {
        "id": "n0tTS2BG6P8O",
        "colab_type": "code",
        "colab": {
          "base_uri": "https://localhost:8080/",
          "height": 34
        },
        "outputId": "6e849103-4f21-4729-93fb-29acca2e0944"
      },
      "source": [
        "len(jdata['results'])"
      ],
      "execution_count": null,
      "outputs": [
        {
          "output_type": "execute_result",
          "data": {
            "text/plain": [
              "2"
            ]
          },
          "metadata": {
            "tags": []
          },
          "execution_count": 50
        }
      ]
    },
    {
      "cell_type": "markdown",
      "metadata": {
        "id": "EYy2DE4ZOrnF",
        "colab_type": "text"
      },
      "source": [
        "- results안에, 기생충과 반도 두 개의 그룹으로 data가 이루어져 있다. \n",
        "- results의 길이를 보면 당연히 2개로 나온다.\n",
        "- jdata['results'][0]은 기생충을, jdata['results'][1]은 반도를 받는다."
      ]
    },
    {
      "cell_type": "markdown",
      "metadata": {
        "id": "p4r5V4amPRM2",
        "colab_type": "text"
      },
      "source": [
        "## 2.2. 기생충 검색량 시각화\n",
        "- 기생충의 데이터만 가져와 line plot으로 보여준다"
      ]
    },
    {
      "cell_type": "code",
      "metadata": {
        "id": "MhCyYjQg7G0W",
        "colab_type": "code",
        "colab": {
          "base_uri": "https://localhost:8080/",
          "height": 221
        },
        "outputId": "a65e614b-bf43-43e6-bf34-2b3b94ade8ad"
      },
      "source": [
        "import pandas as pd\n",
        "import numpy as np\n",
        "import matplotlib as mlt\n",
        "import matplotlib.pyplot as plt\n",
        "\n",
        "jdata=json.loads(res)\n",
        "pdata=jdata['results'][0]['data']\n",
        "cjdf = pd.DataFrame.from_dict(pdata)\n",
        "\n",
        "\n",
        "plt.rcParams[\"figure.figsize\"] = (14,4)\n",
        "cjdf.plot(kind='line', x='period', y='ratio', color='Blue')\n",
        "plt.legend()\n",
        "plt.show()"
      ],
      "execution_count": null,
      "outputs": [
        {
          "output_type": "display_data",
          "data": {
            "image/png": "[encoded data removed]",
            "text/plain": [
              "<Figure size 1008x288 with 1 Axes>"
            ]
          },
          "metadata": {
            "tags": [],
            "needs_background": "light"
          }
        }
      ]
    },
    {
      "cell_type": "markdown",
      "metadata": {
        "id": "tKA1DIAUPywy",
        "colab_type": "text"
      },
      "source": [
        "# 3.네이버 데이터랩 검색량 추출\n",
        "- 네이버 데이터랩 검색량을 추출하는 함수를 정의한다.\n",
        "- 함수에 키워드, 날짜, 날짜간격을 입력한다. "
      ]
    },
    {
      "cell_type": "markdown",
      "metadata": {
        "id": "wJ7_XcHrjP32",
        "colab_type": "text"
      },
      "source": [
        "## 3.1. body 만드는 함수 정의"
      ]
    },
    {
      "cell_type": "code",
      "metadata": {
        "id": "Dmx9gVGL9-WS",
        "colab_type": "code",
        "colab": {}
      },
      "source": [
        "def makeQry(keywords=[],sday='2019-01-01',eday='2020-08-30',tunit='date'):\n",
        "  res=[]\n",
        "  for words in keywords:\n",
        "    dict = {'groupName':words[0],'keywords':words}\n",
        "    res.append(dict)\n",
        "  rdict = {\"startDate\":sday,\n",
        "    \"endDate\":eday,\n",
        "    \"timeUnit\":tunit,\n",
        "    \"keywordGroups\":res\n",
        "    }\n",
        "  return json.dumps(rdict,ensure_ascii=False)         #  Python의 객체를 JSON 문자열로 변환"
      ],
      "execution_count": null,
      "outputs": []
    },
    {
      "cell_type": "code",
      "metadata": {
        "id": "KVsdrJjLMbXF",
        "colab_type": "code",
        "colab": {
          "base_uri": "https://localhost:8080/",
          "height": 104
        },
        "outputId": "b5bfc192-7f4a-484f-dfe1-537192c846be"
      },
      "source": [
        "keywords = [['극한직업'],['사바하'],['걸캅스'],['나쁜녀석들'],['기생충','봉준호','짜파구리']]\n",
        "makeQry(keywords,'2019-01-01','2020-08-30','date')"
      ],
      "execution_count": null,
      "outputs": [
        {
          "output_type": "execute_result",
          "data": {
            "application/vnd.google.colaboratory.intrinsic+json": {
              "type": "string"
            },
            "text/plain": [
              "'{\"startDate\": \"2019-01-01\", \"endDate\": \"2020-08-30\", \"timeUnit\": \"date\", \"keywordGroups\": [{\"groupName\": \"극한직업\", \"keywords\": [\"극한직업\"]}, {\"groupName\": \"사바하\", \"keywords\": [\"사바하\"]}, {\"groupName\": \"걸캅스\", \"keywords\": [\"걸캅스\"]}, {\"groupName\": \"나쁜녀석들\", \"keywords\": [\"나쁜녀석들\"]}, {\"groupName\": \"기생충\", \"keywords\": [\"기생충\", \"봉준호\", \"짜파구리\"]}]}'"
            ]
          },
          "metadata": {
            "tags": []
          },
          "execution_count": 117
        }
      ]
    },
    {
      "cell_type": "markdown",
      "metadata": {
        "id": "4hRyrGjUjU73",
        "colab_type": "text"
      },
      "source": [
        "## 3.2. 검색량 불러오는 함수 정의\n",
        "  - 위에서 만든 body 추출 함수를 사용하여 raw data를 가져오는 Mysearch 함수를 정의한다."
      ]
    },
    {
      "cell_type": "code",
      "metadata": {
        "id": "lIZ7x_pcLYaf",
        "colab_type": "code",
        "colab": {}
      },
      "source": [
        "def Mysearch(keywords=[], sday='2019-01-01',eday='2020-08-30',tunit='date'):\n",
        "  client_id = nid\n",
        "  client_secret = nkey \n",
        "  url = \"https://openapi.naver.com/v1/datalab/search\";\n",
        " \n",
        "  body= makeQry(keywords,sday,eday,tunit)\n",
        "  request = urllib.request.Request(url)\n",
        "  request.add_header(\"X-Naver-Client-Id\",client_id)\n",
        "  request.add_header(\"X-Naver-Client-Secret\",client_secret)\n",
        "  request.add_header(\"Content-Type\",\"application/json\")\n",
        "  response = urllib.request.urlopen(request, data=body.encode(\"utf-8\"))\n",
        "  rescode = response.getcode()\n",
        "\n",
        "  if (rescode==200):\n",
        "    response_body = response.read()\n",
        "    res=response_body.decode('utf-8')\n",
        "    # print(res)\n",
        "  else:\n",
        "    res='error'\n",
        "    print(\"Error Code:\" + rescode)\n",
        "  return res"
      ],
      "execution_count": null,
      "outputs": []
    },
    {
      "cell_type": "markdown",
      "metadata": {
        "id": "c8oNEq8vpG6D",
        "colab_type": "text"
      },
      "source": [
        "## 3.3 검색량 시각화\n",
        "  - 위에서 만든 Mysearch 함수를 사용하여 검색량을 추출해본다.\n",
        "  - 같은 기간 안의 《극한직업》,《사바하》,《걸캅스》,《나쁜녀석들》,《기생충》,《백두산》의 검색량을 분석한다.\n"
      ]
    },
    {
      "cell_type": "code",
      "metadata": {
        "id": "CY_j17sBgNOF",
        "colab_type": "code",
        "colab": {
          "base_uri": "https://localhost:8080/",
          "height": 417
        },
        "outputId": "425e30ed-9e52-40f3-c2d9-7ec5d38e0ad2"
      },
      "source": [
        "keywords = [['극한직업'],['사바하'],['걸캅스'],['나쁜녀석들'],['기생충','봉준호','짜파구리']]\n",
        "res = Mysearch(keywords,sday='2019-01-01',eday='2020-08-30',tunit='date')\n",
        "jdata = json.loads(res)\n",
        "\n",
        "i = 0\n",
        "maindf = pd.DataFrame()\n",
        "for words in keywords:\n",
        "  pdata = jdata['results'][i]['data']\n",
        "  df = pd.DataFrame.from_dict(pdata)\n",
        "  df.columns=['period',words[0]]\n",
        "  df = df.set_index('period')\n",
        "  maindf = pd.merge(maindf,df,how='outer',left_index=True,right_index=True)\n",
        "  i+=1\n",
        "\n",
        "print(maindf.head())\n",
        "plt.rcParams[\"figure.figsize\"] = (8,4)\n",
        "maindf.plot()"
      ],
      "execution_count": null,
      "outputs": [
        {
          "output_type": "stream",
          "text": [
            "               극한직업      사바하      걸캅스    나쁜녀석들      기생충\n",
            "period                                                 \n",
            "2019-01-01  0.09183  0.00673  0.00210  0.02806  0.02828\n",
            "2019-01-02  0.10569  0.00654  0.00242  0.02547  0.03213\n",
            "2019-01-03  0.10303  0.00514  0.00175  0.02032  0.03046\n",
            "2019-01-04  0.91302  0.00493  0.00277  0.02230  0.02736\n",
            "2019-01-05  0.20280  0.00591  0.00232  0.02552  0.04605\n"
          ],
          "name": "stdout"
        },
        {
          "output_type": "execute_result",
          "data": {
            "text/plain": [
              "<matplotlib.axes._subplots.AxesSubplot at 0x7f77cc7d66a0>"
            ]
          },
          "metadata": {
            "tags": []
          },
          "execution_count": 109
        },
        {
          "output_type": "display_data",
          "data": {
            "image/png": "[encoded data removed]",
            "text/plain": [
              "<Figure size 576x288 with 1 Axes>"
            ]
          },
          "metadata": {
            "tags": [],
            "needs_background": "light"
          }
        }
      ]
    },
    {
      "cell_type": "markdown",
      "metadata": {
        "id": "uB8c9DX_oBCG",
        "colab_type": "text"
      },
      "source": [
        "- 기생충 값이 미친듯 하다..\n",
        "- 기생충의 파급력은 각설하고, 나머지 애들만 비교해보도록 한다."
      ]
    },
    {
      "cell_type": "code",
      "metadata": {
        "id": "oqa0NA77n0Pv",
        "colab_type": "code",
        "colab": {
          "base_uri": "https://localhost:8080/",
          "height": 417
        },
        "outputId": "72ba2f61-79cc-4e32-802e-142620e52490"
      },
      "source": [
        "keywords = [['극한직업'],['사바하'],['걸캅스'],['나쁜녀석들'],['백두산']]\n",
        "res = Mysearch(keywords,sday='2019-01-01',eday='2020-08-30',tunit='date')\n",
        "jdata = json.loads(res)\n",
        "\n",
        "i = 0\n",
        "maindf = pd.DataFrame()\n",
        "for words in keywords:\n",
        "  pdata = jdata['results'][i]['data']\n",
        "  df = pd.DataFrame.from_dict(pdata)\n",
        "  df.columns=['period',words[0]]\n",
        "  df = df.set_index('period')\n",
        "  maindf = pd.merge(maindf,df,how='outer',left_index=True,right_index=True)\n",
        "  i+=1\n",
        "\n",
        "print(maindf.head())\n",
        "plt.rcParams[\"figure.figsize\"] = (8,4)\n",
        "maindf.plot()"
      ],
      "execution_count": null,
      "outputs": [
        {
          "output_type": "stream",
          "text": [
            "               극한직업      사바하      걸캅스    나쁜녀석들      백두산\n",
            "period                                                 \n",
            "2019-01-01  0.51273  0.03758  0.01178  0.15669  0.14547\n",
            "2019-01-02  0.59014  0.03655  0.01355  0.14220  0.11658\n",
            "2019-01-03  0.57528  0.02870  0.00981  0.11350  0.10892\n",
            "2019-01-04  5.09767  0.02758  0.01552  0.12453  0.10172\n",
            "2019-01-05  1.13232  0.03300  0.01299  0.14248  0.08695\n"
          ],
          "name": "stdout"
        },
        {
          "output_type": "execute_result",
          "data": {
            "text/plain": [
              "<matplotlib.axes._subplots.AxesSubplot at 0x7f77cd0a03c8>"
            ]
          },
          "metadata": {
            "tags": []
          },
          "execution_count": 111
        },
        {
          "output_type": "display_data",
          "data": {
            "image/png": "[encoded data removed]",
            "text/plain": [
              "<Figure size 576x288 with 1 Axes>"
            ]
          },
          "metadata": {
            "tags": [],
            "needs_background": "light"
          }
        }
      ]
    },
    {
      "cell_type": "markdown",
      "metadata": {
        "id": "x1sGjjzgrP9j",
        "colab_type": "text"
      },
      "source": [
        "## 3.4. 다중 키워드 함수 정의\n",
        "  - 위에서 시각화한 함수를 MyDataLab로 정의한다."
      ]
    },
    {
      "cell_type": "code",
      "metadata": {
        "id": "CZkdJIgzrQrF",
        "colab_type": "code",
        "colab": {}
      },
      "source": [
        "def MyDataLab(keywords,sday='2019-01-01',eday='2020-08-30',tunit='date'):\n",
        "  res = Mysearch(keywords,sday='2019-01-01',eday='2020-08-30',tunit='date')\n",
        "  jdata = json.loads(res)\n",
        "  i = 0\n",
        "  maindf = pd.DataFrame()\n",
        "  for words in keywords:\n",
        "    pdata = jdata['results'][i]['data']\n",
        "    df = pd.DataFrame.from_dict(pdata)\n",
        "    df.columns=['period',words[0]]\n",
        "    df = df.set_index('period')\n",
        "    maindf = pd.merge(maindf,df,how='outer',left_index=True,right_index=True)\n",
        "    i+=1\n",
        "  return maindf\n"
      ],
      "execution_count": null,
      "outputs": []
    },
    {
      "cell_type": "code",
      "metadata": {
        "id": "f9cOteuPryKj",
        "colab_type": "code",
        "colab": {
          "base_uri": "https://localhost:8080/",
          "height": 277
        },
        "outputId": "d9838cc2-618f-4c22-8e65-d116ef0fdf84"
      },
      "source": [
        "keywords = [['극한직업'],['사바하'],['걸캅스'],['나쁜녀석들'],['백두산']]\n",
        "mdf = MyDataLab(keywords,'2019-01-01','2020-08-30','date')\n",
        "mdf.plot()\n",
        "plt.show()"
      ],
      "execution_count": null,
      "outputs": [
        {
          "output_type": "display_data",
          "data": {
            "image/png": "[encoded data removed]",
            "text/plain": [
              "<Figure size 576x288 with 1 Axes>"
            ]
          },
          "metadata": {
            "tags": [],
            "needs_background": "light"
          }
        }
      ]
    },
    {
      "cell_type": "code",
      "metadata": {
        "id": "E2kDNCmvr63s",
        "colab_type": "code",
        "colab": {}
      },
      "source": [
        ""
      ],
      "execution_count": null,
      "outputs": []
    }
  ]
}