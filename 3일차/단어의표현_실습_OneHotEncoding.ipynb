{
  "nbformat": 4,
  "nbformat_minor": 0,
  "metadata": {
    "colab": {
      "name": "단어의표현_실습_OneHotEncoding.ipynb",
      "provenance": [],
      "collapsed_sections": [],
      "authorship_tag": "ABX9TyObCwvaRvF7VYGW/Ye303Tp",
      "include_colab_link": true
    },
    "kernelspec": {
      "name": "python3",
      "display_name": "Python 3"
    }
  },
  "cells": [
    {
      "cell_type": "markdown",
      "metadata": {
        "id": "view-in-github",
        "colab_type": "text"
      },
      "source": [
        "<a href=\"https://colab.research.google.com/github/wonyoung-ji/NLP/blob/master/3%EC%9D%BC%EC%B0%A8/%EB%8B%A8%EC%96%B4%EC%9D%98%ED%91%9C%ED%98%84_%EC%8B%A4%EC%8A%B5_OneHotEncoding.ipynb\" target=\"_parent\"><img src=\"https://colab.research.google.com/assets/colab-badge.svg\" alt=\"Open In Colab\"/></a>"
      ]
    },
    {
      "cell_type": "markdown",
      "metadata": {
        "id": "zxfC74Hh83d6",
        "colab_type": "text"
      },
      "source": [
        "## OneHotEncoding"
      ]
    },
    {
      "cell_type": "code",
      "metadata": {
        "id": "YnyP8Pj71NSW",
        "colab_type": "code",
        "colab": {}
      },
      "source": [
        "word_ls = ['원숭이','바나나','사과','코끼리']"
      ],
      "execution_count": null,
      "outputs": []
    },
    {
      "cell_type": "code",
      "metadata": {
        "id": "V0S8fLg71WD2",
        "colab_type": "code",
        "colab": {}
      },
      "source": [
        "from collections import defaultdict\n",
        "import numpy as np"
      ],
      "execution_count": null,
      "outputs": []
    },
    {
      "cell_type": "code",
      "metadata": {
        "id": "G0MbF9Tt1ppx",
        "colab_type": "code",
        "colab": {
          "base_uri": "https://localhost:8080/",
          "height": 52
        },
        "outputId": "90ffb875-5533-46df-84d8-30e3b414745e"
      },
      "source": [
        "# {단어 : 인덱스} 사전 구축\n",
        "word2id_dic = defaultdict(lambda:len(word2id_dic))\n",
        "\n",
        "for word in word_ls:\n",
        "  word2id_dic[word]"
      ],
      "execution_count": null,
      "outputs": [
        {
          "output_type": "execute_result",
          "data": {
            "text/plain": [
              "defaultdict(<function __main__.<lambda>>,\n",
              "            {'바나나': 1, '사과': 2, '원숭이': 0, '코끼리': 3})"
            ]
          },
          "metadata": {
            "tags": []
          },
          "execution_count": 7
        }
      ]
    },
    {
      "cell_type": "code",
      "metadata": {
        "id": "Q0Q3EOw61vEY",
        "colab_type": "code",
        "colab": {
          "base_uri": "https://localhost:8080/",
          "height": 35
        },
        "outputId": "bf302a33-aa9a-4916-96d8-ef72f1b17fd6"
      },
      "source": [
        "# 고유단어갯수 : 4개\n",
        "n_unique_words = len(word2id_dic)\n",
        "n_unique_words "
      ],
      "execution_count": null,
      "outputs": [
        {
          "output_type": "execute_result",
          "data": {
            "text/plain": [
              "4"
            ]
          },
          "metadata": {
            "tags": []
          },
          "execution_count": 9
        }
      ]
    },
    {
      "cell_type": "code",
      "metadata": {
        "id": "mbEZE5Ph2Iu2",
        "colab_type": "code",
        "colab": {
          "base_uri": "https://localhost:8080/",
          "height": 88
        },
        "outputId": "1903d49f-ea34-4cf4-d541-0156c5909622"
      },
      "source": [
        "# 원핫 벡터를 만들기 위해 비어있는 벡터 생성\n",
        "one_hot_vectors = np.zeros((len(word_ls), n_unique_words))\n",
        "one_hot_vectors"
      ],
      "execution_count": null,
      "outputs": [
        {
          "output_type": "execute_result",
          "data": {
            "text/plain": [
              "array([[0., 0., 0., 0.],\n",
              "       [0., 0., 0., 0.],\n",
              "       [0., 0., 0., 0.],\n",
              "       [0., 0., 0., 0.]])"
            ]
          },
          "metadata": {
            "tags": []
          },
          "execution_count": 10
        }
      ]
    },
    {
      "cell_type": "code",
      "metadata": {
        "id": "J1RFtcYT2c9Z",
        "colab_type": "code",
        "colab": {
          "base_uri": "https://localhost:8080/",
          "height": 88
        },
        "outputId": "f4dda72e-0271-4341-8f67-3e5694055edc"
      },
      "source": [
        "# 단어고유 인덱스\n",
        "for i, word in enumerate(word_ls):\n",
        "  index = word2id_dic[word]\n",
        "  one_hot_vectors[i, index] += 1\n",
        "one_hot_vectors"
      ],
      "execution_count": null,
      "outputs": [
        {
          "output_type": "execute_result",
          "data": {
            "text/plain": [
              "array([[1., 0., 0., 0.],\n",
              "       [0., 1., 0., 0.],\n",
              "       [0., 0., 1., 0.],\n",
              "       [0., 0., 0., 1.]])"
            ]
          },
          "metadata": {
            "tags": []
          },
          "execution_count": 11
        }
      ]
    },
    {
      "cell_type": "markdown",
      "metadata": {
        "id": "YolGRLIj5qLP",
        "colab_type": "text"
      },
      "source": [
        "## Sklearn을 활용한 one-hot encoding"
      ]
    },
    {
      "cell_type": "code",
      "metadata": {
        "id": "orIgt4eC2skn",
        "colab_type": "code",
        "colab": {}
      },
      "source": [
        "from numpy import array\n",
        "from numpy import argmax\n",
        "from sklearn.preprocessing import LabelEncoder\n",
        "from sklearn.preprocessing import OneHotEncoder"
      ],
      "execution_count": null,
      "outputs": []
    },
    {
      "cell_type": "code",
      "metadata": {
        "id": "_q6tLagg6Vo_",
        "colab_type": "code",
        "colab": {
          "base_uri": "https://localhost:8080/",
          "height": 35
        },
        "outputId": "399db831-1340-4fbd-c065-fdf7fab1f91b"
      },
      "source": [
        "# 예제 데이터 배열\n",
        "values = array(word_ls)\n",
        "values"
      ],
      "execution_count": null,
      "outputs": [
        {
          "output_type": "execute_result",
          "data": {
            "text/plain": [
              "array(['원숭이', '바나나', '사과', '코끼리'], dtype='<U3')"
            ]
          },
          "metadata": {
            "tags": []
          },
          "execution_count": 13
        }
      ]
    },
    {
      "cell_type": "code",
      "metadata": {
        "id": "5Ltq4AxE6fdq",
        "colab_type": "code",
        "colab": {
          "base_uri": "https://localhost:8080/",
          "height": 35
        },
        "outputId": "9eee851d-3a4b-41e8-e24c-02c4789f97aa"
      },
      "source": [
        "# 문자열에 숫자 할당\n",
        "label_enc = LabelEncoder()      # 선언\n",
        "int_enc = label_enc.fit_transform(values)\n",
        "int_enc"
      ],
      "execution_count": null,
      "outputs": [
        {
          "output_type": "execute_result",
          "data": {
            "text/plain": [
              "array([2, 0, 1, 3])"
            ]
          },
          "metadata": {
            "tags": []
          },
          "execution_count": 16
        }
      ]
    },
    {
      "cell_type": "code",
      "metadata": {
        "id": "5i285If06-_i",
        "colab_type": "code",
        "colab": {
          "base_uri": "https://localhost:8080/",
          "height": 159
        },
        "outputId": "63d7b745-6454-472c-c98e-4acc760f2a9e"
      },
      "source": [
        "#binary encode\n",
        "onehot_enc = OneHotEncoder(sparse=False)    # 선언. True: 행렬 / False: 배열\n",
        "int_enc = int_enc.reshape(len(int_enc),1)   # 가로에서 세로로 변경\n",
        "print(int_enc)\n",
        "onehot_enc = onehot_enc.fit_transform(int_enc)\n",
        "print(onehot_enc)"
      ],
      "execution_count": null,
      "outputs": [
        {
          "output_type": "stream",
          "text": [
            "[[2]\n",
            " [0]\n",
            " [1]\n",
            " [3]]\n",
            "[[0. 0. 1. 0.]\n",
            " [1. 0. 0. 0.]\n",
            " [0. 1. 0. 0.]\n",
            " [0. 0. 0. 1.]]\n"
          ],
          "name": "stdout"
        }
      ]
    },
    {
      "cell_type": "code",
      "metadata": {
        "id": "4odap6WYCPPG",
        "colab_type": "code",
        "colab": {}
      },
      "source": [
        ""
      ],
      "execution_count": null,
      "outputs": []
    }
  ]
}