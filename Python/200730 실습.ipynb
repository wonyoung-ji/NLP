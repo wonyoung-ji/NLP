{
 "cells": [
  {
   "cell_type": "code",
   "execution_count": 1,
   "metadata": {},
   "outputs": [
    {
     "name": "stdout",
     "output_type": "stream",
     "text": [
      "current item: a, Type: <class 'str'>\n",
      "current item: b, Type: <class 'str'>\n",
      "current item: n, Type: <class 'str'>\n",
      "current item: x, Type: <class 'str'>\n",
      "current item: 1, Type: <class 'int'>\n",
      "current item: 2, Type: <class 'int'>\n",
      "current item: 3, Type: <class 'int'>\n",
      "current item: a, Type: <class 'str'>\n",
      "current item: 33.3, Type: <class 'float'>\n",
      "current item: n, Type: <class 'str'>\n",
      "current item: b, Type: <class 'str'>\n"
     ]
    }
   ],
   "source": [
    "my_list=['a','b','n','x',1,2,3,'a',33.3,'n','b']\n",
    "number_list=[]\n",
    "string_list=[]\n",
    "for item in my_list:\n",
    "    print(f'current item: {item}, Type: {type(item)}')\n",
    "    if not isinstance(item,str):\n",
    "        number_list.append(item)\n",
    "    else:\n",
    "        string_list.append(item)\n",
    "my_list=string_list"
   ]
  },
  {
   "cell_type": "code",
   "execution_count": 2,
   "metadata": {},
   "outputs": [
    {
     "data": {
      "text/plain": [
       "['a', 'b', 'n', 'x', 'a', 'n', 'b']"
      ]
     },
     "execution_count": 2,
     "metadata": {},
     "output_type": "execute_result"
    }
   ],
   "source": [
    "my_list=[a for a in my_list if isinstance(a,str)] #isinstanc(a,b): a와 b를 비교.\n",
    "my_list"
   ]
  },
  {
   "cell_type": "code",
   "execution_count": 3,
   "metadata": {},
   "outputs": [
    {
     "data": {
      "text/plain": [
       "False"
      ]
     },
     "execution_count": 3,
     "metadata": {},
     "output_type": "execute_result"
    }
   ],
   "source": [
    "isinstance('a',int)"
   ]
  },
  {
   "cell_type": "code",
   "execution_count": 10,
   "metadata": {},
   "outputs": [
    {
     "name": "stdout",
     "output_type": "stream",
     "text": [
      "[3, 2, 10, 'AA', 3, 6, 'BB', 'BB', 'CC', 'wonyoung']\n",
      "----------------------------------------\n",
      "BB\n",
      "----------------------------------------\n",
      "AA\n"
     ]
    }
   ],
   "source": [
    "val=[3,2,10,'AA',3,6,'BB','BB','CC',9]\n",
    "val[-1]='wonyoung'\n",
    "print(val)\n",
    "\n",
    "print('-'*40)\n",
    "\n",
    "print(val[-4])\n",
    "print('-'*40)\n",
    "\n",
    "str_list=[]   #val의 첫번째 문자열 가져오기 1\n",
    "for item in val:\n",
    "    if isinstance(item,str):\n",
    "        str_list.append(item)\n",
    "print(str_list[0])"
   ]
  },
  {
   "cell_type": "code",
   "execution_count": 11,
   "metadata": {},
   "outputs": [
    {
     "name": "stdout",
     "output_type": "stream",
     "text": [
      "AA\n"
     ]
    }
   ],
   "source": [
    "str_list=[a for a in val if isinstance(a,str)] #val의 첫번째 문자열 가져오기 2\n",
    "print(str_list[0])"
   ]
  },
  {
   "cell_type": "code",
   "execution_count": 12,
   "metadata": {},
   "outputs": [
    {
     "name": "stdout",
     "output_type": "stream",
     "text": [
      "AA\n"
     ]
    }
   ],
   "source": [
    "for i in range(len(val)):   ##val의 첫번째 문자열 가져오기 3\n",
    "    if type(val[i]) == str:\n",
    "        alpha_index=i\n",
    "        break\n",
    "print(val[alpha_index])\n",
    "        "
   ]
  },
  {
   "cell_type": "code",
   "execution_count": 32,
   "metadata": {},
   "outputs": [
    {
     "name": "stdout",
     "output_type": "stream",
     "text": [
      "10\n"
     ]
    }
   ],
   "source": [
    "a=[7,2,1,8,9,10]      #가장 큰 수 찾기\n",
    "maxValue=a[0]\n",
    "for i in range(1,len(a)):\n",
    "    if maxValue < a[i]:\n",
    "        maxValue=a[i]\n",
    "print(maxValue)"
   ]
  },
  {
   "cell_type": "code",
   "execution_count": 42,
   "metadata": {},
   "outputs": [
    {
     "name": "stdout",
     "output_type": "stream",
     "text": [
      "AA\n",
      "AA\n"
     ]
    }
   ],
   "source": [
    "val=[3,2,10,'AA',3,6,'BB','BB','CC',9]\n",
    "str_list=[]\n",
    "for a in val:\n",
    "    if isinstance(a,str):\n",
    "        str_list.append(a)\n",
    "print(str_list[0])\n",
    "\n",
    "str_list2=[a for a in val if isinstance(a,str)]\n",
    "print(str_list2[0])"
   ]
  },
  {
   "cell_type": "code",
   "execution_count": 40,
   "metadata": {},
   "outputs": [
    {
     "name": "stdout",
     "output_type": "stream",
     "text": [
      "AA\n"
     ]
    }
   ],
   "source": [
    "val=[3,2,10,'AA',3,6,'BB','BB','CC',9]\n",
    "\n",
    "for i in range(len(val)):\n",
    "    if type(val[i])==str:\n",
    "        print(val[i])\n",
    "        break       \n"
   ]
  },
  {
   "cell_type": "code",
   "execution_count": 44,
   "metadata": {},
   "outputs": [
    {
     "name": "stdout",
     "output_type": "stream",
     "text": [
      "234\n"
     ]
    }
   ],
   "source": [
    "a=[7,2,234,1,8,9,10] \n",
    "maxa=a[0]\n",
    "for i in range(len(a)):\n",
    "    if maxa<a[i]:\n",
    "        maxa=a[i]\n",
    "print(maxa)\n",
    "        "
   ]
  },
  {
   "cell_type": "code",
   "execution_count": 58,
   "metadata": {},
   "outputs": [
    {
     "name": "stdout",
     "output_type": "stream",
     "text": [
      "섭씨온도를 입력하시오: 22.4\n",
      "화씨온도 72.32\n"
     ]
    }
   ],
   "source": [
    "C=input('섭씨온도를 입력하시오: ')\n",
    "F=((9/5)*float(C))+32  #int(C)로 할 경우 정수만 가능. 32.4와 같은 숫자는 오류로 처리됨\n",
    "print(\"화씨온도\",F)"
   ]
  },
  {
   "cell_type": "code",
   "execution_count": null,
   "metadata": {},
   "outputs": [],
   "source": []
  }
 ],
 "metadata": {
  "kernelspec": {
   "display_name": "Python 3",
   "language": "python",
   "name": "python3"
  },
  "language_info": {
   "codemirror_mode": {
    "name": "ipython",
    "version": 3
   },
   "file_extension": ".py",
   "mimetype": "text/x-python",
   "name": "python",
   "nbconvert_exporter": "python",
   "pygments_lexer": "ipython3",
   "version": "3.8.3"
  }
 },
 "nbformat": 4,
 "nbformat_minor": 4
}
