{
 "cells": [
  {
   "cell_type": "code",
   "execution_count": 1,
   "metadata": {},
   "outputs": [],
   "source": [
    "temp=2"
   ]
  },
  {
   "cell_type": "code",
   "execution_count": 2,
   "metadata": {},
   "outputs": [
    {
     "name": "stdout",
     "output_type": "stream",
     "text": [
      "2\n"
     ]
    }
   ],
   "source": [
    "print(temp)"
   ]
  },
  {
   "cell_type": "code",
   "execution_count": 3,
   "metadata": {},
   "outputs": [
    {
     "data": {
      "text/plain": [
       "2"
      ]
     },
     "execution_count": 3,
     "metadata": {},
     "output_type": "execute_result"
    }
   ],
   "source": [
    "temp"
   ]
  },
  {
   "cell_type": "code",
   "execution_count": 4,
   "metadata": {},
   "outputs": [
    {
     "ename": "NameError",
     "evalue": "name 'tempa' is not defined",
     "output_type": "error",
     "traceback": [
      "\u001b[1;31m---------------------------------------------------------------------------\u001b[0m",
      "\u001b[1;31mNameError\u001b[0m                                 Traceback (most recent call last)",
      "\u001b[1;32m<ipython-input-4-e4a04d835d6c>\u001b[0m in \u001b[0;36m<module>\u001b[1;34m\u001b[0m\n\u001b[1;32m----> 1\u001b[1;33m \u001b[0mtempa\u001b[0m\u001b[1;33m\u001b[0m\u001b[1;33m\u001b[0m\u001b[0m\n\u001b[0m",
      "\u001b[1;31mNameError\u001b[0m: name 'tempa' is not defined"
     ]
    }
   ],
   "source": [
    "tempa"
   ]
  },
  {
   "cell_type": "code",
   "execution_count": null,
   "metadata": {},
   "outputs": [],
   "source": [
    "a=7\n",
    "b=3\n",
    "print(a+b)\n",
    "print(a-b)\n",
    "print(a*b)\n",
    "print(a/b)"
   ]
  },
  {
   "cell_type": "code",
   "execution_count": null,
   "metadata": {},
   "outputs": [],
   "source": [
    "type(a)"
   ]
  },
  {
   "cell_type": "code",
   "execution_count": null,
   "metadata": {},
   "outputs": [],
   "source": [
    "type(2.0)"
   ]
  },
  {
   "cell_type": "code",
   "execution_count": null,
   "metadata": {},
   "outputs": [],
   "source": [
    "a=7 ; b=3\n",
    "a//b #몫구하기"
   ]
  },
  {
   "cell_type": "code",
   "execution_count": null,
   "metadata": {},
   "outputs": [],
   "source": [
    "a%b #나머지구하기"
   ]
  },
  {
   "cell_type": "code",
   "execution_count": null,
   "metadata": {},
   "outputs": [],
   "source": [
    "print(a**b)"
   ]
  },
  {
   "cell_type": "code",
   "execution_count": null,
   "metadata": {},
   "outputs": [],
   "source": [
    "7*7*7"
   ]
  },
  {
   "cell_type": "code",
   "execution_count": null,
   "metadata": {},
   "outputs": [],
   "source": [
    "print('python is easy')"
   ]
  },
  {
   "cell_type": "code",
   "execution_count": null,
   "metadata": {},
   "outputs": [],
   "source": [
    "temp='python is easy'\n",
    "print(temp)\n",
    "temp\n"
   ]
  },
  {
   "cell_type": "code",
   "execution_count": null,
   "metadata": {},
   "outputs": [],
   "source": [
    "tempa=\"1\"\n",
    "print(tempa)\n",
    "tempa"
   ]
  },
  {
   "cell_type": "code",
   "execution_count": null,
   "metadata": {},
   "outputs": [],
   "source": [
    "a=7"
   ]
  },
  {
   "cell_type": "code",
   "execution_count": null,
   "metadata": {},
   "outputs": [],
   "source": [
    "b='7'"
   ]
  },
  {
   "cell_type": "code",
   "execution_count": null,
   "metadata": {},
   "outputs": [],
   "source": [
    "len(temp)"
   ]
  },
  {
   "cell_type": "code",
   "execution_count": null,
   "metadata": {},
   "outputs": [],
   "source": [
    "'python' + 'is easy'"
   ]
  },
  {
   "cell_type": "code",
   "execution_count": null,
   "metadata": {},
   "outputs": [],
   "source": [
    "'python ' + 'is easy'"
   ]
  },
  {
   "cell_type": "code",
   "execution_count": null,
   "metadata": {},
   "outputs": [],
   "source": [
    "a='python '\n",
    "b='is easy'\n",
    "a+b"
   ]
  },
  {
   "cell_type": "code",
   "execution_count": null,
   "metadata": {},
   "outputs": [],
   "source": [
    "type(a+b)"
   ]
  },
  {
   "cell_type": "code",
   "execution_count": null,
   "metadata": {},
   "outputs": [],
   "source": [
    "print(temp)"
   ]
  },
  {
   "cell_type": "code",
   "execution_count": null,
   "metadata": {},
   "outputs": [],
   "source": [
    "temp[3]"
   ]
  },
  {
   "cell_type": "code",
   "execution_count": null,
   "metadata": {},
   "outputs": [],
   "source": [
    "temp[0:5]"
   ]
  },
  {
   "cell_type": "code",
   "execution_count": null,
   "metadata": {},
   "outputs": [],
   "source": [
    "temp[7:9]"
   ]
  },
  {
   "cell_type": "code",
   "execution_count": null,
   "metadata": {},
   "outputs": [],
   "source": [
    "temp[3:]"
   ]
  },
  {
   "cell_type": "code",
   "execution_count": null,
   "metadata": {},
   "outputs": [],
   "source": [
    "a\n",
    "b\n",
    "#print없이 여러개를 출력X. 맨 마지막 것만 출력됨."
   ]
  },
  {
   "cell_type": "code",
   "execution_count": null,
   "metadata": {},
   "outputs": [],
   "source": [
    "i=2000\n",
    "if i%100 == 0:\n",
    "    print(\"yes\")\n",
    "else:\n",
    "    print(\"no\")"
   ]
  },
  {
   "cell_type": "code",
   "execution_count": null,
   "metadata": {},
   "outputs": [],
   "source": [
    "temp.split() #shift + tab"
   ]
  },
  {
   "cell_type": "code",
   "execution_count": null,
   "metadata": {},
   "outputs": [],
   "source": [
    "temp.split('s')"
   ]
  },
  {
   "cell_type": "code",
   "execution_count": null,
   "metadata": {},
   "outputs": [],
   "source": [
    "temp2='python, java, R, SAS'\n",
    "temp2.split(',')"
   ]
  },
  {
   "cell_type": "code",
   "execution_count": null,
   "metadata": {},
   "outputs": [],
   "source": [
    "temp2"
   ]
  },
  {
   "cell_type": "code",
   "execution_count": null,
   "metadata": {},
   "outputs": [],
   "source": [
    "temp3=temp2.split(',')\n",
    "print(temp3)"
   ]
  },
  {
   "cell_type": "code",
   "execution_count": null,
   "metadata": {},
   "outputs": [],
   "source": [
    "temp4=','.join(temp3)\n",
    "print(temp4)"
   ]
  },
  {
   "cell_type": "code",
   "execution_count": null,
   "metadata": {},
   "outputs": [],
   "source": [
    "print(temp3)\n",
    "print(temp4)\n",
    "print(\"temp3 =\", len(temp3))\n",
    "print(\"temp4 =\", len(temp4))"
   ]
  },
  {
   "cell_type": "code",
   "execution_count": null,
   "metadata": {},
   "outputs": [],
   "source": [
    "number=[1,2,3]\n",
    "print(number)\n",
    "print(number[0])"
   ]
  },
  {
   "cell_type": "code",
   "execution_count": null,
   "metadata": {},
   "outputs": [],
   "source": [
    "number=['one','two','three','four']\n",
    "print(number)        "
   ]
  },
  {
   "cell_type": "code",
   "execution_count": null,
   "metadata": {},
   "outputs": [],
   "source": [
    "number_tuple=('one','two','three','four')\n",
    "print(number_tuple)"
   ]
  },
  {
   "cell_type": "code",
   "execution_count": null,
   "metadata": {},
   "outputs": [],
   "source": [
    "','.join(number_tuple)"
   ]
  },
  {
   "cell_type": "code",
   "execution_count": null,
   "metadata": {},
   "outputs": [],
   "source": [
    "print(number)\n",
    "print(number_tuple)"
   ]
  },
  {
   "cell_type": "code",
   "execution_count": null,
   "metadata": {},
   "outputs": [],
   "source": [
    "print(number[1])\n",
    "number[2:4]"
   ]
  },
  {
   "cell_type": "code",
   "execution_count": null,
   "metadata": {},
   "outputs": [],
   "source": [
    "print(number_tuple[1])\n",
    "number_tuple[2:4]"
   ]
  },
  {
   "cell_type": "code",
   "execution_count": null,
   "metadata": {},
   "outputs": [],
   "source": [
    "number[::2]"
   ]
  },
  {
   "cell_type": "code",
   "execution_count": null,
   "metadata": {},
   "outputs": [],
   "source": [
    "number=['one','two','three','four']\n",
    "number[0]=\"first\"\n",
    "print(number)"
   ]
  },
  {
   "cell_type": "code",
   "execution_count": null,
   "metadata": {},
   "outputs": [],
   "source": [
    "number[3]=\"4\"\n",
    "print(number)"
   ]
  },
  {
   "cell_type": "code",
   "execution_count": null,
   "metadata": {},
   "outputs": [],
   "source": [
    "number=['one','two','three','four']\n",
    "number.append('five')\n",
    "print(number)"
   ]
  },
  {
   "cell_type": "code",
   "execution_count": null,
   "metadata": {},
   "outputs": [],
   "source": [
    "del number[1]\n",
    "print(number)"
   ]
  },
  {
   "cell_type": "code",
   "execution_count": null,
   "metadata": {},
   "outputs": [],
   "source": [
    "number.remove('three')\n",
    "print(number)"
   ]
  },
  {
   "cell_type": "code",
   "execution_count": null,
   "metadata": {},
   "outputs": [],
   "source": [
    "number1=['one','two','three','four']\n",
    "number2=['six','seven','eight','nine']\n",
    "number1.extend(number2)\n",
    "print(number1)"
   ]
  },
  {
   "cell_type": "code",
   "execution_count": null,
   "metadata": {},
   "outputs": [],
   "source": [
    "number=['one','two','three','four']\n",
    "newnumber=sorted(number)\n",
    "print(newnumber)\n",
    "print(number)"
   ]
  },
  {
   "cell_type": "markdown",
   "metadata": {},
   "source": [
    "number=['one','two','three','four']\n",
    "number.sort()"
   ]
  },
  {
   "cell_type": "code",
   "execution_count": null,
   "metadata": {},
   "outputs": [],
   "source": [
    "number=['one','two','three','four']\n",
    "number.sort()\n",
    "print(number)"
   ]
  },
  {
   "cell_type": "code",
   "execution_count": null,
   "metadata": {},
   "outputs": [],
   "source": [
    "number=[1,2,3,4]\n",
    "number.sort(reverse=True)\n",
    "print(number)"
   ]
  },
  {
   "cell_type": "code",
   "execution_count": null,
   "metadata": {},
   "outputs": [],
   "source": [
    "number=(1,2,3,4)\n",
    "print(number)\n",
    "type(number)"
   ]
  },
  {
   "cell_type": "code",
   "execution_count": null,
   "metadata": {},
   "outputs": [],
   "source": [
    "number[1]=4"
   ]
  },
  {
   "cell_type": "code",
   "execution_count": null,
   "metadata": {},
   "outputs": [],
   "source": [
    "fruit_price = {'apple':3500, 'peer':2500, 'cherry':5000}\n",
    "fruit_price['peer']"
   ]
  },
  {
   "cell_type": "code",
   "execution_count": null,
   "metadata": {},
   "outputs": [],
   "source": [
    "number_list=['one','two','three']\n",
    "tuple(number_list)"
   ]
  },
  {
   "cell_type": "code",
   "execution_count": null,
   "metadata": {},
   "outputs": [],
   "source": [
    "fruit_price=[['apple',3500],['peer',2500],['cherry',5000]]"
   ]
  },
  {
   "cell_type": "code",
   "execution_count": null,
   "metadata": {},
   "outputs": [],
   "source": [
    "fruit_price=dict(fruit_price)"
   ]
  },
  {
   "cell_type": "code",
   "execution_count": null,
   "metadata": {},
   "outputs": [],
   "source": [
    "print(fruit_price)\n",
    "print(fruit_price['apple'])\n",
    "fruit_price.keys()"
   ]
  },
  {
   "cell_type": "code",
   "execution_count": null,
   "metadata": {},
   "outputs": [],
   "source": [
    "school_class={1:['mina','jane','mark'],2:['peter','pay','parker'],3:['pay','joy','conan']}"
   ]
  },
  {
   "cell_type": "code",
   "execution_count": null,
   "metadata": {},
   "outputs": [],
   "source": [
    "school_class.keys()"
   ]
  },
  {
   "cell_type": "code",
   "execution_count": null,
   "metadata": {},
   "outputs": [],
   "source": [
    "school_class[2]"
   ]
  },
  {
   "cell_type": "code",
   "execution_count": null,
   "metadata": {},
   "outputs": [],
   "source": [
    "school_class.get(2)"
   ]
  },
  {
   "cell_type": "code",
   "execution_count": null,
   "metadata": {},
   "outputs": [],
   "source": [
    "school_class.values()"
   ]
  },
  {
   "cell_type": "code",
   "execution_count": null,
   "metadata": {},
   "outputs": [],
   "source": [
    "school_class.items()"
   ]
  },
  {
   "cell_type": "code",
   "execution_count": null,
   "metadata": {},
   "outputs": [],
   "source": [
    "print(fruit_price)"
   ]
  },
  {
   "cell_type": "code",
   "execution_count": null,
   "metadata": {},
   "outputs": [],
   "source": [
    "others={'banana':3200, 'grape':2000}\n",
    "fruit_price.update(others)\n",
    "print(fruit_price)"
   ]
  },
  {
   "cell_type": "code",
   "execution_count": null,
   "metadata": {},
   "outputs": [],
   "source": [
    "print(school_class)"
   ]
  },
  {
   "cell_type": "code",
   "execution_count": null,
   "metadata": {},
   "outputs": [],
   "source": [
    "other_class={3:['john','eric','terry']}\n",
    "school_class.update(other_class)\n",
    "print(school_class)"
   ]
  },
  {
   "cell_type": "code",
   "execution_count": null,
   "metadata": {},
   "outputs": [],
   "source": [
    "fruit_price={'apple':3500,'peer':2500,'cherry':5000}\n",
    "del fruit_price['apple']\n",
    "print(fruit_price)"
   ]
  },
  {
   "cell_type": "code",
   "execution_count": null,
   "metadata": {},
   "outputs": [],
   "source": [
    "school_class={1:['mina','jane','mark'],2:['peter','pay','parker']}\n",
    "school_class.pop(2)\n",
    "print(school_class)"
   ]
  },
  {
   "cell_type": "code",
   "execution_count": null,
   "metadata": {},
   "outputs": [],
   "source": [
    "a = 10\n",
    "b = 20 \n",
    "c = 30\n",
    "\n",
    "a == b # =는 할당연산자이므로 ==로 사용하기로 약속"
   ]
  },
  {
   "cell_type": "code",
   "execution_count": null,
   "metadata": {},
   "outputs": [],
   "source": [
    "print(a!=b)\n",
    "print(a<b)\n",
    "print(a>b)"
   ]
  },
  {
   "cell_type": "code",
   "execution_count": null,
   "metadata": {},
   "outputs": [],
   "source": [
    "a in (10,20,30)"
   ]
  },
  {
   "cell_type": "code",
   "execution_count": null,
   "metadata": {},
   "outputs": [],
   "source": [
    "a = 10\n",
    "b = 20 \n",
    "c = 30\n",
    "\n",
    "a!=b | a>b"
   ]
  },
  {
   "cell_type": "code",
   "execution_count": null,
   "metadata": {},
   "outputs": [],
   "source": [
    "python=0\n",
    "if(python):\n",
    "    print(\"조건문이 참입니다\")\n",
    "else:\n",
    "    print(\"조건문이 참이 아닙니다\")"
   ]
  },
  {
   "cell_type": "code",
   "execution_count": null,
   "metadata": {},
   "outputs": [],
   "source": [
    "python=False\n",
    "pycharm=True\n",
    "if python:\n",
    "    print(\"1st True\")\n",
    "elif pycharm:\n",
    "    print(\"1st False, 2nd True\")\n",
    "else:\n",
    "    print(\"1st False, 2nd False\")"
   ]
  },
  {
   "cell_type": "code",
   "execution_count": null,
   "metadata": {},
   "outputs": [],
   "source": [
    "python=0\n",
    "pycharm=0\n",
    "if python:\n",
    "    print(\"1st True\")\n",
    "elif pycharm:\n",
    "    print(\"1st False, 2nd True\")\n",
    "else:\n",
    "    print(\"1st False, 2nd False\")"
   ]
  },
  {
   "cell_type": "code",
   "execution_count": 9,
   "metadata": {},
   "outputs": [
    {
     "name": "stdout",
     "output_type": "stream",
     "text": [
      "숫자를 입력하세요? 34\n"
     ]
    },
    {
     "data": {
      "text/plain": [
       "34"
      ]
     },
     "execution_count": 9,
     "metadata": {},
     "output_type": "execute_result"
    }
   ],
   "source": [
    "int(input(\"숫자를 입력하세요? \"))"
   ]
  },
  {
   "cell_type": "code",
   "execution_count": 15,
   "metadata": {},
   "outputs": [
    {
     "name": "stdout",
     "output_type": "stream",
     "text": [
      "숫자를 입력하세요 34\n",
      "숫자는  34\n",
      "짝수@@\n"
     ]
    }
   ],
   "source": [
    "x=int(input(\"숫자를 입력하세요 \"))\n",
    "print(\"숫자는 \",x)\n",
    "if x%2==0:\n",
    "    print(\"짝수@@\")\n",
    "else:\n",
    "    print(\"홀수!!\")"
   ]
  },
  {
   "cell_type": "code",
   "execution_count": 38,
   "metadata": {},
   "outputs": [
    {
     "name": "stdout",
     "output_type": "stream",
     "text": [
      "점수: 55\n",
      "점수: 55 등급: D\n"
     ]
    }
   ],
   "source": [
    "score=int(input(\"점수: \"))\n",
    "if 80<score<=100:\n",
    "    degree=\"A\"\n",
    "elif 70<score<=80:\n",
    "    degree= \"B\"\n",
    "elif 60<score<=70:\n",
    "    degree= \"C\"\n",
    "else:\n",
    "    degree=\"D\"\n",
    "    \n",
    "print(\"점수:\",score,\"등급:\",degree)"
   ]
  },
  {
   "cell_type": "code",
   "execution_count": 47,
   "metadata": {},
   "outputs": [
    {
     "name": "stdout",
     "output_type": "stream",
     "text": [
      "1\n",
      "2\n",
      "3\n",
      "4\n",
      "5\n",
      "6\n",
      "7\n",
      "8\n",
      "9\n"
     ]
    }
   ],
   "source": [
    "for i in range(1,10):\n",
    "    print(i)\n"
   ]
  },
  {
   "cell_type": "code",
   "execution_count": 49,
   "metadata": {},
   "outputs": [
    {
     "data": {
      "text/plain": [
       "[1, 2, 3, 4, 5, 6, 7, 8, 9]"
      ]
     },
     "execution_count": 49,
     "metadata": {},
     "output_type": "execute_result"
    }
   ],
   "source": [
    "list(range(1,10))"
   ]
  },
  {
   "cell_type": "code",
   "execution_count": 52,
   "metadata": {},
   "outputs": [
    {
     "data": {
      "text/plain": [
       "list"
      ]
     },
     "execution_count": 52,
     "metadata": {},
     "output_type": "execute_result"
    }
   ],
   "source": [
    "#리스트 for 문\n",
    "fruit = ['apple','peer','cherry']\n",
    "type(fruit)\n"
   ]
  },
  {
   "cell_type": "code",
   "execution_count": 53,
   "metadata": {},
   "outputs": [
    {
     "name": "stdout",
     "output_type": "stream",
     "text": [
      "apple\n",
      "peer\n",
      "cherry\n"
     ]
    }
   ],
   "source": [
    "for i in fruit:\n",
    "    print(i)"
   ]
  },
  {
   "cell_type": "code",
   "execution_count": 65,
   "metadata": {},
   "outputs": [
    {
     "name": "stdout",
     "output_type": "stream",
     "text": [
      "dict_items([('apple', 3500), ('peer', 2500), ('cherry', 5000)])\n",
      "\n",
      "apple\n",
      "peer\n",
      "cherry\n",
      "\n",
      "3500\n",
      "2500\n",
      "5000\n",
      "\n",
      "('apple', 3500)\n",
      "('peer', 2500)\n",
      "('cherry', 5000)\n"
     ]
    }
   ],
   "source": [
    "fruit_price={'apple':3500, 'peer':2500, 'cherry':5000} ##튜플로 구성된 리스트 형태\n",
    "print(fruit_price.items())\n",
    "print()\n",
    "\n",
    "for i in fruit_price.keys():\n",
    "    print(i)\n",
    "print()\n",
    "\n",
    "for x in fruit_price.values():\n",
    "    print(x)\n",
    "print()\n",
    "\n",
    "for p in fruit_price.items():\n",
    "    print(p) ## 튜플 형태임."
   ]
  },
  {
   "cell_type": "code",
   "execution_count": 59,
   "metadata": {},
   "outputs": [
    {
     "name": "stdout",
     "output_type": "stream",
     "text": [
      "apple 3500\n",
      "peer 2500\n",
      "cherry 5000\n"
     ]
    }
   ],
   "source": [
    "fruit_price={'apple':3500, 'peer':2500, 'cherry':5000}\n",
    "for p in fruit_price.items():\n",
    "    print(p[0],p[1]) ##튜플이 아닌 형태로 가져오는 방법"
   ]
  },
  {
   "cell_type": "code",
   "execution_count": 78,
   "metadata": {},
   "outputs": [
    {
     "name": "stdout",
     "output_type": "stream",
     "text": [
      "item= apple a1 a2\n",
      "******************************\n",
      "item= peer b1 b2\n",
      "******************************\n",
      "item= cherry c1 c2\n",
      "******************************\n"
     ]
    }
   ],
   "source": [
    "fruit_price={'apple':[\"a1\",\"a2\"], 'peer':[\"b1\",\"b2\"], 'cherry':[\"c1\",\"c2\"]}\n",
    "for i in fruit_price.items():\n",
    "    print(\"item=\",i[0],i[1][0],i[1][1])\n",
    "    print('*'*30)"
   ]
  },
  {
   "cell_type": "code",
   "execution_count": 84,
   "metadata": {},
   "outputs": [
    {
     "name": "stdout",
     "output_type": "stream",
     "text": [
      "['apple', 'cherry']\n",
      "['peer', 'grape']\n"
     ]
    }
   ],
   "source": [
    "fruit_price={'apple':3500, 'peer':2500, 'cherry':5000, 'grape':2000}\n",
    "more_3000=[]\n",
    "less_3000=[]\n",
    "for i in fruit_price.items():\n",
    "    if i[1]>=3000:\n",
    "        more_3000.append(i[0])\n",
    "    else:\n",
    "        less_3000.append(i[0])\n",
    "print(more_3000)\n",
    "print(less_3000)"
   ]
  },
  {
   "cell_type": "code",
   "execution_count": 88,
   "metadata": {},
   "outputs": [
    {
     "name": "stdout",
     "output_type": "stream",
     "text": [
      "['apple', 'cherry']\n",
      "['peer', 'grape']\n"
     ]
    }
   ],
   "source": [
    "fruit_price={'apple':3500, 'peer':2500, 'cherry':5000, 'grape':2000}\n",
    "high_price=[]\n",
    "low_price=[]\n",
    "for i in fruit_price.items():\n",
    "    if i[1]>=3000:\n",
    "        high_price.append(i[0])\n",
    "        \n",
    "    else:\n",
    "        low_price.append(i[0])\n",
    "        \n",
    "print(high_price)\n",
    "print(low_price)"
   ]
  },
  {
   "cell_type": "code",
   "execution_count": 103,
   "metadata": {},
   "outputs": [
    {
     "name": "stdout",
     "output_type": "stream",
     "text": [
      "순서: 1\n",
      "과일명: apple\n",
      "가격: 3500\n",
      "****************************************\n",
      "순서: 2\n",
      "과일명: peer\n",
      "가격: 2500\n",
      "****************************************\n",
      "순서: 3\n",
      "과일명: cherry\n",
      "가격: 5000\n",
      "****************************************\n"
     ]
    }
   ],
   "source": [
    "fruit_price={'apple':3500, 'peer':2500, 'cherry':5000}\n",
    "high_price=[]\n",
    "low_price=[]\n",
    "\n",
    "for 순서,과일명 in enumerate(fruit_price.items()):\n",
    "    print(\"순서:\",순서+1)\n",
    "    print(\"과일명:\",과일명[0])\n",
    "    print(\"가격:\", 과일명[1])\n",
    "    print(\"*\"*40)\n",
    "    "
   ]
  },
  {
   "cell_type": "code",
   "execution_count": 113,
   "metadata": {},
   "outputs": [
    {
     "name": "stdout",
     "output_type": "stream",
     "text": [
      "순번: 1       항목: ('apple', 3500)\n",
      "과일: apple   가격: 3500\n",
      "******************************\n",
      "순번: 2       항목: ('peer', 2500)\n",
      "과일: peer   가격: 2500\n",
      "******************************\n",
      "순번: 3       항목: ('cherry', 5000)\n",
      "과일: cherry   가격: 5000\n",
      "******************************\n"
     ]
    }
   ],
   "source": [
    "fruit_price={'apple':3500, 'peer':2500, 'cherry':5000}\n",
    "high_price=[]\n",
    "low_price=[]\n",
    "\n",
    "for i, item in enumerate(fruit_price.items()):\n",
    "    print(\"순번:\",i+1,\"      항목:\",item)\n",
    "    print(\"과일:\",item[0],\"  가격:\",item[1])\n",
    "    print(\"*\"*30)"
   ]
  },
  {
   "cell_type": "code",
   "execution_count": 118,
   "metadata": {},
   "outputs": [
    {
     "name": "stdout",
     "output_type": "stream",
     "text": [
      "점수=  50  등급=  D\n",
      "점수=  85  등급=  A\n",
      "점수=  97  등급=  A\n",
      "점수=  30  등급=  D\n",
      "점수=  88  등급=  A\n"
     ]
    }
   ],
   "source": [
    "score=[50,85,97,30,88]\n",
    "#점수와 등급을 출력하세요.\n",
    "for i in score:\n",
    "    if i>80:\n",
    "        degree=\"A\"       \n",
    "    elif 70<i<=80:\n",
    "        degree=\"B\"\n",
    "    elif 76<i<=70:\n",
    "        degree=\"C\"\n",
    "    else:\n",
    "        degree=\"D\"\n",
    "    print(\"점수= \",i,\" 등급= \",degree)\n",
    "    \n",
    "    "
   ]
  },
  {
   "cell_type": "code",
   "execution_count": 119,
   "metadata": {},
   "outputs": [],
   "source": [
    "fruit=open('C:/wonyoung/fruit.txt','wt')\n",
    "fruit_price={'apple':3500, 'peer':2500, 'cherry':5000}\n",
    "for item in fruit_price.items():\n",
    "    print(item,file=fruit)\n",
    "fruit.close()\n",
    "\n",
    "    "
   ]
  },
  {
   "cell_type": "code",
   "execution_count": 140,
   "metadata": {},
   "outputs": [],
   "source": [
    "fruit=open('C:/wonyoung/fruit2a.txt','wt')\n",
    "fruit.write('apple 3500')\n",
    "fruit.write('peer 2500')\n",
    "fruit.write('cherry 5000') ### \\n은 한 줄 띄기로 저장이 됨\n",
    "fruit.close()\n"
   ]
  },
  {
   "cell_type": "code",
   "execution_count": 163,
   "metadata": {},
   "outputs": [],
   "source": [
    "import csv\n",
    "with open('C:/wonyoung/fruit.csv','w',newline='') as fruit:\n",
    "    writer=csv.writer(fruit,delimiter=',')\n",
    "    writer.writerow(['apple'])\n",
    "    writer.writerow(['peer'])\n",
    "    writer.writerow(['cherry'])\n",
    "    writer.writerow(['banana'])\n",
    "    writer.writerow(['peach'])"
   ]
  },
  {
   "cell_type": "code",
   "execution_count": 171,
   "metadata": {},
   "outputs": [
    {
     "name": "stdout",
     "output_type": "stream",
     "text": [
      "[\"('apple', 3500)\\n\", \"('peer', 2500)\\n\", \"('cherry', 5000)\\n\"]\n"
     ]
    }
   ],
   "source": [
    "fruit_path = open('c:/wonyoung/fruit.txt','rt')\n",
    "\n",
    "fruit = fruit_path.readlines()\n",
    "print(fruit)"
   ]
  },
  {
   "cell_type": "code",
   "execution_count": 172,
   "metadata": {},
   "outputs": [
    {
     "name": "stdout",
     "output_type": "stream",
     "text": [
      "['apple']\n",
      "['peer']\n",
      "['cherry']\n",
      "['banana']\n",
      "['peach']\n",
      "fruit =  [['apple'], ['peer'], ['cherry'], ['banana'], ['peach']]\n"
     ]
    }
   ],
   "source": [
    "f=open('C:/wonyoung/fruit.csv','rt')\n",
    "csvRead = csv.reader(f)\n",
    "fruit=[]\n",
    "for i in csvRead:\n",
    "    fruit.append(i)\n",
    "    print(i)\n",
    "print(\"fruit = \", fruit)"
   ]
  },
  {
   "cell_type": "code",
   "execution_count": null,
   "metadata": {},
   "outputs": [],
   "source": []
  },
  {
   "cell_type": "code",
   "execution_count": null,
   "metadata": {},
   "outputs": [],
   "source": []
  }
 ],
 "metadata": {
  "kernelspec": {
   "display_name": "Python 3",
   "language": "python",
   "name": "python3"
  },
  "language_info": {
   "codemirror_mode": {
    "name": "ipython",
    "version": 3
   },
   "file_extension": ".py",
   "mimetype": "text/x-python",
   "name": "python",
   "nbconvert_exporter": "python",
   "pygments_lexer": "ipython3",
   "version": "3.8.3"
  }
 },
 "nbformat": 4,
 "nbformat_minor": 4
}
