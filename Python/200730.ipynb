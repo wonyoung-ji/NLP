{
 "cells": [
  {
   "cell_type": "code",
   "execution_count": 1,
   "metadata": {},
   "outputs": [
    {
     "data": {
      "text/plain": [
       "100"
      ]
     },
     "execution_count": 1,
     "metadata": {},
     "output_type": "execute_result"
    }
   ],
   "source": [
    "a=100 ; a"
   ]
  },
  {
   "cell_type": "code",
   "execution_count": 2,
   "metadata": {},
   "outputs": [
    {
     "data": {
      "text/plain": [
       "140703726781312"
      ]
     },
     "execution_count": 2,
     "metadata": {},
     "output_type": "execute_result"
    }
   ],
   "source": [
    "id(a)"
   ]
  },
  {
   "cell_type": "code",
   "execution_count": 3,
   "metadata": {},
   "outputs": [
    {
     "name": "stdout",
     "output_type": "stream",
     "text": [
      "140703726781312\n",
      "140703726781312\n"
     ]
    }
   ],
   "source": [
    "a=100\n",
    "b=a\n",
    "print(id(a))\n",
    "print(id(b))"
   ]
  },
  {
   "cell_type": "code",
   "execution_count": 4,
   "metadata": {},
   "outputs": [
    {
     "name": "stdout",
     "output_type": "stream",
     "text": [
      "200\n",
      "100\n",
      "140703726784512\n",
      "140703726781312\n"
     ]
    }
   ],
   "source": [
    "a=200\n",
    "print(a)\n",
    "print(b)\n",
    "print(id(a)) #id가 같은지 아닌지 확인해야함\n",
    "print(id(b))"
   ]
  },
  {
   "cell_type": "code",
   "execution_count": 9,
   "metadata": {},
   "outputs": [
    {
     "name": "stdout",
     "output_type": "stream",
     "text": [
      "2\n",
      "0\n"
     ]
    }
   ],
   "source": [
    "fruits=['orange','apple','pear','banana','kiwi','apple','banana']\n",
    "print(fruits.count('apple'))\n",
    "print(fruits.count('tangerine'))"
   ]
  },
  {
   "cell_type": "code",
   "execution_count": 10,
   "metadata": {},
   "outputs": [
    {
     "data": {
      "text/plain": [
       "3"
      ]
     },
     "execution_count": 10,
     "metadata": {},
     "output_type": "execute_result"
    }
   ],
   "source": [
    "fruits.index('banana') #index는 찾는 값의 가장 첫번째 값을 돌려줌"
   ]
  },
  {
   "cell_type": "code",
   "execution_count": 11,
   "metadata": {},
   "outputs": [
    {
     "data": {
      "text/plain": [
       "6"
      ]
     },
     "execution_count": 11,
     "metadata": {},
     "output_type": "execute_result"
    }
   ],
   "source": [
    "fruits.index('banana',4) #4번째 이후에 위치한 banana를 찾아줌"
   ]
  },
  {
   "cell_type": "code",
   "execution_count": 12,
   "metadata": {},
   "outputs": [
    {
     "data": {
      "text/plain": [
       "['banana', 'apple', 'kiwi', 'banana', 'pear', 'apple', 'orange']"
      ]
     },
     "execution_count": 12,
     "metadata": {},
     "output_type": "execute_result"
    }
   ],
   "source": [
    "fruits.reverse()\n",
    "fruits"
   ]
  },
  {
   "cell_type": "code",
   "execution_count": 13,
   "metadata": {},
   "outputs": [
    {
     "data": {
      "text/plain": [
       "['banana', 'apple', 'kiwi', 'banana', 'pear', 'apple', 'orange', 'grape']"
      ]
     },
     "execution_count": 13,
     "metadata": {},
     "output_type": "execute_result"
    }
   ],
   "source": [
    "fruits.append('grape')\n",
    "fruits"
   ]
  },
  {
   "cell_type": "code",
   "execution_count": 15,
   "metadata": {},
   "outputs": [
    {
     "data": {
      "text/plain": [
       "['apple', 'apple', 'banana', 'banana', 'grape', 'kiwi', 'orange', 'pear']"
      ]
     },
     "execution_count": 15,
     "metadata": {},
     "output_type": "execute_result"
    }
   ],
   "source": [
    "fruits.sort()\n",
    "fruits"
   ]
  },
  {
   "cell_type": "code",
   "execution_count": 16,
   "metadata": {},
   "outputs": [
    {
     "data": {
      "text/plain": [
       "'pear'"
      ]
     },
     "execution_count": 16,
     "metadata": {},
     "output_type": "execute_result"
    }
   ],
   "source": [
    "fruits.pop()"
   ]
  },
  {
   "cell_type": "code",
   "execution_count": 17,
   "metadata": {},
   "outputs": [
    {
     "name": "stdout",
     "output_type": "stream",
     "text": [
      "1325050995520\n",
      "1325050995520\n"
     ]
    }
   ],
   "source": [
    "a=[1,2,3]\n",
    "b=a\n",
    "print(id(a))\n",
    "print(id(b))"
   ]
  },
  {
   "cell_type": "code",
   "execution_count": 18,
   "metadata": {},
   "outputs": [
    {
     "data": {
      "text/plain": [
       "[5, 2, 3]"
      ]
     },
     "execution_count": 18,
     "metadata": {},
     "output_type": "execute_result"
    }
   ],
   "source": [
    "b[0]=5\n",
    "b"
   ]
  },
  {
   "cell_type": "code",
   "execution_count": 19,
   "metadata": {},
   "outputs": [
    {
     "data": {
      "text/plain": [
       "[5, 2, 3]"
      ]
     },
     "execution_count": 19,
     "metadata": {},
     "output_type": "execute_result"
    }
   ],
   "source": [
    "a"
   ]
  },
  {
   "cell_type": "code",
   "execution_count": 24,
   "metadata": {},
   "outputs": [
    {
     "data": {
      "text/plain": [
       "True"
      ]
     },
     "execution_count": 24,
     "metadata": {},
     "output_type": "execute_result"
    }
   ],
   "source": [
    "mylist=['a','b',2]\n",
    "all(mylist)"
   ]
  },
  {
   "cell_type": "code",
   "execution_count": 25,
   "metadata": {},
   "outputs": [
    {
     "data": {
      "text/plain": [
       "\"'My name is Stale'\""
      ]
     },
     "execution_count": 25,
     "metadata": {},
     "output_type": "execute_result"
    }
   ],
   "source": [
    "ascii('My name is Stale')"
   ]
  },
  {
   "cell_type": "code",
   "execution_count": 27,
   "metadata": {},
   "outputs": [
    {
     "data": {
      "text/plain": [
       "'0b11000'"
      ]
     },
     "execution_count": 27,
     "metadata": {},
     "output_type": "execute_result"
    }
   ],
   "source": [
    "bin(24)"
   ]
  },
  {
   "cell_type": "code",
   "execution_count": 28,
   "metadata": {},
   "outputs": [
    {
     "data": {
      "text/plain": [
       "{'name': 'John', 'age': 24, 'sex': 'm'}"
      ]
     },
     "execution_count": 28,
     "metadata": {},
     "output_type": "execute_result"
    }
   ],
   "source": [
    "x=dict(name='John',age=24,sex='m') ; x"
   ]
  },
  {
   "cell_type": "code",
   "execution_count": 30,
   "metadata": {},
   "outputs": [
    {
     "name": "stdout",
     "output_type": "stream",
     "text": [
      "['__class__', '__delattr__', '__dict__', '__dir__', '__doc__', '__eq__', '__format__', '__ge__', '__getattribute__', '__gt__', '__hash__', '__init__', '__init_subclass__', '__le__', '__lt__', '__module__', '__ne__', '__new__', '__reduce__', '__reduce_ex__', '__repr__', '__setattr__', '__sizeof__', '__str__', '__subclasshook__', '__weakref__', 'age', 'name', 'sex']\n"
     ]
    }
   ],
   "source": [
    "class Person:\n",
    "    name= 'John'\n",
    "    age=24\n",
    "    sex='m'\n",
    "\n",
    "print(dir(Person))"
   ]
  },
  {
   "cell_type": "code",
   "execution_count": 31,
   "metadata": {},
   "outputs": [
    {
     "data": {
      "text/plain": [
       "<enumerate at 0x134834bdf40>"
      ]
     },
     "execution_count": 31,
     "metadata": {},
     "output_type": "execute_result"
    }
   ],
   "source": [
    "x=('apple','banana','cherry')\n",
    "y=enumerate(x) ; y"
   ]
  },
  {
   "cell_type": "code",
   "execution_count": 32,
   "metadata": {},
   "outputs": [
    {
     "name": "stdout",
     "output_type": "stream",
     "text": [
      "55\n"
     ]
    }
   ],
   "source": [
    "x='print(55)'\n",
    "eval(x)  ##문자열 안에 있는 명령문을 실행시킴"
   ]
  },
  {
   "cell_type": "code",
   "execution_count": 35,
   "metadata": {},
   "outputs": [
    {
     "name": "stdout",
     "output_type": "stream",
     "text": [
      "18\n",
      "24\n",
      "32\n"
     ]
    }
   ],
   "source": [
    "ages = [5, 12, 17, 18, 24, 32]\n",
    "\n",
    "def myFunc(x):\n",
    "  if x < 18:\n",
    "    return False\n",
    "  else:\n",
    "    return True\n",
    "\n",
    "adults = filter(myFunc, ages)  #fiter(a,b): a(명령)을 실행시키는데, b를 대상으로\n",
    "\n",
    "for x in adults:\n",
    "  print(x)"
   ]
  },
  {
   "cell_type": "code",
   "execution_count": 36,
   "metadata": {},
   "outputs": [],
   "source": [
    "def myfunc(n):\n",
    "    return len(n)"
   ]
  },
  {
   "cell_type": "code",
   "execution_count": 38,
   "metadata": {},
   "outputs": [
    {
     "name": "stdout",
     "output_type": "stream",
     "text": [
      "5\n",
      "6\n",
      "6\n"
     ]
    }
   ],
   "source": [
    "x=map(myfunc,('apple','banana','cherry'))\n",
    "for i in x:\n",
    "    print(i)"
   ]
  },
  {
   "cell_type": "code",
   "execution_count": 42,
   "metadata": {},
   "outputs": [
    {
     "name": "stdout",
     "output_type": "stream",
     "text": [
      "[('John', 'Jennie'), ('Charles', 'Christy'), ('Mike', 'Monica')]\n"
     ]
    }
   ],
   "source": [
    "a=('John','Charles','Mike')\n",
    "b=('Jennie','Christy','Monica')\n",
    "x=zip(a,b)\n",
    "print(list(x))"
   ]
  },
  {
   "cell_type": "code",
   "execution_count": 43,
   "metadata": {},
   "outputs": [
    {
     "data": {
      "text/plain": [
       "7.25"
      ]
     },
     "execution_count": 43,
     "metadata": {},
     "output_type": "execute_result"
    }
   ],
   "source": [
    "x=abs(-7.25)\n",
    "x"
   ]
  },
  {
   "cell_type": "code",
   "execution_count": 45,
   "metadata": {},
   "outputs": [
    {
     "data": {
      "text/plain": [
       "5.830951894845301"
      ]
     },
     "execution_count": 45,
     "metadata": {},
     "output_type": "execute_result"
    }
   ],
   "source": [
    "x = abs(3+5j)\n",
    "x"
   ]
  },
  {
   "cell_type": "code",
   "execution_count": 48,
   "metadata": {},
   "outputs": [
    {
     "data": {
      "text/plain": [
       "False"
      ]
     },
     "execution_count": 48,
     "metadata": {},
     "output_type": "execute_result"
    }
   ],
   "source": [
    "mylist=[True,True,False]   #all(a)는 a안이 모두 True인지 아닌지 확인해줌\n",
    "x=all(mylist)\n",
    "x"
   ]
  },
  {
   "cell_type": "code",
   "execution_count": 51,
   "metadata": {},
   "outputs": [
    {
     "data": {
      "text/plain": [
       "False"
      ]
     },
     "execution_count": 51,
     "metadata": {},
     "output_type": "execute_result"
    }
   ],
   "source": [
    "mylist = [1>2, 1==2, False]#any(a)는 a에 True가 하나 이상 있는지 아닌지 확인해줌\n",
    "x = any(mylist) ; x"
   ]
  },
  {
   "cell_type": "code",
   "execution_count": 57,
   "metadata": {},
   "outputs": [
    {
     "name": "stdout",
     "output_type": "stream",
     "text": [
      "5\n",
      "5\n"
     ]
    }
   ],
   "source": [
    "x = ascii(2+3)\n",
    "print(5)\n",
    "print(x)"
   ]
  },
  {
   "cell_type": "code",
   "execution_count": 58,
   "metadata": {},
   "outputs": [
    {
     "data": {
      "text/plain": [
       "'0b10111'"
      ]
     },
     "execution_count": 58,
     "metadata": {},
     "output_type": "execute_result"
    }
   ],
   "source": [
    "bin(23)"
   ]
  },
  {
   "cell_type": "code",
   "execution_count": 62,
   "metadata": {},
   "outputs": [
    {
     "data": {
      "text/plain": [
       "True"
      ]
     },
     "execution_count": 62,
     "metadata": {},
     "output_type": "execute_result"
    }
   ],
   "source": [
    "bool(4)"
   ]
  },
  {
   "cell_type": "code",
   "execution_count": 63,
   "metadata": {},
   "outputs": [
    {
     "data": {
      "text/plain": [
       "b'\\x00\\x00\\x00\\x00'"
      ]
     },
     "execution_count": 63,
     "metadata": {},
     "output_type": "execute_result"
    }
   ],
   "source": [
    "bytes(4)"
   ]
  },
  {
   "cell_type": "code",
   "execution_count": 64,
   "metadata": {},
   "outputs": [
    {
     "data": {
      "text/plain": [
       "(3+6j)"
      ]
     },
     "execution_count": 64,
     "metadata": {},
     "output_type": "execute_result"
    }
   ],
   "source": [
    "complex(3,6)"
   ]
  },
  {
   "cell_type": "code",
   "execution_count": 67,
   "metadata": {},
   "outputs": [
    {
     "data": {
      "text/plain": [
       "__main__.Person"
      ]
     },
     "execution_count": 67,
     "metadata": {},
     "output_type": "execute_result"
    }
   ],
   "source": [
    "class Person:\n",
    "    name= 'John'\n",
    "    age=35\n",
    "    country='Norway'\n",
    "    \n",
    "setattr(Person,'age',4)\n",
    "Person"
   ]
  },
  {
   "cell_type": "code",
   "execution_count": 68,
   "metadata": {},
   "outputs": [
    {
     "name": "stdout",
     "output_type": "stream",
     "text": [
      "{'__name__': '__main__', '__doc__': 'Automatically created module for IPython interactive environment', '__package__': None, '__loader__': None, '__spec__': None, '__builtin__': <module 'builtins' (built-in)>, '__builtins__': <module 'builtins' (built-in)>, '_ih': ['', 'a=100 ; a', 'id(a)', 'a=100\\nb=a\\nprint(id(a))\\nprint(id(b))', 'a=200\\nprint(a)\\nprint(b)\\nprint(id(a))\\nprint(id(b))', \"get_ipython().run_line_magic('copy', '(a)')\", \"fruits=['orange','apple','pear','banana','kiwi','apple','banana']\\nfruis.count('apple')\", \"fruits=['orange','apple','pear','banana','kiwi','apple','banana']\\nfruits.count('apple')\", \"fruits=['orange','apple','pear','banana','kiwi','apple','banana']\\nprint(fruits.count('apple'))\\nprint(fruits.cout('tangerine'))\", \"fruits=['orange','apple','pear','banana','kiwi','apple','banana']\\nprint(fruits.count('apple'))\\nprint(fruits.count('tangerine'))\", \"fruits.index('banana')\", \"fruits.index('banana',4)\", 'fruits.reverse()\\nfruits', \"fruits.append('grape')\\nfruits\", 'fruits.sort()', 'fruits.sort()\\nfruits', 'fruits.pop()', 'a=[1,2,3]\\nb=a\\nprint(id(a))\\nprint(id(b))', 'b[0]=5\\nb', 'a', 'mylist=[True,True,True]\\nx=all(mylist)', 'mylist=[True,True,True]\\nx=all(mylist)', \"mylist=['a','b',2]\\nx=all(mylist)\", \"mylist=['a','b',2]\\nx=all(mylist)\", \"mylist=['a','b',2]\\nall(mylist)\", \"ascii('My name is Stale')\", 'bin(38)', 'bin(24)', \"x=dict(name='John',age=24,sex='m') ; x\", \"class Person:\\n    name= 'John'\\n    age=24\\n    sex='m'\\n\\nprint(dir(person))\", \"class Person:\\n    name= 'John'\\n    age=24\\n    sex='m'\\n\\nprint(dir(Person))\", \"x=('apple','banana','cherry')\\ny=enumerate(x) ; y\", \"x='print(55)'\\neval(x)\", 'ages = [5, 12, 17, 18, 24, 32]\\n\\ndef myFunc(x):\\n  if x < 18:\\n    return False\\n  else:\\n    return True\\n\\nadults = filter(myFunc, ages)\\n\\nfor x in adults:\\n  print(x)', 'ages = [5, 12, 17, 18, 24, 32]\\n\\ndef myFunc(x):\\n  if x < 18:\\n    return False\\n  else:\\n    return True\\n\\nadults = filter(myFunc, ages)  #fiter(a,b): a(명령)을 실행시키는데, b를 대상으로.\\n\\nprint(adults)', 'ages = [5, 12, 17, 18, 24, 32]\\n\\ndef myFunc(x):\\n  if x < 18:\\n    return False\\n  else:\\n    return True\\n\\nadults = filter(myFunc, ages)  #fiter(a,b): a(명령)을 실행시키는데, b를 대상으로\\n\\nfor x in adults:\\n  print(x)', 'def myfunc(n):\\n    return len(n)', \"x=map(myfunc,('apple','banana','cherry'))\\nx\", \"x=map(myfunc,('apple','banana','cherry'))\\nfor i in x:\\n    print(i)\", \"a=('John','Charles','Mike')\\nb=('Jennie','Christy','Monica')\\nx=zip(a,b)\", \"a=('John','Charles','Mike')\\nb=('Jennie','Christy','Monica')\\nx=zip(a,b)\\nx\", \"a=('John','Charles','Mike')\\nb=('Jennie','Christy','Monica')\\nx=zip(a,b)\\nprint(x)\", \"a=('John','Charles','Mike')\\nb=('Jennie','Christy','Monica')\\nx=zip(a,b)\\nprint(list(x))\", 'x=abs(-7.25)\\nx', 'x = abs(3+5j)', 'x = abs(3+5j)\\nx', 'mylist=[True,True,True]\\nx=all(mylist)\\nx', 'mylist = [False, True, False]\\nx = any(mylist) ; x', 'mylist=[True,True,False]   #all(a)는 a안이 모두 True인지 아닌지 확인해줌\\nx=all(mylist)\\nx', 'mylist = [1>2, True, False]#any(a)는 a에 True가 하나 이상 있는지 아닌지 확인해줌\\nx = any(mylist) ; x', 'mylist = [1>2, 1=2, False]#any(a)는 a에 True가 하나 이상 있는지 아닌지 확인해줌\\nx = any(mylist) ; x', 'mylist = [1>2, 1==2, False]#any(a)는 a에 True가 하나 이상 있는지 아닌지 확인해줌\\nx = any(mylist) ; x', 'x = ascii(\"My name is Ståle\")', 'x = ascii(\"My name is Ståle\")\\nx', 'x = ascii(55)\\nx', 'x = ascii(2+3)\\nx', 'x = ascii(2+3)\\nprint(5)\\nx', 'x = ascii(2+3)\\nprint(5)\\nprint(x)', 'bin(23)', 'bool(1)', 'bool(0)', 'bool(2)', 'bool(4)', 'bytes(4)', 'complex(3,6)', \"class Person:\\n    name= 'John'\\n    age=35\\n    country='Norway'\\n    \\nsetattr(Personm,'age',4)\", \"class Person:\\n    name= 'John'\\n    age=35\\n    country='Norway'\\n    \\nsetattr(Person,'age',4)\", \"class Person:\\n    name= 'John'\\n    age=35\\n    country='Norway'\\n    \\nsetattr(Person,'age',4)\\nPerson\", 'x=globals()\\nprint(x)'], '_oh': {1: 100, 2: 140703726781312, 7: 2, 10: 3, 11: 6, 12: ['apple', 'apple', 'banana', 'banana', 'grape', 'kiwi', 'orange'], 13: ['apple', 'apple', 'banana', 'banana', 'grape', 'kiwi', 'orange'], 15: ['apple', 'apple', 'banana', 'banana', 'grape', 'kiwi', 'orange'], 16: 'pear', 18: [5, 2, 3], 19: [5, 2, 3], 24: True, 25: \"'My name is Stale'\", 26: '0b100110', 27: '0b11000', 28: {'name': 'John', 'age': 24, 'sex': 'm'}, 31: <enumerate object at 0x00000134834BDF40>, 37: <map object at 0x000001348532A520>, 40: <zip object at 0x0000013485334400>, 43: 7.25, 45: 5.830951894845301, 46: True, 47: True, 48: False, 49: True, 51: False, 53: \"'My name is St\\\\xe5le'\", 54: '55', 55: '5', 56: '5', 58: '0b10111', 59: True, 60: False, 61: True, 62: True, 63: b'\\x00\\x00\\x00\\x00', 64: (3+6j), 67: <class '__main__.Person'>}, '_dh': ['C:\\\\Users\\\\ASIA_09\\\\00.wonyoung ji'], 'In': ['', 'a=100 ; a', 'id(a)', 'a=100\\nb=a\\nprint(id(a))\\nprint(id(b))', 'a=200\\nprint(a)\\nprint(b)\\nprint(id(a))\\nprint(id(b))', \"get_ipython().run_line_magic('copy', '(a)')\", \"fruits=['orange','apple','pear','banana','kiwi','apple','banana']\\nfruis.count('apple')\", \"fruits=['orange','apple','pear','banana','kiwi','apple','banana']\\nfruits.count('apple')\", \"fruits=['orange','apple','pear','banana','kiwi','apple','banana']\\nprint(fruits.count('apple'))\\nprint(fruits.cout('tangerine'))\", \"fruits=['orange','apple','pear','banana','kiwi','apple','banana']\\nprint(fruits.count('apple'))\\nprint(fruits.count('tangerine'))\", \"fruits.index('banana')\", \"fruits.index('banana',4)\", 'fruits.reverse()\\nfruits', \"fruits.append('grape')\\nfruits\", 'fruits.sort()', 'fruits.sort()\\nfruits', 'fruits.pop()', 'a=[1,2,3]\\nb=a\\nprint(id(a))\\nprint(id(b))', 'b[0]=5\\nb', 'a', 'mylist=[True,True,True]\\nx=all(mylist)', 'mylist=[True,True,True]\\nx=all(mylist)', \"mylist=['a','b',2]\\nx=all(mylist)\", \"mylist=['a','b',2]\\nx=all(mylist)\", \"mylist=['a','b',2]\\nall(mylist)\", \"ascii('My name is Stale')\", 'bin(38)', 'bin(24)', \"x=dict(name='John',age=24,sex='m') ; x\", \"class Person:\\n    name= 'John'\\n    age=24\\n    sex='m'\\n\\nprint(dir(person))\", \"class Person:\\n    name= 'John'\\n    age=24\\n    sex='m'\\n\\nprint(dir(Person))\", \"x=('apple','banana','cherry')\\ny=enumerate(x) ; y\", \"x='print(55)'\\neval(x)\", 'ages = [5, 12, 17, 18, 24, 32]\\n\\ndef myFunc(x):\\n  if x < 18:\\n    return False\\n  else:\\n    return True\\n\\nadults = filter(myFunc, ages)\\n\\nfor x in adults:\\n  print(x)', 'ages = [5, 12, 17, 18, 24, 32]\\n\\ndef myFunc(x):\\n  if x < 18:\\n    return False\\n  else:\\n    return True\\n\\nadults = filter(myFunc, ages)  #fiter(a,b): a(명령)을 실행시키는데, b를 대상으로.\\n\\nprint(adults)', 'ages = [5, 12, 17, 18, 24, 32]\\n\\ndef myFunc(x):\\n  if x < 18:\\n    return False\\n  else:\\n    return True\\n\\nadults = filter(myFunc, ages)  #fiter(a,b): a(명령)을 실행시키는데, b를 대상으로\\n\\nfor x in adults:\\n  print(x)', 'def myfunc(n):\\n    return len(n)', \"x=map(myfunc,('apple','banana','cherry'))\\nx\", \"x=map(myfunc,('apple','banana','cherry'))\\nfor i in x:\\n    print(i)\", \"a=('John','Charles','Mike')\\nb=('Jennie','Christy','Monica')\\nx=zip(a,b)\", \"a=('John','Charles','Mike')\\nb=('Jennie','Christy','Monica')\\nx=zip(a,b)\\nx\", \"a=('John','Charles','Mike')\\nb=('Jennie','Christy','Monica')\\nx=zip(a,b)\\nprint(x)\", \"a=('John','Charles','Mike')\\nb=('Jennie','Christy','Monica')\\nx=zip(a,b)\\nprint(list(x))\", 'x=abs(-7.25)\\nx', 'x = abs(3+5j)', 'x = abs(3+5j)\\nx', 'mylist=[True,True,True]\\nx=all(mylist)\\nx', 'mylist = [False, True, False]\\nx = any(mylist) ; x', 'mylist=[True,True,False]   #all(a)는 a안이 모두 True인지 아닌지 확인해줌\\nx=all(mylist)\\nx', 'mylist = [1>2, True, False]#any(a)는 a에 True가 하나 이상 있는지 아닌지 확인해줌\\nx = any(mylist) ; x', 'mylist = [1>2, 1=2, False]#any(a)는 a에 True가 하나 이상 있는지 아닌지 확인해줌\\nx = any(mylist) ; x', 'mylist = [1>2, 1==2, False]#any(a)는 a에 True가 하나 이상 있는지 아닌지 확인해줌\\nx = any(mylist) ; x', 'x = ascii(\"My name is Ståle\")', 'x = ascii(\"My name is Ståle\")\\nx', 'x = ascii(55)\\nx', 'x = ascii(2+3)\\nx', 'x = ascii(2+3)\\nprint(5)\\nx', 'x = ascii(2+3)\\nprint(5)\\nprint(x)', 'bin(23)', 'bool(1)', 'bool(0)', 'bool(2)', 'bool(4)', 'bytes(4)', 'complex(3,6)', \"class Person:\\n    name= 'John'\\n    age=35\\n    country='Norway'\\n    \\nsetattr(Personm,'age',4)\", \"class Person:\\n    name= 'John'\\n    age=35\\n    country='Norway'\\n    \\nsetattr(Person,'age',4)\", \"class Person:\\n    name= 'John'\\n    age=35\\n    country='Norway'\\n    \\nsetattr(Person,'age',4)\\nPerson\", 'x=globals()\\nprint(x)'], 'Out': {1: 100, 2: 140703726781312, 7: 2, 10: 3, 11: 6, 12: ['apple', 'apple', 'banana', 'banana', 'grape', 'kiwi', 'orange'], 13: ['apple', 'apple', 'banana', 'banana', 'grape', 'kiwi', 'orange'], 15: ['apple', 'apple', 'banana', 'banana', 'grape', 'kiwi', 'orange'], 16: 'pear', 18: [5, 2, 3], 19: [5, 2, 3], 24: True, 25: \"'My name is Stale'\", 26: '0b100110', 27: '0b11000', 28: {'name': 'John', 'age': 24, 'sex': 'm'}, 31: <enumerate object at 0x00000134834BDF40>, 37: <map object at 0x000001348532A520>, 40: <zip object at 0x0000013485334400>, 43: 7.25, 45: 5.830951894845301, 46: True, 47: True, 48: False, 49: True, 51: False, 53: \"'My name is St\\\\xe5le'\", 54: '55', 55: '5', 56: '5', 58: '0b10111', 59: True, 60: False, 61: True, 62: True, 63: b'\\x00\\x00\\x00\\x00', 64: (3+6j), 67: <class '__main__.Person'>}, 'get_ipython': <bound method InteractiveShell.get_ipython of <ipykernel.zmqshell.ZMQInteractiveShell object at 0x0000013483310790>>, 'exit': <IPython.core.autocall.ZMQExitAutocall object at 0x000001348338DFA0>, 'quit': <IPython.core.autocall.ZMQExitAutocall object at 0x000001348338DFA0>, '_': <class '__main__.Person'>, '__': (3+6j), '___': b'\\x00\\x00\\x00\\x00', '_i': \"class Person:\\n    name= 'John'\\n    age=35\\n    country='Norway'\\n    \\nsetattr(Person,'age',4)\\nPerson\", '_ii': \"class Person:\\n    name= 'John'\\n    age=35\\n    country='Norway'\\n    \\nsetattr(Person,'age',4)\", '_iii': \"class Person:\\n    name= 'John'\\n    age=35\\n    country='Norway'\\n    \\nsetattr(Personm,'age',4)\", '_i1': 'a=100 ; a', 'a': ('John', 'Charles', 'Mike'), '_1': 100, '_i2': 'id(a)', '_2': 140703726781312, '_i3': 'a=100\\nb=a\\nprint(id(a))\\nprint(id(b))', 'b': ('Jennie', 'Christy', 'Monica'), '_i4': 'a=200\\nprint(a)\\nprint(b)\\nprint(id(a))\\nprint(id(b))', '_i5': 'copy(a)', '_exit_code': 1, '_i6': \"fruits=['orange','apple','pear','banana','kiwi','apple','banana']\\nfruis.count('apple')\", 'fruits': ['apple', 'apple', 'banana', 'banana', 'grape', 'kiwi', 'orange'], '_i7': \"fruits=['orange','apple','pear','banana','kiwi','apple','banana']\\nfruits.count('apple')\", '_7': 2, '_i8': \"fruits=['orange','apple','pear','banana','kiwi','apple','banana']\\nprint(fruits.count('apple'))\\nprint(fruits.cout('tangerine'))\", '_i9': \"fruits=['orange','apple','pear','banana','kiwi','apple','banana']\\nprint(fruits.count('apple'))\\nprint(fruits.count('tangerine'))\", '_i10': \"fruits.index('banana')\", '_10': 3, '_i11': \"fruits.index('banana',4)\", '_11': 6, '_i12': 'fruits.reverse()\\nfruits', '_12': ['apple', 'apple', 'banana', 'banana', 'grape', 'kiwi', 'orange'], '_i13': \"fruits.append('grape')\\nfruits\", '_13': ['apple', 'apple', 'banana', 'banana', 'grape', 'kiwi', 'orange'], '_i14': 'fruits.sort()', '_i15': 'fruits.sort()\\nfruits', '_15': ['apple', 'apple', 'banana', 'banana', 'grape', 'kiwi', 'orange'], '_i16': 'fruits.pop()', '_16': 'pear', '_i17': 'a=[1,2,3]\\nb=a\\nprint(id(a))\\nprint(id(b))', '_i18': 'b[0]=5\\nb', '_18': [5, 2, 3], '_i19': 'a', '_19': [5, 2, 3], '_i20': 'mylist=[True,True,True]\\nx=all(mylist)', 'mylist': [False, False, False], 'x': {...}, '_i21': 'mylist=[True,True,True]\\nx=all(mylist)', '_i22': \"mylist=['a','b',2]\\nx=all(mylist)\", '_i23': \"mylist=['a','b',2]\\nx=all(mylist)\", '_i24': \"mylist=['a','b',2]\\nall(mylist)\", '_24': True, '_i25': \"ascii('My name is Stale')\", '_25': \"'My name is Stale'\", '_i26': 'bin(38)', '_26': '0b100110', '_i27': 'bin(24)', '_27': '0b11000', '_i28': \"x=dict(name='John',age=24,sex='m') ; x\", '_28': {'name': 'John', 'age': 24, 'sex': 'm'}, '_i29': \"class Person:\\n    name= 'John'\\n    age=24\\n    sex='m'\\n\\nprint(dir(person))\", 'Person': <class '__main__.Person'>, '_i30': \"class Person:\\n    name= 'John'\\n    age=24\\n    sex='m'\\n\\nprint(dir(Person))\", '_i31': \"x=('apple','banana','cherry')\\ny=enumerate(x) ; y\", 'y': <enumerate object at 0x00000134834BDF40>, '_31': <enumerate object at 0x00000134834BDF40>, '_i32': \"x='print(55)'\\neval(x)\", '_i33': 'ages = [5, 12, 17, 18, 24, 32]\\n\\ndef myFunc(x):\\n  if x < 18:\\n    return False\\n  else:\\n    return True\\n\\nadults = filter(myFunc, ages)\\n\\nfor x in adults:\\n  print(x)', 'ages': [5, 12, 17, 18, 24, 32], 'myFunc': <function myFunc at 0x00000134834AB3A0>, 'adults': <filter object at 0x00000134834CB100>, '_i34': 'ages = [5, 12, 17, 18, 24, 32]\\n\\ndef myFunc(x):\\n  if x < 18:\\n    return False\\n  else:\\n    return True\\n\\nadults = filter(myFunc, ages)  #fiter(a,b): a(명령)을 실행시키는데, b를 대상으로.\\n\\nprint(adults)', '_i35': 'ages = [5, 12, 17, 18, 24, 32]\\n\\ndef myFunc(x):\\n  if x < 18:\\n    return False\\n  else:\\n    return True\\n\\nadults = filter(myFunc, ages)  #fiter(a,b): a(명령)을 실행시키는데, b를 대상으로\\n\\nfor x in adults:\\n  print(x)', '_i36': 'def myfunc(n):\\n    return len(n)', 'myfunc': <function myfunc at 0x00000134852B6F70>, '_i37': \"x=map(myfunc,('apple','banana','cherry'))\\nx\", '_37': <map object at 0x000001348532A520>, '_i38': \"x=map(myfunc,('apple','banana','cherry'))\\nfor i in x:\\n    print(i)\", 'i': 6, '_i39': \"a=('John','Charles','Mike')\\nb=('Jennie','Christy','Monica')\\nx=zip(a,b)\", '_i40': \"a=('John','Charles','Mike')\\nb=('Jennie','Christy','Monica')\\nx=zip(a,b)\\nx\", '_40': <zip object at 0x0000013485334400>, '_i41': \"a=('John','Charles','Mike')\\nb=('Jennie','Christy','Monica')\\nx=zip(a,b)\\nprint(x)\", '_i42': \"a=('John','Charles','Mike')\\nb=('Jennie','Christy','Monica')\\nx=zip(a,b)\\nprint(list(x))\", '_i43': 'x=abs(-7.25)\\nx', '_43': 7.25, '_i44': 'x = abs(3+5j)', '_i45': 'x = abs(3+5j)\\nx', '_45': 5.830951894845301, '_i46': 'mylist=[True,True,True]\\nx=all(mylist)\\nx', '_46': True, '_i47': 'mylist = [False, True, False]\\nx = any(mylist) ; x', '_47': True, '_i48': 'mylist=[True,True,False]   #all(a)는 a안이 모두 True인지 아닌지 확인해줌\\nx=all(mylist)\\nx', '_48': False, '_i49': 'mylist = [1>2, True, False]#any(a)는 a에 True가 하나 이상 있는지 아닌지 확인해줌\\nx = any(mylist) ; x', '_49': True, '_i50': 'mylist = [1>2, 1=2, False]#any(a)는 a에 True가 하나 이상 있는지 아닌지 확인해줌\\nx = any(mylist) ; x', '_i51': 'mylist = [1>2, 1==2, False]#any(a)는 a에 True가 하나 이상 있는지 아닌지 확인해줌\\nx = any(mylist) ; x', '_51': False, '_i52': 'x = ascii(\"My name is Ståle\")', '_i53': 'x = ascii(\"My name is Ståle\")\\nx', '_53': \"'My name is St\\\\xe5le'\", '_i54': 'x = ascii(55)\\nx', '_54': '55', '_i55': 'x = ascii(2+3)\\nx', '_55': '5', '_i56': 'x = ascii(2+3)\\nprint(5)\\nx', '_56': '5', '_i57': 'x = ascii(2+3)\\nprint(5)\\nprint(x)', '_i58': 'bin(23)', '_58': '0b10111', '_i59': 'bool(1)', '_59': True, '_i60': 'bool(0)', '_60': False, '_i61': 'bool(2)', '_61': True, '_i62': 'bool(4)', '_62': True, '_i63': 'bytes(4)', '_63': b'\\x00\\x00\\x00\\x00', '_i64': 'complex(3,6)', '_64': (3+6j), '_i65': \"class Person:\\n    name= 'John'\\n    age=35\\n    country='Norway'\\n    \\nsetattr(Personm,'age',4)\", '_i66': \"class Person:\\n    name= 'John'\\n    age=35\\n    country='Norway'\\n    \\nsetattr(Person,'age',4)\", '_i67': \"class Person:\\n    name= 'John'\\n    age=35\\n    country='Norway'\\n    \\nsetattr(Person,'age',4)\\nPerson\", '_67': <class '__main__.Person'>, '_i68': 'x=globals()\\nprint(x)'}\n"
     ]
    }
   ],
   "source": [
    "x=globals()\n",
    "print(x)"
   ]
  },
  {
   "cell_type": "code",
   "execution_count": 74,
   "metadata": {},
   "outputs": [
    {
     "name": "stdout",
     "output_type": "stream",
     "text": [
      "('apple', 'orange')\n",
      "('banana', 'lemon')\n",
      "('cherry', 'pineapple')\n"
     ]
    }
   ],
   "source": [
    "def myfunc(a,b):\n",
    "    return(a,b)\n",
    "\n",
    "\n",
    "x=map(myfunc,('apple','banana','cherry'),('orange','lemon','pineapple'))\n",
    "\n",
    "for i in x:\n",
    "    print(i)"
   ]
  },
  {
   "cell_type": "code",
   "execution_count": 79,
   "metadata": {},
   "outputs": [
    {
     "name": "stdout",
     "output_type": "stream",
     "text": [
      "apple\n",
      "banana\n",
      "cherry\n"
     ]
    }
   ],
   "source": [
    "mylist=iter(['apple','banana','cherry'])\n",
    "x=next(mylist)\n",
    "print(x)\n",
    "x=next(mylist)\n",
    "print(x)\n",
    "x=next(mylist)\n",
    "print(x)\n"
   ]
  },
  {
   "cell_type": "code",
   "execution_count": 80,
   "metadata": {},
   "outputs": [
    {
     "data": {
      "text/plain": [
       "{'apple', 'banana', 'cherry'}"
      ]
     },
     "execution_count": 80,
     "metadata": {},
     "output_type": "execute_result"
    }
   ],
   "source": [
    "x=set(('apple','banana','cherry'));x"
   ]
  },
  {
   "cell_type": "code",
   "execution_count": 81,
   "metadata": {},
   "outputs": [
    {
     "data": {
      "text/plain": [
       "{'apple', 'banana', 'cherry', 'orange'}"
      ]
     },
     "execution_count": 81,
     "metadata": {},
     "output_type": "execute_result"
    }
   ],
   "source": [
    "x.add('orange')\n",
    "x"
   ]
  },
  {
   "cell_type": "code",
   "execution_count": 82,
   "metadata": {},
   "outputs": [
    {
     "data": {
      "text/plain": [
       "{'apple', 'banana', 'cherry', 'orange'}"
      ]
     },
     "execution_count": 82,
     "metadata": {},
     "output_type": "execute_result"
    }
   ],
   "source": [
    "x.add('apple')  #set은 중복은 추가 안됨.\n",
    "x"
   ]
  },
  {
   "cell_type": "code",
   "execution_count": 83,
   "metadata": {},
   "outputs": [
    {
     "name": "stdout",
     "output_type": "stream",
     "text": [
      "{'apple', 'cherry', 'microsoft', 'google', 'banana'}\n"
     ]
    }
   ],
   "source": [
    "x = {\"apple\", \"banana\", \"cherry\"}\n",
    "y = {\"google\", \"microsoft\", \"apple\"}\n",
    "\n",
    "z = x.union(y)   #중복은 빼고 처리\n",
    "\n",
    "print(z)"
   ]
  },
  {
   "cell_type": "code",
   "execution_count": 86,
   "metadata": {},
   "outputs": [
    {
     "data": {
      "text/plain": [
       "{'apple'}"
      ]
     },
     "execution_count": 86,
     "metadata": {},
     "output_type": "execute_result"
    }
   ],
   "source": [
    "z=y.intersection(z)   #x와 y에 있는 중복된 값 추출. (x와 y 둘 다 set이어야 함)\n",
    "z"
   ]
  },
  {
   "cell_type": "code",
   "execution_count": 90,
   "metadata": {},
   "outputs": [
    {
     "data": {
      "text/plain": [
       "{'banana', 'cherry'}"
      ]
     },
     "execution_count": 90,
     "metadata": {},
     "output_type": "execute_result"
    }
   ],
   "source": [
    "z=x.difference(y);z #x에는 있는데 y에는 없는 것"
   ]
  },
  {
   "cell_type": "code",
   "execution_count": 91,
   "metadata": {},
   "outputs": [
    {
     "data": {
      "text/plain": [
       "'50.000000%'"
      ]
     },
     "execution_count": 91,
     "metadata": {},
     "output_type": "execute_result"
    }
   ],
   "source": [
    "x = format(0.5, '%') ;x\n"
   ]
  },
  {
   "cell_type": "code",
   "execution_count": 93,
   "metadata": {},
   "outputs": [
    {
     "name": "stdout",
     "output_type": "stream",
     "text": [
      "For only 49.000000 dollars!\n"
     ]
    }
   ],
   "source": [
    "txt = \"For only {price:f} dollars!\"\n",
    "print(txt.format(price = 49))"
   ]
  },
  {
   "cell_type": "code",
   "execution_count": 97,
   "metadata": {},
   "outputs": [
    {
     "data": {
      "text/plain": [
       "'My name is John, I am 36'"
      ]
     },
     "execution_count": 97,
     "metadata": {},
     "output_type": "execute_result"
    }
   ],
   "source": [
    "txt1 = \"My name is {name}, I am {age}\".format(name = \"John\", age = 36)\n",
    "txt2 = \"My name is {0}, I am {1}\".format(\"John\",36)\n",
    "txt3 = \"My name is {}, I am {}\".format(\"John\",36)\n",
    "txt1"
   ]
  },
  {
   "cell_type": "code",
   "execution_count": 104,
   "metadata": {},
   "outputs": [
    {
     "data": {
      "text/plain": [
       "'My name is 10,hello'"
      ]
     },
     "execution_count": 104,
     "metadata": {},
     "output_type": "execute_result"
    }
   ],
   "source": [
    "txt4=\"My name is {:b},hello\".format(2)\n",
    "txt4"
   ]
  },
  {
   "cell_type": "code",
   "execution_count": null,
   "metadata": {},
   "outputs": [],
   "source": []
  }
 ],
 "metadata": {
  "kernelspec": {
   "display_name": "Python 3",
   "language": "python",
   "name": "python3"
  },
  "language_info": {
   "codemirror_mode": {
    "name": "ipython",
    "version": 3
   },
   "file_extension": ".py",
   "mimetype": "text/x-python",
   "name": "python",
   "nbconvert_exporter": "python",
   "pygments_lexer": "ipython3",
   "version": "3.8.3"
  }
 },
 "nbformat": 4,
 "nbformat_minor": 4
}
