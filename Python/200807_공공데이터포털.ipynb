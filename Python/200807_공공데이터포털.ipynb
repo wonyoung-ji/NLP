{
 "cells": [
  {
   "cell_type": "code",
   "execution_count": 94,
   "metadata": {},
   "outputs": [],
   "source": [
    "my_key='BHS1se%2B3loQRJoDAFuG84hXDgqbhriXiPt5esm1EhRrWfqegXJ%2FP17NnaWDnH6F23nDGG8FZ9rMqYaCnr4AJdw%3D%3D'"
   ]
  },
  {
   "cell_type": "code",
   "execution_count": 23,
   "metadata": {},
   "outputs": [],
   "source": [
    "# 반경내 상권조회\n",
    "url1=\"http://apis.data.go.kr/B553077/api/open/sdsc/\"\n",
    "url2=\"storeZoneInRadius?radius=500&cx=127.004528&cy=37.567538&ServiceKey=\"\n",
    "url3=\"&type=json\""
   ]
  },
  {
   "cell_type": "code",
   "execution_count": 24,
   "metadata": {},
   "outputs": [
    {
     "data": {
      "text/plain": [
       "'http://apis.data.go.kr/B553077/api/open/sdsc/storeZoneInRadius?radius=500&cx=127.004528&cy=37.567538&ServiceKey=BHS1se%2B3loQRJoDAFuG84hXDgqbhriXiPt5esm1EhRrWfqegXJ%2FP17NnaWDnH6F23nDGG8FZ9rMqYaCnr4AJdw%3D%3D&type=json'"
      ]
     },
     "execution_count": 24,
     "metadata": {},
     "output_type": "execute_result"
    }
   ],
   "source": [
    "url= url1 + url2 + my_key + url3\n",
    "url    # 딕셔너리 형태"
   ]
  },
  {
   "cell_type": "code",
   "execution_count": 25,
   "metadata": {},
   "outputs": [
    {
     "data": {
      "text/plain": [
       "<http.client.HTTPResponse at 0x14ad56ac970>"
      ]
     },
     "execution_count": 25,
     "metadata": {},
     "output_type": "execute_result"
    }
   ],
   "source": [
    "import urllib.request\n",
    "res = urllib.request.urlopen(url)\n",
    "res"
   ]
  },
  {
   "cell_type": "code",
   "execution_count": 26,
   "metadata": {},
   "outputs": [
    {
     "data": {
      "text/plain": [
       "'{\\n\\t\"header\" : {\\n\\t\\t\"description\" : \"소상공인시장진흥공단 주요상권\"\\n\\t\\t,\"resultCode\" : \"00\"\\n\\t\\t,\"resultMsg\" : \"NORMAL SERVICE\"\\n\\t},\\n\\t\"body\" : {\\n\\t\\t\\t\"items\" : [\\n\\t\\t\\t\\t{\\n\\t\\t\\t\\t\"trarNo\" : 2214\\n\\t\\t\\t\\t,\"mainTrarNm\" : \"을지로4가역\"\\n\\t\\t\\t\\t,\"ctprvnCd\" : \"11\"\\n\\t\\t\\t\\t,\"ctprvnNm\" : \"서울특별시\"\\n\\t\\t\\t\\t,\"signguCd\" : \"11140\"\\n\\t\\t\\t\\t,\"signguNm\" : \"중구\"\\n\\t\\t\\t\\t,\"trarArea\" : 88434.9\\n\\t\\t\\t\\t,\"coordNum\" : 8\\n\\t\\t\\t\\t,\"coords\" : \"POLYGON ((126.999081 37.566789, 127.002102 37.566937, 127.001981 37.568644, 127.001871 37.568655, 127.001873 37.569521, 126.998065 37.568812, 126.998213 37.566753, 126.999081 37.566789))\"\\n\\t\\t\\t\\t,\"stdrDt\" : \"2015-12-17\"\\n\\t\\t\\t\\t}\\n\\t\\t\\t\\t,{\\n\\t\\t\\t\\t\"trarNo\" : 2216\\n\\t\\t\\t\\t,\"mainTrarNm\" : \"동대문시장\"\\n\\t\\t\\t\\t,\"ctprvnCd\" : \"11\"\\n\\t\\t\\t\\t,\"ctprvnNm\" : \"서울특별시\"\\n\\t\\t\\t\\t,\"signguCd\" : \"11140\"\\n\\t\\t\\t\\t,\"signguNm\" : \"중구\"\\n\\t\\t\\t\\t,\"trarArea\" : 68658\\n\\t\\t\\t\\t,\"coordNum\" : 15\\n\\t\\t\\t\\t,\"coords\" : \"POLYGON ((127.009453 37.568775, 127.009445 37.569396, 127.009558 37.569397, 127.009543 37.569686, 127.00659 37.569553, 127.006688 37.568112, 127.007709 37.567931, 127.007098 37.567124, 127.006951 37.56706, 127.006146 37.56717, 127.005929 37.566438, 127.007632 37.56611, 127.008198 37.566935, 127.008107 37.566979, 127.009453 37.568775))\"\\n\\t\\t\\t\\t,\"stdrDt\" : \"2015-12-17\"\\n\\t\\t\\t\\t}\\n\\t\\t\\t\\t,{\\n\\t\\t\\t\\t\"trarNo\" : 2207\\n\\t\\t\\t\\t,\"mainTrarNm\" : \"동대문역사문화공원역\"\\n\\t\\t\\t\\t,\"ctprvnCd\" : \"11\"\\n\\t\\t\\t\\t,\"ctprvnNm\" : \"서울특별시\"\\n\\t\\t\\t\\t,\"signguCd\" : \"11140\"\\n\\t\\t\\t\\t,\"signguNm\" : \"중구\"\\n\\t\\t\\t\\t,\"trarArea\" : 81499.1\\n\\t\\t\\t\\t,\"coordNum\" : 8\\n\\t\\t\\t\\t,\"coords\" : \"POLYGON ((127.007565 37.565945, 127.004846 37.566394, 127.002877 37.566759, 127.002341 37.566737, 127.00252 37.5647, 127.004682 37.564852, 127.007062 37.564448, 127.007565 37.565945))\"\\n\\t\\t\\t\\t,\"stdrDt\" : \"2015-12-17\"\\n\\t\\t\\t\\t}\\n\\t\\t\\t\\t,{\\n\\t\\t\\t\\t\"trarNo\" : 2226\\n\\t\\t\\t\\t,\"mainTrarNm\" : \"동대문시장\"\\n\\t\\t\\t\\t,\"ctprvnCd\" : \"11\"\\n\\t\\t\\t\\t,\"ctprvnNm\" : \"서울특별시\"\\n\\t\\t\\t\\t,\"signguCd\" : \"11110\"\\n\\t\\t\\t\\t,\"signguNm\" : \"종로구\"\\n\\t\\t\\t\\t,\"trarArea\" : 82364.6\\n\\t\\t\\t\\t,\"coordNum\" : 28\\n\\t\\t\\t\\t,\"coords\" : \"POLYGON ((127.009388 37.570565, 127.008984 37.571182, 127.008537 37.57103, 127.006426 37.570998, 127.00658 37.570351, 127.006482 37.570257, 127.006356 37.570327, 127.006198 37.57099, 127.005964 37.570986, 127.005915 37.570267, 127.005804 37.570193, 127.005691 37.570283, 127.005737 37.570983, 127.005376 37.570977, 127.005356 37.570376, 127.005244 37.570291, 127.00513 37.570373, 127.005149 37.570973, 127.003561 37.570947, 127.003571 37.570412, 127.003461 37.570336, 127.003348 37.570409, 127.003335 37.570944, 127.002014 37.570911, 127.002118 37.569718, 127.006712 37.569739, 127.009542 37.569875, 127.009388 37.570565))\"\\n\\t\\t\\t\\t,\"stdrDt\" : \"2015-12-17\"\\n\\t\\t\\t\\t}\\n\\t\\t\\t\\t,{\\n\\t\\t\\t\\t\"trarNo\" : 2225\\n\\t\\t\\t\\t,\"mainTrarNm\" : \"서울 종로구 종로5가역_1\"\\n\\t\\t\\t\\t,\"ctprvnCd\" : \"11\"\\n\\t\\t\\t\\t,\"ctprvnNm\" : \"서울특별시\"\\n\\t\\t\\t\\t,\"signguCd\" : \"11110\"\\n\\t\\t\\t\\t,\"signguNm\" : \"종로구\"\\n\\t\\t\\t\\t,\"trarArea\" : 50246.7\\n\\t\\t\\t\\t,\"coordNum\" : 20\\n\\t\\t\\t\\t,\"coords\" : \"POLYGON ((127.001795 37.57082, 127.000088 37.570774, 127.000052 37.570281, 126.999763 37.57022, 126.99964 37.570323, 126.999836 37.570406, 126.999859 37.570757, 126.999321 37.570717, 126.999367 37.570303, 126.999265 37.570221, 126.999145 37.570287, 126.999096 37.5707, 126.999078 37.570524, 126.99887 37.570325, 126.998761 37.570381, 126.998725 37.570672, 126.997866 37.570624, 126.998052 37.568996, 127.001892 37.569705, 127.001795 37.57082))\"\\n\\t\\t\\t\\t,\"stdrDt\" : \"2015-12-17\"\\n\\t\\t\\t\\t}\\n\\t\\t\\t]\\n\\t}\\n}\\n'"
      ]
     },
     "execution_count": 26,
     "metadata": {},
     "output_type": "execute_result"
    }
   ],
   "source": [
    "json_str=res.read().decode('utf-8')  #한글이 깨져 나오는 걸 utf-8로 불러 옴, str형태.\n",
    "json_str"
   ]
  },
  {
   "cell_type": "code",
   "execution_count": 27,
   "metadata": {},
   "outputs": [
    {
     "data": {
      "text/plain": [
       "{'header': {'description': '소상공인시장진흥공단 주요상권',\n",
       "  'resultCode': '00',\n",
       "  'resultMsg': 'NORMAL SERVICE'},\n",
       " 'body': {'items': [{'trarNo': 2214,\n",
       "    'mainTrarNm': '을지로4가역',\n",
       "    'ctprvnCd': '11',\n",
       "    'ctprvnNm': '서울특별시',\n",
       "    'signguCd': '11140',\n",
       "    'signguNm': '중구',\n",
       "    'trarArea': 88434.9,\n",
       "    'coordNum': 8,\n",
       "    'coords': 'POLYGON ((126.999081 37.566789, 127.002102 37.566937, 127.001981 37.568644, 127.001871 37.568655, 127.001873 37.569521, 126.998065 37.568812, 126.998213 37.566753, 126.999081 37.566789))',\n",
       "    'stdrDt': '2015-12-17'},\n",
       "   {'trarNo': 2216,\n",
       "    'mainTrarNm': '동대문시장',\n",
       "    'ctprvnCd': '11',\n",
       "    'ctprvnNm': '서울특별시',\n",
       "    'signguCd': '11140',\n",
       "    'signguNm': '중구',\n",
       "    'trarArea': 68658,\n",
       "    'coordNum': 15,\n",
       "    'coords': 'POLYGON ((127.009453 37.568775, 127.009445 37.569396, 127.009558 37.569397, 127.009543 37.569686, 127.00659 37.569553, 127.006688 37.568112, 127.007709 37.567931, 127.007098 37.567124, 127.006951 37.56706, 127.006146 37.56717, 127.005929 37.566438, 127.007632 37.56611, 127.008198 37.566935, 127.008107 37.566979, 127.009453 37.568775))',\n",
       "    'stdrDt': '2015-12-17'},\n",
       "   {'trarNo': 2207,\n",
       "    'mainTrarNm': '동대문역사문화공원역',\n",
       "    'ctprvnCd': '11',\n",
       "    'ctprvnNm': '서울특별시',\n",
       "    'signguCd': '11140',\n",
       "    'signguNm': '중구',\n",
       "    'trarArea': 81499.1,\n",
       "    'coordNum': 8,\n",
       "    'coords': 'POLYGON ((127.007565 37.565945, 127.004846 37.566394, 127.002877 37.566759, 127.002341 37.566737, 127.00252 37.5647, 127.004682 37.564852, 127.007062 37.564448, 127.007565 37.565945))',\n",
       "    'stdrDt': '2015-12-17'},\n",
       "   {'trarNo': 2226,\n",
       "    'mainTrarNm': '동대문시장',\n",
       "    'ctprvnCd': '11',\n",
       "    'ctprvnNm': '서울특별시',\n",
       "    'signguCd': '11110',\n",
       "    'signguNm': '종로구',\n",
       "    'trarArea': 82364.6,\n",
       "    'coordNum': 28,\n",
       "    'coords': 'POLYGON ((127.009388 37.570565, 127.008984 37.571182, 127.008537 37.57103, 127.006426 37.570998, 127.00658 37.570351, 127.006482 37.570257, 127.006356 37.570327, 127.006198 37.57099, 127.005964 37.570986, 127.005915 37.570267, 127.005804 37.570193, 127.005691 37.570283, 127.005737 37.570983, 127.005376 37.570977, 127.005356 37.570376, 127.005244 37.570291, 127.00513 37.570373, 127.005149 37.570973, 127.003561 37.570947, 127.003571 37.570412, 127.003461 37.570336, 127.003348 37.570409, 127.003335 37.570944, 127.002014 37.570911, 127.002118 37.569718, 127.006712 37.569739, 127.009542 37.569875, 127.009388 37.570565))',\n",
       "    'stdrDt': '2015-12-17'},\n",
       "   {'trarNo': 2225,\n",
       "    'mainTrarNm': '서울 종로구 종로5가역_1',\n",
       "    'ctprvnCd': '11',\n",
       "    'ctprvnNm': '서울특별시',\n",
       "    'signguCd': '11110',\n",
       "    'signguNm': '종로구',\n",
       "    'trarArea': 50246.7,\n",
       "    'coordNum': 20,\n",
       "    'coords': 'POLYGON ((127.001795 37.57082, 127.000088 37.570774, 127.000052 37.570281, 126.999763 37.57022, 126.99964 37.570323, 126.999836 37.570406, 126.999859 37.570757, 126.999321 37.570717, 126.999367 37.570303, 126.999265 37.570221, 126.999145 37.570287, 126.999096 37.5707, 126.999078 37.570524, 126.99887 37.570325, 126.998761 37.570381, 126.998725 37.570672, 126.997866 37.570624, 126.998052 37.568996, 127.001892 37.569705, 127.001795 37.57082))',\n",
       "    'stdrDt': '2015-12-17'}]}}"
      ]
     },
     "execution_count": 27,
     "metadata": {},
     "output_type": "execute_result"
    }
   ],
   "source": [
    "import json\n",
    "json_object = json.loads(json_str)   # json_str라는 변수에 저장된 문자열을 json파일로 엶\n",
    "json_object"
   ]
  },
  {
   "cell_type": "code",
   "execution_count": 28,
   "metadata": {},
   "outputs": [],
   "source": [
    "import pandas as pd\n",
    "from pandas.io.json import json_normalize"
   ]
  },
  {
   "cell_type": "code",
   "execution_count": 29,
   "metadata": {},
   "outputs": [
    {
     "data": {
      "text/plain": [
       "[{'trarNo': 2214,\n",
       "  'mainTrarNm': '을지로4가역',\n",
       "  'ctprvnCd': '11',\n",
       "  'ctprvnNm': '서울특별시',\n",
       "  'signguCd': '11140',\n",
       "  'signguNm': '중구',\n",
       "  'trarArea': 88434.9,\n",
       "  'coordNum': 8,\n",
       "  'coords': 'POLYGON ((126.999081 37.566789, 127.002102 37.566937, 127.001981 37.568644, 127.001871 37.568655, 127.001873 37.569521, 126.998065 37.568812, 126.998213 37.566753, 126.999081 37.566789))',\n",
       "  'stdrDt': '2015-12-17'},\n",
       " {'trarNo': 2216,\n",
       "  'mainTrarNm': '동대문시장',\n",
       "  'ctprvnCd': '11',\n",
       "  'ctprvnNm': '서울특별시',\n",
       "  'signguCd': '11140',\n",
       "  'signguNm': '중구',\n",
       "  'trarArea': 68658,\n",
       "  'coordNum': 15,\n",
       "  'coords': 'POLYGON ((127.009453 37.568775, 127.009445 37.569396, 127.009558 37.569397, 127.009543 37.569686, 127.00659 37.569553, 127.006688 37.568112, 127.007709 37.567931, 127.007098 37.567124, 127.006951 37.56706, 127.006146 37.56717, 127.005929 37.566438, 127.007632 37.56611, 127.008198 37.566935, 127.008107 37.566979, 127.009453 37.568775))',\n",
       "  'stdrDt': '2015-12-17'},\n",
       " {'trarNo': 2207,\n",
       "  'mainTrarNm': '동대문역사문화공원역',\n",
       "  'ctprvnCd': '11',\n",
       "  'ctprvnNm': '서울특별시',\n",
       "  'signguCd': '11140',\n",
       "  'signguNm': '중구',\n",
       "  'trarArea': 81499.1,\n",
       "  'coordNum': 8,\n",
       "  'coords': 'POLYGON ((127.007565 37.565945, 127.004846 37.566394, 127.002877 37.566759, 127.002341 37.566737, 127.00252 37.5647, 127.004682 37.564852, 127.007062 37.564448, 127.007565 37.565945))',\n",
       "  'stdrDt': '2015-12-17'},\n",
       " {'trarNo': 2226,\n",
       "  'mainTrarNm': '동대문시장',\n",
       "  'ctprvnCd': '11',\n",
       "  'ctprvnNm': '서울특별시',\n",
       "  'signguCd': '11110',\n",
       "  'signguNm': '종로구',\n",
       "  'trarArea': 82364.6,\n",
       "  'coordNum': 28,\n",
       "  'coords': 'POLYGON ((127.009388 37.570565, 127.008984 37.571182, 127.008537 37.57103, 127.006426 37.570998, 127.00658 37.570351, 127.006482 37.570257, 127.006356 37.570327, 127.006198 37.57099, 127.005964 37.570986, 127.005915 37.570267, 127.005804 37.570193, 127.005691 37.570283, 127.005737 37.570983, 127.005376 37.570977, 127.005356 37.570376, 127.005244 37.570291, 127.00513 37.570373, 127.005149 37.570973, 127.003561 37.570947, 127.003571 37.570412, 127.003461 37.570336, 127.003348 37.570409, 127.003335 37.570944, 127.002014 37.570911, 127.002118 37.569718, 127.006712 37.569739, 127.009542 37.569875, 127.009388 37.570565))',\n",
       "  'stdrDt': '2015-12-17'},\n",
       " {'trarNo': 2225,\n",
       "  'mainTrarNm': '서울 종로구 종로5가역_1',\n",
       "  'ctprvnCd': '11',\n",
       "  'ctprvnNm': '서울특별시',\n",
       "  'signguCd': '11110',\n",
       "  'signguNm': '종로구',\n",
       "  'trarArea': 50246.7,\n",
       "  'coordNum': 20,\n",
       "  'coords': 'POLYGON ((127.001795 37.57082, 127.000088 37.570774, 127.000052 37.570281, 126.999763 37.57022, 126.99964 37.570323, 126.999836 37.570406, 126.999859 37.570757, 126.999321 37.570717, 126.999367 37.570303, 126.999265 37.570221, 126.999145 37.570287, 126.999096 37.5707, 126.999078 37.570524, 126.99887 37.570325, 126.998761 37.570381, 126.998725 37.570672, 126.997866 37.570624, 126.998052 37.568996, 127.001892 37.569705, 127.001795 37.57082))',\n",
       "  'stdrDt': '2015-12-17'}]"
      ]
     },
     "execution_count": 29,
     "metadata": {},
     "output_type": "execute_result"
    }
   ],
   "source": [
    "json_object['body']['items']   # body 중 items만 가져옴"
   ]
  },
  {
   "cell_type": "code",
   "execution_count": 55,
   "metadata": {},
   "outputs": [
    {
     "name": "stderr",
     "output_type": "stream",
     "text": [
      "<ipython-input-55-90666a152105>:2: FutureWarning: pandas.io.json.json_normalize is deprecated, use pandas.json_normalize instead\n",
      "  df=json_normalize(json_object['body']['items'])  # json_normalize는 pandas에서 온 함수 -> DataFrame 형태로 추출해줌.\n"
     ]
    },
    {
     "data": {
      "text/html": [
       "<div>\n",
       "<style scoped>\n",
       "    .dataframe tbody tr th:only-of-type {\n",
       "        vertical-align: middle;\n",
       "    }\n",
       "\n",
       "    .dataframe tbody tr th {\n",
       "        vertical-align: top;\n",
       "    }\n",
       "\n",
       "    .dataframe thead th {\n",
       "        text-align: right;\n",
       "    }\n",
       "</style>\n",
       "<table border=\"1\" class=\"dataframe\">\n",
       "  <thead>\n",
       "    <tr style=\"text-align: right;\">\n",
       "      <th></th>\n",
       "      <th>trarNo</th>\n",
       "      <th>mainTrarNm</th>\n",
       "      <th>ctprvnCd</th>\n",
       "      <th>ctprvnNm</th>\n",
       "      <th>signguCd</th>\n",
       "      <th>signguNm</th>\n",
       "      <th>trarArea</th>\n",
       "      <th>coordNum</th>\n",
       "      <th>coords</th>\n",
       "      <th>stdrDt</th>\n",
       "    </tr>\n",
       "  </thead>\n",
       "  <tbody>\n",
       "    <tr>\n",
       "      <th>0</th>\n",
       "      <td>2214</td>\n",
       "      <td>을지로4가역</td>\n",
       "      <td>11</td>\n",
       "      <td>서울특별시</td>\n",
       "      <td>11140</td>\n",
       "      <td>중구</td>\n",
       "      <td>88434.9</td>\n",
       "      <td>8</td>\n",
       "      <td>POLYGON ((126.999081 37.566789, 127.002102 37....</td>\n",
       "      <td>2015-12-17</td>\n",
       "    </tr>\n",
       "    <tr>\n",
       "      <th>1</th>\n",
       "      <td>2216</td>\n",
       "      <td>동대문시장</td>\n",
       "      <td>11</td>\n",
       "      <td>서울특별시</td>\n",
       "      <td>11140</td>\n",
       "      <td>중구</td>\n",
       "      <td>68658.0</td>\n",
       "      <td>15</td>\n",
       "      <td>POLYGON ((127.009453 37.568775, 127.009445 37....</td>\n",
       "      <td>2015-12-17</td>\n",
       "    </tr>\n",
       "    <tr>\n",
       "      <th>2</th>\n",
       "      <td>2207</td>\n",
       "      <td>동대문역사문화공원역</td>\n",
       "      <td>11</td>\n",
       "      <td>서울특별시</td>\n",
       "      <td>11140</td>\n",
       "      <td>중구</td>\n",
       "      <td>81499.1</td>\n",
       "      <td>8</td>\n",
       "      <td>POLYGON ((127.007565 37.565945, 127.004846 37....</td>\n",
       "      <td>2015-12-17</td>\n",
       "    </tr>\n",
       "    <tr>\n",
       "      <th>3</th>\n",
       "      <td>2226</td>\n",
       "      <td>동대문시장</td>\n",
       "      <td>11</td>\n",
       "      <td>서울특별시</td>\n",
       "      <td>11110</td>\n",
       "      <td>종로구</td>\n",
       "      <td>82364.6</td>\n",
       "      <td>28</td>\n",
       "      <td>POLYGON ((127.009388 37.570565, 127.008984 37....</td>\n",
       "      <td>2015-12-17</td>\n",
       "    </tr>\n",
       "    <tr>\n",
       "      <th>4</th>\n",
       "      <td>2225</td>\n",
       "      <td>서울 종로구 종로5가역_1</td>\n",
       "      <td>11</td>\n",
       "      <td>서울특별시</td>\n",
       "      <td>11110</td>\n",
       "      <td>종로구</td>\n",
       "      <td>50246.7</td>\n",
       "      <td>20</td>\n",
       "      <td>POLYGON ((127.001795 37.57082, 127.000088 37.5...</td>\n",
       "      <td>2015-12-17</td>\n",
       "    </tr>\n",
       "  </tbody>\n",
       "</table>\n",
       "</div>"
      ],
      "text/plain": [
       "   trarNo      mainTrarNm ctprvnCd ctprvnNm signguCd signguNm  trarArea  \\\n",
       "0    2214          을지로4가역       11    서울특별시    11140       중구   88434.9   \n",
       "1    2216           동대문시장       11    서울특별시    11140       중구   68658.0   \n",
       "2    2207      동대문역사문화공원역       11    서울특별시    11140       중구   81499.1   \n",
       "3    2226           동대문시장       11    서울특별시    11110      종로구   82364.6   \n",
       "4    2225  서울 종로구 종로5가역_1       11    서울특별시    11110      종로구   50246.7   \n",
       "\n",
       "   coordNum                                             coords      stdrDt  \n",
       "0         8  POLYGON ((126.999081 37.566789, 127.002102 37....  2015-12-17  \n",
       "1        15  POLYGON ((127.009453 37.568775, 127.009445 37....  2015-12-17  \n",
       "2         8  POLYGON ((127.007565 37.565945, 127.004846 37....  2015-12-17  \n",
       "3        28  POLYGON ((127.009388 37.570565, 127.008984 37....  2015-12-17  \n",
       "4        20  POLYGON ((127.001795 37.57082, 127.000088 37.5...  2015-12-17  "
      ]
     },
     "execution_count": 55,
     "metadata": {},
     "output_type": "execute_result"
    }
   ],
   "source": [
    "body=json_object['body']['items'] \n",
    "df=json_normalize(json_object['body']['items'])  # json_normalize는 pandas에서 온 함수 -> DataFrame 형태로 추출해줌.\n",
    "df"
   ]
  },
  {
   "cell_type": "code",
   "execution_count": 56,
   "metadata": {},
   "outputs": [
    {
     "data": {
      "text/html": [
       "<div>\n",
       "<style scoped>\n",
       "    .dataframe tbody tr th:only-of-type {\n",
       "        vertical-align: middle;\n",
       "    }\n",
       "\n",
       "    .dataframe tbody tr th {\n",
       "        vertical-align: top;\n",
       "    }\n",
       "\n",
       "    .dataframe thead th {\n",
       "        text-align: right;\n",
       "    }\n",
       "</style>\n",
       "<table border=\"1\" class=\"dataframe\">\n",
       "  <thead>\n",
       "    <tr style=\"text-align: right;\">\n",
       "      <th></th>\n",
       "      <th>상권번호</th>\n",
       "      <th>상권명</th>\n",
       "      <th>시도코드</th>\n",
       "      <th>시도명</th>\n",
       "      <th>시군구코드</th>\n",
       "      <th>시군구명</th>\n",
       "      <th>면적</th>\n",
       "      <th>좌표개수</th>\n",
       "      <th>좌표값</th>\n",
       "      <th>데이터기준일자</th>\n",
       "    </tr>\n",
       "  </thead>\n",
       "  <tbody>\n",
       "    <tr>\n",
       "      <th>0</th>\n",
       "      <td>2214</td>\n",
       "      <td>을지로4가역</td>\n",
       "      <td>11</td>\n",
       "      <td>서울특별시</td>\n",
       "      <td>11140</td>\n",
       "      <td>중구</td>\n",
       "      <td>88434.9</td>\n",
       "      <td>8</td>\n",
       "      <td>POLYGON ((126.999081 37.566789, 127.002102 37....</td>\n",
       "      <td>2015-12-17</td>\n",
       "    </tr>\n",
       "    <tr>\n",
       "      <th>1</th>\n",
       "      <td>2216</td>\n",
       "      <td>동대문시장</td>\n",
       "      <td>11</td>\n",
       "      <td>서울특별시</td>\n",
       "      <td>11140</td>\n",
       "      <td>중구</td>\n",
       "      <td>68658.0</td>\n",
       "      <td>15</td>\n",
       "      <td>POLYGON ((127.009453 37.568775, 127.009445 37....</td>\n",
       "      <td>2015-12-17</td>\n",
       "    </tr>\n",
       "    <tr>\n",
       "      <th>2</th>\n",
       "      <td>2207</td>\n",
       "      <td>동대문역사문화공원역</td>\n",
       "      <td>11</td>\n",
       "      <td>서울특별시</td>\n",
       "      <td>11140</td>\n",
       "      <td>중구</td>\n",
       "      <td>81499.1</td>\n",
       "      <td>8</td>\n",
       "      <td>POLYGON ((127.007565 37.565945, 127.004846 37....</td>\n",
       "      <td>2015-12-17</td>\n",
       "    </tr>\n",
       "    <tr>\n",
       "      <th>3</th>\n",
       "      <td>2226</td>\n",
       "      <td>동대문시장</td>\n",
       "      <td>11</td>\n",
       "      <td>서울특별시</td>\n",
       "      <td>11110</td>\n",
       "      <td>종로구</td>\n",
       "      <td>82364.6</td>\n",
       "      <td>28</td>\n",
       "      <td>POLYGON ((127.009388 37.570565, 127.008984 37....</td>\n",
       "      <td>2015-12-17</td>\n",
       "    </tr>\n",
       "    <tr>\n",
       "      <th>4</th>\n",
       "      <td>2225</td>\n",
       "      <td>서울 종로구 종로5가역_1</td>\n",
       "      <td>11</td>\n",
       "      <td>서울특별시</td>\n",
       "      <td>11110</td>\n",
       "      <td>종로구</td>\n",
       "      <td>50246.7</td>\n",
       "      <td>20</td>\n",
       "      <td>POLYGON ((127.001795 37.57082, 127.000088 37.5...</td>\n",
       "      <td>2015-12-17</td>\n",
       "    </tr>\n",
       "  </tbody>\n",
       "</table>\n",
       "</div>"
      ],
      "text/plain": [
       "   상권번호             상권명 시도코드    시도명  시군구코드 시군구명       면적  좌표개수  \\\n",
       "0  2214          을지로4가역   11  서울특별시  11140   중구  88434.9     8   \n",
       "1  2216           동대문시장   11  서울특별시  11140   중구  68658.0    15   \n",
       "2  2207      동대문역사문화공원역   11  서울특별시  11140   중구  81499.1     8   \n",
       "3  2226           동대문시장   11  서울특별시  11110  종로구  82364.6    28   \n",
       "4  2225  서울 종로구 종로5가역_1   11  서울특별시  11110  종로구  50246.7    20   \n",
       "\n",
       "                                                 좌표값     데이터기준일자  \n",
       "0  POLYGON ((126.999081 37.566789, 127.002102 37....  2015-12-17  \n",
       "1  POLYGON ((127.009453 37.568775, 127.009445 37....  2015-12-17  \n",
       "2  POLYGON ((127.007565 37.565945, 127.004846 37....  2015-12-17  \n",
       "3  POLYGON ((127.009388 37.570565, 127.008984 37....  2015-12-17  \n",
       "4  POLYGON ((127.001795 37.57082, 127.000088 37.5...  2015-12-17  "
      ]
     },
     "execution_count": 56,
     "metadata": {},
     "output_type": "execute_result"
    }
   ],
   "source": [
    "df.columns=['상권번호','상권명','시도코드','시도명','시군구코드','시군구명','면적','좌표개수','좌표값','데이터기준일자']\n",
    "df"
   ]
  },
  {
   "cell_type": "code",
   "execution_count": 60,
   "metadata": {},
   "outputs": [
    {
     "data": {
      "text/html": [
       "<div>\n",
       "<style scoped>\n",
       "    .dataframe tbody tr th:only-of-type {\n",
       "        vertical-align: middle;\n",
       "    }\n",
       "\n",
       "    .dataframe tbody tr th {\n",
       "        vertical-align: top;\n",
       "    }\n",
       "\n",
       "    .dataframe thead th {\n",
       "        text-align: right;\n",
       "    }\n",
       "</style>\n",
       "<table border=\"1\" class=\"dataframe\">\n",
       "  <thead>\n",
       "    <tr style=\"text-align: right;\">\n",
       "      <th></th>\n",
       "      <th>상권명</th>\n",
       "      <th>시도코드</th>\n",
       "      <th>시군구코드</th>\n",
       "      <th>데이터기준일자</th>\n",
       "    </tr>\n",
       "  </thead>\n",
       "  <tbody>\n",
       "    <tr>\n",
       "      <th>0</th>\n",
       "      <td>을지로4가역</td>\n",
       "      <td>11</td>\n",
       "      <td>11140</td>\n",
       "      <td>2015-12-17</td>\n",
       "    </tr>\n",
       "    <tr>\n",
       "      <th>1</th>\n",
       "      <td>동대문시장</td>\n",
       "      <td>11</td>\n",
       "      <td>11140</td>\n",
       "      <td>2015-12-17</td>\n",
       "    </tr>\n",
       "    <tr>\n",
       "      <th>2</th>\n",
       "      <td>동대문역사문화공원역</td>\n",
       "      <td>11</td>\n",
       "      <td>11140</td>\n",
       "      <td>2015-12-17</td>\n",
       "    </tr>\n",
       "    <tr>\n",
       "      <th>3</th>\n",
       "      <td>동대문시장</td>\n",
       "      <td>11</td>\n",
       "      <td>11110</td>\n",
       "      <td>2015-12-17</td>\n",
       "    </tr>\n",
       "    <tr>\n",
       "      <th>4</th>\n",
       "      <td>서울 종로구 종로5가역_1</td>\n",
       "      <td>11</td>\n",
       "      <td>11110</td>\n",
       "      <td>2015-12-17</td>\n",
       "    </tr>\n",
       "  </tbody>\n",
       "</table>\n",
       "</div>"
      ],
      "text/plain": [
       "              상권명 시도코드  시군구코드     데이터기준일자\n",
       "0          을지로4가역   11  11140  2015-12-17\n",
       "1           동대문시장   11  11140  2015-12-17\n",
       "2      동대문역사문화공원역   11  11140  2015-12-17\n",
       "3           동대문시장   11  11110  2015-12-17\n",
       "4  서울 종로구 종로5가역_1   11  11110  2015-12-17"
      ]
     },
     "execution_count": 60,
     "metadata": {},
     "output_type": "execute_result"
    }
   ],
   "source": [
    "df1=df[['상권명','시도코드','시군구코드','데이터기준일자']]\n",
    "df1"
   ]
  },
  {
   "cell_type": "code",
   "execution_count": null,
   "metadata": {},
   "outputs": [],
   "source": []
  },
  {
   "cell_type": "code",
   "execution_count": null,
   "metadata": {},
   "outputs": [],
   "source": []
  },
  {
   "cell_type": "code",
   "execution_count": null,
   "metadata": {},
   "outputs": [],
   "source": []
  },
  {
   "cell_type": "code",
   "execution_count": null,
   "metadata": {},
   "outputs": [],
   "source": []
  },
  {
   "cell_type": "code",
   "execution_count": 68,
   "metadata": {},
   "outputs": [
    {
     "data": {
      "text/plain": [
       "'http://apis.data.go.kr/B553077/api/open/sdsc/storeZoneInAdmi?divId=adongCd&key=1168069000&ServiceKey=BHS1se%2B3loQRJoDAFuG84hXDgqbhriXiPt5esm1EhRrWfqegXJ%2FP17NnaWDnH6F23nDGG8FZ9rMqYaCnr4AJdw%3D%3D&type=json'"
      ]
     },
     "execution_count": 68,
     "metadata": {},
     "output_type": "execute_result"
    }
   ],
   "source": [
    "url='http://apis.data.go.kr/B553077/api/open/sdsc/storeZoneInAdmi?divId=adongCd&key=1168069000&ServiceKey=' + my_key + url3\n",
    "url"
   ]
  },
  {
   "cell_type": "code",
   "execution_count": 73,
   "metadata": {},
   "outputs": [
    {
     "data": {
      "text/plain": [
       "<http.client.HTTPResponse at 0x14ad77d38e0>"
      ]
     },
     "execution_count": 73,
     "metadata": {},
     "output_type": "execute_result"
    }
   ],
   "source": [
    "import urllib.request\n",
    "res = urllib.request.urlopen(url)\n",
    "res"
   ]
  },
  {
   "cell_type": "code",
   "execution_count": 74,
   "metadata": {},
   "outputs": [
    {
     "data": {
      "text/plain": [
       "'{\\n\\t\"header\" : {\\n\\t\\t\"description\" : \"소상공인시장진흥공단 주요상권\"\\n\\t\\t,\"resultCode\" : \"00\"\\n\\t\\t,\"resultMsg\" : \"NORMAL SERVICE\"\\n\\t},\\n\\t\"body\" : {\\n\\t\\t\\t\"items\" : [\\n\\t\\t\\t\\t{\\n\\t\\t\\t\\t\"trarNo\" : 1784\\n\\t\\t\\t\\t,\"mainTrarNm\" : \"포이사거리\"\\n\\t\\t\\t\\t,\"ctprvnCd\" : \"11\"\\n\\t\\t\\t\\t,\"ctprvnNm\" : \"서울특별시\"\\n\\t\\t\\t\\t,\"signguCd\" : \"11680\"\\n\\t\\t\\t\\t,\"signguNm\" : \"강남구\"\\n\\t\\t\\t\\t,\"trarArea\" : 19816.5\\n\\t\\t\\t\\t,\"coordNum\" : 13\\n\\t\\t\\t\\t,\"coords\" : \"POLYGON ((127.045483 37.477389, 127.045158 37.478072, 127.04694 37.478392, 127.046881 37.478599, 127.044704 37.478194, 127.04518 37.477216, 127.047481 37.474991, 127.047784 37.475182, 127.046868 37.476058, 127.047227 37.476304, 127.046929 37.47659, 127.046582 37.476353, 127.045483 37.477389))\"\\n\\t\\t\\t\\t,\"stdrDt\" : \"2015-12-17\"\\n\\t\\t\\t\\t}\\n\\t\\t\\t]\\n\\t}\\n}\\n'"
      ]
     },
     "execution_count": 74,
     "metadata": {},
     "output_type": "execute_result"
    }
   ],
   "source": [
    "json_str=res.read().decode('utf-8')\n",
    "json_str"
   ]
  },
  {
   "cell_type": "code",
   "execution_count": 76,
   "metadata": {},
   "outputs": [
    {
     "data": {
      "text/plain": [
       "{'header': {'description': '소상공인시장진흥공단 주요상권',\n",
       "  'resultCode': '00',\n",
       "  'resultMsg': 'NORMAL SERVICE'},\n",
       " 'body': {'items': [{'trarNo': 1784,\n",
       "    'mainTrarNm': '포이사거리',\n",
       "    'ctprvnCd': '11',\n",
       "    'ctprvnNm': '서울특별시',\n",
       "    'signguCd': '11680',\n",
       "    'signguNm': '강남구',\n",
       "    'trarArea': 19816.5,\n",
       "    'coordNum': 13,\n",
       "    'coords': 'POLYGON ((127.045483 37.477389, 127.045158 37.478072, 127.04694 37.478392, 127.046881 37.478599, 127.044704 37.478194, 127.04518 37.477216, 127.047481 37.474991, 127.047784 37.475182, 127.046868 37.476058, 127.047227 37.476304, 127.046929 37.47659, 127.046582 37.476353, 127.045483 37.477389))',\n",
       "    'stdrDt': '2015-12-17'}]}}"
      ]
     },
     "execution_count": 76,
     "metadata": {},
     "output_type": "execute_result"
    }
   ],
   "source": [
    "json_object=json.loads(json_str)\n",
    "json_object"
   ]
  },
  {
   "cell_type": "code",
   "execution_count": 79,
   "metadata": {},
   "outputs": [
    {
     "name": "stderr",
     "output_type": "stream",
     "text": [
      "<ipython-input-79-731f2072fd6b>:1: FutureWarning: pandas.io.json.json_normalize is deprecated, use pandas.json_normalize instead\n",
      "  df=json_normalize(json_object['body']['items'])\n"
     ]
    },
    {
     "data": {
      "text/html": [
       "<div>\n",
       "<style scoped>\n",
       "    .dataframe tbody tr th:only-of-type {\n",
       "        vertical-align: middle;\n",
       "    }\n",
       "\n",
       "    .dataframe tbody tr th {\n",
       "        vertical-align: top;\n",
       "    }\n",
       "\n",
       "    .dataframe thead th {\n",
       "        text-align: right;\n",
       "    }\n",
       "</style>\n",
       "<table border=\"1\" class=\"dataframe\">\n",
       "  <thead>\n",
       "    <tr style=\"text-align: right;\">\n",
       "      <th></th>\n",
       "      <th>trarNo</th>\n",
       "      <th>mainTrarNm</th>\n",
       "      <th>ctprvnCd</th>\n",
       "      <th>ctprvnNm</th>\n",
       "      <th>signguCd</th>\n",
       "      <th>signguNm</th>\n",
       "      <th>trarArea</th>\n",
       "      <th>coordNum</th>\n",
       "      <th>coords</th>\n",
       "      <th>stdrDt</th>\n",
       "    </tr>\n",
       "  </thead>\n",
       "  <tbody>\n",
       "    <tr>\n",
       "      <th>0</th>\n",
       "      <td>1784</td>\n",
       "      <td>포이사거리</td>\n",
       "      <td>11</td>\n",
       "      <td>서울특별시</td>\n",
       "      <td>11680</td>\n",
       "      <td>강남구</td>\n",
       "      <td>19816.5</td>\n",
       "      <td>13</td>\n",
       "      <td>POLYGON ((127.045483 37.477389, 127.045158 37....</td>\n",
       "      <td>2015-12-17</td>\n",
       "    </tr>\n",
       "  </tbody>\n",
       "</table>\n",
       "</div>"
      ],
      "text/plain": [
       "   trarNo mainTrarNm ctprvnCd ctprvnNm signguCd signguNm  trarArea  coordNum  \\\n",
       "0    1784      포이사거리       11    서울특별시    11680      강남구   19816.5        13   \n",
       "\n",
       "                                              coords      stdrDt  \n",
       "0  POLYGON ((127.045483 37.477389, 127.045158 37....  2015-12-17  "
      ]
     },
     "execution_count": 79,
     "metadata": {},
     "output_type": "execute_result"
    }
   ],
   "source": [
    "df=json_normalize(json_object['body']['items'])\n",
    "df"
   ]
  },
  {
   "cell_type": "code",
   "execution_count": 81,
   "metadata": {},
   "outputs": [
    {
     "data": {
      "text/html": [
       "<div>\n",
       "<style scoped>\n",
       "    .dataframe tbody tr th:only-of-type {\n",
       "        vertical-align: middle;\n",
       "    }\n",
       "\n",
       "    .dataframe tbody tr th {\n",
       "        vertical-align: top;\n",
       "    }\n",
       "\n",
       "    .dataframe thead th {\n",
       "        text-align: right;\n",
       "    }\n",
       "</style>\n",
       "<table border=\"1\" class=\"dataframe\">\n",
       "  <thead>\n",
       "    <tr style=\"text-align: right;\">\n",
       "      <th></th>\n",
       "      <th>상권번호</th>\n",
       "      <th>상권명</th>\n",
       "      <th>시도코드</th>\n",
       "      <th>시도명</th>\n",
       "      <th>시군구코드</th>\n",
       "      <th>시군구명</th>\n",
       "      <th>면적</th>\n",
       "      <th>좌표개수</th>\n",
       "      <th>좌표값</th>\n",
       "      <th>데이터기준일자</th>\n",
       "    </tr>\n",
       "  </thead>\n",
       "  <tbody>\n",
       "    <tr>\n",
       "      <th>0</th>\n",
       "      <td>1784</td>\n",
       "      <td>포이사거리</td>\n",
       "      <td>11</td>\n",
       "      <td>서울특별시</td>\n",
       "      <td>11680</td>\n",
       "      <td>강남구</td>\n",
       "      <td>19816.5</td>\n",
       "      <td>13</td>\n",
       "      <td>POLYGON ((127.045483 37.477389, 127.045158 37....</td>\n",
       "      <td>2015-12-17</td>\n",
       "    </tr>\n",
       "  </tbody>\n",
       "</table>\n",
       "</div>"
      ],
      "text/plain": [
       "   상권번호    상권명 시도코드    시도명  시군구코드 시군구명       면적  좌표개수  \\\n",
       "0  1784  포이사거리   11  서울특별시  11680  강남구  19816.5    13   \n",
       "\n",
       "                                                 좌표값     데이터기준일자  \n",
       "0  POLYGON ((127.045483 37.477389, 127.045158 37....  2015-12-17  "
      ]
     },
     "execution_count": 81,
     "metadata": {},
     "output_type": "execute_result"
    }
   ],
   "source": [
    "df.columns=['상권번호','상권명','시도코드','시도명','시군구코드','시군구명','면적','좌표개수','좌표값','데이터기준일자']\n",
    "df\n",
    "    "
   ]
  },
  {
   "cell_type": "code",
   "execution_count": null,
   "metadata": {},
   "outputs": [],
   "source": []
  },
  {
   "cell_type": "code",
   "execution_count": null,
   "metadata": {},
   "outputs": [],
   "source": []
  }
 ],
 "metadata": {
  "kernelspec": {
   "display_name": "Python 3",
   "language": "python",
   "name": "python3"
  },
  "language_info": {
   "codemirror_mode": {
    "name": "ipython",
    "version": 3
   },
   "file_extension": ".py",
   "mimetype": "text/x-python",
   "name": "python",
   "nbconvert_exporter": "python",
   "pygments_lexer": "ipython3",
   "version": "3.8.3"
  }
 },
 "nbformat": 4,
 "nbformat_minor": 4
}
