{
 "cells": [
  {
   "cell_type": "markdown",
   "metadata": {},
   "source": [
    "# string method"
   ]
  },
  {
   "cell_type": "markdown",
   "metadata": {},
   "source": [
    "### capitalize"
   ]
  },
  {
   "cell_type": "code",
   "execution_count": null,
   "metadata": {},
   "outputs": [],
   "source": [
    "a = \"bee sting\" \n",
    "print(a.capitalize())   # 'bee sting'.capitalize() 와 같음"
   ]
  },
  {
   "cell_type": "code",
   "execution_count": 2,
   "metadata": {},
   "outputs": [
    {
     "name": "stdout",
     "output_type": "stream",
     "text": [
      "bee\n"
     ]
    }
   ],
   "source": [
    "a = \"BEE\"\n",
    "print(a.casefold())  # 소문자로 만듦"
   ]
  },
  {
   "cell_type": "markdown",
   "metadata": {},
   "source": [
    "### center"
   ]
  },
  {
   "cell_type": "code",
   "execution_count": 6,
   "metadata": {},
   "outputs": [
    {
     "name": "stdout",
     "output_type": "stream",
     "text": [
      "----bee-----\n"
     ]
    }
   ],
   "source": [
    "a = \"bee\" \n",
    "b = a.center(12, \"-\")  #12개 중 가운데에 a를 놓고 남은 곳엔 -를 채워넣음\n",
    "print(b)"
   ]
  },
  {
   "cell_type": "markdown",
   "metadata": {},
   "source": [
    "### count"
   ]
  },
  {
   "cell_type": "markdown",
   "metadata": {},
   "source": [
    "a = \"Mushroooom soup\" \n",
    "print(a.count(\"O\"))\n",
    "print(a.count(\"o\"))\n",
    "print(a.count(\"oo\"))\n",
    "print(a.count(\"ooo\"))\n",
    "print(a.count(\"Homer\"))\n",
    "print(a.count(\"o\", 4, 7)) ##4번째와 7번째 사이에 o가 몇개?\n",
    "print(a.count(\"o\", 7))  ## 7번째부터 끝까지"
   ]
  },
  {
   "cell_type": "markdown",
   "metadata": {},
   "source": [
    "### encode & decode"
   ]
  },
  {
   "cell_type": "code",
   "execution_count": 14,
   "metadata": {},
   "outputs": [
    {
     "data": {
      "text/plain": [
       "b'encode'"
      ]
     },
     "execution_count": 14,
     "metadata": {},
     "output_type": "execute_result"
    }
   ],
   "source": [
    "a='encode'\n",
    "a=a.encode()\n",
    "a"
   ]
  },
  {
   "cell_type": "code",
   "execution_count": 16,
   "metadata": {},
   "outputs": [
    {
     "data": {
      "text/plain": [
       "b'\\xeb\\x8d\\xb0\\xec\\x9d\\xb4\\xed\\x84\\xb0\\xeb\\xb6\\x84\\xec\\x84\\x9d'"
      ]
     },
     "execution_count": 16,
     "metadata": {},
     "output_type": "execute_result"
    }
   ],
   "source": [
    "b='데이터분석'\n",
    "b=b.encode()\n",
    "b"
   ]
  },
  {
   "cell_type": "code",
   "execution_count": 19,
   "metadata": {},
   "outputs": [
    {
     "data": {
      "text/plain": [
       "'데이터분석'"
      ]
     },
     "execution_count": 19,
     "metadata": {},
     "output_type": "execute_result"
    }
   ],
   "source": [
    "b.decode()  # decode를 해야 원래 상태로 보여줌"
   ]
  },
  {
   "cell_type": "code",
   "execution_count": 20,
   "metadata": {},
   "outputs": [],
   "source": [
    "# csv파일 불러왔을 때 한글이 깨지는 현상 ?\n",
    "# 1. enocodingd을 utf-8로\n",
    "# 2. 저장을 utf-8로"
   ]
  },
  {
   "cell_type": "markdown",
   "metadata": {},
   "source": [
    "### endswith"
   ]
  },
  {
   "cell_type": "code",
   "execution_count": 22,
   "metadata": {},
   "outputs": [
    {
     "name": "stdout",
     "output_type": "stream",
     "text": [
      "True\n",
      "True\n",
      "False\n",
      "True\n"
     ]
    }
   ],
   "source": [
    "a = \"Banana\"\n",
    "print(a.endswith(\"a\"))\n",
    "print(a.endswith(\"nana\"))\n",
    "print(a.endswith(\"z\"))\n",
    "print(a.endswith(\"an\", 1, 3))   #문자 중간에 글자가 포함되어 있는지 확인할 때 유용"
   ]
  },
  {
   "cell_type": "markdown",
   "metadata": {},
   "source": [
    "### expandtabs"
   ]
  },
  {
   "cell_type": "code",
   "execution_count": 23,
   "metadata": {},
   "outputs": [
    {
     "name": "stdout",
     "output_type": "stream",
     "text": [
      "1\t2\t3\n",
      "1       2       3\n",
      "1           2           3\n",
      "1 2 3\n"
     ]
    }
   ],
   "source": [
    "a = \"1\\t2\\t3\"   # \\t는 탭문자열 나타냄\n",
    "print(a)\n",
    "print(a.expandtabs())\n",
    "print(a.expandtabs(tabsize=12))    # \\t사이즈를 정함\n",
    "print(a.expandtabs(tabsize=2))"
   ]
  },
  {
   "cell_type": "markdown",
   "metadata": {},
   "source": [
    "### find"
   ]
  },
  {
   "cell_type": "code",
   "execution_count": 24,
   "metadata": {},
   "outputs": [
    {
     "name": "stdout",
     "output_type": "stream",
     "text": [
      "0\n",
      "-1\n",
      "3\n",
      "3\n",
      "4\n",
      "-1\n",
      "-1\n"
     ]
    }
   ],
   "source": [
    "a = \"Fitness\"\n",
    "print(a.find(\"F\"))\n",
    "print(a.find(\"f\"))    # -1 = '그 문자열을 못 찾았습니다'\n",
    "print(a.find(\"n\"))\n",
    "print(a.find(\"ness\"))\n",
    "print(a.find(\"ess\"))\n",
    "print(a.find(\"z\"))\n",
    "print(a.find(\"Homer\"))"
   ]
  },
  {
   "cell_type": "markdown",
   "metadata": {},
   "source": [
    "### format & format_map"
   ]
  },
  {
   "cell_type": "code",
   "execution_count": 32,
   "metadata": {},
   "outputs": [
    {
     "name": "stdout",
     "output_type": "stream",
     "text": [
      "Tea and Coffee\n",
      "빵 and 커피\n"
     ]
    }
   ],
   "source": [
    "print(\"{} and {}\".format(\"Tea\", \"Coffee\"))\n",
    "print(\"{} and {}\".format(\"빵\", \"커피\"))"
   ]
  },
  {
   "cell_type": "code",
   "execution_count": 27,
   "metadata": {},
   "outputs": [
    {
     "name": "stdout",
     "output_type": "stream",
     "text": [
      "Coffee and Tea\n"
     ]
    }
   ],
   "source": [
    "print(\"{1} and {0}\".format(\"Tea\", \"Coffee\"))  # 순서를 지정할 수도 있음"
   ]
  },
  {
   "cell_type": "code",
   "execution_count": 28,
   "metadata": {},
   "outputs": [
    {
     "name": "stdout",
     "output_type": "stream",
     "text": [
      "Peas and Beans\n"
     ]
    }
   ],
   "source": [
    "print(\"{lunch} and {dinner}\".format(lunch=\"Peas\", dinner=\"Beans\")) #변수를 지정해서 가능"
   ]
  },
  {
   "cell_type": "code",
   "execution_count": 33,
   "metadata": {},
   "outputs": [
    {
     "name": "stdout",
     "output_type": "stream",
     "text": [
      "1, 2, 3\n",
      "1, 3, 3\n"
     ]
    }
   ],
   "source": [
    "print(\"{0}, {1}, {2}\".format(*\"123\"))\n",
    "print(\"{0}, {2}, {2}\".format(*\"123\"))"
   ]
  },
  {
   "cell_type": "code",
   "execution_count": 31,
   "metadata": {},
   "outputs": [
    {
     "name": "stdout",
     "output_type": "stream",
     "text": [
      "Lunch: Pizza, Wine\n"
     ]
    }
   ],
   "source": [
    "lunch = {\"food\": \"Pizza\", \"drink\": \"Wine\"}   ## 딕셔너리 형태로도 가능. value값 출력\n",
    "print(\"Lunch: {food}, {drink}\".format(**lunch))"
   ]
  },
  {
   "cell_type": "code",
   "execution_count": 34,
   "metadata": {},
   "outputs": [
    {
     "name": "stdout",
     "output_type": "stream",
     "text": [
      "Lunch: Pizza, Wine\n"
     ]
    }
   ],
   "source": [
    "lunch = {\"Food\": \"Pizza\", \"Drink\": \"Wine\"}\n",
    "print(\"Lunch: {Food}, {Drink}\".format_map(lunch))"
   ]
  },
  {
   "cell_type": "code",
   "execution_count": 35,
   "metadata": {},
   "outputs": [],
   "source": [
    "class Default(dict):\n",
    "    def __missing__(self, key):\n",
    "      return key"
   ]
  },
  {
   "cell_type": "code",
   "execution_count": 36,
   "metadata": {},
   "outputs": [
    {
     "name": "stdout",
     "output_type": "stream",
     "text": [
      "Lunch: Pizza, Drink\n"
     ]
    }
   ],
   "source": [
    "lunch = {\"Food\": \"Pizza\"}\n",
    "print(\"Lunch: {Food}, {Drink}\".format_map(Default(lunch)))"
   ]
  },
  {
   "cell_type": "code",
   "execution_count": 37,
   "metadata": {},
   "outputs": [
    {
     "name": "stdout",
     "output_type": "stream",
     "text": [
      "Lunch: Food, Wine\n"
     ]
    }
   ],
   "source": [
    "lunch = {\"Drink\": \"Wine\"}\n",
    "print(\"Lunch: {Food}, {Drink}\".format_map(Default(lunch)))"
   ]
  },
  {
   "cell_type": "markdown",
   "metadata": {},
   "source": [
    "### index"
   ]
  },
  {
   "cell_type": "code",
   "execution_count": 41,
   "metadata": {},
   "outputs": [
    {
     "name": "stdout",
     "output_type": "stream",
     "text": [
      "0\n",
      "3\n",
      "3\n",
      "4\n"
     ]
    }
   ],
   "source": [
    "a = \"Fitness\"\n",
    "print(a.index(\"F\"))\n",
    "print(a.index(\"n\"))\n",
    "print(a.index(\"ness\"))\n",
    "print(a.index(\"ess\"))\n"
   ]
  },
  {
   "cell_type": "code",
   "execution_count": 40,
   "metadata": {},
   "outputs": [
    {
     "ename": "ValueError",
     "evalue": "substring not found",
     "output_type": "error",
     "traceback": [
      "\u001b[1;31m---------------------------------------------------------------------------\u001b[0m",
      "\u001b[1;31mValueError\u001b[0m                                Traceback (most recent call last)",
      "\u001b[1;32m<ipython-input-40-750d803d556f>\u001b[0m in \u001b[0;36m<module>\u001b[1;34m\u001b[0m\n\u001b[1;32m----> 1\u001b[1;33m \u001b[0mprint\u001b[0m\u001b[1;33m(\u001b[0m\u001b[0ma\u001b[0m\u001b[1;33m.\u001b[0m\u001b[0mindex\u001b[0m\u001b[1;33m(\u001b[0m\u001b[1;34m\"z\"\u001b[0m\u001b[1;33m)\u001b[0m\u001b[1;33m)\u001b[0m\u001b[1;33m\u001b[0m\u001b[1;33m\u001b[0m\u001b[0m\n\u001b[0m",
      "\u001b[1;31mValueError\u001b[0m: substring not found"
     ]
    }
   ],
   "source": [
    "print(a.index(\"z\"))   # 못찾으면 error 나옴 (find는 -1 돌려줌)"
   ]
  },
  {
   "cell_type": "markdown",
   "metadata": {},
   "source": [
    "## isalum"
   ]
  },
  {
   "cell_type": "code",
   "execution_count": 42,
   "metadata": {},
   "outputs": [
    {
     "name": "stdout",
     "output_type": "stream",
     "text": [
      "True\n",
      "True\n",
      "False\n",
      "False\n",
      "False\n"
     ]
    }
   ],
   "source": [
    "c = \"Fitness\"\n",
    "print(c.isalnum())\n",
    "\n",
    "c = \"123\"\n",
    "print(c.isalnum())    #문자열이어도 숫자로 되어 있는지 아닌지 알 수 있음\n",
    "\n",
    "c = \"1.23\"\n",
    "print(c.isalnum())\n",
    "\n",
    "c = \"$*%!!!\"\n",
    "print(c.isalnum())\n",
    "\n",
    "c = \"0.34j\"\n",
    "print(c.isalnum())"
   ]
  },
  {
   "cell_type": "markdown",
   "metadata": {},
   "source": [
    "### isalpha "
   ]
  },
  {
   "cell_type": "code",
   "execution_count": 43,
   "metadata": {},
   "outputs": [
    {
     "name": "stdout",
     "output_type": "stream",
     "text": [
      "True\n",
      "False\n",
      "False\n"
     ]
    }
   ],
   "source": [
    "c = \"Fitness\"\n",
    "print(c.isalpha())\n",
    "\n",
    "c = \"123\"\n",
    "print(c.isalpha())\n",
    "\n",
    "c = \"$*%!!!\"\n",
    "print(c.isalpha())"
   ]
  },
  {
   "cell_type": "markdown",
   "metadata": {},
   "source": [
    "### isdecimal"
   ]
  },
  {
   "cell_type": "code",
   "execution_count": 45,
   "metadata": {},
   "outputs": [
    {
     "name": "stdout",
     "output_type": "stream",
     "text": [
      "True\n",
      "False\n",
      "False\n",
      "False\n",
      "False\n",
      "False\n"
     ]
    }
   ],
   "source": [
    "c = \"123\"  # 십진법 숫자인지 아닌지 알려줌ㅁ\n",
    "print(c.isdecimal())\n",
    "\n",
    "c = u\"\\u00B2\"\n",
    "print(c.isdecimal())\n",
    "\n",
    "c = \"1.23\"\n",
    "print(c.isdecimal())\n",
    "\n",
    "c = \"u123\"\n",
    "print(c.isdecimal())\n",
    "\n",
    "c = \"Fitness\"\n",
    "print(c.isdecimal())\n",
    "\n",
    "c = \"$*%!!!\"\n",
    "print(c.isdecimal())"
   ]
  },
  {
   "cell_type": "markdown",
   "metadata": {},
   "source": [
    "### isdigit"
   ]
  },
  {
   "cell_type": "code",
   "execution_count": 46,
   "metadata": {},
   "outputs": [
    {
     "name": "stdout",
     "output_type": "stream",
     "text": [
      "True\n",
      "True\n",
      "False\n",
      "False\n",
      "False\n",
      "False\n"
     ]
    }
   ],
   "source": [
    "c = \"123\"\n",
    "print(c.isdigit())\n",
    "\n",
    "c = u\"\\u00B2\"\n",
    "print(c.isdigit())\n",
    "\n",
    "c = \"1.23\"\n",
    "print(c.isdigit())\n",
    "\n",
    "c = \"u123\"\n",
    "print(c.isdigit())\n",
    "\n",
    "c = \"Fitness\"\n",
    "print(c.isdigit())\n",
    "\n",
    "c = \"$*%!!!\"\n",
    "print(c.isdigit())"
   ]
  },
  {
   "cell_type": "markdown",
   "metadata": {},
   "source": [
    "### isidentifier"
   ]
  },
  {
   "cell_type": "code",
   "execution_count": 47,
   "metadata": {},
   "outputs": [
    {
     "name": "stdout",
     "output_type": "stream",
     "text": [
      "False\n",
      "True\n",
      "False\n",
      "True\n",
      "True\n"
     ]
    }
   ],
   "source": [
    "a = \"123\"\n",
    "print(a.isidentifier())\n",
    "\n",
    "a = \"_user_123\"\n",
    "print(a.isidentifier())\n",
    "\n",
    "a = \"_user-123\"\n",
    "print(a.isidentifier())\n",
    "\n",
    "a = \"Homer\"\n",
    "print(a.isidentifier())\n",
    "\n",
    "a = \"for\"\n",
    "print(a.isidentifier())"
   ]
  },
  {
   "cell_type": "markdown",
   "metadata": {},
   "source": [
    "### islower"
   ]
  },
  {
   "cell_type": "code",
   "execution_count": 48,
   "metadata": {},
   "outputs": [
    {
     "name": "stdout",
     "output_type": "stream",
     "text": [
      "False\n",
      "False\n",
      "True\n",
      "False\n",
      "False\n",
      "True\n",
      "True\n"
     ]
    }
   ],
   "source": [
    "a = \" \"    # 소문자로만 구성되어 있는가\n",
    "print(a.islower())\n",
    "\n",
    "a = \"123\"\n",
    "print(a.islower())\n",
    "\n",
    "a = \"_user_123\"\n",
    "print(a.islower())\n",
    "\n",
    "a = \"Homer\"\n",
    "print(a.islower())\n",
    "\n",
    "a = \"HOMER\"\n",
    "print(a.islower())\n",
    "\n",
    "a = \"homer\"\n",
    "print(a.islower())\n",
    "\n",
    "a = \"HOMER\"\n",
    "a = a.casefold()  #HOMER는 대문자이지민 casefold를 사용해서 소문자로 변환\n",
    "print(a.islower())"
   ]
  },
  {
   "cell_type": "markdown",
   "metadata": {},
   "source": [
    "### isnumeric"
   ]
  },
  {
   "cell_type": "code",
   "execution_count": 49,
   "metadata": {},
   "outputs": [
    {
     "name": "stdout",
     "output_type": "stream",
     "text": [
      "True\n",
      "True\n",
      "False\n",
      "False\n",
      "False\n",
      "False\n"
     ]
    }
   ],
   "source": [
    "c = \"123\"\n",
    "print(c.isnumeric())\n",
    "\n",
    "c = u\"\\u00B2\"\n",
    "print(c.isnumeric())\n",
    "\n",
    "c = \"1.23\"\n",
    "print(c.isnumeric())\n",
    "\n",
    "c = \"u123\"\n",
    "print(c.isnumeric())\n",
    "\n",
    "c = \"Fitness\"\n",
    "print(c.isnumeric())\n",
    "\n",
    "c = \"$*%!!!\"\n",
    "print(c.isnumeric())"
   ]
  },
  {
   "cell_type": "markdown",
   "metadata": {},
   "source": [
    "### isprintable"
   ]
  },
  {
   "cell_type": "code",
   "execution_count": 51,
   "metadata": {},
   "outputs": [
    {
     "name": "stdout",
     "output_type": "stream",
     "text": [
      "True\n",
      "True\n",
      "True\n",
      "True\n",
      "False\n",
      "False\n",
      "False\n"
     ]
    }
   ],
   "source": [
    "a = \"\"\n",
    "print(a.isprintable())\n",
    "\n",
    "a = \" \"\n",
    "print(a.isprintable())\n",
    "\n",
    "a = u\"\\u00B2\"\n",
    "print(a.isprintable())\n",
    "\n",
    "a = \"Bart\"\n",
    "print(a.isprintable())\n",
    "\n",
    "a = \"\\t\"\n",
    "print(a.isprintable())\n",
    "\n",
    "a = \"\\r\\n\"\n",
    "print(a.isprintable())\n",
    "\n",
    "a = \"Bart \\r\"\n",
    "print(a.isprintable())"
   ]
  },
  {
   "cell_type": "markdown",
   "metadata": {},
   "source": [
    "### isspace"
   ]
  },
  {
   "cell_type": "code",
   "execution_count": 52,
   "metadata": {},
   "outputs": [
    {
     "name": "stdout",
     "output_type": "stream",
     "text": [
      "False\n",
      "True\n",
      "False\n",
      "True\n",
      "True\n",
      "False\n"
     ]
    }
   ],
   "source": [
    "a = \"\"   # space가 있는지 없는지\n",
    "print(a.isspace())\n",
    "\n",
    "a = \" \"\n",
    "print(a.isspace())\n",
    "\n",
    "a = \"Bart\"\n",
    "print(a.isspace())\n",
    "\n",
    "a = \"\\t\"\n",
    "print(a.isspace())\n",
    "\n",
    "a = \"\\r\\n\"\n",
    "print(a.isspace())\n",
    "\n",
    "a = \"Bart \\r\"\n",
    "print(a.isspace())"
   ]
  },
  {
   "cell_type": "markdown",
   "metadata": {},
   "source": [
    "### istitle"
   ]
  },
  {
   "cell_type": "code",
   "execution_count": 54,
   "metadata": {},
   "outputs": [
    {
     "name": "stdout",
     "output_type": "stream",
     "text": [
      "False\n",
      "False\n",
      "False\n",
      "True\n",
      "True\n",
      "False\n",
      "True\n",
      "True\n"
     ]
    }
   ],
   "source": [
    "a = \"\"\n",
    "print(a.istitle())\n",
    "\n",
    "a = \" \"\n",
    "print(a.istitle())\n",
    "\n",
    "a = \" t\"\n",
    "print(a.istitle())\n",
    "\n",
    "a = \" T\"\n",
    "print(a.istitle())\n",
    "\n",
    "a = \"Tea\"\n",
    "print(a.istitle())\n",
    "\n",
    "a = \"Tea and Coffee\"\n",
    "print(a.istitle())\n",
    "\n",
    "a = \"Tea And Coffee\"\n",
    "print(a.istitle())\n",
    "\n",
    "a = \"1. Tea & Coffee \\r\"\n",
    "print(a.istitle())"
   ]
  },
  {
   "cell_type": "markdown",
   "metadata": {},
   "source": [
    "### isupper"
   ]
  },
  {
   "cell_type": "code",
   "execution_count": 55,
   "metadata": {},
   "outputs": [
    {
     "name": "stdout",
     "output_type": "stream",
     "text": [
      "False\n",
      "False\n",
      "True\n",
      "False\n",
      "True\n",
      "False\n",
      "False\n"
     ]
    }
   ],
   "source": [
    "a = \"  \"  \n",
    "print(a.isupper())\n",
    "\n",
    "a = \"123\"\n",
    "print(a.isupper())\n",
    "\n",
    "a = \"_USER_123\"    # 문자열이 대문자로만 이루어져 있는지\n",
    "print(a.isupper())\n",
    "\n",
    "a = \"Homer\"        # 대문자가 있지만 소문자도 있음\n",
    "print(a.isupper()) \n",
    "\n",
    "a = \"HOMER\"\n",
    "print(a.isupper())\n",
    "\n",
    "a = \"homer\"\n",
    "print(a.isupper())\n",
    "\n",
    "a = \"HOMER\"\n",
    "a = a.casefold()   # HOMER를 소문자화함\n",
    "print(a.isupper())"
   ]
  },
  {
   "cell_type": "markdown",
   "metadata": {},
   "source": [
    "### join"
   ]
  },
  {
   "cell_type": "code",
   "execution_count": 57,
   "metadata": {},
   "outputs": [
    {
     "name": "stdout",
     "output_type": "stream",
     "text": [
      "1-2-3\n",
      "U.S.A\n",
      "Dr. Who\n"
     ]
    }
   ],
   "source": [
    "a = \"-\"\n",
    "print(a.join(\"123\"))\n",
    "\n",
    "a = \".\"\n",
    "print(a.join(\"USA\"))    #USA 글자 사이에 넣음\n",
    "\n",
    "a = \". \"\n",
    "print(a.join((\"Dr\", \"Who\")))  # Dr와 Who 사이에 넣음"
   ]
  },
  {
   "cell_type": "markdown",
   "metadata": {},
   "source": [
    "### ljust  & rjust"
   ]
  },
  {
   "cell_type": "code",
   "execution_count": 71,
   "metadata": {},
   "outputs": [
    {
     "name": "stdout",
     "output_type": "stream",
     "text": [
      "bee---------\n"
     ]
    }
   ],
   "source": [
    "a = \"bee\" \n",
    "b = a.ljust(12, \"-\")   # 12글자 중 bee를 넣는데 왼쪽에 넣고, 나머지는 -로 채움\n",
    "print(b)"
   ]
  },
  {
   "cell_type": "code",
   "execution_count": 72,
   "metadata": {},
   "outputs": [
    {
     "name": "stdout",
     "output_type": "stream",
     "text": [
      "---------bee\n"
     ]
    }
   ],
   "source": [
    "a = \"bee\" \n",
    "b = a.rjust(12, \"-\")     #오른쪽으로 넣고 나머지는 -\n",
    "print(b)"
   ]
  },
  {
   "cell_type": "markdown",
   "metadata": {},
   "source": [
    "### maketrans"
   ]
  },
  {
   "cell_type": "code",
   "execution_count": 62,
   "metadata": {},
   "outputs": [
    {
     "name": "stdout",
     "output_type": "stream",
     "text": [
      "123425 6782\n"
     ]
    }
   ],
   "source": [
    "frm = \"SecrtCod\"\n",
    "to = \"12345678\"\n",
    "trans_table = str.maketrans(frm, to)   # SecrtCod의 각각 글자를 12345678에 배당\n",
    "secret_code = \"Secret Code\".translate(trans_table)\n",
    "print(secret_code)"
   ]
  },
  {
   "cell_type": "markdown",
   "metadata": {},
   "source": [
    "### partition & rpartition"
   ]
  },
  {
   "cell_type": "code",
   "execution_count": 64,
   "metadata": {},
   "outputs": [
    {
     "name": "stdout",
     "output_type": "stream",
     "text": [
      "('Python', '-', 'program')\n",
      "('Python-program', '', '')\n"
     ]
    }
   ],
   "source": [
    "a = \"Python-program\"\n",
    "\n",
    "print(a.partition(\"-\"))  # - 를 기준으로 앞 뒤 나누기\n",
    "print(a.partition(\".\"))  # 없으면 str을 왼쪽으로"
   ]
  },
  {
   "cell_type": "code",
   "execution_count": 73,
   "metadata": {},
   "outputs": [
    {
     "name": "stdout",
     "output_type": "stream",
     "text": [
      "('Homer-Jay', '-', 'Simpson')\n",
      "('', '', 'Homer-Jay-Simpson')\n"
     ]
    }
   ],
   "source": [
    "a = \"Homer-Jay-Simpson\"\n",
    "\n",
    "print(a.rpartition(\"-\"))\n",
    "print(a.rpartition(\".\"))  # 없으면 str을 오른쪽으로"
   ]
  },
  {
   "cell_type": "markdown",
   "metadata": {},
   "source": [
    "### replace"
   ]
  },
  {
   "cell_type": "code",
   "execution_count": 66,
   "metadata": {},
   "outputs": [
    {
     "name": "stdout",
     "output_type": "stream",
     "text": [
      "Coffee bag. Coffee cup. Coffee leaves.\n",
      "Coffee bag. Coffee cup. Tea leaves.\n"
     ]
    }
   ],
   "source": [
    "a = \"Tea bag. Tea cup. Tea leaves.\"\n",
    "\n",
    "print(a.replace(\"Tea\", \"Coffee\"))\n",
    "print(a.replace(\"Tea\", \"Coffee\", 2))   #대체하는 걸 두 번만"
   ]
  },
  {
   "cell_type": "markdown",
   "metadata": {},
   "source": [
    "### rfind"
   ]
  },
  {
   "cell_type": "code",
   "execution_count": 67,
   "metadata": {},
   "outputs": [
    {
     "name": "stdout",
     "output_type": "stream",
     "text": [
      "0\n",
      "8\n",
      "10\n",
      "9\n",
      "-1\n",
      "-1\n",
      "-1\n"
     ]
    }
   ],
   "source": [
    "a = \"Yes Fitness\"\n",
    "\n",
    "print(a.rfind(\"Y\"))    # 'Y'가 0번째에 있음\n",
    "print(a.rfind(\"e\"))\n",
    "print(a.rfind(\"s\"))\n",
    "print(a.rfind(\"ss\"))\n",
    "print(a.rfind(\"y\"))     # 찾고자 하는 문자열이 없으면 -1을 출력\n",
    "print(a.rfind(\"z\"))\n",
    "print(a.rfind(\"Homer\"))"
   ]
  },
  {
   "cell_type": "markdown",
   "metadata": {},
   "source": [
    "### rindex"
   ]
  },
  {
   "cell_type": "code",
   "execution_count": 68,
   "metadata": {},
   "outputs": [
    {
     "name": "stdout",
     "output_type": "stream",
     "text": [
      "0\n",
      "8\n",
      "10\n",
      "9\n"
     ]
    }
   ],
   "source": [
    "a = \"Yes Fitness\"\n",
    "\n",
    "print(a.rindex(\"Y\"))\n",
    "print(a.rindex(\"e\"))\n",
    "print(a.rindex(\"s\"))\n",
    "print(a.rindex(\"ss\"))"
   ]
  },
  {
   "cell_type": "code",
   "execution_count": 69,
   "metadata": {},
   "outputs": [
    {
     "ename": "ValueError",
     "evalue": "substring not found",
     "output_type": "error",
     "traceback": [
      "\u001b[1;31m---------------------------------------------------------------------------\u001b[0m",
      "\u001b[1;31mValueError\u001b[0m                                Traceback (most recent call last)",
      "\u001b[1;32m<ipython-input-69-d9a064dd44a7>\u001b[0m in \u001b[0;36m<module>\u001b[1;34m\u001b[0m\n\u001b[1;32m----> 1\u001b[1;33m \u001b[0mprint\u001b[0m\u001b[1;33m(\u001b[0m\u001b[0ma\u001b[0m\u001b[1;33m.\u001b[0m\u001b[0mrindex\u001b[0m\u001b[1;33m(\u001b[0m\u001b[1;34m\"y\"\u001b[0m\u001b[1;33m)\u001b[0m\u001b[1;33m)\u001b[0m\u001b[1;33m\u001b[0m\u001b[1;33m\u001b[0m\u001b[0m\n\u001b[0m\u001b[0;32m      2\u001b[0m \u001b[0mprint\u001b[0m\u001b[1;33m(\u001b[0m\u001b[0ma\u001b[0m\u001b[1;33m.\u001b[0m\u001b[0mrindex\u001b[0m\u001b[1;33m(\u001b[0m\u001b[1;34m\"z\"\u001b[0m\u001b[1;33m)\u001b[0m\u001b[1;33m)\u001b[0m\u001b[1;33m\u001b[0m\u001b[1;33m\u001b[0m\u001b[0m\n\u001b[0;32m      3\u001b[0m \u001b[0mprint\u001b[0m\u001b[1;33m(\u001b[0m\u001b[0ma\u001b[0m\u001b[1;33m.\u001b[0m\u001b[0mrindex\u001b[0m\u001b[1;33m(\u001b[0m\u001b[1;34m\"Homer\"\u001b[0m\u001b[1;33m)\u001b[0m\u001b[1;33m)\u001b[0m\u001b[1;33m\u001b[0m\u001b[1;33m\u001b[0m\u001b[0m\n",
      "\u001b[1;31mValueError\u001b[0m: substring not found"
     ]
    }
   ],
   "source": [
    "print(a.rindex(\"y\"))  # 없는 값은 Error를 출력\n",
    "print(a.rindex(\"z\"))\n",
    "print(a.rindex(\"Homer\"))"
   ]
  },
  {
   "cell_type": "markdown",
   "metadata": {},
   "source": [
    "### split & rsplit"
   ]
  },
  {
   "cell_type": "code",
   "execution_count": 76,
   "metadata": {},
   "outputs": [
    {
     "name": "stdout",
     "output_type": "stream",
     "text": [
      "['Homer', 'Jay', 'Simpson']\n",
      "['Homer', 'Jay-Simpson']\n",
      "['Homer', '', 'Bart', '']\n",
      "['Homer', ',Bart']\n",
      "['Homer', 'Bart', 'Marge']\n"
     ]
    }
   ],
   "source": [
    "a = \"Homer Jay Simpson\"\n",
    "print(a.split())\n",
    "\n",
    "a = \"Homer-Jay-Simpson\"\n",
    "print(a.split(sep=\"-\",maxsplit=1))   #최대 한 번만 나눔\n",
    "\n",
    "a = \"Homer,,Bart,\"\n",
    "print(a.split(\",\"))\n",
    "\n",
    "a = \"Homer,,Bart\"\n",
    "print(a.split(\",\", maxsplit=1)) \n",
    "\n",
    "a = \"Homer<>Bart<>Marge\"\n",
    "print(a.split(\"<>\"))"
   ]
  },
  {
   "cell_type": "code",
   "execution_count": 77,
   "metadata": {},
   "outputs": [
    {
     "name": "stdout",
     "output_type": "stream",
     "text": [
      "['Homer', 'Jay', 'Simpson']\n",
      "['Homer-Jay', 'Simpson']\n"
     ]
    }
   ],
   "source": [
    "a = \"Homer Jay Simpson\"\n",
    "print(a.rsplit())\n",
    "\n",
    "a = \"Homer-Jay-Simpson\"\n",
    "print(a.rsplit(sep=\"-\",maxsplit=1))  #최대 한 번만 나누는데, 오른쪽에서 시작"
   ]
  },
  {
   "cell_type": "markdown",
   "metadata": {},
   "source": [
    "### strip & rstrip"
   ]
  },
  {
   "cell_type": "code",
   "execution_count": 79,
   "metadata": {},
   "outputs": [
    {
     "name": "stdout",
     "output_type": "stream",
     "text": [
      "Bee !\n",
      "Bee\n"
     ]
    }
   ],
   "source": [
    "a = \"      Bee      \"\n",
    "print(a.strip(), \"!\")  #공백을 벗겨냄\n",
    "\n",
    "a = \"-----Bee-----\"\n",
    "print(a.strip(\"-\"))   #-를 모두 벗겨냄"
   ]
  },
  {
   "cell_type": "code",
   "execution_count": 80,
   "metadata": {},
   "outputs": [
    {
     "name": "stdout",
     "output_type": "stream",
     "text": [
      "      Bee !\n",
      "-----Bee\n"
     ]
    }
   ],
   "source": [
    "a = \"      Bee      \"\n",
    "print(a.rstrip(), \"!\")\n",
    "\n",
    "a = \"-----Bee-----\"\n",
    "print(a.rstrip(\"-\"))   #오른쪽에서 시작"
   ]
  },
  {
   "cell_type": "code",
   "execution_count": null,
   "metadata": {},
   "outputs": [],
   "source": []
  }
 ],
 "metadata": {
  "kernelspec": {
   "display_name": "Python 3",
   "language": "python",
   "name": "python3"
  },
  "language_info": {
   "codemirror_mode": {
    "name": "ipython",
    "version": 3
   },
   "file_extension": ".py",
   "mimetype": "text/x-python",
   "name": "python",
   "nbconvert_exporter": "python",
   "pygments_lexer": "ipython3",
   "version": "3.8.3"
  }
 },
 "nbformat": 4,
 "nbformat_minor": 4
}
