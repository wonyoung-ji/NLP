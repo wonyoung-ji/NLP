{
 "cells": [
  {
   "cell_type": "code",
   "execution_count": null,
   "metadata": {},
   "outputs": [],
   "source": [
    "start_number=input('시작숫자:')\n",
    "end_number=input('마지막숫자:')\n",
    "print('-'*40)\n",
    "\n",
    "number_list=[]\n",
    "\n",
    "for number in range(int(start_number),int(end_number)+1):\n",
    "    number_list.append(number)\n",
    "\n",
    "a=str(number_list)\n",
    "b=''.join(a)\n",
    "\n",
    "number1=[];number2=[];number3=[];number4=[];number5=[]\n",
    "number6=[];number7=[];number8=[];number9=[];number0=[]\n",
    "\n",
    "for i in b:\n",
    "    if i == '1':\n",
    "        number1.append(i)\n",
    "    elif i == '2':\n",
    "        number2.append(i)\n",
    "    elif i == '3':\n",
    "        number3.append(i)\n",
    "    elif i == '4':\n",
    "        number4.append(i)\n",
    "    elif i == '5':\n",
    "        number5.append(i)\n",
    "    elif i == '6':\n",
    "        number6.append(i)\n",
    "    elif i == '7':\n",
    "        number7.append(i)\n",
    "    elif i == '8':\n",
    "        number8.append(i)\n",
    "    elif i == '9':\n",
    "        number9.append(i)\n",
    "    elif i == '0':\n",
    "        number0.append(i)\n",
    "        \n",
    "        \n",
    "print(' 0의 갯수:', len(number0), '\\n', '1의 갯수:', len(number1), '\\n','2의 갯수:', len(number2), '\\n','3의 갯수:', len(number3),'\\n'\n",
    "' 4의 갯수:', len(number4), '\\n' ' 5의 갯수:', len(number5), '\\n','6의 갯수:', len(number6), '\\n','7의 갯수:', len(number7), '\\n',\n",
    "'8의 갯수:', len(number8), '\\n','9의 갯수:', len(number9))"
   ]
  },
  {
   "cell_type": "code",
   "execution_count": null,
   "metadata": {},
   "outputs": [],
   "source": []
  },
  {
   "cell_type": "code",
   "execution_count": null,
   "metadata": {},
   "outputs": [],
   "source": [
    "i=123; print('i=',i)\n",
    "x=str(i); print('x=',x)   #문자열 > 리스트형"
   ]
  },
  {
   "cell_type": "code",
   "execution_count": null,
   "metadata": {},
   "outputs": [],
   "source": [
    "print(x[0])\n",
    "print(x[1])\n",
    "print(x[2])"
   ]
  },
  {
   "cell_type": "code",
   "execution_count": null,
   "metadata": {},
   "outputs": [],
   "source": [
    "A=[ 0 for i in range(10)]  # 10개짜리 방을 만듦\n"
   ]
  },
  {
   "cell_type": "code",
   "execution_count": null,
   "metadata": {},
   "outputs": [],
   "source": [
    "A=[ 0 for i in range(10)]\n",
    "\n",
    "for i in range(1,1001):\n",
    "    for x in str(i):\n",
    "        A[int(x)] += 1  #A의 x번째 방에 1씩 더함\n",
    "print('A=',A)"
   ]
  },
  {
   "cell_type": "code",
   "execution_count": null,
   "metadata": {},
   "outputs": [],
   "source": []
  },
  {
   "cell_type": "code",
   "execution_count": null,
   "metadata": {},
   "outputs": [],
   "source": []
  },
  {
   "cell_type": "code",
   "execution_count": null,
   "metadata": {},
   "outputs": [],
   "source": []
  },
  {
   "cell_type": "code",
   "execution_count": 67,
   "metadata": {},
   "outputs": [],
   "source": [
    "S=[1,8,4,17, 20, 13, 3]"
   ]
  },
  {
   "cell_type": "code",
   "execution_count": 68,
   "metadata": {},
   "outputs": [
    {
     "data": {
      "text/plain": [
       "[1, 3, 4, 8, 13, 17, 20]"
      ]
     },
     "execution_count": 68,
     "metadata": {},
     "output_type": "execute_result"
    }
   ],
   "source": [
    "S.sort()\n",
    "S"
   ]
  },
  {
   "cell_type": "code",
   "execution_count": 69,
   "metadata": {},
   "outputs": [
    {
     "name": "stdout",
     "output_type": "stream",
     "text": [
      "3 4\n"
     ]
    }
   ],
   "source": [
    "substraction=S[1]-S[0]\n",
    "for i in range(1,len(S)):\n",
    "    if S[i]-S[i-1] < substraction:\n",
    "        substraction = S[i] - S[i-1]\n",
    "        print(S[i-1],S[i])\n"
   ]
  },
  {
   "cell_type": "code",
   "execution_count": null,
   "metadata": {},
   "outputs": [],
   "source": []
  },
  {
   "cell_type": "code",
   "execution_count": null,
   "metadata": {},
   "outputs": [],
   "source": []
  },
  {
   "cell_type": "code",
   "execution_count": 70,
   "metadata": {},
   "outputs": [
    {
     "name": "stdout",
     "output_type": "stream",
     "text": [
      "(8, 8)\n"
     ]
    }
   ],
   "source": [
    "def spairs(a):\n",
    "    pairs = list(zip(s[0:],s[1:]))\n",
    "    pairs.sort(key=lambda x:x[1]-x[0])\n",
    "    return pairs[0]\n",
    "\n",
    "s=[8,23,31,17,33,8,34,12,20,13,3]\n",
    "s.sort()\n",
    "print(spairs(s))"
   ]
  },
  {
   "cell_type": "code",
   "execution_count": null,
   "metadata": {},
   "outputs": [],
   "source": []
  }
 ],
 "metadata": {
  "kernelspec": {
   "display_name": "Python 3",
   "language": "python",
   "name": "python3"
  },
  "language_info": {
   "codemirror_mode": {
    "name": "ipython",
    "version": 3
   },
   "file_extension": ".py",
   "mimetype": "text/x-python",
   "name": "python",
   "nbconvert_exporter": "python",
   "pygments_lexer": "ipython3",
   "version": "3.8.3"
  }
 },
 "nbformat": 4,
 "nbformat_minor": 4
}
