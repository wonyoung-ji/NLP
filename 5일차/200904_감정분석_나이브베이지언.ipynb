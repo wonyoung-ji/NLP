{
  "nbformat": 4,
  "nbformat_minor": 0,
  "metadata": {
    "colab": {
      "name": "200904_감정분석_나이브베이지언.ipynb",
      "provenance": [],
      "collapsed_sections": [],
      "authorship_tag": "ABX9TyMmCHHr67eIw+6jsjHTvGJj",
      "include_colab_link": true
    },
    "kernelspec": {
      "name": "python3",
      "display_name": "Python 3"
    }
  },
  "cells": [
    {
      "cell_type": "markdown",
      "metadata": {
        "id": "view-in-github",
        "colab_type": "text"
      },
      "source": [
        "<a href=\"https://colab.research.google.com/github/wonyoung-ji/NLP/blob/master/5%EC%9D%BC%EC%B0%A8/200904_%EA%B0%90%EC%A0%95%EB%B6%84%EC%84%9D_%EB%82%98%EC%9D%B4%EB%B8%8C%EB%B2%A0%EC%9D%B4%EC%A7%80%EC%96%B8.ipynb\" target=\"_parent\"><img src=\"https://colab.research.google.com/assets/colab-badge.svg\" alt=\"Open In Colab\"/></a>"
      ]
    },
    {
      "cell_type": "code",
      "metadata": {
        "id": "TmPRS0pf2AQm",
        "colab_type": "code",
        "colab": {
          "base_uri": "https://localhost:8080/",
          "height": 131
        },
        "outputId": "611b0f01-8edc-4998-8f56-c04ce1dbe5b4"
      },
      "source": [
        "from google.colab import drive\n",
        "drive.mount('/content/gdrive')"
      ],
      "execution_count": null,
      "outputs": [
        {
          "output_type": "stream",
          "text": [
            "Go to this URL in a browser: https://accounts.google.com/o/oauth2/auth?client_id=947318989803-6bn6qk8qdgf4n4g3pfee6491hc0brc4i.apps.googleusercontent.com&redirect_uri=urn%3aietf%3awg%3aoauth%3a2.0%3aoob&scope=email%20https%3a%2f%2fwww.googleapis.com%2fauth%2fdocs.test%20https%3a%2f%2fwww.googleapis.com%2fauth%2fdrive%20https%3a%2f%2fwww.googleapis.com%2fauth%2fdrive.photos.readonly%20https%3a%2f%2fwww.googleapis.com%2fauth%2fpeopleapi.readonly&response_type=code\n",
            "\n",
            "Enter your authorization code:\n",
            "··········\n",
            "Mounted at /content/gdrive\n"
          ],
          "name": "stdout"
        }
      ]
    },
    {
      "cell_type": "markdown",
      "metadata": {
        "id": "0DGgZ_05NRWs",
        "colab_type": "text"
      },
      "source": [
        "# 직접구현"
      ]
    },
    {
      "cell_type": "code",
      "metadata": {
        "id": "fHFgN5L_2wq5",
        "colab_type": "code",
        "colab": {
          "base_uri": "https://localhost:8080/",
          "height": 233
        },
        "outputId": "97c40d42-a583-4fde-b480-d2408045337f"
      },
      "source": [
        "import pandas as pd\n",
        "df = pd.read_csv('/content/gdrive/My Drive/NLP/naivebayes_example.csv')\n",
        "df\n",
        "#1이 긍정, 0이 부정"
      ],
      "execution_count": null,
      "outputs": [
        {
          "output_type": "execute_result",
          "data": {
            "text/html": [
              "<div>\n",
              "<style scoped>\n",
              "    .dataframe tbody tr th:only-of-type {\n",
              "        vertical-align: middle;\n",
              "    }\n",
              "\n",
              "    .dataframe tbody tr th {\n",
              "        vertical-align: top;\n",
              "    }\n",
              "\n",
              "    .dataframe thead th {\n",
              "        text-align: right;\n",
              "    }\n",
              "</style>\n",
              "<table border=\"1\" class=\"dataframe\">\n",
              "  <thead>\n",
              "    <tr style=\"text-align: right;\">\n",
              "      <th></th>\n",
              "      <th>mail</th>\n",
              "      <th>label</th>\n",
              "    </tr>\n",
              "  </thead>\n",
              "  <tbody>\n",
              "    <tr>\n",
              "      <th>0</th>\n",
              "      <td>i love you</td>\n",
              "      <td>1</td>\n",
              "    </tr>\n",
              "    <tr>\n",
              "      <th>1</th>\n",
              "      <td>love happy weekend</td>\n",
              "      <td>1</td>\n",
              "    </tr>\n",
              "    <tr>\n",
              "      <th>2</th>\n",
              "      <td>bore work job</td>\n",
              "      <td>0</td>\n",
              "    </tr>\n",
              "    <tr>\n",
              "      <th>3</th>\n",
              "      <td>i hate you</td>\n",
              "      <td>0</td>\n",
              "    </tr>\n",
              "    <tr>\n",
              "      <th>4</th>\n",
              "      <td>bore weekend</td>\n",
              "      <td>0</td>\n",
              "    </tr>\n",
              "    <tr>\n",
              "      <th>5</th>\n",
              "      <td>happy together</td>\n",
              "      <td>1</td>\n",
              "    </tr>\n",
              "  </tbody>\n",
              "</table>\n",
              "</div>"
            ],
            "text/plain": [
              "                 mail  label\n",
              "0          i love you      1\n",
              "1  love happy weekend      1\n",
              "2       bore work job      0\n",
              "3          i hate you      0\n",
              "4        bore weekend      0\n",
              "5      happy together      1"
            ]
          },
          "metadata": {
            "tags": []
          },
          "execution_count": 8
        }
      ]
    },
    {
      "cell_type": "code",
      "metadata": {
        "id": "7m235b-N3A8d",
        "colab_type": "code",
        "colab": {
          "base_uri": "https://localhost:8080/",
          "height": 168
        },
        "outputId": "e584b77c-8f68-40d6-b2d9-9fd10bbdc9ba"
      },
      "source": [
        "from collections import defaultdict\n",
        "\n",
        "mails = [ csv.iloc[i,0] for i in range(len(csv))]\n",
        "print(mails)\n",
        "print('\\n')\n",
        "\n",
        "#토큰화\n",
        "mail_ls= [ mail.split(' ') for mail in mails ]\n",
        "print(mail_ls)\n",
        "print('\\n')\n",
        "\n",
        "#인덱스만들기\n",
        "word2id = defaultdict(lambda:len(word2id))\n",
        "for mail in mail_ls:\n",
        "  for token in mail:\n",
        "    word2id[token]\n",
        "print(word2id)"
      ],
      "execution_count": null,
      "outputs": [
        {
          "output_type": "stream",
          "text": [
            "['i love you', 'love happy weekend', 'bore work job', 'i hate you', 'bore weekend', 'happy together']\n",
            "\n",
            "\n",
            "[['i', 'love', 'you'], ['love', 'happy', 'weekend'], ['bore', 'work', 'job'], ['i', 'hate', 'you'], ['bore', 'weekend'], ['happy', 'together']]\n",
            "\n",
            "\n",
            "defaultdict(<function <lambda> at 0x7f49d3eb00d0>, {'i': 0, 'love': 1, 'you': 2, 'happy': 3, 'weekend': 4, 'bore': 5, 'work': 6, 'job': 7, 'hate': 8, 'together': 9})\n"
          ],
          "name": "stdout"
        }
      ]
    },
    {
      "cell_type": "code",
      "metadata": {
        "id": "XlfHT9-83yYa",
        "colab_type": "code",
        "colab": {
          "base_uri": "https://localhost:8080/",
          "height": 129
        },
        "outputId": "11e23333-082f-44ba-a012-3f8731a2243e"
      },
      "source": [
        "import numpy as np\n",
        "\n",
        "#긍정문장만 받기\n",
        "positive_ls = [] \n",
        "for i in range(len(csv)):\n",
        "  if csv.iloc[i,1] == 1:\n",
        "    positive_ls.append(csv.iloc[i,0])\n",
        "\n",
        "#긍정문장 토큰화\n",
        "positive_ls_copy = [words.split(' ') for words in positive_ls]\n",
        "\n",
        "#긍정문장 토큰의 등장횟수세기\n",
        "positive = np.zeros((len(positive_ls),len(word2id)))\n",
        "\n",
        "for i, words in enumerate(positive_ls_copy):\n",
        "  for word in words:\n",
        "    positive[i, word2id[word]] += 1\n",
        "print(positive)\n",
        "print('\\n')\n",
        "\n",
        "#더하기\n",
        "real_positive = np.zeros(len(word2id))\n",
        "for i in range(len(word2id)):\n",
        "  real_positive[i] = np.count_nonzero(positive[:,i])\n",
        "real_positive"
      ],
      "execution_count": null,
      "outputs": [
        {
          "output_type": "stream",
          "text": [
            "[[1. 1. 1. 0. 0. 0. 0. 0. 0. 0.]\n",
            " [0. 1. 0. 1. 1. 0. 0. 0. 0. 0.]\n",
            " [0. 0. 0. 1. 0. 0. 0. 0. 0. 1.]]\n",
            "\n",
            "\n"
          ],
          "name": "stdout"
        },
        {
          "output_type": "execute_result",
          "data": {
            "text/plain": [
              "array([1., 2., 1., 2., 1., 0., 0., 0., 0., 1.])"
            ]
          },
          "metadata": {
            "tags": []
          },
          "execution_count": 39
        }
      ]
    },
    {
      "cell_type": "code",
      "metadata": {
        "id": "UellLi7G5hGD",
        "colab_type": "code",
        "colab": {
          "base_uri": "https://localhost:8080/",
          "height": 129
        },
        "outputId": "4eaa4d6e-92dd-43f9-ddec-44fbefa909e1"
      },
      "source": [
        "#부정문장만 받기\n",
        "negative_ls = [] \n",
        "for i in range(len(csv)):\n",
        "  if csv.iloc[i,1] == 0:\n",
        "    negative_ls.append(csv.iloc[i,0])\n",
        "\n",
        "#긍정문장 토큰화\n",
        "negative_ls_copy = [words.split(' ') for words in negative_ls]\n",
        "\n",
        "#긍정문장 토큰의 등장횟수세기\n",
        "negative = np.zeros((len(negative_ls),len(word2id)))\n",
        "\n",
        "for i, words in enumerate(negative_ls_copy):\n",
        "  for word in words:\n",
        "    negative[i, word2id[word]] += 1\n",
        "print(negative)\n",
        "print('\\n')\n",
        "\n",
        "#더하기\n",
        "real_negative = np.zeros(len(word2id))\n",
        "for i in range(len(word2id)):\n",
        "  real_negative[i] = np.count_nonzero(negative[:,i])\n",
        "real_negative"
      ],
      "execution_count": null,
      "outputs": [
        {
          "output_type": "stream",
          "text": [
            "[[0. 0. 0. 0. 0. 1. 1. 1. 0. 0.]\n",
            " [1. 0. 1. 0. 0. 0. 0. 0. 1. 0.]\n",
            " [0. 0. 0. 0. 1. 1. 0. 0. 0. 0.]]\n",
            "\n",
            "\n"
          ],
          "name": "stdout"
        },
        {
          "output_type": "execute_result",
          "data": {
            "text/plain": [
              "array([1., 0., 1., 0., 1., 2., 1., 1., 1., 0.])"
            ]
          },
          "metadata": {
            "tags": []
          },
          "execution_count": 38
        }
      ]
    },
    {
      "cell_type": "code",
      "metadata": {
        "id": "pYhjuZqS-WQO",
        "colab_type": "code",
        "colab": {
          "base_uri": "https://localhost:8080/",
          "height": 204
        },
        "outputId": "5a1d4449-e00b-413b-fd3e-63a8c95f26f7"
      },
      "source": [
        "sorted_vocab = sorted((values,keys) for keys, values in word2id.items())\n",
        "vocab = [v[1] for v in sorted_vocab]\n",
        "vocab"
      ],
      "execution_count": null,
      "outputs": [
        {
          "output_type": "execute_result",
          "data": {
            "text/plain": [
              "['i',\n",
              " 'love',\n",
              " 'you',\n",
              " 'happy',\n",
              " 'weekend',\n",
              " 'bore',\n",
              " 'work',\n",
              " 'job',\n",
              " 'hate',\n",
              " 'together']"
            ]
          },
          "metadata": {
            "tags": []
          },
          "execution_count": 12
        }
      ]
    },
    {
      "cell_type": "code",
      "metadata": {
        "id": "VbZBxmMJQmM_",
        "colab_type": "code",
        "colab": {
          "base_uri": "https://localhost:8080/",
          "height": 110
        },
        "outputId": "6dd468f2-9fb2-43e5-a463-5d51fe69e308"
      },
      "source": [
        "df=pd.DataFrame([real_positive, real_negative], columns=vocab)\n",
        "df.index=['positive','negative']\n",
        "df"
      ],
      "execution_count": null,
      "outputs": [
        {
          "output_type": "execute_result",
          "data": {
            "text/html": [
              "<div>\n",
              "<style scoped>\n",
              "    .dataframe tbody tr th:only-of-type {\n",
              "        vertical-align: middle;\n",
              "    }\n",
              "\n",
              "    .dataframe tbody tr th {\n",
              "        vertical-align: top;\n",
              "    }\n",
              "\n",
              "    .dataframe thead th {\n",
              "        text-align: right;\n",
              "    }\n",
              "</style>\n",
              "<table border=\"1\" class=\"dataframe\">\n",
              "  <thead>\n",
              "    <tr style=\"text-align: right;\">\n",
              "      <th></th>\n",
              "      <th>i</th>\n",
              "      <th>love</th>\n",
              "      <th>you</th>\n",
              "      <th>happy</th>\n",
              "      <th>weekend</th>\n",
              "      <th>bore</th>\n",
              "      <th>work</th>\n",
              "      <th>job</th>\n",
              "      <th>hate</th>\n",
              "      <th>together</th>\n",
              "    </tr>\n",
              "  </thead>\n",
              "  <tbody>\n",
              "    <tr>\n",
              "      <th>positive</th>\n",
              "      <td>1.0</td>\n",
              "      <td>2.0</td>\n",
              "      <td>1.0</td>\n",
              "      <td>2.0</td>\n",
              "      <td>1.0</td>\n",
              "      <td>0.0</td>\n",
              "      <td>0.0</td>\n",
              "      <td>0.0</td>\n",
              "      <td>0.0</td>\n",
              "      <td>1.0</td>\n",
              "    </tr>\n",
              "    <tr>\n",
              "      <th>negative</th>\n",
              "      <td>1.0</td>\n",
              "      <td>0.0</td>\n",
              "      <td>1.0</td>\n",
              "      <td>0.0</td>\n",
              "      <td>1.0</td>\n",
              "      <td>2.0</td>\n",
              "      <td>1.0</td>\n",
              "      <td>1.0</td>\n",
              "      <td>1.0</td>\n",
              "      <td>0.0</td>\n",
              "    </tr>\n",
              "  </tbody>\n",
              "</table>\n",
              "</div>"
            ],
            "text/plain": [
              "            i  love  you  happy  weekend  bore  work  job  hate  together\n",
              "positive  1.0   2.0  1.0    2.0      1.0   0.0   0.0  0.0   0.0       1.0\n",
              "negative  1.0   0.0  1.0    0.0      1.0   2.0   1.0  1.0   1.0       0.0"
            ]
          },
          "metadata": {
            "tags": []
          },
          "execution_count": 13
        }
      ]
    },
    {
      "cell_type": "code",
      "metadata": {
        "id": "plZmzMcE-RgJ",
        "colab_type": "code",
        "colab": {
          "base_uri": "https://localhost:8080/",
          "height": 204
        },
        "outputId": "fdc3a7a1-fe86-4d7e-9a2d-28b42e8dd65d"
      },
      "source": [
        "#P(w|positive)구하기\n",
        "p_w_positive=[]\n",
        "\n",
        "for i in range(len(word2id)):\n",
        "  p_w_positive.append((df.iloc[0,i] + 1) / (sum(real_positive) + len(word2id))) #라플라스 스무딩 적용\n",
        "\n",
        "p_w_positive"
      ],
      "execution_count": null,
      "outputs": [
        {
          "output_type": "execute_result",
          "data": {
            "text/plain": [
              "[0.1111111111111111,\n",
              " 0.16666666666666666,\n",
              " 0.1111111111111111,\n",
              " 0.16666666666666666,\n",
              " 0.1111111111111111,\n",
              " 0.05555555555555555,\n",
              " 0.05555555555555555,\n",
              " 0.05555555555555555,\n",
              " 0.05555555555555555,\n",
              " 0.1111111111111111]"
            ]
          },
          "metadata": {
            "tags": []
          },
          "execution_count": 14
        }
      ]
    },
    {
      "cell_type": "code",
      "metadata": {
        "id": "VGr2Xnw1A-f1",
        "colab_type": "code",
        "colab": {
          "base_uri": "https://localhost:8080/",
          "height": 204
        },
        "outputId": "50532471-ae7a-4fa1-f5a7-c6b6e31b428e"
      },
      "source": [
        "#P(w|negative)구하기\n",
        "p_w_negative=[]\n",
        "\n",
        "for i in range(len(word2id)):\n",
        "  p_w_negative.append((df.iloc[1,i] + 1) / (sum(real_negative) + len(word2id))) #라플라스 스무딩 적용\n",
        "\n",
        "p_w_negative"
      ],
      "execution_count": null,
      "outputs": [
        {
          "output_type": "execute_result",
          "data": {
            "text/plain": [
              "[0.1111111111111111,\n",
              " 0.05555555555555555,\n",
              " 0.1111111111111111,\n",
              " 0.05555555555555555,\n",
              " 0.1111111111111111,\n",
              " 0.16666666666666666,\n",
              " 0.1111111111111111,\n",
              " 0.1111111111111111,\n",
              " 0.1111111111111111,\n",
              " 0.05555555555555555]"
            ]
          },
          "metadata": {
            "tags": []
          },
          "execution_count": 15
        }
      ]
    },
    {
      "cell_type": "code",
      "metadata": {
        "id": "QbVtfOrp-FvL",
        "colab_type": "code",
        "colab": {
          "base_uri": "https://localhost:8080/",
          "height": 171
        },
        "outputId": "9ec2db5d-09ee-4792-a842-81b4d67be3b9"
      },
      "source": [
        "Bayes=pd.DataFrame([real_positive, real_negative,p_w_positive,p_w_negative], columns=vocab)\n",
        "Bayes.index=['positive','negative','p_w_positive','p_w_negative']\n",
        "Bayes"
      ],
      "execution_count": null,
      "outputs": [
        {
          "output_type": "execute_result",
          "data": {
            "text/html": [
              "<div>\n",
              "<style scoped>\n",
              "    .dataframe tbody tr th:only-of-type {\n",
              "        vertical-align: middle;\n",
              "    }\n",
              "\n",
              "    .dataframe tbody tr th {\n",
              "        vertical-align: top;\n",
              "    }\n",
              "\n",
              "    .dataframe thead th {\n",
              "        text-align: right;\n",
              "    }\n",
              "</style>\n",
              "<table border=\"1\" class=\"dataframe\">\n",
              "  <thead>\n",
              "    <tr style=\"text-align: right;\">\n",
              "      <th></th>\n",
              "      <th>i</th>\n",
              "      <th>love</th>\n",
              "      <th>you</th>\n",
              "      <th>happy</th>\n",
              "      <th>weekend</th>\n",
              "      <th>bore</th>\n",
              "      <th>work</th>\n",
              "      <th>job</th>\n",
              "      <th>hate</th>\n",
              "      <th>together</th>\n",
              "    </tr>\n",
              "  </thead>\n",
              "  <tbody>\n",
              "    <tr>\n",
              "      <th>positive</th>\n",
              "      <td>1.000000</td>\n",
              "      <td>2.000000</td>\n",
              "      <td>1.000000</td>\n",
              "      <td>2.000000</td>\n",
              "      <td>1.000000</td>\n",
              "      <td>0.000000</td>\n",
              "      <td>0.000000</td>\n",
              "      <td>0.000000</td>\n",
              "      <td>0.000000</td>\n",
              "      <td>1.000000</td>\n",
              "    </tr>\n",
              "    <tr>\n",
              "      <th>negative</th>\n",
              "      <td>1.000000</td>\n",
              "      <td>0.000000</td>\n",
              "      <td>1.000000</td>\n",
              "      <td>0.000000</td>\n",
              "      <td>1.000000</td>\n",
              "      <td>2.000000</td>\n",
              "      <td>1.000000</td>\n",
              "      <td>1.000000</td>\n",
              "      <td>1.000000</td>\n",
              "      <td>0.000000</td>\n",
              "    </tr>\n",
              "    <tr>\n",
              "      <th>p_w_positive</th>\n",
              "      <td>0.111111</td>\n",
              "      <td>0.166667</td>\n",
              "      <td>0.111111</td>\n",
              "      <td>0.166667</td>\n",
              "      <td>0.111111</td>\n",
              "      <td>0.055556</td>\n",
              "      <td>0.055556</td>\n",
              "      <td>0.055556</td>\n",
              "      <td>0.055556</td>\n",
              "      <td>0.111111</td>\n",
              "    </tr>\n",
              "    <tr>\n",
              "      <th>p_w_negative</th>\n",
              "      <td>0.111111</td>\n",
              "      <td>0.055556</td>\n",
              "      <td>0.111111</td>\n",
              "      <td>0.055556</td>\n",
              "      <td>0.111111</td>\n",
              "      <td>0.166667</td>\n",
              "      <td>0.111111</td>\n",
              "      <td>0.111111</td>\n",
              "      <td>0.111111</td>\n",
              "      <td>0.055556</td>\n",
              "    </tr>\n",
              "  </tbody>\n",
              "</table>\n",
              "</div>"
            ],
            "text/plain": [
              "                     i      love       you  ...       job      hate  together\n",
              "positive      1.000000  2.000000  1.000000  ...  0.000000  0.000000  1.000000\n",
              "negative      1.000000  0.000000  1.000000  ...  1.000000  1.000000  0.000000\n",
              "p_w_positive  0.111111  0.166667  0.111111  ...  0.055556  0.055556  0.111111\n",
              "p_w_negative  0.111111  0.055556  0.111111  ...  0.111111  0.111111  0.055556\n",
              "\n",
              "[4 rows x 10 columns]"
            ]
          },
          "metadata": {
            "tags": []
          },
          "execution_count": 28
        }
      ]
    },
    {
      "cell_type": "code",
      "metadata": {
        "id": "gerkz4DwJo8J",
        "colab_type": "code",
        "colab": {
          "base_uri": "https://localhost:8080/",
          "height": 55
        },
        "outputId": "0aeb2a80-7139-41be-d9b7-ba7287bfde75"
      },
      "source": [
        "import math\n",
        "\n",
        "char = 'happy weekend'\n",
        "word1 = char.split(' ')[0]\n",
        "word2 = char.split(' ')[1]\n",
        "p = 'p_w_positive'\n",
        "n = 'p_w_negative'\n",
        "\n",
        "#P(positive|happy,weekend) 구하기\n",
        "분자=math.exp(math.log(Bayes.loc[p,word1]*Bayes.loc[p,word2]*0.5))\n",
        "분모1=분자\n",
        "분모2=math.exp(math.log(Bayes.loc[n,word1]*Bayes.loc[n,word2]*0.5))\n",
        "print(분자/(분모1+분모2))\n",
        "\n",
        "\n",
        "#P(negative|happy,weekend) 구하기\n",
        "분자=math.exp(math.log(Bayes.loc[n,word1]*Bayes.loc[n,word2]*0.5))\n",
        "분모1=분자\n",
        "분모2=math.exp(math.log(Bayes.loc[p,word1]*Bayes.loc[p,word2]*0.5))\n",
        "print(분자/(분모1+분모2))\n"
      ],
      "execution_count": null,
      "outputs": [
        {
          "output_type": "stream",
          "text": [
            "0.7499999999999999\n",
            "0.2500000000000001\n"
          ],
          "name": "stdout"
        }
      ]
    },
    {
      "cell_type": "markdown",
      "metadata": {
        "id": "pkLE7tFYN5Km",
        "colab_type": "text"
      },
      "source": [
        "# sklearn 활용하여 구현"
      ]
    },
    {
      "cell_type": "code",
      "metadata": {
        "id": "LOmXEOI6N8xE",
        "colab_type": "code",
        "colab": {
          "base_uri": "https://localhost:8080/",
          "height": 55
        },
        "outputId": "c9dfd35f-00c5-4f07-e167-50fe6bbe7e3c"
      },
      "source": [
        "X_train = list(csv['mail'])\n",
        "Y_train = list(csv['label'])\n",
        "print(X_train)\n",
        "print(Y_train)"
      ],
      "execution_count": null,
      "outputs": [
        {
          "output_type": "stream",
          "text": [
            "['i love you', 'love happy weekend', 'bore work job', 'i hate you', 'bore weekend', 'happy together']\n",
            "[1, 1, 0, 0, 0, 1]\n"
          ],
          "name": "stdout"
        }
      ]
    },
    {
      "cell_type": "code",
      "metadata": {
        "id": "BuMo_0upONU0",
        "colab_type": "code",
        "colab": {
          "base_uri": "https://localhost:8080/",
          "height": 279
        },
        "outputId": "963b04a4-5838-4174-ff8e-b21835625bc1"
      },
      "source": [
        "from sklearn.feature_extraction.text import CountVectorizer     #빈도수세기\n",
        "from sklearn.naive_bayes import MultinomialNB                   #나이브베이지안 구하기\n",
        "\n",
        "count_vect = CountVectorizer()\n",
        "X_train_counts = count_vect.fit_transform(X_train)\n",
        "print(X_train_counts)\n",
        "clf = MultinomialNB().fit(X_train_counts, Y_train)      #fit(a,b):a를 b에 매칭"
      ],
      "execution_count": null,
      "outputs": [
        {
          "output_type": "stream",
          "text": [
            "  (0, 4)\t1\n",
            "  (0, 8)\t1\n",
            "  (1, 4)\t1\n",
            "  (1, 1)\t1\n",
            "  (1, 6)\t1\n",
            "  (2, 0)\t1\n",
            "  (2, 7)\t1\n",
            "  (2, 3)\t1\n",
            "  (3, 8)\t1\n",
            "  (3, 2)\t1\n",
            "  (4, 6)\t1\n",
            "  (4, 0)\t1\n",
            "  (5, 1)\t1\n",
            "  (5, 5)\t1\n"
          ],
          "name": "stdout"
        }
      ]
    },
    {
      "cell_type": "code",
      "metadata": {
        "id": "s-xjKtTdPXwL",
        "colab_type": "code",
        "colab": {
          "base_uri": "https://localhost:8080/",
          "height": 55
        },
        "outputId": "6169c549-f5fa-4ada-e706-063e9f6fddab"
      },
      "source": [
        "#예측\n",
        "print(clf.predict(count_vect.transform(['happy weekend'])))\n",
        "# 확률\n",
        "print(clf.predict_proba(count_vect.transform(['happy weekend'])))"
      ],
      "execution_count": null,
      "outputs": [
        {
          "output_type": "stream",
          "text": [
            "[1]\n",
            "[[0.25 0.75]]\n"
          ],
          "name": "stdout"
        }
      ]
    },
    {
      "cell_type": "code",
      "metadata": {
        "id": "1fwbE5vNSm5u",
        "colab_type": "code",
        "colab": {}
      },
      "source": [
        ""
      ],
      "execution_count": null,
      "outputs": []
    }
  ]
}