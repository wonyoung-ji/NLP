{
  "nbformat": 4,
  "nbformat_minor": 0,
  "metadata": {
    "colab": {
      "name": "200904_감정분석_나이브베이지언.ipynb",
      "provenance": [],
      "authorship_tag": "ABX9TyP8KAmiMacRHPLOvlI03yNE",
      "include_colab_link": true
    },
    "kernelspec": {
      "name": "python3",
      "display_name": "Python 3"
    }
  },
  "cells": [
    {
      "cell_type": "markdown",
      "metadata": {
        "id": "view-in-github",
        "colab_type": "text"
      },
      "source": [
        "<a href=\"https://colab.research.google.com/github/wonyoung-ji/NLP/blob/master/5%EC%9D%BC%EC%B0%A8/200904_%EA%B0%90%EC%A0%95%EB%B6%84%EC%84%9D_%EB%82%98%EC%9D%B4%EB%B8%8C%EB%B2%A0%EC%9D%B4%EC%A7%80%EC%96%B8.ipynb\" target=\"_parent\"><img src=\"https://colab.research.google.com/assets/colab-badge.svg\" alt=\"Open In Colab\"/></a>"
      ]
    },
    {
      "cell_type": "code",
      "metadata": {
        "id": "TmPRS0pf2AQm",
        "colab_type": "code",
        "colab": {
          "base_uri": "https://localhost:8080/",
          "height": 124
        },
        "outputId": "9349521a-3d69-4a7b-eea2-e3f7f3929131"
      },
      "source": [
        "from google.colab import drive\n",
        "drive.mount('/content/gdrive')"
      ],
      "execution_count": 4,
      "outputs": [
        {
          "output_type": "stream",
          "text": [
            "Go to this URL in a browser: https://accounts.google.com/o/oauth2/auth?client_id=947318989803-6bn6qk8qdgf4n4g3pfee6491hc0brc4i.apps.googleusercontent.com&redirect_uri=urn%3aietf%3awg%3aoauth%3a2.0%3aoob&scope=email%20https%3a%2f%2fwww.googleapis.com%2fauth%2fdocs.test%20https%3a%2f%2fwww.googleapis.com%2fauth%2fdrive%20https%3a%2f%2fwww.googleapis.com%2fauth%2fdrive.photos.readonly%20https%3a%2f%2fwww.googleapis.com%2fauth%2fpeopleapi.readonly&response_type=code\n",
            "\n",
            "Enter your authorization code:\n",
            "··········\n",
            "Mounted at /content/gdrive\n"
          ],
          "name": "stdout"
        }
      ]
    },
    {
      "cell_type": "markdown",
      "metadata": {
        "id": "0DGgZ_05NRWs",
        "colab_type": "text"
      },
      "source": [
        "# 직접구현"
      ]
    },
    {
      "cell_type": "code",
      "metadata": {
        "id": "fHFgN5L_2wq5",
        "colab_type": "code",
        "colab": {
          "base_uri": "https://localhost:8080/",
          "height": 227
        },
        "outputId": "eafe1b9d-7ecc-4636-8b1b-bc16681bbe5c"
      },
      "source": [
        "import pandas as pd\n",
        "csv = pd.read_csv('/content/gdrive/My Drive/NLP/naivebayes_example.csv')\n",
        "csv\n",
        "#1이 긍정, 0이 부정"
      ],
      "execution_count": 62,
      "outputs": [
        {
          "output_type": "execute_result",
          "data": {
            "text/html": [
              "<div>\n",
              "<style scoped>\n",
              "    .dataframe tbody tr th:only-of-type {\n",
              "        vertical-align: middle;\n",
              "    }\n",
              "\n",
              "    .dataframe tbody tr th {\n",
              "        vertical-align: top;\n",
              "    }\n",
              "\n",
              "    .dataframe thead th {\n",
              "        text-align: right;\n",
              "    }\n",
              "</style>\n",
              "<table border=\"1\" class=\"dataframe\">\n",
              "  <thead>\n",
              "    <tr style=\"text-align: right;\">\n",
              "      <th></th>\n",
              "      <th>mail</th>\n",
              "      <th>label</th>\n",
              "    </tr>\n",
              "  </thead>\n",
              "  <tbody>\n",
              "    <tr>\n",
              "      <th>0</th>\n",
              "      <td>i love you</td>\n",
              "      <td>1</td>\n",
              "    </tr>\n",
              "    <tr>\n",
              "      <th>1</th>\n",
              "      <td>love happy weekend</td>\n",
              "      <td>1</td>\n",
              "    </tr>\n",
              "    <tr>\n",
              "      <th>2</th>\n",
              "      <td>bore work job</td>\n",
              "      <td>0</td>\n",
              "    </tr>\n",
              "    <tr>\n",
              "      <th>3</th>\n",
              "      <td>i hate you</td>\n",
              "      <td>0</td>\n",
              "    </tr>\n",
              "    <tr>\n",
              "      <th>4</th>\n",
              "      <td>bore weekend</td>\n",
              "      <td>0</td>\n",
              "    </tr>\n",
              "    <tr>\n",
              "      <th>5</th>\n",
              "      <td>happy together</td>\n",
              "      <td>1</td>\n",
              "    </tr>\n",
              "  </tbody>\n",
              "</table>\n",
              "</div>"
            ],
            "text/plain": [
              "                 mail  label\n",
              "0          i love you      1\n",
              "1  love happy weekend      1\n",
              "2       bore work job      0\n",
              "3          i hate you      0\n",
              "4        bore weekend      0\n",
              "5      happy together      1"
            ]
          },
          "metadata": {
            "tags": []
          },
          "execution_count": 62
        }
      ]
    },
    {
      "cell_type": "code",
      "metadata": {
        "id": "7m235b-N3A8d",
        "colab_type": "code",
        "colab": {
          "base_uri": "https://localhost:8080/",
          "height": 54
        },
        "outputId": "c907fc2f-e266-4371-c4e6-9bec15e1c1a5"
      },
      "source": [
        "from collections import defaultdict\n",
        "\n",
        "mails = [ csv.iloc[i,0] for i in range(len(csv))]\n",
        "mail_ls= [ mail.split(' ') for mail in mails ]\n",
        "\n",
        "word2id = defaultdict(lambda:len(word2id))\n",
        "\n",
        "for mail in mail_ls:\n",
        "  for token in mail:\n",
        "    word2id[token]\n",
        "\n",
        "print(word2id)"
      ],
      "execution_count": 76,
      "outputs": [
        {
          "output_type": "stream",
          "text": [
            "defaultdict(<function <lambda> at 0x7f69fc830f28>, {'i': 0, 'love': 1, 'you': 2, 'happy': 3, 'weekend': 4, 'bore': 5, 'work': 6, 'job': 7, 'hate': 8, 'together': 9})\n"
          ],
          "name": "stdout"
        }
      ]
    },
    {
      "cell_type": "code",
      "metadata": {
        "id": "XlfHT9-83yYa",
        "colab_type": "code",
        "colab": {
          "base_uri": "https://localhost:8080/",
          "height": 139
        },
        "outputId": "6239bdb0-7976-4942-b8a0-ee518efbf04c"
      },
      "source": [
        "import numpy as np\n",
        "\n",
        "#긍정문장만 받기\n",
        "positive_ls = [] \n",
        "for i in range(len(csv)):\n",
        "  if csv.iloc[i,1] == 1:\n",
        "    positive_ls.append(csv.iloc[i,0])\n",
        "\n",
        "#긍정문장 토큰화\n",
        "positive_ls_copy = [words.split(' ') for words in positive_ls]\n",
        "\n",
        "#긍정문장 토큰의 등장횟수세기\n",
        "positive = np.zeros((len(positive_ls),len(word2id)))\n",
        "\n",
        "for i, words in enumerate(positive_ls_copy):\n",
        "  for word in words:\n",
        "    positive[i, word2id[word]] += 1\n",
        "print(positive)\n",
        "print('\\n\\n')\n",
        "\n",
        "#더하기\n",
        "real_positive = np.zeros(len(word2id))\n",
        "for i in range(len(word2id)):\n",
        "  real_positive[i] = np.count_nonzero(positive[:,i])\n",
        "real_positive"
      ],
      "execution_count": 118,
      "outputs": [
        {
          "output_type": "stream",
          "text": [
            "[[1. 1. 1. 0. 0. 0. 0. 0. 0. 0.]\n",
            " [0. 1. 0. 1. 1. 0. 0. 0. 0. 0.]\n",
            " [0. 0. 0. 1. 0. 0. 0. 0. 0. 1.]]\n",
            "\n",
            "\n",
            "\n"
          ],
          "name": "stdout"
        },
        {
          "output_type": "execute_result",
          "data": {
            "text/plain": [
              "array([1., 2., 1., 2., 1., 0., 0., 0., 0., 1.])"
            ]
          },
          "metadata": {
            "tags": []
          },
          "execution_count": 118
        }
      ]
    },
    {
      "cell_type": "code",
      "metadata": {
        "id": "UellLi7G5hGD",
        "colab_type": "code",
        "colab": {
          "base_uri": "https://localhost:8080/",
          "height": 139
        },
        "outputId": "3da63bd0-f2a5-49e5-be25-04e50469e03b"
      },
      "source": [
        "#부정문장만 받기\n",
        "negative_ls = [] \n",
        "for i in range(len(csv)):\n",
        "  if csv.iloc[i,1] == 0:\n",
        "    negative_ls.append(csv.iloc[i,0])\n",
        "\n",
        "#긍정문장 토큰화\n",
        "negative_ls_copy = [words.split(' ') for words in negative_ls]\n",
        "\n",
        "#긍정문장 토큰의 등장횟수세기\n",
        "negative = np.zeros((len(negative_ls),len(word2id)))\n",
        "\n",
        "for i, words in enumerate(negative_ls_copy):\n",
        "  for word in words:\n",
        "    negative[i, word2id[word]] += 1\n",
        "print(negative)\n",
        "print('\\n\\n')\n",
        "\n",
        "#더하기\n",
        "real_negative = np.zeros(len(word2id))\n",
        "for i in range(len(word2id)):\n",
        "  real_negative[i] = np.count_nonzero(negative[:,i])\n",
        "real_negative"
      ],
      "execution_count": 119,
      "outputs": [
        {
          "output_type": "stream",
          "text": [
            "[[0. 0. 0. 0. 0. 1. 1. 1. 0. 0.]\n",
            " [1. 0. 1. 0. 0. 0. 0. 0. 1. 0.]\n",
            " [0. 0. 0. 0. 1. 1. 0. 0. 0. 0.]]\n",
            "\n",
            "\n",
            "\n"
          ],
          "name": "stdout"
        },
        {
          "output_type": "execute_result",
          "data": {
            "text/plain": [
              "array([1., 0., 1., 0., 1., 2., 1., 1., 1., 0.])"
            ]
          },
          "metadata": {
            "tags": []
          },
          "execution_count": 119
        }
      ]
    },
    {
      "cell_type": "code",
      "metadata": {
        "id": "plZmzMcE-RgJ",
        "colab_type": "code",
        "colab": {
          "base_uri": "https://localhost:8080/",
          "height": 192
        },
        "outputId": "067fa4ad-b713-4960-dd62-d354aa8869eb"
      },
      "source": [
        "#P(w|positive)구하기\n",
        "p_w_positive=[]\n",
        "\n",
        "for i in range(len(word2id)):\n",
        "  p_w_positive.append((df.iloc[0,i] + 1) / (sum(real_positive) + len(word2id))) #라플라스 스무딩 적용\n",
        "\n",
        "p_w_positive"
      ],
      "execution_count": 100,
      "outputs": [
        {
          "output_type": "execute_result",
          "data": {
            "text/plain": [
              "[0.1111111111111111,\n",
              " 0.16666666666666666,\n",
              " 0.1111111111111111,\n",
              " 0.16666666666666666,\n",
              " 0.1111111111111111,\n",
              " 0.05555555555555555,\n",
              " 0.05555555555555555,\n",
              " 0.05555555555555555,\n",
              " 0.05555555555555555,\n",
              " 0.1111111111111111]"
            ]
          },
          "metadata": {
            "tags": []
          },
          "execution_count": 100
        }
      ]
    },
    {
      "cell_type": "code",
      "metadata": {
        "id": "VGr2Xnw1A-f1",
        "colab_type": "code",
        "colab": {
          "base_uri": "https://localhost:8080/",
          "height": 192
        },
        "outputId": "3d0ff34d-2b47-48b4-ff46-e8c6ef1ddd21"
      },
      "source": [
        "#P(w|negative)구하기\n",
        "p_w_negative=[]\n",
        "\n",
        "for i in range(len(word2id)):\n",
        "  p_w_negative.append((df.iloc[1,i] + 1) / (sum(real_negative) + len(word2id))) #라플라스 스무딩 적용\n",
        "\n",
        "p_w_negative"
      ],
      "execution_count": 102,
      "outputs": [
        {
          "output_type": "execute_result",
          "data": {
            "text/plain": [
              "[0.1111111111111111,\n",
              " 0.05555555555555555,\n",
              " 0.1111111111111111,\n",
              " 0.05555555555555555,\n",
              " 0.1111111111111111,\n",
              " 0.16666666666666666,\n",
              " 0.1111111111111111,\n",
              " 0.1111111111111111,\n",
              " 0.1111111111111111,\n",
              " 0.05555555555555555]"
            ]
          },
          "metadata": {
            "tags": []
          },
          "execution_count": 102
        }
      ]
    },
    {
      "cell_type": "code",
      "metadata": {
        "id": "pYhjuZqS-WQO",
        "colab_type": "code",
        "colab": {
          "base_uri": "https://localhost:8080/",
          "height": 192
        },
        "outputId": "e535a3c6-066e-44e6-bd5f-87013ef8b2e2"
      },
      "source": [
        "sorted_vocab = sorted((values,keys) for keys, values in word2id.items())\n",
        "vocab = [v[1] for v in sorted_vocab]\n",
        "vocab"
      ],
      "execution_count": 79,
      "outputs": [
        {
          "output_type": "execute_result",
          "data": {
            "text/plain": [
              "['i',\n",
              " 'love',\n",
              " 'you',\n",
              " 'happy',\n",
              " 'weekend',\n",
              " 'bore',\n",
              " 'work',\n",
              " 'job',\n",
              " 'hate',\n",
              " 'together']"
            ]
          },
          "metadata": {
            "tags": []
          },
          "execution_count": 79
        }
      ]
    },
    {
      "cell_type": "code",
      "metadata": {
        "id": "QbVtfOrp-FvL",
        "colab_type": "code",
        "colab": {
          "base_uri": "https://localhost:8080/",
          "height": 167
        },
        "outputId": "dbbf2576-2c52-47c1-b6f1-e9f415bced8b"
      },
      "source": [
        "df=pd.DataFrame([real_positive, real_negative,p_w_positive,p_w_negative], columns=vocab)\n",
        "df.index=['positive','negative','p_w_positive','p_w_negative']\n",
        "df"
      ],
      "execution_count": 105,
      "outputs": [
        {
          "output_type": "execute_result",
          "data": {
            "text/html": [
              "<div>\n",
              "<style scoped>\n",
              "    .dataframe tbody tr th:only-of-type {\n",
              "        vertical-align: middle;\n",
              "    }\n",
              "\n",
              "    .dataframe tbody tr th {\n",
              "        vertical-align: top;\n",
              "    }\n",
              "\n",
              "    .dataframe thead th {\n",
              "        text-align: right;\n",
              "    }\n",
              "</style>\n",
              "<table border=\"1\" class=\"dataframe\">\n",
              "  <thead>\n",
              "    <tr style=\"text-align: right;\">\n",
              "      <th></th>\n",
              "      <th>i</th>\n",
              "      <th>love</th>\n",
              "      <th>you</th>\n",
              "      <th>happy</th>\n",
              "      <th>weekend</th>\n",
              "      <th>bore</th>\n",
              "      <th>work</th>\n",
              "      <th>job</th>\n",
              "      <th>hate</th>\n",
              "      <th>together</th>\n",
              "    </tr>\n",
              "  </thead>\n",
              "  <tbody>\n",
              "    <tr>\n",
              "      <th>positive</th>\n",
              "      <td>1.000000</td>\n",
              "      <td>2.000000</td>\n",
              "      <td>1.000000</td>\n",
              "      <td>2.000000</td>\n",
              "      <td>1.000000</td>\n",
              "      <td>0.000000</td>\n",
              "      <td>0.000000</td>\n",
              "      <td>0.000000</td>\n",
              "      <td>0.000000</td>\n",
              "      <td>1.000000</td>\n",
              "    </tr>\n",
              "    <tr>\n",
              "      <th>negative</th>\n",
              "      <td>1.000000</td>\n",
              "      <td>0.000000</td>\n",
              "      <td>1.000000</td>\n",
              "      <td>0.000000</td>\n",
              "      <td>1.000000</td>\n",
              "      <td>2.000000</td>\n",
              "      <td>1.000000</td>\n",
              "      <td>1.000000</td>\n",
              "      <td>1.000000</td>\n",
              "      <td>0.000000</td>\n",
              "    </tr>\n",
              "    <tr>\n",
              "      <th>p_w_positive</th>\n",
              "      <td>0.111111</td>\n",
              "      <td>0.166667</td>\n",
              "      <td>0.111111</td>\n",
              "      <td>0.166667</td>\n",
              "      <td>0.111111</td>\n",
              "      <td>0.055556</td>\n",
              "      <td>0.055556</td>\n",
              "      <td>0.055556</td>\n",
              "      <td>0.055556</td>\n",
              "      <td>0.111111</td>\n",
              "    </tr>\n",
              "    <tr>\n",
              "      <th>p_w_negative</th>\n",
              "      <td>0.111111</td>\n",
              "      <td>0.055556</td>\n",
              "      <td>0.111111</td>\n",
              "      <td>0.055556</td>\n",
              "      <td>0.111111</td>\n",
              "      <td>0.166667</td>\n",
              "      <td>0.111111</td>\n",
              "      <td>0.111111</td>\n",
              "      <td>0.111111</td>\n",
              "      <td>0.055556</td>\n",
              "    </tr>\n",
              "  </tbody>\n",
              "</table>\n",
              "</div>"
            ],
            "text/plain": [
              "                     i      love       you  ...       job      hate  together\n",
              "positive      1.000000  2.000000  1.000000  ...  0.000000  0.000000  1.000000\n",
              "negative      1.000000  0.000000  1.000000  ...  1.000000  1.000000  0.000000\n",
              "p_w_positive  0.111111  0.166667  0.111111  ...  0.055556  0.055556  0.111111\n",
              "p_w_negative  0.111111  0.055556  0.111111  ...  0.111111  0.111111  0.055556\n",
              "\n",
              "[4 rows x 10 columns]"
            ]
          },
          "metadata": {
            "tags": []
          },
          "execution_count": 105
        }
      ]
    },
    {
      "cell_type": "code",
      "metadata": {
        "id": "gerkz4DwJo8J",
        "colab_type": "code",
        "colab": {
          "base_uri": "https://localhost:8080/",
          "height": 52
        },
        "outputId": "2210f207-8d73-4b1c-de24-d2beb974b87f"
      },
      "source": [
        "import math\n",
        "\n",
        "h = 'happy'\n",
        "w = 'weekend'\n",
        "p = 'p_w_positive'\n",
        "n = 'p_w_negative'\n",
        "\n",
        "#P(positive|happy,weekend) 구하기\n",
        "분자=math.exp(math.log(df.loc[p,h]*df.loc[p,w]*0.5))\n",
        "분모1=분자\n",
        "분모2=math.exp(math.log(df.loc[n,h]*df.loc[n,w]*0.5))\n",
        "print(분자/(분모1+분모2))\n",
        "\n",
        "\n",
        "#P(negative|happy,weekend) 구하기\n",
        "분자=math.exp(math.log(df.loc[n,h]*df.loc[n,w]*0.5))\n",
        "분모1=분자\n",
        "분모2=math.exp(math.log(df.loc[p,h]*df.loc[p,w]*0.5))\n",
        "print(분자/(분모1+분모2))\n"
      ],
      "execution_count": 126,
      "outputs": [
        {
          "output_type": "stream",
          "text": [
            "0.7499999999999999\n",
            "0.2500000000000001\n"
          ],
          "name": "stdout"
        }
      ]
    },
    {
      "cell_type": "markdown",
      "metadata": {
        "id": "pkLE7tFYN5Km",
        "colab_type": "text"
      },
      "source": [
        "# sklearn 활용하여 구현"
      ]
    },
    {
      "cell_type": "code",
      "metadata": {
        "id": "LOmXEOI6N8xE",
        "colab_type": "code",
        "colab": {
          "base_uri": "https://localhost:8080/",
          "height": 52
        },
        "outputId": "4fccec5d-6812-4204-fba9-0d195fdcb731"
      },
      "source": [
        "X_train = list(csv['mail'])\n",
        "Y_train = list(csv['label'])\n",
        "print(X_train)\n",
        "print(Y_train)"
      ],
      "execution_count": 127,
      "outputs": [
        {
          "output_type": "stream",
          "text": [
            "['i love you', 'love happy weekend', 'bore work job', 'i hate you', 'bore weekend', 'happy together']\n",
            "[1, 1, 0, 0, 0, 1]\n"
          ],
          "name": "stdout"
        }
      ]
    },
    {
      "cell_type": "code",
      "metadata": {
        "id": "BuMo_0upONU0",
        "colab_type": "code",
        "colab": {
          "base_uri": "https://localhost:8080/",
          "height": 262
        },
        "outputId": "a9dc72b6-1d43-4b59-a327-ef6ece819a25"
      },
      "source": [
        "from sklearn.feature_extraction.text import CountVectorizer     #빈도수세기\n",
        "from sklearn.feature_extraction.text import TfidfTransformer    #Tf-Idf 구하기\n",
        "from sklearn.naive_bayes import MultinomialNB                   #나이브베이지안 구하기\n",
        "\n",
        "count_vect = CountVectorizer()\n",
        "X_train_counts = count_vect.fit_transform(X_train)\n",
        "print(X_train_counts)\n",
        "clf = MultinomialNB().fit(X_train_counts, Y_train)      #fit(a,b):a를 b에 매칭"
      ],
      "execution_count": 142,
      "outputs": [
        {
          "output_type": "stream",
          "text": [
            "  (0, 4)\t1\n",
            "  (0, 8)\t1\n",
            "  (1, 4)\t1\n",
            "  (1, 1)\t1\n",
            "  (1, 6)\t1\n",
            "  (2, 0)\t1\n",
            "  (2, 7)\t1\n",
            "  (2, 3)\t1\n",
            "  (3, 8)\t1\n",
            "  (3, 2)\t1\n",
            "  (4, 6)\t1\n",
            "  (4, 0)\t1\n",
            "  (5, 1)\t1\n",
            "  (5, 5)\t1\n"
          ],
          "name": "stdout"
        }
      ]
    },
    {
      "cell_type": "code",
      "metadata": {
        "id": "s-xjKtTdPXwL",
        "colab_type": "code",
        "colab": {
          "base_uri": "https://localhost:8080/",
          "height": 52
        },
        "outputId": "d05d7144-0421-48d5-afc8-e08f12313b04"
      },
      "source": [
        "#예측\n",
        "print(clf.predict(count_vect.transform(['happy weekend'])))\n",
        "# 확률\n",
        "print(clf.predict_proba(count_vect.transform(['happy weekend'])))"
      ],
      "execution_count": 137,
      "outputs": [
        {
          "output_type": "stream",
          "text": [
            "[1]\n",
            "[[0.25 0.75]]\n"
          ],
          "name": "stdout"
        }
      ]
    }
  ]
}