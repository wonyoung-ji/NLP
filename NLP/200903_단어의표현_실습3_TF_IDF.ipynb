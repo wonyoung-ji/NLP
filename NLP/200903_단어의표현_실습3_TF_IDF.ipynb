{
  "nbformat": 4,
  "nbformat_minor": 0,
  "metadata": {
    "colab": {
      "name": "단어의표현_실습3_TF_IDF.ipynb",
      "provenance": [],
      "collapsed_sections": [
        "ai2xqeA2xIPp",
        "hH4bVvqrNQ35"
      ],
      "authorship_tag": "ABX9TyNE8MVSqaTp/1u7M1bm9U50",
      "include_colab_link": true
    },
    "kernelspec": {
      "name": "python3",
      "display_name": "Python 3"
    }
  },
  "cells": [
    {
      "cell_type": "markdown",
      "metadata": {
        "id": "view-in-github",
        "colab_type": "text"
      },
      "source": [
        "<a href=\"https://colab.research.google.com/github/wonyoung-ji/NLP/blob/master/4%EC%9D%BC%EC%B0%A8/%EB%8B%A8%EC%96%B4%EC%9D%98%ED%91%9C%ED%98%84_%EC%8B%A4%EC%8A%B53_TF_IDF.ipynb\" target=\"_parent\"><img src=\"https://colab.research.google.com/assets/colab-badge.svg\" alt=\"Open In Colab\"/></a>"
      ]
    },
    {
      "cell_type": "markdown",
      "metadata": {
        "id": "BzrX6zX6eaYp",
        "colab_type": "text"
      },
      "source": [
        "# 직접 TF-IDF 구현"
      ]
    },
    {
      "cell_type": "markdown",
      "metadata": {
        "id": "ai2xqeA2xIPp",
        "colab_type": "text"
      },
      "source": [
        "## DTM구하기"
      ]
    },
    {
      "cell_type": "code",
      "metadata": {
        "id": "lxUvskbSw8OG",
        "colab_type": "code",
        "colab": {}
      },
      "source": [
        "docs = ['오늘 동물원에서 원숭이와 코끼리를 봤어',\n",
        "        '동물원에서 원숭이에게 바나나를 줬어 바나나를']"
      ],
      "execution_count": 186,
      "outputs": []
    },
    {
      "cell_type": "code",
      "metadata": {
        "id": "yMyzkDQoxair",
        "colab_type": "code",
        "colab": {
          "base_uri": "https://localhost:8080/",
          "height": 52
        },
        "outputId": "8e4e20a6-dd26-4aea-f5eb-548e6eb9185a"
      },
      "source": [
        "doc_ls=[]\n",
        "for doc in docs:\n",
        "  doc_ls.append(doc.split(' '))\n",
        "doc_ls"
      ],
      "execution_count": 187,
      "outputs": [
        {
          "output_type": "execute_result",
          "data": {
            "text/plain": [
              "[['오늘', '동물원에서', '원숭이와', '코끼리를', '봤어'],\n",
              " ['동물원에서', '원숭이에게', '바나나를', '줬어', '바나나를']]"
            ]
          },
          "metadata": {
            "tags": []
          },
          "execution_count": 187
        }
      ]
    },
    {
      "cell_type": "code",
      "metadata": {
        "id": "AMsmWLVuxfxE",
        "colab_type": "code",
        "colab": {
          "base_uri": "https://localhost:8080/",
          "height": 34
        },
        "outputId": "603e76b6-0cd2-40dd-d341-04db6152ef2c"
      },
      "source": [
        "from collections import defaultdict\n",
        "word2id = defaultdict(lambda: len(word2id))\n",
        "\n",
        "for doc in doc_ls:\n",
        "  for token in doc:\n",
        "    word2id[token]\n",
        "  \n",
        "print(word2id)"
      ],
      "execution_count": 188,
      "outputs": [
        {
          "output_type": "stream",
          "text": [
            "defaultdict(<function <lambda> at 0x7f05082177b8>, {'오늘': 0, '동물원에서': 1, '원숭이와': 2, '코끼리를': 3, '봤어': 4, '원숭이에게': 5, '바나나를': 6, '줬어': 7})\n"
          ],
          "name": "stdout"
        }
      ]
    },
    {
      "cell_type": "code",
      "metadata": {
        "id": "cCjiTo9DGOvJ",
        "colab_type": "code",
        "colab": {
          "base_uri": "https://localhost:8080/",
          "height": 52
        },
        "outputId": "e4016da1-311c-42b8-ba44-52e88a8f07d7"
      },
      "source": [
        "import numpy as np\n",
        "\n",
        "DTM = np.zeros((len(doc_ls),len(word2id)),dtype=int)\n",
        "for i, doc in enumerate(doc_ls):\n",
        "  for token in doc:\n",
        "    DTM[i,word2id[token]] += 1\n",
        "DTM"
      ],
      "execution_count": 189,
      "outputs": [
        {
          "output_type": "execute_result",
          "data": {
            "text/plain": [
              "array([[1, 1, 1, 1, 1, 0, 0, 0],\n",
              "       [0, 1, 0, 0, 0, 1, 2, 1]])"
            ]
          },
          "metadata": {
            "tags": []
          },
          "execution_count": 189
        }
      ]
    },
    {
      "cell_type": "markdown",
      "metadata": {
        "id": "oGA3SUHZNOwM",
        "colab_type": "text"
      },
      "source": [
        "## TF 구하기"
      ]
    },
    {
      "cell_type": "code",
      "metadata": {
        "id": "hcAUzicdGkEE",
        "colab_type": "code",
        "colab": {
          "base_uri": "https://localhost:8080/",
          "height": 52
        },
        "outputId": "a6803190-2bd2-44ce-c166-082782c54839"
      },
      "source": [
        "TF = np.zeros((len(doc_ls),len(word2id)))\n",
        "\n",
        "for i, doc in enumerate(doc_ls):\n",
        "  for token in doc:\n",
        "    TF[i,word2id[token]] += 1\n",
        "  TF[i] = TF[i]/len(doc_ls[i])\n",
        "TF"
      ],
      "execution_count": 243,
      "outputs": [
        {
          "output_type": "execute_result",
          "data": {
            "text/plain": [
              "array([[0.2, 0.2, 0.2, 0.2, 0.2, 0. , 0. , 0. ],\n",
              "       [0. , 0.2, 0. , 0. , 0. , 0.2, 0.4, 0.2]])"
            ]
          },
          "metadata": {
            "tags": []
          },
          "execution_count": 243
        }
      ]
    },
    {
      "cell_type": "markdown",
      "metadata": {
        "id": "hH4bVvqrNQ35",
        "colab_type": "text"
      },
      "source": [
        "## IDF 구하기\n",
        "- idf = log(총문서수 / 단어가 등장한 문서수)"
      ]
    },
    {
      "cell_type": "code",
      "metadata": {
        "id": "LWl14GLqUU43",
        "colab_type": "code",
        "colab": {
          "base_uri": "https://localhost:8080/",
          "height": 52
        },
        "outputId": "11395685-b0e1-4b5e-cac4-736ee9dccbc3"
      },
      "source": [
        "#총 문서수\n",
        "print(len(doc_ls))\n",
        "\n",
        "# 단어가 등장한 문서수\n",
        "count_doc = np.zeros(len(word2id))\n",
        "for i in range(len(word2id)):\n",
        "  count_doc[i] = np.count_nonzero(DTM[:,i])\n",
        "print(count_doc)"
      ],
      "execution_count": 244,
      "outputs": [
        {
          "output_type": "stream",
          "text": [
            "2\n",
            "[1. 2. 1. 1. 1. 1. 1. 1.]\n"
          ],
          "name": "stdout"
        }
      ]
    },
    {
      "cell_type": "code",
      "metadata": {
        "id": "0AJgYlemNW02",
        "colab_type": "code",
        "colab": {
          "base_uri": "https://localhost:8080/",
          "height": 52
        },
        "outputId": "766aabfa-c39e-4c89-c3ac-aee7a0ca3126"
      },
      "source": [
        "#idf 구하기 = log(총문서수 / 단어가 등장한 문서수)\n",
        "import math\n",
        "\n",
        "IDF = np.zeros(len(word2id))\n",
        "\n",
        "for i in range(len(word2id)):\n",
        "  IDF[i] = math.log10(len(doc_ls)/count_doc[i])\n",
        "IDF"
      ],
      "execution_count": 256,
      "outputs": [
        {
          "output_type": "execute_result",
          "data": {
            "text/plain": [
              "array([0.30103, 0.     , 0.30103, 0.30103, 0.30103, 0.30103, 0.30103,\n",
              "       0.30103])"
            ]
          },
          "metadata": {
            "tags": []
          },
          "execution_count": 256
        }
      ]
    },
    {
      "cell_type": "markdown",
      "metadata": {
        "id": "L0KaIMjLVP25",
        "colab_type": "text"
      },
      "source": [
        "## TF-IDF 구하기"
      ]
    },
    {
      "cell_type": "code",
      "metadata": {
        "id": "JLi3XTVtVUAe",
        "colab_type": "code",
        "colab": {
          "base_uri": "https://localhost:8080/",
          "height": 52
        },
        "outputId": "2f1069bd-e59a-48c5-88d5-89f7fb571bf0"
      },
      "source": [
        "TF_IDF = np.zeros((len(doc_ls),len(word2id)))\n",
        "\n",
        "for i in range(len(doc_ls)):\n",
        "  TF_IDF[i] = TF[i] * IDF[t]\n",
        "\n",
        "print(TF_IDF)"
      ],
      "execution_count": 261,
      "outputs": [
        {
          "output_type": "stream",
          "text": [
            "[[0.060206 0.060206 0.060206 0.060206 0.060206 0.       0.       0.      ]\n",
            " [0.       0.060206 0.       0.       0.       0.060206 0.120412 0.060206]]\n"
          ],
          "name": "stdout"
        }
      ]
    },
    {
      "cell_type": "markdown",
      "metadata": {
        "id": "Vr-R5M7lY9SE",
        "colab_type": "text"
      },
      "source": [
        "## 데이터프레임"
      ]
    },
    {
      "cell_type": "code",
      "metadata": {
        "id": "MEujuh7JY8g3",
        "colab_type": "code",
        "colab": {
          "base_uri": "https://localhost:8080/",
          "height": 107
        },
        "outputId": "ebd01c9d-9106-4268-c216-716b4cca8bdf"
      },
      "source": [
        "import pandas as pd\n",
        "\n",
        "sorted_vocab = sorted((values,keys) for keys, values in word2id.items())\n",
        "vocab = [v[1] for v in sorted_vocab]\n",
        "\n",
        "DF = pd.DataFrame(TF_IDF, columns = vocab)\n",
        "DF"
      ],
      "execution_count": 270,
      "outputs": [
        {
          "output_type": "execute_result",
          "data": {
            "text/html": [
              "<div>\n",
              "<style scoped>\n",
              "    .dataframe tbody tr th:only-of-type {\n",
              "        vertical-align: middle;\n",
              "    }\n",
              "\n",
              "    .dataframe tbody tr th {\n",
              "        vertical-align: top;\n",
              "    }\n",
              "\n",
              "    .dataframe thead th {\n",
              "        text-align: right;\n",
              "    }\n",
              "</style>\n",
              "<table border=\"1\" class=\"dataframe\">\n",
              "  <thead>\n",
              "    <tr style=\"text-align: right;\">\n",
              "      <th></th>\n",
              "      <th>오늘</th>\n",
              "      <th>동물원에서</th>\n",
              "      <th>원숭이와</th>\n",
              "      <th>코끼리를</th>\n",
              "      <th>봤어</th>\n",
              "      <th>원숭이에게</th>\n",
              "      <th>바나나를</th>\n",
              "      <th>줬어</th>\n",
              "    </tr>\n",
              "  </thead>\n",
              "  <tbody>\n",
              "    <tr>\n",
              "      <th>0</th>\n",
              "      <td>0.060206</td>\n",
              "      <td>0.060206</td>\n",
              "      <td>0.060206</td>\n",
              "      <td>0.060206</td>\n",
              "      <td>0.060206</td>\n",
              "      <td>0.000000</td>\n",
              "      <td>0.000000</td>\n",
              "      <td>0.000000</td>\n",
              "    </tr>\n",
              "    <tr>\n",
              "      <th>1</th>\n",
              "      <td>0.000000</td>\n",
              "      <td>0.060206</td>\n",
              "      <td>0.000000</td>\n",
              "      <td>0.000000</td>\n",
              "      <td>0.000000</td>\n",
              "      <td>0.060206</td>\n",
              "      <td>0.120412</td>\n",
              "      <td>0.060206</td>\n",
              "    </tr>\n",
              "  </tbody>\n",
              "</table>\n",
              "</div>"
            ],
            "text/plain": [
              "         오늘     동물원에서      원숭이와  ...     원숭이에게      바나나를        줬어\n",
              "0  0.060206  0.060206  0.060206  ...  0.000000  0.000000  0.000000\n",
              "1  0.000000  0.060206  0.000000  ...  0.060206  0.120412  0.060206\n",
              "\n",
              "[2 rows x 8 columns]"
            ]
          },
          "metadata": {
            "tags": []
          },
          "execution_count": 270
        }
      ]
    },
    {
      "cell_type": "code",
      "metadata": {
        "id": "rJRIgiIYfGMX",
        "colab_type": "code",
        "colab": {}
      },
      "source": [
        ""
      ],
      "execution_count": null,
      "outputs": []
    }
  ]
}
