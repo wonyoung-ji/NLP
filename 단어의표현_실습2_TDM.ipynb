{
  "nbformat": 4,
  "nbformat_minor": 0,
  "metadata": {
    "colab": {
      "name": "단어의표현_실습2_TDM.ipynb",
      "provenance": [],
      "collapsed_sections": []
    },
    "kernelspec": {
      "name": "python3",
      "display_name": "Python 3"
    }
  },
  "cells": [
    {
      "cell_type": "markdown",
      "metadata": {
        "id": "EWVsIRfwe318",
        "colab_type": "text"
      },
      "source": [
        "## defaultdict를 활용한 TDM"
      ]
    },
    {
      "cell_type": "code",
      "metadata": {
        "id": "r_Q42pBBFNJV",
        "colab_type": "code",
        "colab": {}
      },
      "source": [
        "docs=['동물원 코끼리',\n",
        "      '동물원 원숭이 바나나',\n",
        "      '엄마 코끼리 아기 코끼리',\n",
        "      '원숭이 바나나 코끼리 바나나']"
      ],
      "execution_count": null,
      "outputs": []
    },
    {
      "cell_type": "code",
      "metadata": {
        "id": "GS3qlVLqFcgd",
        "colab_type": "code",
        "colab": {
          "base_uri": "https://localhost:8080/",
          "height": 88
        },
        "outputId": "57fa3386-c64b-46ab-b1a0-29c0d5de381e"
      },
      "source": [
        "doc_ls=[]\n",
        "for doc in docs:\n",
        "  doc_ls.append(doc.split(' '))\n",
        "doc_ls"
      ],
      "execution_count": null,
      "outputs": [
        {
          "output_type": "execute_result",
          "data": {
            "text/plain": [
              "[['동물원', '코끼리'],\n",
              " ['동물원', '원숭이', '바나나'],\n",
              " ['엄마', '코끼리', '아기', '코끼리'],\n",
              " ['원숭이', '바나나', '코끼리', '바나나']]"
            ]
          },
          "metadata": {
            "tags": []
          },
          "execution_count": 56
        }
      ]
    },
    {
      "cell_type": "code",
      "metadata": {
        "id": "Imy31b8XWT8z",
        "colab_type": "code",
        "colab": {
          "base_uri": "https://localhost:8080/",
          "height": 52
        },
        "outputId": "44e6d5ab-a04b-44a3-a9e1-4a4cc1098187"
      },
      "source": [
        "from collections import defaultdict\n",
        "word2id = defaultdict(lambda:len(word2id))\n",
        "for doc in doc_ls:\n",
        "  for token in doc:\n",
        "    word2id[token]\n",
        "word2id"
      ],
      "execution_count": null,
      "outputs": [
        {
          "output_type": "execute_result",
          "data": {
            "text/plain": [
              "defaultdict(<function __main__.<lambda>>,\n",
              "            {'동물원': 0, '바나나': 3, '아기': 5, '엄마': 4, '원숭이': 2, '코끼리': 1})"
            ]
          },
          "metadata": {
            "tags": []
          },
          "execution_count": 66
        }
      ]
    },
    {
      "cell_type": "code",
      "metadata": {
        "id": "ZuXaCaPCZkOk",
        "colab_type": "code",
        "colab": {
          "base_uri": "https://localhost:8080/",
          "height": 124
        },
        "outputId": "58032dc8-de50-48b8-8e0b-5dab03503566"
      },
      "source": [
        "import numpy as np\n",
        "\n",
        "TDM = np.zeros((len(word2id),len(docs)),dtype=int)\n",
        "for i, doc in enumerate(doc_ls):\n",
        "  for token in doc:\n",
        "    TDM[word2id[token], i] += 1\n",
        "TDM"
      ],
      "execution_count": null,
      "outputs": [
        {
          "output_type": "execute_result",
          "data": {
            "text/plain": [
              "array([[1, 1, 0, 0],\n",
              "       [1, 0, 2, 1],\n",
              "       [0, 1, 0, 1],\n",
              "       [0, 1, 0, 2],\n",
              "       [0, 0, 1, 0],\n",
              "       [0, 0, 1, 0]])"
            ]
          },
          "metadata": {
            "tags": []
          },
          "execution_count": 67
        }
      ]
    },
    {
      "cell_type": "code",
      "metadata": {
        "id": "3ZFaNy7ccKYO",
        "colab_type": "code",
        "colab": {
          "base_uri": "https://localhost:8080/",
          "height": 261
        },
        "outputId": "e9b02d0a-b862-475b-ad6a-fd3af2f2f40f"
      },
      "source": [
        "import pandas as pd\n",
        "doc_name = ['문서' + str(i) for i in range(len(doc_ls))]\n",
        "sorted_vocab = sorted((values,key) for key, values in word2id.items())\n",
        "vocab = [ v[1] for v in sorted_vocab ]\n",
        "\n",
        "df_TDM = pd.DataFrame(TDM, columns=doc_name)\n",
        "df_TDM['단어'] = vocab\n",
        "df_TDM.set_index('단어')"
      ],
      "execution_count": null,
      "outputs": [
        {
          "output_type": "execute_result",
          "data": {
            "text/html": [
              "<div>\n",
              "<style scoped>\n",
              "    .dataframe tbody tr th:only-of-type {\n",
              "        vertical-align: middle;\n",
              "    }\n",
              "\n",
              "    .dataframe tbody tr th {\n",
              "        vertical-align: top;\n",
              "    }\n",
              "\n",
              "    .dataframe thead th {\n",
              "        text-align: right;\n",
              "    }\n",
              "</style>\n",
              "<table border=\"1\" class=\"dataframe\">\n",
              "  <thead>\n",
              "    <tr style=\"text-align: right;\">\n",
              "      <th></th>\n",
              "      <th>문서0</th>\n",
              "      <th>문서1</th>\n",
              "      <th>문서2</th>\n",
              "      <th>문서3</th>\n",
              "    </tr>\n",
              "    <tr>\n",
              "      <th>단어</th>\n",
              "      <th></th>\n",
              "      <th></th>\n",
              "      <th></th>\n",
              "      <th></th>\n",
              "    </tr>\n",
              "  </thead>\n",
              "  <tbody>\n",
              "    <tr>\n",
              "      <th>동물원</th>\n",
              "      <td>1</td>\n",
              "      <td>1</td>\n",
              "      <td>0</td>\n",
              "      <td>0</td>\n",
              "    </tr>\n",
              "    <tr>\n",
              "      <th>코끼리</th>\n",
              "      <td>1</td>\n",
              "      <td>0</td>\n",
              "      <td>2</td>\n",
              "      <td>1</td>\n",
              "    </tr>\n",
              "    <tr>\n",
              "      <th>원숭이</th>\n",
              "      <td>0</td>\n",
              "      <td>1</td>\n",
              "      <td>0</td>\n",
              "      <td>1</td>\n",
              "    </tr>\n",
              "    <tr>\n",
              "      <th>바나나</th>\n",
              "      <td>0</td>\n",
              "      <td>1</td>\n",
              "      <td>0</td>\n",
              "      <td>2</td>\n",
              "    </tr>\n",
              "    <tr>\n",
              "      <th>엄마</th>\n",
              "      <td>0</td>\n",
              "      <td>0</td>\n",
              "      <td>1</td>\n",
              "      <td>0</td>\n",
              "    </tr>\n",
              "    <tr>\n",
              "      <th>아기</th>\n",
              "      <td>0</td>\n",
              "      <td>0</td>\n",
              "      <td>1</td>\n",
              "      <td>0</td>\n",
              "    </tr>\n",
              "  </tbody>\n",
              "</table>\n",
              "</div>"
            ],
            "text/plain": [
              "     문서0  문서1  문서2  문서3\n",
              "단어                     \n",
              "동물원    1    1    0    0\n",
              "코끼리    1    0    2    1\n",
              "원숭이    0    1    0    1\n",
              "바나나    0    1    0    2\n",
              "엄마     0    0    1    0\n",
              "아기     0    0    1    0"
            ]
          },
          "metadata": {
            "tags": []
          },
          "execution_count": 69
        }
      ]
    },
    {
      "cell_type": "markdown",
      "metadata": {
        "id": "RmjqignIhbLy",
        "colab_type": "text"
      },
      "source": [
        "## sklearn을 활용한 DTM\n",
        " - 참로: sklearn은 DTM으로 만들어지게 설정되어 있음"
      ]
    },
    {
      "cell_type": "code",
      "metadata": {
        "id": "wfZOfe3uhdFV",
        "colab_type": "code",
        "colab": {
          "base_uri": "https://localhost:8080/",
          "height": 35
        },
        "outputId": "fd4e76bb-0421-495a-8844-241b469d50ad"
      },
      "source": [
        "docs"
      ],
      "execution_count": null,
      "outputs": [
        {
          "output_type": "execute_result",
          "data": {
            "text/plain": [
              "['동물원 코끼리', '동물원 원숭이 바나나', '엄마 코끼리 아기 코끼리', '원숭이 바나나 코끼리 바나나']"
            ]
          },
          "metadata": {
            "tags": []
          },
          "execution_count": 32
        }
      ]
    },
    {
      "cell_type": "code",
      "metadata": {
        "id": "K6GJzqYjhpm8",
        "colab_type": "code",
        "colab": {
          "base_uri": "https://localhost:8080/",
          "height": 124
        },
        "outputId": "76345e6d-f4a4-48dc-ba9d-e4b221ae9b20"
      },
      "source": [
        "# 토큰빈도계산 : CountVectorizer\n",
        "from sklearn.feature_extraction.text import CountVectorizer\n",
        "count_vect = CountVectorizer()\n",
        "DTM = count_vect.fit_transform(docs)\n",
        "DTM.toarray().T"
      ],
      "execution_count": null,
      "outputs": [
        {
          "output_type": "execute_result",
          "data": {
            "text/plain": [
              "array([[1, 1, 0, 0],\n",
              "       [0, 1, 0, 2],\n",
              "       [0, 0, 1, 0],\n",
              "       [0, 0, 1, 0],\n",
              "       [0, 1, 0, 1],\n",
              "       [1, 0, 2, 1]])"
            ]
          },
          "metadata": {
            "tags": []
          },
          "execution_count": 36
        }
      ]
    },
    {
      "cell_type": "code",
      "metadata": {
        "id": "mH4WHE0Ihthf",
        "colab_type": "code",
        "colab": {
          "base_uri": "https://localhost:8080/",
          "height": 261
        },
        "outputId": "4ace49b0-147e-424d-91c8-11ddcd3956f0"
      },
      "source": [
        "import pandas as pd\n",
        "\n",
        "doc_names = ['문서' + str(i) for i in range(len(docs))]\n",
        "vocab = count_vect.get_feature_names()\n",
        "\n",
        "\n",
        "df_TDM = pd.DataFrame(DTM.toarray().T, columns = doc_names)\n",
        "df_TDM['단어'] = vocab\n",
        "df_TDM.set_index('단어')"
      ],
      "execution_count": null,
      "outputs": [
        {
          "output_type": "execute_result",
          "data": {
            "text/html": [
              "<div>\n",
              "<style scoped>\n",
              "    .dataframe tbody tr th:only-of-type {\n",
              "        vertical-align: middle;\n",
              "    }\n",
              "\n",
              "    .dataframe tbody tr th {\n",
              "        vertical-align: top;\n",
              "    }\n",
              "\n",
              "    .dataframe thead th {\n",
              "        text-align: right;\n",
              "    }\n",
              "</style>\n",
              "<table border=\"1\" class=\"dataframe\">\n",
              "  <thead>\n",
              "    <tr style=\"text-align: right;\">\n",
              "      <th></th>\n",
              "      <th>문서0</th>\n",
              "      <th>문서1</th>\n",
              "      <th>문서2</th>\n",
              "      <th>문서3</th>\n",
              "    </tr>\n",
              "    <tr>\n",
              "      <th>단어</th>\n",
              "      <th></th>\n",
              "      <th></th>\n",
              "      <th></th>\n",
              "      <th></th>\n",
              "    </tr>\n",
              "  </thead>\n",
              "  <tbody>\n",
              "    <tr>\n",
              "      <th>동물원</th>\n",
              "      <td>1</td>\n",
              "      <td>1</td>\n",
              "      <td>0</td>\n",
              "      <td>0</td>\n",
              "    </tr>\n",
              "    <tr>\n",
              "      <th>바나나</th>\n",
              "      <td>0</td>\n",
              "      <td>1</td>\n",
              "      <td>0</td>\n",
              "      <td>2</td>\n",
              "    </tr>\n",
              "    <tr>\n",
              "      <th>아기</th>\n",
              "      <td>0</td>\n",
              "      <td>0</td>\n",
              "      <td>1</td>\n",
              "      <td>0</td>\n",
              "    </tr>\n",
              "    <tr>\n",
              "      <th>엄마</th>\n",
              "      <td>0</td>\n",
              "      <td>0</td>\n",
              "      <td>1</td>\n",
              "      <td>0</td>\n",
              "    </tr>\n",
              "    <tr>\n",
              "      <th>원숭이</th>\n",
              "      <td>0</td>\n",
              "      <td>1</td>\n",
              "      <td>0</td>\n",
              "      <td>1</td>\n",
              "    </tr>\n",
              "    <tr>\n",
              "      <th>코끼리</th>\n",
              "      <td>1</td>\n",
              "      <td>0</td>\n",
              "      <td>2</td>\n",
              "      <td>1</td>\n",
              "    </tr>\n",
              "  </tbody>\n",
              "</table>\n",
              "</div>"
            ],
            "text/plain": [
              "     문서0  문서1  문서2  문서3\n",
              "단어                     \n",
              "동물원    1    1    0    0\n",
              "바나나    0    1    0    2\n",
              "아기     0    0    1    0\n",
              "엄마     0    0    1    0\n",
              "원숭이    0    1    0    1\n",
              "코끼리    1    0    2    1"
            ]
          },
          "metadata": {
            "tags": []
          },
          "execution_count": 40
        }
      ]
    },
    {
      "cell_type": "markdown",
      "metadata": {
        "id": "-OmIUjVsjRCb",
        "colab_type": "text"
      },
      "source": [
        "## gensim을 활용한 TDM"
      ]
    },
    {
      "cell_type": "code",
      "metadata": {
        "id": "C01cgNt-i5Vk",
        "colab_type": "code",
        "colab": {
          "base_uri": "https://localhost:8080/",
          "height": 35
        },
        "outputId": "55c5d0f7-4592-4561-a59f-13ebe2c36672"
      },
      "source": [
        "docs"
      ],
      "execution_count": null,
      "outputs": [
        {
          "output_type": "execute_result",
          "data": {
            "text/plain": [
              "['동물원 코끼리', '동물원 원숭이 바나나', '엄마 코끼리 아기 코끼리', '원숭이 바나나 코끼리 바나나']"
            ]
          },
          "metadata": {
            "tags": []
          },
          "execution_count": 71
        }
      ]
    },
    {
      "cell_type": "code",
      "metadata": {
        "id": "IBIRHLgmjTuw",
        "colab_type": "code",
        "colab": {
          "base_uri": "https://localhost:8080/",
          "height": 106
        },
        "outputId": "43c055e4-4a3c-4ffb-f90c-26bc32177422"
      },
      "source": [
        "from gensim import corpora\n",
        "\n",
        "doc_ls = [ doc.split(' ') for doc in docs]\n",
        "\n",
        "id2word = corpora.Dictionary(doc_ls)\n",
        "print(id2word)\n",
        "\n",
        "TDM=[]\n",
        "for doc in doc_ls:\n",
        "  TDM.append(id2word.doc2bow(doc))\n",
        "TDM"
      ],
      "execution_count": null,
      "outputs": [
        {
          "output_type": "stream",
          "text": [
            "Dictionary(6 unique tokens: ['동물원', '코끼리', '바나나', '원숭이', '아기']...)\n"
          ],
          "name": "stdout"
        },
        {
          "output_type": "execute_result",
          "data": {
            "text/plain": [
              "[[(0, 1), (1, 1)],\n",
              " [(0, 1), (2, 1), (3, 1)],\n",
              " [(1, 2), (4, 1), (5, 1)],\n",
              " [(1, 1), (2, 2), (3, 1)]]"
            ]
          },
          "metadata": {
            "tags": []
          },
          "execution_count": 75
        }
      ]
    },
    {
      "cell_type": "code",
      "metadata": {
        "id": "Hfm9L9h2jc6G",
        "colab_type": "code",
        "colab": {
          "base_uri": "https://localhost:8080/",
          "height": 261
        },
        "outputId": "533c8793-3857-41c3-c2ef-3a78e6808e2b"
      },
      "source": [
        "from gensim.matutils import sparse2full\n",
        "import pandas as pd\n",
        "import numpy as np\n",
        "\n",
        "vocab = [id2word[i] for i in id2word.keys()]\n",
        "DTM_matrix = [sparse2full(doc, len(vocab)).tolist() for doc in TDM]\n",
        "\n",
        "\n",
        "df_TDM = pd.DataFrame(np.array(DTM_matrix, dtype=int).T,\n",
        "                      columns = doc_names)\n",
        "df_TDM['단어'] = vocab\n",
        "df_TDM.set_index('단어')"
      ],
      "execution_count": null,
      "outputs": [
        {
          "output_type": "execute_result",
          "data": {
            "text/html": [
              "<div>\n",
              "<style scoped>\n",
              "    .dataframe tbody tr th:only-of-type {\n",
              "        vertical-align: middle;\n",
              "    }\n",
              "\n",
              "    .dataframe tbody tr th {\n",
              "        vertical-align: top;\n",
              "    }\n",
              "\n",
              "    .dataframe thead th {\n",
              "        text-align: right;\n",
              "    }\n",
              "</style>\n",
              "<table border=\"1\" class=\"dataframe\">\n",
              "  <thead>\n",
              "    <tr style=\"text-align: right;\">\n",
              "      <th></th>\n",
              "      <th>문서0</th>\n",
              "      <th>문서1</th>\n",
              "      <th>문서2</th>\n",
              "      <th>문서3</th>\n",
              "    </tr>\n",
              "    <tr>\n",
              "      <th>단어</th>\n",
              "      <th></th>\n",
              "      <th></th>\n",
              "      <th></th>\n",
              "      <th></th>\n",
              "    </tr>\n",
              "  </thead>\n",
              "  <tbody>\n",
              "    <tr>\n",
              "      <th>동물원</th>\n",
              "      <td>1</td>\n",
              "      <td>1</td>\n",
              "      <td>0</td>\n",
              "      <td>0</td>\n",
              "    </tr>\n",
              "    <tr>\n",
              "      <th>코끼리</th>\n",
              "      <td>1</td>\n",
              "      <td>0</td>\n",
              "      <td>2</td>\n",
              "      <td>1</td>\n",
              "    </tr>\n",
              "    <tr>\n",
              "      <th>바나나</th>\n",
              "      <td>0</td>\n",
              "      <td>1</td>\n",
              "      <td>0</td>\n",
              "      <td>2</td>\n",
              "    </tr>\n",
              "    <tr>\n",
              "      <th>원숭이</th>\n",
              "      <td>0</td>\n",
              "      <td>1</td>\n",
              "      <td>0</td>\n",
              "      <td>1</td>\n",
              "    </tr>\n",
              "    <tr>\n",
              "      <th>아기</th>\n",
              "      <td>0</td>\n",
              "      <td>0</td>\n",
              "      <td>1</td>\n",
              "      <td>0</td>\n",
              "    </tr>\n",
              "    <tr>\n",
              "      <th>엄마</th>\n",
              "      <td>0</td>\n",
              "      <td>0</td>\n",
              "      <td>1</td>\n",
              "      <td>0</td>\n",
              "    </tr>\n",
              "  </tbody>\n",
              "</table>\n",
              "</div>"
            ],
            "text/plain": [
              "     문서0  문서1  문서2  문서3\n",
              "단어                     \n",
              "동물원    1    1    0    0\n",
              "코끼리    1    0    2    1\n",
              "바나나    0    1    0    2\n",
              "원숭이    0    1    0    1\n",
              "아기     0    0    1    0\n",
              "엄마     0    0    1    0"
            ]
          },
          "metadata": {
            "tags": []
          },
          "execution_count": 79
        }
      ]
    },
    {
      "cell_type": "code",
      "metadata": {
        "id": "vb-F_oTaktA_",
        "colab_type": "code",
        "colab": {}
      },
      "source": [
        ""
      ],
      "execution_count": null,
      "outputs": []
    }
  ]
}