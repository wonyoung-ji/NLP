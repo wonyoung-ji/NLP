{
  "nbformat": 4,
  "nbformat_minor": 0,
  "metadata": {
    "colab": {
      "name": "200820_회귀_분석_및_K_폴드_검정.ipynb",
      "provenance": [],
      "collapsed_sections": [],
      "toc_visible": true,
      "include_colab_link": true
    },
    "kernelspec": {
      "name": "python3",
      "display_name": "Python 3"
    }
  },
  "cells": [
    {
      "cell_type": "markdown",
      "metadata": {
        "id": "view-in-github",
        "colab_type": "text"
      },
      "source": [
        "<a href=\"https://colab.research.google.com/github/wonyoung-ji/asiae_edu/blob/master/ML/200820_%ED%9A%8C%EA%B7%80_%EB%B6%84%EC%84%9D_%EB%B0%8F_K_%ED%8F%B4%EB%93%9C_%EA%B2%80%EC%A0%95.ipynb\" target=\"_parent\"><img src=\"https://colab.research.google.com/assets/colab-badge.svg\" alt=\"Open In Colab\"/></a>"
      ]
    },
    {
      "cell_type": "markdown",
      "metadata": {
        "id": "HartLQ87ptEU",
        "colab_type": "text"
      },
      "source": [
        "## 교차 검증\n",
        "- 교차 검증의 의미\n",
        "- 실습"
      ]
    },
    {
      "cell_type": "markdown",
      "metadata": {
        "id": "Lua-eU40pvbK",
        "colab_type": "text"
      },
      "source": [
        "### 방법 1. 홀드아웃\n",
        "- 데이터: 훈련데이터와 테스트데이터\n",
        " + 훈련데이터: 훈련데이터(0.6) + 검증데이터(0.2) --> 테스트데이터 진행(0.2)"
      ]
    },
    {
      "cell_type": "markdown",
      "metadata": {
        "id": "ujYUo5TmqPHy",
        "colab_type": "text"
      },
      "source": [
        "### 방법 2. K폴드 교차검증\n",
        "- 데이터의 수가 적을 때 주로 사용\n",
        "- Why? Default 연산량 * K개 만큼 해야 하므로 연산 속도가 너무 오래 걸림\n"
      ]
    },
    {
      "cell_type": "markdown",
      "metadata": {
        "id": "ypd1Wy91v8_E",
        "colab_type": "text"
      },
      "source": [
        "- cross_val_score\n",
        "- https://scikit-learn.org/stable/modules/generated/sklearn.model_selection.cross_val_score.html"
      ]
    },
    {
      "cell_type": "code",
      "metadata": {
        "id": "xRtLmMqxr6OS",
        "colab_type": "code",
        "colab": {
          "base_uri": "https://localhost:8080/",
          "height": 72
        },
        "outputId": "90d7cd55-3e89-477b-91f0-935702d63e09"
      },
      "source": [
        "import numpy as np\n",
        "import matplotlib.pyplot as plt\n",
        "import pandas as pd\n",
        "import seaborn as sns\n",
        "from scipy import stats\n",
        "from sklearn.datasets import load_boston\n",
        "\n",
        "# https://scikit-learn.org/stable/datasets/index.html#boston-dataset"
      ],
      "execution_count": null,
      "outputs": [
        {
          "output_type": "stream",
          "text": [
            "/usr/local/lib/python3.6/dist-packages/statsmodels/tools/_testing.py:19: FutureWarning: pandas.util.testing is deprecated. Use the functions in the public API at pandas.testing instead.\n",
            "  import pandas.util.testing as tm\n"
          ],
          "name": "stderr"
        }
      ]
    },
    {
      "cell_type": "code",
      "metadata": {
        "id": "ypSC3MvGwadJ",
        "colab_type": "code",
        "colab": {
          "base_uri": "https://localhost:8080/",
          "height": 34
        },
        "outputId": "8f5fa045-9200-443f-f884-e189c2b6033b"
      },
      "source": [
        "%matplotlib inline\n",
        "boston = load_boston()\n",
        "\n",
        "# pandas dataframe, 독립변수\n",
        "bostonDF = pd.DataFrame(boston.data, columns=boston.feature_names)\n",
        "\n",
        "# 종속변수\n",
        "bostonDF['PRICE'] = boston.target\n",
        "print('Size of Dataset:', bostonDF.shape)"
      ],
      "execution_count": null,
      "outputs": [
        {
          "output_type": "stream",
          "text": [
            "Size of Dataset: (506, 14)\n"
          ],
          "name": "stdout"
        }
      ]
    },
    {
      "cell_type": "code",
      "metadata": {
        "id": "pjpkt9PGwrcp",
        "colab_type": "code",
        "colab": {
          "base_uri": "https://localhost:8080/",
          "height": 197
        },
        "outputId": "60e9f259-5d4e-400e-fba1-f4bfd2481d8d"
      },
      "source": [
        "bostonDF.head()"
      ],
      "execution_count": null,
      "outputs": [
        {
          "output_type": "execute_result",
          "data": {
            "text/html": [
              "<div>\n",
              "<style scoped>\n",
              "    .dataframe tbody tr th:only-of-type {\n",
              "        vertical-align: middle;\n",
              "    }\n",
              "\n",
              "    .dataframe tbody tr th {\n",
              "        vertical-align: top;\n",
              "    }\n",
              "\n",
              "    .dataframe thead th {\n",
              "        text-align: right;\n",
              "    }\n",
              "</style>\n",
              "<table border=\"1\" class=\"dataframe\">\n",
              "  <thead>\n",
              "    <tr style=\"text-align: right;\">\n",
              "      <th></th>\n",
              "      <th>CRIM</th>\n",
              "      <th>ZN</th>\n",
              "      <th>INDUS</th>\n",
              "      <th>CHAS</th>\n",
              "      <th>NOX</th>\n",
              "      <th>RM</th>\n",
              "      <th>AGE</th>\n",
              "      <th>DIS</th>\n",
              "      <th>RAD</th>\n",
              "      <th>TAX</th>\n",
              "      <th>PTRATIO</th>\n",
              "      <th>B</th>\n",
              "      <th>LSTAT</th>\n",
              "      <th>PRICE</th>\n",
              "    </tr>\n",
              "  </thead>\n",
              "  <tbody>\n",
              "    <tr>\n",
              "      <th>0</th>\n",
              "      <td>0.00632</td>\n",
              "      <td>18.0</td>\n",
              "      <td>2.31</td>\n",
              "      <td>0.0</td>\n",
              "      <td>0.538</td>\n",
              "      <td>6.575</td>\n",
              "      <td>65.2</td>\n",
              "      <td>4.0900</td>\n",
              "      <td>1.0</td>\n",
              "      <td>296.0</td>\n",
              "      <td>15.3</td>\n",
              "      <td>396.90</td>\n",
              "      <td>4.98</td>\n",
              "      <td>24.0</td>\n",
              "    </tr>\n",
              "    <tr>\n",
              "      <th>1</th>\n",
              "      <td>0.02731</td>\n",
              "      <td>0.0</td>\n",
              "      <td>7.07</td>\n",
              "      <td>0.0</td>\n",
              "      <td>0.469</td>\n",
              "      <td>6.421</td>\n",
              "      <td>78.9</td>\n",
              "      <td>4.9671</td>\n",
              "      <td>2.0</td>\n",
              "      <td>242.0</td>\n",
              "      <td>17.8</td>\n",
              "      <td>396.90</td>\n",
              "      <td>9.14</td>\n",
              "      <td>21.6</td>\n",
              "    </tr>\n",
              "    <tr>\n",
              "      <th>2</th>\n",
              "      <td>0.02729</td>\n",
              "      <td>0.0</td>\n",
              "      <td>7.07</td>\n",
              "      <td>0.0</td>\n",
              "      <td>0.469</td>\n",
              "      <td>7.185</td>\n",
              "      <td>61.1</td>\n",
              "      <td>4.9671</td>\n",
              "      <td>2.0</td>\n",
              "      <td>242.0</td>\n",
              "      <td>17.8</td>\n",
              "      <td>392.83</td>\n",
              "      <td>4.03</td>\n",
              "      <td>34.7</td>\n",
              "    </tr>\n",
              "    <tr>\n",
              "      <th>3</th>\n",
              "      <td>0.03237</td>\n",
              "      <td>0.0</td>\n",
              "      <td>2.18</td>\n",
              "      <td>0.0</td>\n",
              "      <td>0.458</td>\n",
              "      <td>6.998</td>\n",
              "      <td>45.8</td>\n",
              "      <td>6.0622</td>\n",
              "      <td>3.0</td>\n",
              "      <td>222.0</td>\n",
              "      <td>18.7</td>\n",
              "      <td>394.63</td>\n",
              "      <td>2.94</td>\n",
              "      <td>33.4</td>\n",
              "    </tr>\n",
              "    <tr>\n",
              "      <th>4</th>\n",
              "      <td>0.06905</td>\n",
              "      <td>0.0</td>\n",
              "      <td>2.18</td>\n",
              "      <td>0.0</td>\n",
              "      <td>0.458</td>\n",
              "      <td>7.147</td>\n",
              "      <td>54.2</td>\n",
              "      <td>6.0622</td>\n",
              "      <td>3.0</td>\n",
              "      <td>222.0</td>\n",
              "      <td>18.7</td>\n",
              "      <td>396.90</td>\n",
              "      <td>5.33</td>\n",
              "      <td>36.2</td>\n",
              "    </tr>\n",
              "  </tbody>\n",
              "</table>\n",
              "</div>"
            ],
            "text/plain": [
              "      CRIM    ZN  INDUS  CHAS    NOX  ...    TAX  PTRATIO       B  LSTAT  PRICE\n",
              "0  0.00632  18.0   2.31   0.0  0.538  ...  296.0     15.3  396.90   4.98   24.0\n",
              "1  0.02731   0.0   7.07   0.0  0.469  ...  242.0     17.8  396.90   9.14   21.6\n",
              "2  0.02729   0.0   7.07   0.0  0.469  ...  242.0     17.8  392.83   4.03   34.7\n",
              "3  0.03237   0.0   2.18   0.0  0.458  ...  222.0     18.7  394.63   2.94   33.4\n",
              "4  0.06905   0.0   2.18   0.0  0.458  ...  222.0     18.7  396.90   5.33   36.2\n",
              "\n",
              "[5 rows x 14 columns]"
            ]
          },
          "metadata": {
            "tags": []
          },
          "execution_count": 6
        }
      ]
    },
    {
      "cell_type": "markdown",
      "metadata": {
        "id": "-sI-ic__xczR",
        "colab_type": "text"
      },
      "source": [
        "### 데이터 탐색\n",
        "- 시각화, 통계 검정\n",
        " + 시각화는 각자 연습...!\n",
        "- 변수 정의\n",
        "\n",
        "https://scikit-learn.org/stable/datasets/index.html#boston-dataset\n",
        "\n",
        "CRIM per capita crime rate by town\n",
        "\n",
        "ZN proportion of residential land zoned for lots over 25,000 sq.ft.\n",
        "\n",
        "INDUS proportion of non-retail business acres per town\n",
        "\n",
        "CHAS Charles River dummy variable (= 1 if tract bounds river; 0 otherwise)\n",
        "\n",
        "NOX nitric oxides concentration (parts per 10 million)\n",
        "\n",
        "RM average number of rooms per dwelling\n",
        "\n",
        "AGE proportion of owner-occupied units built prior to 1940\n",
        "\n",
        "DIS weighted distances to five Boston employment centres\n",
        "\n",
        "RAD index of accessibility to radial highways\n",
        "\n",
        "TAX full-value property-tax rate per $10,000\n",
        "\n",
        "PTRATIO pupil-teacher ratio by town\n",
        "\n",
        "B 1000(Bk - 0.63)^2 where Bk is the proportion of blacks by town\n",
        "\n",
        "LSTAT % lower status of the population\n",
        "\n",
        "MEDV Median value of owner-occupied homes in $1000’s"
      ]
    },
    {
      "cell_type": "markdown",
      "metadata": {
        "id": "g0VSwebXxtAZ",
        "colab_type": "text"
      },
      "source": [
        "## 머신러닝 모형 만들기"
      ]
    },
    {
      "cell_type": "code",
      "metadata": {
        "id": "k5ZfMuw3wu6K",
        "colab_type": "code",
        "colab": {
          "base_uri": "https://localhost:8080/",
          "height": 34
        },
        "outputId": "c78825c2-1e78-4793-dbf8-82ac5b42e18a"
      },
      "source": [
        "from sklearn.model_selection import train_test_split\n",
        "from sklearn.linear_model import LinearRegression\n",
        "from sklearn.metrics import mean_squared_error, r2_score\n",
        "\n",
        "# 독립변수, 종속변수 분리\n",
        "y_target = bostonDF['PRICE']\n",
        "X_data = bostonDF.drop(['PRICE'], axis = 1, inplace = False)    # 독립변수 데이터만 넣기 위해 종속변수인 Price를 빼버림\n",
        "\n",
        "# 훈련데이터, 테스트데이터 분리\n",
        "X_train, X_test, y_train, y_test = train_test_split(X_data, y_target, test_size = 0.3, random_state = 1)\n",
        "\n",
        "# 모형 만들기 (선형회귀)\n",
        "lr_model = LinearRegression()\n",
        "\n",
        "# 모형 학습시키기\n",
        "lr_model.fit(X_train, y_train)"
      ],
      "execution_count": null,
      "outputs": [
        {
          "output_type": "execute_result",
          "data": {
            "text/plain": [
              "LinearRegression(copy_X=True, fit_intercept=True, n_jobs=None, normalize=False)"
            ]
          },
          "metadata": {
            "tags": []
          },
          "execution_count": 18
        }
      ]
    },
    {
      "cell_type": "code",
      "metadata": {
        "id": "DlBSdWkJyqma",
        "colab_type": "code",
        "colab": {
          "base_uri": "https://localhost:8080/",
          "height": 567
        },
        "outputId": "062b7bbb-3b39-4fee-a30c-d0525ef4c8d3"
      },
      "source": [
        "# 예측\n",
        "y_preds = lr_model.predict(X_test)\n",
        "y_preds # 해당 결과 값은 예측된 가격을 의미함"
      ],
      "execution_count": null,
      "outputs": [
        {
          "output_type": "execute_result",
          "data": {
            "text/plain": [
              "array([32.3914647 , 27.94401279, 17.83762764, 21.66941388, 18.93639614,\n",
              "       20.01995795, 32.63414961, 17.86179976, 24.73211676, 26.77346826,\n",
              "       27.26138023, 28.63243014, 21.16103038, 27.15098589, 23.33198614,\n",
              "       21.02894005, 17.11819755, 37.52455938, 30.69864427,  8.46104486,\n",
              "       20.83966032, 16.26732451, 25.05030307, 24.8069032 , 31.6789299 ,\n",
              "       10.98989363, 13.54111562, 16.54697099, 35.86699683, 14.69589266,\n",
              "       21.05655107, 13.90301353, 43.01321262, 17.80335305, 21.68817023,\n",
              "       20.45077825, 17.38095983, 26.81334904, 10.08706217, 19.96174586,\n",
              "       24.1983249 , 21.00202622, 29.38682967, 16.33215467, 19.37439646,\n",
              "       14.45525235, 39.52670798, 18.18535021, 26.38536303, 20.41420863,\n",
              "       25.08511581, 24.40208165, 24.87902769, 26.97887956,  4.93921657,\n",
              "       24.0001365 , 10.66711602, 26.98494775, 16.63507993, 35.31652989,\n",
              "       19.49249915, 27.37577863, 16.53965715, 19.09746715, 11.06765336,\n",
              "       32.03445261, 36.15847648, 21.53547868, 24.96434626, 25.50601154,\n",
              "       23.41203509,  7.20513615, 16.8659937 , 20.06269471, 20.61979368,\n",
              "       21.97238475, 34.25908683, 27.9998298 , 24.95261644, 34.74201458,\n",
              "       18.63786454, 23.95355085, 34.50655345, 13.15979729, 20.53691051,\n",
              "       30.29844955, 16.932953  , 24.29285934, 19.11800155, 16.9848188 ,\n",
              "       26.80165303, 40.90027245, 14.43790215, 23.20589688, 15.39439519,\n",
              "       21.77332361, 22.85660249, 29.45718412, 36.54373379, 20.36577747,\n",
              "       18.01790611, 17.41615519, 25.23381893, 21.98069747,  8.3160445 ,\n",
              "       21.49942727, 16.565317  , 33.22680671, 24.39944797, 24.99055027,\n",
              "       38.37532568, 28.82033178, 14.76287071, 34.72063358, 35.40686066,\n",
              "       32.93299015, 20.95996646, 16.74324182, 34.54769634, 38.9463732 ,\n",
              "       21.47971843, 15.54203787, 27.46719043, 18.62729405, 27.3819011 ,\n",
              "       21.13549164, 26.24403323, 22.22010257, 23.34295812, 28.29923408,\n",
              "       20.53788412, 23.94639233, 29.8421088 , 10.55075792, 27.02280253,\n",
              "       32.41641579, 13.94180705, 13.62057726, 33.00870341, 14.2836798 ,\n",
              "       17.70899424, 16.30194776, 17.14377392, 28.71467061, 34.07548297,\n",
              "       20.31288796, 24.55801246, 17.32995936, 28.3602341 , 20.79422791,\n",
              "       33.6981572 , 13.51882716])"
            ]
          },
          "metadata": {
            "tags": []
          },
          "execution_count": 19
        }
      ]
    },
    {
      "cell_type": "markdown",
      "metadata": {
        "id": "s6vKwQIqzO8R",
        "colab_type": "text"
      },
      "source": [
        "- mean_squared_error(MSE): **실제값과 예측값의 차이**를 제곱 후 평균한 것\n",
        "- RMSE: 실제 오류 평균보다 더 커지는 특성이 있어서 루트를 씌운 것"
      ]
    },
    {
      "cell_type": "code",
      "metadata": {
        "id": "EAUNh-82zKCh",
        "colab_type": "code",
        "colab": {
          "base_uri": "https://localhost:8080/",
          "height": 34
        },
        "outputId": "c08ab174-6cb6-4ffa-e0f1-0cac375c2b77"
      },
      "source": [
        "mse = mean_squared_error(y_test, y_preds)\n",
        "print(mse)"
      ],
      "execution_count": null,
      "outputs": [
        {
          "output_type": "stream",
          "text": [
            "19.831323672062922\n"
          ],
          "name": "stdout"
        }
      ]
    },
    {
      "cell_type": "code",
      "metadata": {
        "id": "8FbsrdTlz4Py",
        "colab_type": "code",
        "colab": {
          "base_uri": "https://localhost:8080/",
          "height": 34
        },
        "outputId": "bdfb2bf8-d0d4-42d3-bfe6-dbbaf48fc43c"
      },
      "source": [
        "rmse = np.sqrt(mse)\n",
        "print(rmse)"
      ],
      "execution_count": null,
      "outputs": [
        {
          "output_type": "stream",
          "text": [
            "4.4532374371981245\n"
          ],
          "name": "stdout"
        }
      ]
    },
    {
      "cell_type": "markdown",
      "metadata": {
        "id": "lAlkxYIO0JPZ",
        "colab_type": "text"
      },
      "source": [
        "## K 폴드 적용\n",
        "- cross_val_score() 함수를 활용하여 RMSE 평균값 구해보기\n",
        "+ 5개 폴드값"
      ]
    },
    {
      "cell_type": "code",
      "metadata": {
        "id": "8Q9v3TZaz_pZ",
        "colab_type": "code",
        "colab": {
          "base_uri": "https://localhost:8080/",
          "height": 34
        },
        "outputId": "ddd2a1f3-a5b3-4003-f27c-3666580f61c3"
      },
      "source": [
        "from sklearn.model_selection import cross_val_score\n",
        "\n",
        "neg_mse_scores = cross_val_score(lr_model, X_data, y_target, scoring=\"neg_mean_squared_error\", cv=5)\n",
        "print(neg_mse_scores) # 반환값이 음수로 나오는 것은 무시,,,"
      ],
      "execution_count": null,
      "outputs": [
        {
          "output_type": "stream",
          "text": [
            "[-12.46030057 -26.04862111 -33.07413798 -80.76237112 -33.31360656]\n"
          ],
          "name": "stdout"
        }
      ]
    },
    {
      "cell_type": "code",
      "metadata": {
        "id": "tECTYUHw0qaf",
        "colab_type": "code",
        "colab": {
          "base_uri": "https://localhost:8080/",
          "height": 34
        },
        "outputId": "9cc5fe66-82bd-4b51-891a-79fbf1ce10db"
      },
      "source": [
        "# neg_mse_scores를 양수로 변환시킨 뒤, 루트 씌우기\n",
        "\n",
        "rmse_scores = np.sqrt(-1 * neg_mse_scores)\n",
        "print(rmse_scores)"
      ],
      "execution_count": null,
      "outputs": [
        {
          "output_type": "stream",
          "text": [
            "[3.52991509 5.10378498 5.75101191 8.9867887  5.77179405]\n"
          ],
          "name": "stdout"
        }
      ]
    },
    {
      "cell_type": "code",
      "metadata": {
        "id": "W5uEgzRz1DZB",
        "colab_type": "code",
        "colab": {
          "base_uri": "https://localhost:8080/",
          "height": 34
        },
        "outputId": "e33f6ad3-6930-4d56-bbb3-47d5c2704c2b"
      },
      "source": [
        "np.mean(rmse_scores)   # RMSE (예측-실제)의 오차값을 가장 작은 수로 만들기 위해 독립변수를 조작. 여러번 돌려봐야 함"
      ],
      "execution_count": null,
      "outputs": [
        {
          "output_type": "execute_result",
          "data": {
            "text/plain": [
              "5.828658946215802"
            ]
          },
          "metadata": {
            "tags": []
          },
          "execution_count": 29
        }
      ]
    },
    {
      "cell_type": "markdown",
      "metadata": {
        "id": "k2apr6QG1kjx",
        "colab_type": "text"
      },
      "source": [
        "- 위의 RMSE 크기를 줄이기 위해서는?(좋은 모형을 만들기 위해서는?) \n",
        " + 기존의 13개 변수(price는 종속 변수였으니깐 제외 ㅎㅎ) 중에서 의미 있는 변수만 선택하여 계속해서 돌려봐야 함...!"
      ]
    }
  ]
}