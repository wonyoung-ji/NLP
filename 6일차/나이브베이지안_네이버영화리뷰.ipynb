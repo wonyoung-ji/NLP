{
  "nbformat": 4,
  "nbformat_minor": 0,
  "metadata": {
    "colab": {
      "name": "나이브베이지안_네이버영화리뷰.ipynb",
      "provenance": [],
      "collapsed_sections": [],
      "authorship_tag": "ABX9TyO9fgDaQbgrK2+5BeajUQ9m",
      "include_colab_link": true
    },
    "kernelspec": {
      "name": "python3",
      "display_name": "Python 3"
    }
  },
  "cells": [
    {
      "cell_type": "markdown",
      "metadata": {
        "id": "view-in-github",
        "colab_type": "text"
      },
      "source": [
        "<a href=\"https://colab.research.google.com/github/wonyoung-ji/NLP/blob/master/6%EC%9D%BC%EC%B0%A8/%EB%82%98%EC%9D%B4%EB%B8%8C%EB%B2%A0%EC%9D%B4%EC%A7%80%EC%95%88_%EB%84%A4%EC%9D%B4%EB%B2%84%EC%98%81%ED%99%94%EB%A6%AC%EB%B7%B0.ipynb\" target=\"_parent\"><img src=\"https://colab.research.google.com/assets/colab-badge.svg\" alt=\"Open In Colab\"/></a>"
      ]
    },
    {
      "cell_type": "code",
      "metadata": {
        "id": "gU8XVxVOYMg2",
        "colab_type": "code",
        "colab": {}
      },
      "source": [
        "! sudo apt-get install g++ openjdk-7-jdk #Install Java 1.7+ \n",
        "#!sudo apt-get install python-dev; pip install konlpy # Python 2.x \n",
        "!sudo apt-get install python3-dev; pip3 install konlpy # Python 3.x \n",
        "!sudo apt-get install curl \n",
        "! bash <(curl -s https://raw.githubusercontent.com/konlpy/konlpy/master/scripts/mecab.sh)"
      ],
      "execution_count": null,
      "outputs": []
    },
    {
      "cell_type": "markdown",
      "metadata": {
        "id": "94bn6uKGNtiD",
        "colab_type": "text"
      },
      "source": [
        "데이터 DL > https://github.com/e9t/nsmc"
      ]
    },
    {
      "cell_type": "markdown",
      "metadata": {
        "id": "SiVrKUAI9njv",
        "colab_type": "text"
      },
      "source": [
        "## 01. 데이터 불러오기 및 결측치처리"
      ]
    },
    {
      "cell_type": "code",
      "metadata": {
        "id": "FgAVTbKpYRAY",
        "colab_type": "code",
        "colab": {
          "base_uri": "https://localhost:8080/",
          "height": 54
        },
        "outputId": "4ee9d447-4ab2-496d-a5be-b03a3789a75f"
      },
      "source": [
        "from google.colab import drive\n",
        "drive.mount('/content/gdrive')"
      ],
      "execution_count": 91,
      "outputs": [
        {
          "output_type": "stream",
          "text": [
            "Drive already mounted at /content/gdrive; to attempt to forcibly remount, call drive.mount(\"/content/gdrive\", force_remount=True).\n"
          ],
          "name": "stdout"
        }
      ]
    },
    {
      "cell_type": "code",
      "metadata": {
        "id": "1ICsbUlsZmgU",
        "colab_type": "code",
        "colab": {}
      },
      "source": [
        "import pandas as pd\n",
        "train = pd.DataFrame(pd.read_csv('/content/gdrive/My Drive/NLP/네이버영화리뷰실습/ratings_train.txt', sep='\\t', quoting=3,encoding='utf-8')) \n",
        "#label: 0 = 부정, 1 = 긍정"
      ],
      "execution_count": 276,
      "outputs": []
    },
    {
      "cell_type": "code",
      "metadata": {
        "id": "04hX9WTjbdiC",
        "colab_type": "code",
        "colab": {}
      },
      "source": [
        "train.dropna(inplace=True)\n",
        "train.reset_index(inplace=True)"
      ],
      "execution_count": 277,
      "outputs": []
    },
    {
      "cell_type": "code",
      "metadata": {
        "id": "Wqno8aDFb1No",
        "colab_type": "code",
        "colab": {
          "base_uri": "https://localhost:8080/",
          "height": 427
        },
        "outputId": "bd1bfe94-d5fa-4aef-ae38-4eab30bcaf6f"
      },
      "source": [
        "# del train['index']\n",
        "train"
      ],
      "execution_count": 278,
      "outputs": [
        {
          "output_type": "execute_result",
          "data": {
            "text/html": [
              "<div>\n",
              "<style scoped>\n",
              "    .dataframe tbody tr th:only-of-type {\n",
              "        vertical-align: middle;\n",
              "    }\n",
              "\n",
              "    .dataframe tbody tr th {\n",
              "        vertical-align: top;\n",
              "    }\n",
              "\n",
              "    .dataframe thead th {\n",
              "        text-align: right;\n",
              "    }\n",
              "</style>\n",
              "<table border=\"1\" class=\"dataframe\">\n",
              "  <thead>\n",
              "    <tr style=\"text-align: right;\">\n",
              "      <th></th>\n",
              "      <th>id</th>\n",
              "      <th>document</th>\n",
              "      <th>label</th>\n",
              "    </tr>\n",
              "  </thead>\n",
              "  <tbody>\n",
              "    <tr>\n",
              "      <th>0</th>\n",
              "      <td>9976970</td>\n",
              "      <td>아 더빙.. 진짜 짜증나네요 목소리</td>\n",
              "      <td>0</td>\n",
              "    </tr>\n",
              "    <tr>\n",
              "      <th>1</th>\n",
              "      <td>3819312</td>\n",
              "      <td>흠...포스터보고 초딩영화줄....오버연기조차 가볍지 않구나</td>\n",
              "      <td>1</td>\n",
              "    </tr>\n",
              "    <tr>\n",
              "      <th>2</th>\n",
              "      <td>10265843</td>\n",
              "      <td>너무재밓었다그래서보는것을추천한다</td>\n",
              "      <td>0</td>\n",
              "    </tr>\n",
              "    <tr>\n",
              "      <th>3</th>\n",
              "      <td>9045019</td>\n",
              "      <td>교도소 이야기구먼 ..솔직히 재미는 없다..평점 조정</td>\n",
              "      <td>0</td>\n",
              "    </tr>\n",
              "    <tr>\n",
              "      <th>4</th>\n",
              "      <td>6483659</td>\n",
              "      <td>사이몬페그의 익살스런 연기가 돋보였던 영화!스파이더맨에서 늙어보이기만 했던 커스틴 ...</td>\n",
              "      <td>1</td>\n",
              "    </tr>\n",
              "    <tr>\n",
              "      <th>...</th>\n",
              "      <td>...</td>\n",
              "      <td>...</td>\n",
              "      <td>...</td>\n",
              "    </tr>\n",
              "    <tr>\n",
              "      <th>149990</th>\n",
              "      <td>6222902</td>\n",
              "      <td>인간이 문제지.. 소는 뭔죄인가..</td>\n",
              "      <td>0</td>\n",
              "    </tr>\n",
              "    <tr>\n",
              "      <th>149991</th>\n",
              "      <td>8549745</td>\n",
              "      <td>평점이 너무 낮아서...</td>\n",
              "      <td>1</td>\n",
              "    </tr>\n",
              "    <tr>\n",
              "      <th>149992</th>\n",
              "      <td>9311800</td>\n",
              "      <td>이게 뭐요? 한국인은 거들먹거리고 필리핀 혼혈은 착하다?</td>\n",
              "      <td>0</td>\n",
              "    </tr>\n",
              "    <tr>\n",
              "      <th>149993</th>\n",
              "      <td>2376369</td>\n",
              "      <td>청춘 영화의 최고봉.방황과 우울했던 날들의 자화상</td>\n",
              "      <td>1</td>\n",
              "    </tr>\n",
              "    <tr>\n",
              "      <th>149994</th>\n",
              "      <td>9619869</td>\n",
              "      <td>한국 영화 최초로 수간하는 내용이 담긴 영화</td>\n",
              "      <td>0</td>\n",
              "    </tr>\n",
              "  </tbody>\n",
              "</table>\n",
              "<p>149995 rows × 3 columns</p>\n",
              "</div>"
            ],
            "text/plain": [
              "              id                                           document  label\n",
              "0        9976970                                아 더빙.. 진짜 짜증나네요 목소리      0\n",
              "1        3819312                  흠...포스터보고 초딩영화줄....오버연기조차 가볍지 않구나      1\n",
              "2       10265843                                  너무재밓었다그래서보는것을추천한다      0\n",
              "3        9045019                      교도소 이야기구먼 ..솔직히 재미는 없다..평점 조정      0\n",
              "4        6483659  사이몬페그의 익살스런 연기가 돋보였던 영화!스파이더맨에서 늙어보이기만 했던 커스틴 ...      1\n",
              "...          ...                                                ...    ...\n",
              "149990   6222902                                인간이 문제지.. 소는 뭔죄인가..      0\n",
              "149991   8549745                                      평점이 너무 낮아서...      1\n",
              "149992   9311800                    이게 뭐요? 한국인은 거들먹거리고 필리핀 혼혈은 착하다?      0\n",
              "149993   2376369                        청춘 영화의 최고봉.방황과 우울했던 날들의 자화상      1\n",
              "149994   9619869                           한국 영화 최초로 수간하는 내용이 담긴 영화      0\n",
              "\n",
              "[149995 rows x 3 columns]"
            ]
          },
          "metadata": {
            "tags": []
          },
          "execution_count": 278
        }
      ]
    },
    {
      "cell_type": "markdown",
      "metadata": {
        "id": "2IlH-9oh9rQt",
        "colab_type": "text"
      },
      "source": [
        "## 02. 토큰화"
      ]
    },
    {
      "cell_type": "code",
      "metadata": {
        "id": "aOYjIKlCb8d2",
        "colab_type": "code",
        "colab": {
          "base_uri": "https://localhost:8080/",
          "height": 351
        },
        "outputId": "f66df7ea-b5a5-42fb-dcaa-835a59163e61"
      },
      "source": [
        "#토큰화\n",
        "from konlpy.tag import Mecab\n",
        "mecab = Mecab()\n",
        "mecab_token=[]\n",
        "for i, token in enumerate(train['document']):\n",
        "  mecab_token.append(mecab.morphs(token))\n",
        "mecab_token[:3]"
      ],
      "execution_count": 345,
      "outputs": [
        {
          "output_type": "execute_result",
          "data": {
            "text/plain": [
              "[['아', '더', '빙', '.', '.', '진짜', '짜증', '나', '네요', '목소리'],\n",
              " ['흠',\n",
              "  '.',\n",
              "  '..',\n",
              "  '포스터',\n",
              "  '보고',\n",
              "  '초딩',\n",
              "  '영화',\n",
              "  '줄',\n",
              "  '.',\n",
              "  '...',\n",
              "  '오버',\n",
              "  '연기',\n",
              "  '조차',\n",
              "  '가볍',\n",
              "  '지',\n",
              "  '않',\n",
              "  '구나'],\n",
              " ['너무', '재', '밓었다그래서보는것을추천한다']]"
            ]
          },
          "metadata": {
            "tags": []
          },
          "execution_count": 345
        }
      ]
    },
    {
      "cell_type": "markdown",
      "metadata": {
        "id": "vNUi0DLX9tD-",
        "colab_type": "text"
      },
      "source": [
        "## 품사부착"
      ]
    },
    {
      "cell_type": "code",
      "metadata": {
        "id": "kOJEh22qci1y",
        "colab_type": "code",
        "colab": {
          "base_uri": "https://localhost:8080/",
          "height": 1000
        },
        "outputId": "012b8ffd-f724-4605-e1b5-ef4e2d7f7001"
      },
      "source": [
        "#품사부착\n",
        "mecab_pos=[]\n",
        "for token in train['document']:\n",
        "  mecab_pos.append(mecab.pos(token))\n",
        "mecab_pos[:5]"
      ],
      "execution_count": 346,
      "outputs": [
        {
          "output_type": "execute_result",
          "data": {
            "text/plain": [
              "[[('아', 'IC'),\n",
              "  ('더', 'MAG'),\n",
              "  ('빙', 'MAG'),\n",
              "  ('.', 'SF'),\n",
              "  ('.', 'SY'),\n",
              "  ('진짜', 'MAG'),\n",
              "  ('짜증', 'NNG'),\n",
              "  ('나', 'NP'),\n",
              "  ('네요', 'VCP+EC'),\n",
              "  ('목소리', 'NNG')],\n",
              " [('흠', 'IC'),\n",
              "  ('.', 'SF'),\n",
              "  ('..', 'SY'),\n",
              "  ('포스터', 'NNP'),\n",
              "  ('보고', 'JKB'),\n",
              "  ('초딩', 'NNG'),\n",
              "  ('영화', 'NNG'),\n",
              "  ('줄', 'NNG'),\n",
              "  ('.', 'SF'),\n",
              "  ('...', 'SY'),\n",
              "  ('오버', 'NNG'),\n",
              "  ('연기', 'NNG'),\n",
              "  ('조차', 'JX'),\n",
              "  ('가볍', 'VA'),\n",
              "  ('지', 'EC'),\n",
              "  ('않', 'VX'),\n",
              "  ('구나', 'EC')],\n",
              " [('너무', 'MAG'), ('재', 'XPN'), ('밓었다그래서보는것을추천한다', 'UNKNOWN')],\n",
              " [('교도소', 'NNG'),\n",
              "  ('이야기', 'NNG'),\n",
              "  ('구먼', 'VCP+EF'),\n",
              "  ('.', 'SF'),\n",
              "  ('.', 'SY'),\n",
              "  ('솔직히', 'MAG'),\n",
              "  ('재미', 'NNG'),\n",
              "  ('는', 'JX'),\n",
              "  ('없', 'VA'),\n",
              "  ('다', 'EF'),\n",
              "  ('.', 'SF'),\n",
              "  ('.', 'SY'),\n",
              "  ('평점', 'NNG'),\n",
              "  ('조정', 'NNG')],\n",
              " [('사이몬페그', 'NNP'),\n",
              "  ('의', 'JKG'),\n",
              "  ('익살', 'NNG'),\n",
              "  ('스런', 'XSA+ETM'),\n",
              "  ('연기', 'NNG'),\n",
              "  ('가', 'JKS'),\n",
              "  ('돋보였', 'VV+EP'),\n",
              "  ('던', 'ETM'),\n",
              "  ('영화', 'NNG'),\n",
              "  ('!', 'SY'),\n",
              "  ('스파이더맨', 'NNP'),\n",
              "  ('에서', 'JKB'),\n",
              "  ('늙', 'VV'),\n",
              "  ('어', 'EC'),\n",
              "  ('보이', 'VV'),\n",
              "  ('기', 'ETN'),\n",
              "  ('만', 'JX'),\n",
              "  ('했', 'VV+EP'),\n",
              "  ('던', 'ETM'),\n",
              "  ('커스틴', 'NNP'),\n",
              "  ('던스트', 'NNP'),\n",
              "  ('가', 'JKS'),\n",
              "  ('너무나', 'MAG'),\n",
              "  ('도', 'JX'),\n",
              "  ('이뻐', 'VA+EC'),\n",
              "  ('보였', 'VV+EP'),\n",
              "  ('다', 'EC')]]"
            ]
          },
          "metadata": {
            "tags": []
          },
          "execution_count": 346
        }
      ]
    },
    {
      "cell_type": "code",
      "metadata": {
        "id": "8F3kbRltl2QI",
        "colab_type": "code",
        "colab": {}
      },
      "source": [
        "# from collections import Counter\n",
        "# Counter(train['document']).most_common()"
      ],
      "execution_count": 7,
      "outputs": []
    },
    {
      "cell_type": "markdown",
      "metadata": {
        "id": "R9x0IG9w9wle",
        "colab_type": "text"
      },
      "source": [
        "## 불용어처리"
      ]
    },
    {
      "cell_type": "code",
      "metadata": {
        "id": "LVEVyYkiki7p",
        "colab_type": "code",
        "colab": {}
      },
      "source": [
        "#불용어처리\n",
        "stopPos = ['JKS','JKC','JKG','JKO','JKB','JKV','JKQ','JC','JX',   #조사\n",
        "          #  'SF','SE','SSO','SSC','SC','SH','SL','SN','SY',     #기타부호\n",
        "           'VCP','VCN',\n",
        "           'EP','EF','ETN','ETM',    #어미\n",
        "           'XSN','XSV','XSA','XPN',  # 접미사 및 접두사\n",
        "           ]\n",
        "stopWord = ['네요','그랬','한','는','이','다','줄','지','하','서','년','거','야','어','할',]\n",
        "\n",
        "\n",
        "X_train=[]\n",
        "for tags in mecab_pos:\n",
        "  word = []\n",
        "  for tag in tags:\n",
        "    if tag[1] not in stopPos:\n",
        "      if tag[0] not in stopWord:\n",
        "        word.append(tag[0])\n",
        "  X_train.append(' '.join(word))"
      ],
      "execution_count": 259,
      "outputs": []
    },
    {
      "cell_type": "markdown",
      "metadata": {
        "id": "6egItoTp9ypz",
        "colab_type": "text"
      },
      "source": [
        "## 학습\n"
      ]
    },
    {
      "cell_type": "code",
      "metadata": {
        "id": "7ygrXOnlt8rG",
        "colab_type": "code",
        "colab": {
          "base_uri": "https://localhost:8080/",
          "height": 72
        },
        "outputId": "be8a84f3-7822-48da-960b-7b078172dbe7"
      },
      "source": [
        "Y_train = list(train['label'])\n",
        "print(X_train[:30])\n",
        "print(Y_train[:30])"
      ],
      "execution_count": 314,
      "outputs": [
        {
          "output_type": "stream",
          "text": [
            "['아 더 빙 . . 진짜 짜증 나 목소리', '흠 . .. 포스터 초딩 영화 . ... 오버 연기 가볍 않 구나', '너무 밓었다그래서보는것을추천한다', '교도소 이야기 구먼 . . 솔직히 재미 없 . . 평점 조정', '사이몬페그 익살 스런 연기 돋보였 영화 ! 스파이더맨 늙 보이 했 커스틴 던스트 너무나 이뻐 보였', '막 걸음마 뗀 3 세 초등 학교 1 학년 인 8 살 영화 . ㅋㅋㅋ . .. 별반 개 아까움 .', '원작 긴장감 제대로 살려 내 못했 .', '별 반개 아깝 욕 나온다 이응경 길용우 연기 생활 몇 인지 . . 정말 발 해도 그것 보단 낫 납치 . 감금 반복 반복 . . 드라마 가족 없 연기 못 사람 모엿 네', '액션 없 는데 재미 있 몇 안 되 영화', '왜 케 평점 낮 건데 ? 꽤 볼 만한데 . . 헐리우드 화려 함 너무 길들여져 있 ?', '걍인피니트가짱이다 . 진짜 짱 ♥', '볼 때 눈물나 죽 90 대 향수 자극 ! ! 허진호 감성 절제 멜로 달인 ~', '울 면서 손들 고 횡단 보도 건널 때 뛰쳐나올 뻔 이범수 연기 드럽 게 못해', '담백 고 깔끔 해서 좋 . 신문 기사 보다 보 면 자꾸 잊어버린다 . 그 사람 것 .', '취향 존중 한다지만 진짜 내생 극장 본 영화 중 가장 잼 감동 임 스토리 거지 고 감동 어거지', 'ㄱ 냥 매번 긴장 고 밋 음 ㅠㅠ', '참 사람 웃긴 게 바스코 이기면 락스 코 라고 까 고 바비 이기 면 아이돌 라고 깐다 . 그냥 까 고 싶 어서 안달 난 것 보인다', '굿바이 레닌 표절 인 것 이해 는데 왜 뒤 갈수록 재미없 냐', '이건 정말 깨알 캐스팅 질퍽 않 산뜻 내용 구성 잘 버 무 러진 깨알 일 드 ! !♥', '약탈자 위한 변명 , 이라 . 저놈 착한 놈 절대 아닌걸요 .', '나름 심오 뜻 있 듯 . 그냥 학생 선생 놀아나 영화 절대 아님', '보 면서 웃 않 건 가능', '재미없 지루 고 . 같 음식 영화 인데 바베트 만찬 고 넘 차이 . ... 바베트 만찬 이야기 있 고 음식 보 재미 있 는데 ; 이건 볼 게 없 음식 별로 안 나오 고 , 핀란드 풍경 라도 구경 랫 는데 그것 별로 안 나옴 ㅡㅡ', '절대 평범 영화 아닌 수작 걸 말씀 드립니다 .', '주제 좋 은데 중반 지루', '짤랐 꺼 . 그래서 납득 수 없 . . 그럴 꺼 . . 꼭 걸 꺼 . .', 'kl 2 g 고추 털 버려야 할텐데', '카밀라벨 발연기', '밋 뎅', '센스 있 연출력 . . 탁월 캐스팅 . . 90 대 향수 . . 그래서 9 점 . .']\n",
            "[0, 1, 0, 0, 1, 0, 0, 0, 1, 1, 1, 1, 0, 1, 0, 1, 1, 0, 1, 1, 1, 1, 0, 1, 0, 0, 1, 0, 1, 1]\n"
          ],
          "name": "stdout"
        }
      ]
    },
    {
      "cell_type": "code",
      "metadata": {
        "id": "90l2hSiVrOfP",
        "colab_type": "code",
        "colab": {}
      },
      "source": [
        "from sklearn.feature_extraction.text import CountVectorizer     #빈도수세기\n",
        "from sklearn.naive_bayes import MultinomialNB                   #나이브베이지안 구하기\n",
        "\n",
        "count_vect = CountVectorizer()\n",
        "X_train_counts = count_vect.fit_transform(X_train)\n",
        "clf = MultinomialNB().fit(X_train_counts, Y_train)      #fit(a,b):a를 b에 매칭"
      ],
      "execution_count": 315,
      "outputs": []
    },
    {
      "cell_type": "markdown",
      "metadata": {
        "id": "W4CA313543b4",
        "colab_type": "text"
      },
      "source": [
        "## 검정"
      ]
    },
    {
      "cell_type": "code",
      "metadata": {
        "id": "H6ICo-2U42xH",
        "colab_type": "code",
        "colab": {}
      },
      "source": [
        "test = pd.DataFrame(pd.read_csv('/content/gdrive/My Drive/NLP/네이버영화리뷰실습/ratings_test.txt', sep='\\t', quoting=3,encoding='utf-8')) "
      ],
      "execution_count": 334,
      "outputs": []
    },
    {
      "cell_type": "code",
      "metadata": {
        "id": "tJ4Yuh145N7X",
        "colab_type": "code",
        "colab": {}
      },
      "source": [
        "# test.dropna(inplace=True)\n",
        "# test.reset_index(inplace=True)"
      ],
      "execution_count": 335,
      "outputs": []
    },
    {
      "cell_type": "code",
      "metadata": {
        "id": "rbVQuvNk5gQE",
        "colab_type": "code",
        "colab": {}
      },
      "source": [
        "#품사 태깅\n",
        "test_pos = []\n",
        "for document in test['document']:\n",
        "  test_pos.append(mecab.pos(document))"
      ],
      "execution_count": 330,
      "outputs": []
    },
    {
      "cell_type": "code",
      "metadata": {
        "id": "_RAh6szuEll4",
        "colab_type": "code",
        "colab": {}
      },
      "source": [
        "#불용어처리\n",
        "stopPos = ['JKS','JKC','JKG','JKO','JKB','JKV','JKQ','JC','JX',   #조사\n",
        "           'SF','SE','SSO','SSC','SC','SH','SL','SN','SY',     #기타부호\n",
        "           'VCP','VCN',\n",
        "           'EP','EF','ETN','ETM',    #어미\n",
        "           'XSN','XSV','XSA','XPN',  # 접미사 및 접두사\n",
        "           ]\n",
        "stopWord = ['네요','그랬','한','는','이','다','줄','지','하','서','년','거','야','어','할',]\n",
        "\n",
        "\n",
        "X_test=[]\n",
        "for tags in test_pos:\n",
        "  word = []\n",
        "  for tag in tags:\n",
        "    if tag[1] not in stopPos:\n",
        "      if tag[0] not in stopWord:\n",
        "        word.append(tag[0])\n",
        "  X_test.append(' '.join(word))"
      ],
      "execution_count": 336,
      "outputs": []
    },
    {
      "cell_type": "code",
      "metadata": {
        "id": "dXcUt_9OJTur",
        "colab_type": "code",
        "colab": {
          "base_uri": "https://localhost:8080/",
          "height": 105
        },
        "outputId": "52191815-0ba1-4157-a999-93ad409615b4"
      },
      "source": [
        "X_test[:5]"
      ],
      "execution_count": 347,
      "outputs": [
        {
          "output_type": "execute_result",
          "data": {
            "text/plain": [
              "['굳 ㅋ',\n",
              " '',\n",
              " '뭐 평점 나쁘 진 않 지만 점 더더욱 잖아',\n",
              " '지루 않 은데 완전 막장 임 돈 주 고 보',\n",
              " '어도 별 다섯 개 줬 텐데 왜 나와서 제 심기 불편 게']"
            ]
          },
          "metadata": {
            "tags": []
          },
          "execution_count": 347
        }
      ]
    },
    {
      "cell_type": "code",
      "metadata": {
        "id": "ir9fmMOq6lPY",
        "colab_type": "code",
        "colab": {
          "base_uri": "https://localhost:8080/",
          "height": 498
        },
        "outputId": "b4b340f4-4b52-495e-b6bf-e1d0e1ac06f9"
      },
      "source": [
        "test['acc'] = 0\n",
        "for i, document in enumerate(X_test):\n",
        "  prob=clf.predict_proba(count_vect.transform([document]))\n",
        "  if prob[0][0] <= prob[0][1]:\n",
        "    test['acc'][i] += 1\n",
        "test"
      ],
      "execution_count": 343,
      "outputs": [
        {
          "output_type": "stream",
          "text": [
            "/usr/local/lib/python3.6/dist-packages/ipykernel_launcher.py:5: SettingWithCopyWarning: \n",
            "A value is trying to be set on a copy of a slice from a DataFrame\n",
            "\n",
            "See the caveats in the documentation: https://pandas.pydata.org/pandas-docs/stable/user_guide/indexing.html#returning-a-view-versus-a-copy\n",
            "  \"\"\"\n"
          ],
          "name": "stderr"
        },
        {
          "output_type": "execute_result",
          "data": {
            "text/html": [
              "<div>\n",
              "<style scoped>\n",
              "    .dataframe tbody tr th:only-of-type {\n",
              "        vertical-align: middle;\n",
              "    }\n",
              "\n",
              "    .dataframe tbody tr th {\n",
              "        vertical-align: top;\n",
              "    }\n",
              "\n",
              "    .dataframe thead th {\n",
              "        text-align: right;\n",
              "    }\n",
              "</style>\n",
              "<table border=\"1\" class=\"dataframe\">\n",
              "  <thead>\n",
              "    <tr style=\"text-align: right;\">\n",
              "      <th></th>\n",
              "      <th>index</th>\n",
              "      <th>id</th>\n",
              "      <th>document</th>\n",
              "      <th>label</th>\n",
              "      <th>acc</th>\n",
              "    </tr>\n",
              "  </thead>\n",
              "  <tbody>\n",
              "    <tr>\n",
              "      <th>0</th>\n",
              "      <td>0</td>\n",
              "      <td>6270596</td>\n",
              "      <td>굳 ㅋ</td>\n",
              "      <td>1</td>\n",
              "      <td>0</td>\n",
              "    </tr>\n",
              "    <tr>\n",
              "      <th>1</th>\n",
              "      <td>1</td>\n",
              "      <td>9274899</td>\n",
              "      <td>GDNTOPCLASSINTHECLUB</td>\n",
              "      <td>0</td>\n",
              "      <td>0</td>\n",
              "    </tr>\n",
              "    <tr>\n",
              "      <th>2</th>\n",
              "      <td>2</td>\n",
              "      <td>8544678</td>\n",
              "      <td>뭐야 이 평점들은.... 나쁘진 않지만 10점 짜리는 더더욱 아니잖아</td>\n",
              "      <td>0</td>\n",
              "      <td>0</td>\n",
              "    </tr>\n",
              "    <tr>\n",
              "      <th>3</th>\n",
              "      <td>3</td>\n",
              "      <td>6825595</td>\n",
              "      <td>지루하지는 않은데 완전 막장임... 돈주고 보기에는....</td>\n",
              "      <td>0</td>\n",
              "      <td>0</td>\n",
              "    </tr>\n",
              "    <tr>\n",
              "      <th>4</th>\n",
              "      <td>4</td>\n",
              "      <td>6723715</td>\n",
              "      <td>3D만 아니었어도 별 다섯 개 줬을텐데.. 왜 3D로 나와서 제 심기를 불편하게 하죠??</td>\n",
              "      <td>0</td>\n",
              "      <td>0</td>\n",
              "    </tr>\n",
              "    <tr>\n",
              "      <th>...</th>\n",
              "      <td>...</td>\n",
              "      <td>...</td>\n",
              "      <td>...</td>\n",
              "      <td>...</td>\n",
              "      <td>...</td>\n",
              "    </tr>\n",
              "    <tr>\n",
              "      <th>49992</th>\n",
              "      <td>49995</td>\n",
              "      <td>4608761</td>\n",
              "      <td>오랜만에 평점 로긴했네ㅋㅋ 킹왕짱 쌈뽕한 영화를 만났습니다 강렬하게 육쾌함</td>\n",
              "      <td>1</td>\n",
              "      <td>1</td>\n",
              "    </tr>\n",
              "    <tr>\n",
              "      <th>49993</th>\n",
              "      <td>49996</td>\n",
              "      <td>5308387</td>\n",
              "      <td>의지 박약들이나 하는거다 탈영은 일단 주인공 김대희 닮았고 이등병 찐따 OOOO</td>\n",
              "      <td>0</td>\n",
              "      <td>0</td>\n",
              "    </tr>\n",
              "    <tr>\n",
              "      <th>49994</th>\n",
              "      <td>49997</td>\n",
              "      <td>9072549</td>\n",
              "      <td>그림도 좋고 완성도도 높았지만... 보는 내내 불안하게 만든다</td>\n",
              "      <td>0</td>\n",
              "      <td>1</td>\n",
              "    </tr>\n",
              "    <tr>\n",
              "      <th>49995</th>\n",
              "      <td>49998</td>\n",
              "      <td>5802125</td>\n",
              "      <td>절대 봐서는 안 될 영화.. 재미도 없고 기분만 잡치고.. 한 세트장에서 다 해먹네</td>\n",
              "      <td>0</td>\n",
              "      <td>0</td>\n",
              "    </tr>\n",
              "    <tr>\n",
              "      <th>49996</th>\n",
              "      <td>49999</td>\n",
              "      <td>6070594</td>\n",
              "      <td>마무리는 또 왜이래</td>\n",
              "      <td>0</td>\n",
              "      <td>0</td>\n",
              "    </tr>\n",
              "  </tbody>\n",
              "</table>\n",
              "<p>49997 rows × 5 columns</p>\n",
              "</div>"
            ],
            "text/plain": [
              "       index       id  ... label  acc\n",
              "0          0  6270596  ...     1    0\n",
              "1          1  9274899  ...     0    0\n",
              "2          2  8544678  ...     0    0\n",
              "3          3  6825595  ...     0    0\n",
              "4          4  6723715  ...     0    0\n",
              "...      ...      ...  ...   ...  ...\n",
              "49992  49995  4608761  ...     1    1\n",
              "49993  49996  5308387  ...     0    0\n",
              "49994  49997  9072549  ...     0    1\n",
              "49995  49998  5802125  ...     0    0\n",
              "49996  49999  6070594  ...     0    0\n",
              "\n",
              "[49997 rows x 5 columns]"
            ]
          },
          "metadata": {
            "tags": []
          },
          "execution_count": 343
        }
      ]
    },
    {
      "cell_type": "code",
      "metadata": {
        "id": "TY0IB_ZR_yny",
        "colab_type": "code",
        "colab": {
          "base_uri": "https://localhost:8080/",
          "height": 34
        },
        "outputId": "0c4f2b32-ec4d-4589-e653-1538af164981"
      },
      "source": [
        "accuracy = 0\n",
        "for i in range(len(test)):\n",
        "  if test['label'][i] == test['acc'][i]:\n",
        "    accuracy += 1\n",
        "accuracy/len(test)"
      ],
      "execution_count": 340,
      "outputs": [
        {
          "output_type": "execute_result",
          "data": {
            "text/plain": [
              "0.8083885033101986"
            ]
          },
          "metadata": {
            "tags": []
          },
          "execution_count": 340
        }
      ]
    },
    {
      "cell_type": "code",
      "metadata": {
        "id": "DFl6Pl-j9_3o",
        "colab_type": "code",
        "colab": {}
      },
      "source": [
        ""
      ],
      "execution_count": null,
      "outputs": []
    }
  ]
}